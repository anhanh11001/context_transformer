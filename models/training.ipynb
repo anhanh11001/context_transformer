{
 "cells": [
  {
   "cell_type": "code",
   "execution_count": 2,
   "outputs": [],
   "source": [
    "import os.path\n",
    "import sys\n",
    "\n",
    "from keras import callbacks, models\n",
    "from datahandler.constants import all_features, data_version, acc_features, tensorboard_dir, location_labels\n",
    "from datahandler.data_preprocessing import get_train_test_data, load_data_v3\n",
    "from models.log_writer import LogWriter\n",
    "from model.lstm import make_lstm_model_v1\n",
    "from model.transformer import make_transformer_model_v1\n",
    "from model.cnn import make_cnn_model_v1, make_cnn_model_v2\n",
    "import matplotlib.pyplot as plt\n",
    "from utils import print_line_divider\n",
    "import numpy as np\n",
    "import tensorflow as tf\n",
    "import pandas as pd\n",
    "import seaborn as sns"
   ],
   "metadata": {
    "collapsed": false,
    "pycharm": {
     "name": "#%%\n"
    }
   }
  },
  {
   "cell_type": "code",
   "execution_count": 3,
   "outputs": [],
   "source": [
    "# LOGGING CONFIGURATION\n",
    "enabled_log = False\n",
    "enabled_tensor_board = False\n",
    "log_writer = LogWriter(enabled_log)"
   ],
   "metadata": {
    "collapsed": false,
    "pycharm": {
     "name": "#%%\n"
    }
   }
  },
  {
   "cell_type": "code",
   "execution_count": 4,
   "outputs": [
    {
     "name": "stdout",
     "output_type": "stream",
     "text": [
      "STARTING THE TRAINING PROCESS\n"
     ]
    }
   ],
   "source": [
    "# TRAINING CONFIGURATION\n",
    "print(\"STARTING THE TRAINING PROCESS\")\n",
    "SAVED_BEST_MODEL = \"model/best_model.h5\"\n",
    "window_time_in_seconds = 2\n",
    "window_size = 40\n",
    "epochs = 1000\n",
    "batch_size = 32\n",
    "validation_split = 1 / 9\n",
    "optimizer = 'adam'\n",
    "loss_function = \"sparse_categorical_crossentropy\"\n",
    "supported_features = all_features\n",
    "\n",
    "log_writer.write(\"Configuration\", line_divider=True)\n",
    "log_writer.write(\n",
    "    f\"\"\"Window size: {window_size}\n",
    "Window time in second: ${window_time_in_seconds}\n",
    "Maximum number of epochs: ${epochs}\n",
    "Batch size: ${batch_size}\n",
    "Validation split: ${validation_split}\n",
    "Optimizer: ${optimizer}\n",
    "Loss function: ${loss_function}\n",
    "Features used for training: ${str(supported_features)}\"\"\"\n",
    ")"
   ],
   "metadata": {
    "collapsed": false,
    "pycharm": {
     "name": "#%%\n"
    }
   }
  },
  {
   "cell_type": "code",
   "execution_count": 5,
   "outputs": [
    {
     "name": "stdout",
     "output_type": "stream",
     "text": [
      "****************************************************\n",
      "Preparing data...\n",
      "Loading data from file px4_datacollection.csv\n",
      "Loading data from file ps1_datacollection.csv\n",
      "Loading data from file tc4_datacollection.csv\n",
      "Loading data from file ss3_datacollection.csv\n",
      "Loading data from file ps2_datacollection.csv\n",
      "Loading data from file op4_datacollection.csv\n",
      "Loading data from file op2_datacollection.csv\n",
      "Loading data from file ps4_datacollection.csv\n",
      "Loading data from file px1_datacollection.csv\n",
      "Loading data from file tc1_datacollection.csv\n",
      "Loading data from file tc2_datacollection.csv\n",
      "Loading data from file px2_datacollection.csv\n",
      "Loading data from file op1_datacollection.csv\n",
      "Loading data from file tc3_datacollection.csv\n",
      "Loading data from file px3_datacollection.csv\n",
      "Loading data from file op3_datacollection.csv\n",
      "Loading data from file ps5_datacollection.csv\n",
      "Loading data from file ss4_datacollection.csv\n",
      "Loading data from file ss2_datacollection.csv\n",
      "Loading data from file ps3_datacollection.csv\n",
      "Loading data from file op5_datacollection.csv\n",
      "Loading data from file px5_datacollection.csv\n",
      "Loading data from file ss1_datacollection.csv\n",
      "Loading data from file tc5_datacollection.csv\n",
      "Train data shape: (6476, 40, 9) | Train label shape: (6476,)\n",
      "Test data shape: (720, 40, 9) | Test label shape: (720,)\n",
      "****************************************************\n"
     ]
    }
   ],
   "source": [
    "# DATA Loader\n",
    "print_line_divider()\n",
    "print(\"Preparing data...\")\n",
    "# x_train, y_train, x_test, y_test = get_train_test_data(supported_features, window_time_in_seconds, window_size)\n",
    "x_train, y_train, x_test, y_test = load_data_v3(\n",
    "    features = supported_features,\n",
    "    window_time_in_seconds = window_time_in_seconds,\n",
    "    window_size = window_size\n",
    ")\n",
    "print(\"Train data shape: \" + str(x_train.shape) + \" | Train label shape: \" + str(y_train.shape))\n",
    "print(\"Test data shape: \" + str(x_test.shape) + \" | Test label shape: \" + str(y_test.shape))\n",
    "print_line_divider()\n",
    "log_writer.write(\"Data\", line_divider=True)\n",
    "log_writer.write(\"Data loaded from version \" + data_version)\n",
    "log_writer.write(\n",
    "    f\"\"\"Data training shape: ${x_train.shape}\n",
    "Data testing shape: ${x_test.shape}\"\"\"\n",
    ")"
   ],
   "metadata": {
    "collapsed": false,
    "pycharm": {
     "name": "#%%\n"
    }
   }
  },
  {
   "cell_type": "code",
   "execution_count": 6,
   "outputs": [
    {
     "name": "stdout",
     "output_type": "stream",
     "text": [
      "****************************************************\n",
      "Distribution for set Training set\n",
      "\n",
      "insidethepantpocket count is 1078\n",
      "beingusedinhand count is 1346\n",
      "calling count is 1347\n",
      "holdinginhand count is 1363\n",
      "insidethebag count is 1342\n",
      "****************************************************\n",
      "Distribution for set Testing set\n",
      "\n",
      "insidethepantpocket count is 116\n",
      "beingusedinhand count is 152\n",
      "calling count is 152\n",
      "holdinginhand count is 135\n",
      "insidethebag count is 165\n"
     ]
    }
   ],
   "source": [
    "def check_distribution(labels_list, set_name):\n",
    "    label_count_dict = {}\n",
    "    for label_ind in labels_list:\n",
    "        if label_ind in label_count_dict.keys():\n",
    "            label_count_dict[label_ind] += 1\n",
    "        else:\n",
    "            label_count_dict[label_ind] = 1\n",
    "\n",
    "    print_line_divider()\n",
    "    print(\"Distribution for set \" + set_name + \"\\n\")\n",
    "    for key in label_count_dict:\n",
    "        print(location_labels[key] + \" count is \" + str(label_count_dict[key]))\n",
    "\n",
    "check_distribution(y_train, \"Training set\")\n",
    "check_distribution(y_test, \"Testing set\")"
   ],
   "metadata": {
    "collapsed": false,
    "pycharm": {
     "name": "#%%\n"
    }
   }
  },
  {
   "cell_type": "code",
   "execution_count": 7,
   "outputs": [
    {
     "name": "stdout",
     "output_type": "stream",
     "text": [
      "Model Summary:\n",
      "Model: \"model\"\n",
      "_________________________________________________________________\n",
      " Layer (type)                Output Shape              Param #   \n",
      "=================================================================\n",
      " input_1 (InputLayer)        [(None, 40, 9)]           0         \n",
      "                                                                 \n",
      " conv1d (Conv1D)             (None, 40, 64)            1792      \n",
      "                                                                 \n",
      " batch_normalization (BatchN  (None, 40, 64)           256       \n",
      " ormalization)                                                   \n",
      "                                                                 \n",
      " re_lu (ReLU)                (None, 40, 64)            0         \n",
      "                                                                 \n",
      " conv1d_1 (Conv1D)           (None, 40, 64)            12352     \n",
      "                                                                 \n",
      " batch_normalization_1 (Batc  (None, 40, 64)           256       \n",
      " hNormalization)                                                 \n",
      "                                                                 \n",
      " re_lu_1 (ReLU)              (None, 40, 64)            0         \n",
      "                                                                 \n",
      " conv1d_2 (Conv1D)           (None, 40, 64)            12352     \n",
      "                                                                 \n",
      " batch_normalization_2 (Batc  (None, 40, 64)           256       \n",
      " hNormalization)                                                 \n",
      "                                                                 \n",
      " re_lu_2 (ReLU)              (None, 40, 64)            0         \n",
      "                                                                 \n",
      " global_average_pooling1d (G  (None, 64)               0         \n",
      " lobalAveragePooling1D)                                          \n",
      "                                                                 \n",
      " dense (Dense)               (None, 5)                 325       \n",
      "                                                                 \n",
      "=================================================================\n",
      "Total params: 27,589\n",
      "Trainable params: 27,205\n",
      "Non-trainable params: 384\n",
      "_________________________________________________________________\n",
      "****************************************************\n",
      "None\n"
     ]
    },
    {
     "name": "stderr",
     "output_type": "stream",
     "text": [
      "2022-05-26 17:06:41.665514: I tensorflow/core/platform/cpu_feature_guard.cc:151] This TensorFlow binary is optimized with oneAPI Deep Neural Network Library (oneDNN) to use the following CPU instructions in performance-critical operations:  AVX2 FMA\n",
      "To enable them in other operations, rebuild TensorFlow with the appropriate compiler flags.\n"
     ]
    }
   ],
   "source": [
    "# SETTING UP THE MODEL\n",
    "input_shape = (window_size, len(supported_features))\n",
    "model_name, model = make_cnn_model_v1(input_shape=input_shape)\n",
    "# model_name, model = make_lstm_model_v1(input_shape=input_shape)\n",
    "# model_name, model = make_transformer_model_v1(\n",
    "#     input_shape=input_shape,\n",
    "#     head_size=256,\n",
    "#     num_heads=4,\n",
    "#     ff_dim=4,\n",
    "#     num_transformer_blocks=2,\n",
    "#     mlp_units=[128],\n",
    "#     mlp_dropout=0.4,\n",
    "#     dropout=0.25,\n",
    "# )\n",
    "print(\"Model Summary:\")\n",
    "stringlist = []\n",
    "model.summary(print_fn=lambda x: stringlist.append(x))\n",
    "short_model_summary = \"\\n\".join(stringlist)\n",
    "print(short_model_summary)\n",
    "print(print_line_divider())"
   ],
   "metadata": {
    "collapsed": false,
    "pycharm": {
     "name": "#%%\n"
    }
   }
  },
  {
   "cell_type": "code",
   "execution_count": 8,
   "outputs": [],
   "source": [
    "# LOGGING THE MODEL\n",
    "log_writer.write(\"Model\", line_divider=True)\n",
    "log_writer.write(\"Model name: \" + model_name)\n",
    "log_writer.write(short_model_summary)"
   ],
   "metadata": {
    "collapsed": false,
    "pycharm": {
     "name": "#%%\n"
    }
   }
  },
  {
   "cell_type": "code",
   "execution_count": 9,
   "outputs": [],
   "source": [
    "# MODELS CALLBACK AND SETUP\n",
    "callback_list = [\n",
    "    callbacks.ModelCheckpoint(SAVED_BEST_MODEL, save_best_only=True, monitor=\"val_loss\"),\n",
    "    callbacks.ReduceLROnPlateau(monitor=\"val_loss\", factor=0.5, patience=20, min_lr=0.0001),\n",
    "    callbacks.EarlyStopping(monitor=\"val_loss\", patience=50, verbose=1)\n",
    "]\n",
    "if enabled_tensor_board:\n",
    "    callback_list.append(callbacks.TensorBoard(log_dir=tensorboard_dir, histogram_freq=1))\n",
    "if log_writer.enabled:\n",
    "    callback_list.append(\n",
    "        callbacks.ModelCheckpoint(log_writer.base_folder + \"/model.h5\", save_best_only=True, monitor=\"val_loss\")\n",
    "    )\n",
    "model.compile(\n",
    "    optimizer=optimizer,\n",
    "    loss=loss_function,\n",
    "    metrics=[\"sparse_categorical_accuracy\"],\n",
    ")"
   ],
   "metadata": {
    "collapsed": false,
    "pycharm": {
     "name": "#%%\n"
    }
   }
  },
  {
   "cell_type": "code",
   "execution_count": 10,
   "outputs": [
    {
     "name": "stdout",
     "output_type": "stream",
     "text": [
      "****************************************************\n",
      "Starting to train...\n",
      "Epoch 1/1000\n",
      "180/180 [==============================] - 3s 12ms/step - loss: 0.2165 - sparse_categorical_accuracy: 0.9534 - val_loss: 3.8830 - val_sparse_categorical_accuracy: 0.0000e+00 - lr: 0.0010\n",
      "Epoch 2/1000\n",
      "180/180 [==============================] - 2s 11ms/step - loss: 0.0306 - sparse_categorical_accuracy: 0.9962 - val_loss: 1.7189 - val_sparse_categorical_accuracy: 0.4819 - lr: 0.0010\n",
      "Epoch 3/1000\n",
      "180/180 [==============================] - 2s 12ms/step - loss: 0.0160 - sparse_categorical_accuracy: 0.9983 - val_loss: 1.0520 - val_sparse_categorical_accuracy: 0.6806 - lr: 0.0010\n",
      "Epoch 4/1000\n",
      "180/180 [==============================] - 2s 12ms/step - loss: 0.0098 - sparse_categorical_accuracy: 0.9988 - val_loss: 2.0441 - val_sparse_categorical_accuracy: 0.6250 - lr: 0.0010\n",
      "Epoch 5/1000\n",
      "180/180 [==============================] - 2s 13ms/step - loss: 0.0076 - sparse_categorical_accuracy: 0.9988 - val_loss: 2.4897 - val_sparse_categorical_accuracy: 0.6250 - lr: 0.0010\n",
      "Epoch 6/1000\n",
      "180/180 [==============================] - 3s 15ms/step - loss: 0.0080 - sparse_categorical_accuracy: 0.9981 - val_loss: 2.8642 - val_sparse_categorical_accuracy: 0.6236 - lr: 0.0010\n",
      "Epoch 7/1000\n",
      "180/180 [==============================] - 3s 15ms/step - loss: 0.0043 - sparse_categorical_accuracy: 0.9995 - val_loss: 3.6216 - val_sparse_categorical_accuracy: 0.6250 - lr: 0.0010\n",
      "Epoch 8/1000\n",
      "180/180 [==============================] - 3s 16ms/step - loss: 0.0030 - sparse_categorical_accuracy: 0.9997 - val_loss: 2.0921 - val_sparse_categorical_accuracy: 0.7111 - lr: 0.0010\n",
      "Epoch 9/1000\n",
      "180/180 [==============================] - 3s 15ms/step - loss: 0.0031 - sparse_categorical_accuracy: 0.9990 - val_loss: 3.4534 - val_sparse_categorical_accuracy: 0.5681 - lr: 0.0010\n",
      "Epoch 10/1000\n",
      "180/180 [==============================] - 3s 15ms/step - loss: 0.0130 - sparse_categorical_accuracy: 0.9962 - val_loss: 2.0492 - val_sparse_categorical_accuracy: 0.6694 - lr: 0.0010\n",
      "Epoch 11/1000\n",
      "180/180 [==============================] - 3s 15ms/step - loss: 0.0038 - sparse_categorical_accuracy: 0.9995 - val_loss: 2.4321 - val_sparse_categorical_accuracy: 0.7444 - lr: 0.0010\n",
      "Epoch 12/1000\n",
      "180/180 [==============================] - 3s 16ms/step - loss: 0.0014 - sparse_categorical_accuracy: 0.9998 - val_loss: 2.6993 - val_sparse_categorical_accuracy: 0.6486 - lr: 0.0010\n",
      "Epoch 13/1000\n",
      "180/180 [==============================] - 3s 16ms/step - loss: 0.0021 - sparse_categorical_accuracy: 0.9997 - val_loss: 3.7848 - val_sparse_categorical_accuracy: 0.6306 - lr: 0.0010\n",
      "Epoch 14/1000\n",
      "180/180 [==============================] - 3s 17ms/step - loss: 8.4689e-04 - sparse_categorical_accuracy: 1.0000 - val_loss: 1.7612 - val_sparse_categorical_accuracy: 0.7625 - lr: 0.0010\n",
      "Epoch 15/1000\n",
      "180/180 [==============================] - 3s 15ms/step - loss: 7.5042e-04 - sparse_categorical_accuracy: 1.0000 - val_loss: 1.7903 - val_sparse_categorical_accuracy: 0.7319 - lr: 0.0010\n",
      "Epoch 16/1000\n",
      "180/180 [==============================] - 3s 15ms/step - loss: 4.4732e-04 - sparse_categorical_accuracy: 1.0000 - val_loss: 1.9822 - val_sparse_categorical_accuracy: 0.7611 - lr: 0.0010\n",
      "Epoch 17/1000\n",
      "180/180 [==============================] - 3s 14ms/step - loss: 4.4169e-04 - sparse_categorical_accuracy: 1.0000 - val_loss: 2.0764 - val_sparse_categorical_accuracy: 0.7347 - lr: 0.0010\n",
      "Epoch 18/1000\n",
      "180/180 [==============================] - 2s 13ms/step - loss: 0.0056 - sparse_categorical_accuracy: 0.9986 - val_loss: 0.8804 - val_sparse_categorical_accuracy: 0.8806 - lr: 0.0010\n",
      "Epoch 19/1000\n",
      "180/180 [==============================] - 2s 13ms/step - loss: 0.0087 - sparse_categorical_accuracy: 0.9977 - val_loss: 1.9976 - val_sparse_categorical_accuracy: 0.7764 - lr: 0.0010\n",
      "Epoch 20/1000\n",
      "180/180 [==============================] - 2s 13ms/step - loss: 0.0015 - sparse_categorical_accuracy: 0.9998 - val_loss: 1.8471 - val_sparse_categorical_accuracy: 0.8694 - lr: 0.0010\n",
      "Epoch 21/1000\n",
      "180/180 [==============================] - 2s 13ms/step - loss: 0.0012 - sparse_categorical_accuracy: 0.9997 - val_loss: 2.0883 - val_sparse_categorical_accuracy: 0.7736 - lr: 0.0010\n",
      "Epoch 22/1000\n",
      "180/180 [==============================] - 2s 13ms/step - loss: 0.0032 - sparse_categorical_accuracy: 0.9997 - val_loss: 3.5451 - val_sparse_categorical_accuracy: 0.6278 - lr: 0.0010\n",
      "Epoch 23/1000\n",
      "180/180 [==============================] - 2s 13ms/step - loss: 0.0011 - sparse_categorical_accuracy: 0.9998 - val_loss: 1.5429 - val_sparse_categorical_accuracy: 0.7403 - lr: 0.0010\n",
      "Epoch 24/1000\n",
      "180/180 [==============================] - 2s 13ms/step - loss: 0.0010 - sparse_categorical_accuracy: 0.9997 - val_loss: 2.3557 - val_sparse_categorical_accuracy: 0.7347 - lr: 0.0010\n",
      "Epoch 25/1000\n",
      "180/180 [==============================] - 2s 12ms/step - loss: 2.1721e-04 - sparse_categorical_accuracy: 1.0000 - val_loss: 2.4703 - val_sparse_categorical_accuracy: 0.7125 - lr: 0.0010\n",
      "Epoch 26/1000\n",
      "180/180 [==============================] - 2s 12ms/step - loss: 2.0759e-04 - sparse_categorical_accuracy: 1.0000 - val_loss: 1.8847 - val_sparse_categorical_accuracy: 0.7917 - lr: 0.0010\n",
      "Epoch 27/1000\n",
      "180/180 [==============================] - 2s 12ms/step - loss: 4.8698e-04 - sparse_categorical_accuracy: 1.0000 - val_loss: 2.5741 - val_sparse_categorical_accuracy: 0.7486 - lr: 0.0010\n",
      "Epoch 28/1000\n",
      "180/180 [==============================] - 2s 13ms/step - loss: 5.4890e-04 - sparse_categorical_accuracy: 1.0000 - val_loss: 1.9631 - val_sparse_categorical_accuracy: 0.7806 - lr: 0.0010\n",
      "Epoch 29/1000\n",
      "180/180 [==============================] - 3s 15ms/step - loss: 3.5870e-04 - sparse_categorical_accuracy: 1.0000 - val_loss: 3.8474 - val_sparse_categorical_accuracy: 0.7278 - lr: 0.0010\n",
      "Epoch 30/1000\n",
      "180/180 [==============================] - 3s 14ms/step - loss: 1.5555e-04 - sparse_categorical_accuracy: 1.0000 - val_loss: 3.3307 - val_sparse_categorical_accuracy: 0.6986 - lr: 0.0010\n",
      "Epoch 31/1000\n",
      "180/180 [==============================] - 2s 11ms/step - loss: 4.2278e-04 - sparse_categorical_accuracy: 0.9998 - val_loss: 2.6925 - val_sparse_categorical_accuracy: 0.6694 - lr: 0.0010\n",
      "Epoch 32/1000\n",
      "180/180 [==============================] - 2s 9ms/step - loss: 1.7767e-04 - sparse_categorical_accuracy: 1.0000 - val_loss: 1.8706 - val_sparse_categorical_accuracy: 0.7861 - lr: 0.0010\n",
      "Epoch 33/1000\n",
      "180/180 [==============================] - 2s 9ms/step - loss: 9.8987e-05 - sparse_categorical_accuracy: 1.0000 - val_loss: 2.0336 - val_sparse_categorical_accuracy: 0.7750 - lr: 0.0010\n",
      "Epoch 34/1000\n",
      "180/180 [==============================] - 2s 10ms/step - loss: 9.0520e-05 - sparse_categorical_accuracy: 1.0000 - val_loss: 2.1553 - val_sparse_categorical_accuracy: 0.7639 - lr: 0.0010\n",
      "Epoch 35/1000\n",
      "180/180 [==============================] - 2s 11ms/step - loss: 4.6400e-05 - sparse_categorical_accuracy: 1.0000 - val_loss: 2.0325 - val_sparse_categorical_accuracy: 0.7819 - lr: 0.0010\n",
      "Epoch 36/1000\n",
      "180/180 [==============================] - 2s 11ms/step - loss: 6.0270e-05 - sparse_categorical_accuracy: 1.0000 - val_loss: 2.1771 - val_sparse_categorical_accuracy: 0.7625 - lr: 0.0010\n",
      "Epoch 37/1000\n",
      "180/180 [==============================] - 2s 9ms/step - loss: 5.6962e-05 - sparse_categorical_accuracy: 1.0000 - val_loss: 2.3030 - val_sparse_categorical_accuracy: 0.7375 - lr: 0.0010\n",
      "Epoch 38/1000\n",
      "180/180 [==============================] - 2s 9ms/step - loss: 5.6191e-05 - sparse_categorical_accuracy: 1.0000 - val_loss: 2.0465 - val_sparse_categorical_accuracy: 0.7972 - lr: 0.0010\n",
      "Epoch 39/1000\n",
      "180/180 [==============================] - 2s 10ms/step - loss: 4.3056e-05 - sparse_categorical_accuracy: 1.0000 - val_loss: 2.2351 - val_sparse_categorical_accuracy: 0.7694 - lr: 5.0000e-04\n",
      "Epoch 40/1000\n",
      "180/180 [==============================] - 2s 10ms/step - loss: 5.5215e-05 - sparse_categorical_accuracy: 1.0000 - val_loss: 2.7742 - val_sparse_categorical_accuracy: 0.7194 - lr: 5.0000e-04\n",
      "Epoch 41/1000\n",
      "180/180 [==============================] - 2s 11ms/step - loss: 3.9980e-05 - sparse_categorical_accuracy: 1.0000 - val_loss: 2.2845 - val_sparse_categorical_accuracy: 0.7653 - lr: 5.0000e-04\n",
      "Epoch 42/1000\n",
      "180/180 [==============================] - 2s 11ms/step - loss: 7.4995e-05 - sparse_categorical_accuracy: 1.0000 - val_loss: 1.7005 - val_sparse_categorical_accuracy: 0.8153 - lr: 5.0000e-04\n",
      "Epoch 43/1000\n",
      "180/180 [==============================] - 2s 11ms/step - loss: 4.8459e-05 - sparse_categorical_accuracy: 1.0000 - val_loss: 2.1162 - val_sparse_categorical_accuracy: 0.7861 - lr: 5.0000e-04\n",
      "Epoch 44/1000\n",
      "180/180 [==============================] - 2s 12ms/step - loss: 2.7907e-05 - sparse_categorical_accuracy: 1.0000 - val_loss: 2.3128 - val_sparse_categorical_accuracy: 0.7764 - lr: 5.0000e-04\n",
      "Epoch 45/1000\n",
      "180/180 [==============================] - 2s 12ms/step - loss: 3.8795e-05 - sparse_categorical_accuracy: 1.0000 - val_loss: 2.2003 - val_sparse_categorical_accuracy: 0.8278 - lr: 5.0000e-04\n",
      "Epoch 46/1000\n",
      "180/180 [==============================] - 2s 11ms/step - loss: 7.2547e-05 - sparse_categorical_accuracy: 1.0000 - val_loss: 2.2966 - val_sparse_categorical_accuracy: 0.7903 - lr: 5.0000e-04\n",
      "Epoch 47/1000\n",
      "180/180 [==============================] - 2s 12ms/step - loss: 2.7581e-05 - sparse_categorical_accuracy: 1.0000 - val_loss: 2.3276 - val_sparse_categorical_accuracy: 0.8042 - lr: 5.0000e-04\n",
      "Epoch 48/1000\n",
      "180/180 [==============================] - 2s 12ms/step - loss: 3.2355e-05 - sparse_categorical_accuracy: 1.0000 - val_loss: 2.2398 - val_sparse_categorical_accuracy: 0.7764 - lr: 5.0000e-04\n",
      "Epoch 49/1000\n",
      "180/180 [==============================] - 2s 12ms/step - loss: 0.0012 - sparse_categorical_accuracy: 0.9995 - val_loss: 3.8008 - val_sparse_categorical_accuracy: 0.6639 - lr: 5.0000e-04\n",
      "Epoch 50/1000\n",
      "180/180 [==============================] - 2s 12ms/step - loss: 3.2306e-04 - sparse_categorical_accuracy: 1.0000 - val_loss: 5.4862 - val_sparse_categorical_accuracy: 0.6417 - lr: 5.0000e-04\n",
      "Epoch 51/1000\n",
      "180/180 [==============================] - 2s 13ms/step - loss: 0.0011 - sparse_categorical_accuracy: 0.9998 - val_loss: 4.0524 - val_sparse_categorical_accuracy: 0.6833 - lr: 5.0000e-04\n",
      "Epoch 52/1000\n",
      "180/180 [==============================] - 3s 14ms/step - loss: 4.0255e-04 - sparse_categorical_accuracy: 0.9998 - val_loss: 4.1974 - val_sparse_categorical_accuracy: 0.6736 - lr: 5.0000e-04\n",
      "Epoch 53/1000\n",
      "180/180 [==============================] - 3s 14ms/step - loss: 6.5988e-05 - sparse_categorical_accuracy: 1.0000 - val_loss: 4.2987 - val_sparse_categorical_accuracy: 0.6681 - lr: 5.0000e-04\n",
      "Epoch 54/1000\n",
      "180/180 [==============================] - 3s 14ms/step - loss: 4.6461e-05 - sparse_categorical_accuracy: 1.0000 - val_loss: 4.3696 - val_sparse_categorical_accuracy: 0.6625 - lr: 5.0000e-04\n",
      "Epoch 55/1000\n",
      "180/180 [==============================] - 3s 15ms/step - loss: 1.6792e-04 - sparse_categorical_accuracy: 1.0000 - val_loss: 4.0365 - val_sparse_categorical_accuracy: 0.6819 - lr: 5.0000e-04\n",
      "Epoch 56/1000\n",
      "180/180 [==============================] - 3s 15ms/step - loss: 6.5845e-05 - sparse_categorical_accuracy: 1.0000 - val_loss: 4.0844 - val_sparse_categorical_accuracy: 0.6708 - lr: 5.0000e-04\n",
      "Epoch 57/1000\n",
      "180/180 [==============================] - 2s 14ms/step - loss: 6.1899e-05 - sparse_categorical_accuracy: 1.0000 - val_loss: 3.5514 - val_sparse_categorical_accuracy: 0.7069 - lr: 5.0000e-04\n",
      "Epoch 58/1000\n",
      "180/180 [==============================] - 3s 14ms/step - loss: 5.6910e-05 - sparse_categorical_accuracy: 1.0000 - val_loss: 3.0573 - val_sparse_categorical_accuracy: 0.7403 - lr: 5.0000e-04\n",
      "Epoch 59/1000\n",
      "180/180 [==============================] - 3s 14ms/step - loss: 4.1430e-05 - sparse_categorical_accuracy: 1.0000 - val_loss: 3.4036 - val_sparse_categorical_accuracy: 0.7167 - lr: 2.5000e-04\n",
      "Epoch 60/1000\n",
      "180/180 [==============================] - 3s 15ms/step - loss: 1.1176e-04 - sparse_categorical_accuracy: 1.0000 - val_loss: 3.9332 - val_sparse_categorical_accuracy: 0.6778 - lr: 2.5000e-04\n",
      "Epoch 61/1000\n",
      "180/180 [==============================] - 3s 15ms/step - loss: 4.0388e-05 - sparse_categorical_accuracy: 1.0000 - val_loss: 3.7692 - val_sparse_categorical_accuracy: 0.6931 - lr: 2.5000e-04\n",
      "Epoch 62/1000\n",
      "180/180 [==============================] - 3s 15ms/step - loss: 5.0027e-05 - sparse_categorical_accuracy: 1.0000 - val_loss: 3.7022 - val_sparse_categorical_accuracy: 0.7181 - lr: 2.5000e-04\n",
      "Epoch 63/1000\n",
      "180/180 [==============================] - 3s 15ms/step - loss: 2.3157e-05 - sparse_categorical_accuracy: 1.0000 - val_loss: 3.6144 - val_sparse_categorical_accuracy: 0.7181 - lr: 2.5000e-04\n",
      "Epoch 64/1000\n",
      "180/180 [==============================] - 3s 15ms/step - loss: 1.5921e-05 - sparse_categorical_accuracy: 1.0000 - val_loss: 3.8146 - val_sparse_categorical_accuracy: 0.6972 - lr: 2.5000e-04\n",
      "Epoch 65/1000\n",
      "180/180 [==============================] - 3s 16ms/step - loss: 3.2508e-05 - sparse_categorical_accuracy: 1.0000 - val_loss: 3.4685 - val_sparse_categorical_accuracy: 0.7264 - lr: 2.5000e-04\n",
      "Epoch 66/1000\n",
      "180/180 [==============================] - 3s 16ms/step - loss: 3.9442e-04 - sparse_categorical_accuracy: 0.9998 - val_loss: 2.0479 - val_sparse_categorical_accuracy: 0.8208 - lr: 2.5000e-04\n",
      "Epoch 67/1000\n",
      "180/180 [==============================] - 3s 16ms/step - loss: 7.1466e-05 - sparse_categorical_accuracy: 1.0000 - val_loss: 2.1896 - val_sparse_categorical_accuracy: 0.7889 - lr: 2.5000e-04\n",
      "Epoch 68/1000\n",
      "180/180 [==============================] - 3s 16ms/step - loss: 1.3602e-04 - sparse_categorical_accuracy: 1.0000 - val_loss: 2.3640 - val_sparse_categorical_accuracy: 0.7722 - lr: 2.5000e-04\n",
      "Epoch 68: early stopping\n",
      "Highest validation accuracy:  0.8805555701255798\n"
     ]
    }
   ],
   "source": [
    "# TRAINING\n",
    "print_line_divider()\n",
    "print(\"Starting to train...\")\n",
    "history = model.fit(\n",
    "    x_train,\n",
    "    y_train,\n",
    "    batch_size=batch_size,\n",
    "    epochs=epochs,\n",
    "    callbacks=callback_list,\n",
    "    validation_split=validation_split,\n",
    "    verbose=1,\n",
    "    shuffle=True\n",
    ")\n",
    "print(\"Highest validation accuracy: \", max(history.history['val_sparse_categorical_accuracy']))\n",
    "log_writer.write(\"Result\", line_divider=True)\n",
    "log_writer.write(\"Highest validation accuracy: \" + str(max(history.history['val_sparse_categorical_accuracy'])))"
   ],
   "metadata": {
    "collapsed": false,
    "pycharm": {
     "name": "#%%\n"
    }
   }
  },
  {
   "cell_type": "code",
   "execution_count": 11,
   "outputs": [
    {
     "data": {
      "text/plain": "<Figure size 432x288 with 1 Axes>",
      "image/png": "[encoded data removed]"
     },
     "metadata": {
      "needs_background": "light"
     },
     "output_type": "display_data"
    }
   ],
   "source": [
    "# PLOTTING\n",
    "metric = \"sparse_categorical_accuracy\"\n",
    "plt.figure()\n",
    "plt.plot(history.history[metric])\n",
    "plt.plot(history.history[\"val_\" + metric])\n",
    "plt.title(\"model \" + model_name + \" :\" + metric)\n",
    "plt.ylabel(metric, fontsize=\"large\")\n",
    "plt.xlabel(\"epoch\", fontsize=\"large\")\n",
    "plt.legend([\"train\", \"val\"], loc=\"best\")\n",
    "if log_writer.enabled:\n",
    "    plt.savefig(os.path.join(log_writer.base_folder, \"Validation progress.png\"))\n",
    "plt.show()\n",
    "plt.close()"
   ],
   "metadata": {
    "collapsed": false,
    "pycharm": {
     "name": "#%%\n"
    }
   }
  },
  {
   "cell_type": "code",
   "execution_count": 12,
   "outputs": [
    {
     "name": "stdout",
     "output_type": "stream",
     "text": [
      "23/23 [==============================] - 0s 5ms/step - loss: 0.1604 - sparse_categorical_accuracy: 0.9764\n",
      "****************************************************\n",
      "Test accuracy 0.9763888716697693\n",
      "Test loss 0.16038662195205688\n"
     ]
    },
    {
     "data": {
      "text/plain": "<Figure size 576x576 with 2 Axes>",
      "image/png": "[encoded data removed]"
     },
     "metadata": {
      "needs_background": "light"
     },
     "output_type": "display_data"
    }
   ],
   "source": [
    "# EVALUATION\n",
    "model = models.load_model(SAVED_BEST_MODEL)\n",
    "\n",
    "test_loss, test_acc = model.evaluate(x_test, y_test)\n",
    "print_line_divider()\n",
    "print(\"Test accuracy\", test_acc)\n",
    "print(\"Test loss\", test_loss)\n",
    "\n",
    "# Accuracy based on different labels\n",
    "y_pred = model.predict(x_test)\n",
    "y_pred = np.argmax(y_pred, axis=1)\n",
    "con_mat = tf.math.confusion_matrix(labels=y_test, predictions=y_pred).numpy()\n",
    "con_mat_norm = np.around(con_mat.astype('float') / con_mat.sum(axis=1)[:, np.newaxis], decimals=4)\n",
    "con_mat_df = pd.DataFrame(con_mat_norm, index=location_labels, columns=location_labels)\n",
    "figure = plt.figure(figsize=(8, 8))\n",
    "sns.heatmap(con_mat_df, annot=True, cmap=plt.cm.Blues)\n",
    "plt.tight_layout()\n",
    "plt.ylabel('True label')\n",
    "plt.xlabel('Predicted label')\n",
    "if log_writer.enabled:\n",
    "    plt.savefig(os.path.join(log_writer.base_folder, \"Accuracy.png\"))\n",
    "plt.show()\n",
    "plt.close()\n",
    "\n",
    "log_writer.write(\"Test evaluation\", line_divider=True)\n",
    "log_writer.write(\"Test accuracy: \" + str(test_acc))\n",
    "log_writer.write(\"Test loss: \" + str(test_loss))\n",
    "log_writer.close()"
   ],
   "metadata": {
    "collapsed": false,
    "pycharm": {
     "name": "#%%\n"
    }
   }
  },
  {
   "cell_type": "code",
   "execution_count": null,
   "outputs": [],
   "source": [],
   "metadata": {
    "collapsed": false,
    "pycharm": {
     "name": "#%%\n"
    }
   }
  }
 ],
 "metadata": {
  "kernelspec": {
   "display_name": "Python 3",
   "language": "python",
   "name": "python3"
  },
  "language_info": {
   "codemirror_mode": {
    "name": "ipython",
    "version": 2
   },
   "file_extension": ".py",
   "mimetype": "text/x-python",
   "name": "python",
   "nbconvert_exporter": "python",
   "pygments_lexer": "ipython2",
   "version": "2.7.6"
  }
 },
 "nbformat": 4,
 "nbformat_minor": 0
}