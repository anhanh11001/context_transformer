{
 "cells": [
  {
   "cell_type": "code",
   "execution_count": 1,
   "outputs": [],
   "source": [
    "import os.path\n",
    "import sys\n",
    "\n",
    "from keras import callbacks, models\n",
    "from datahandler.constants import all_features, data_version, acc_features, tensorboard_dir, location_labels\n",
    "from datahandler.data_preprocessing import get_train_test_data, load_data_v3\n",
    "from models.log_writer import LogWriter\n",
    "from model.lstm import make_lstm_model_v1\n",
    "from model.transformer import make_transformer_model_v1\n",
    "from model.cnn import make_cnn_model_v1, make_cnn_model_v2\n",
    "import matplotlib.pyplot as plt\n",
    "from utils import print_line_divider\n",
    "import numpy as np\n",
    "import tensorflow as tf\n",
    "import pandas as pd\n",
    "import seaborn as sns"
   ],
   "metadata": {
    "collapsed": false,
    "pycharm": {
     "name": "#%%\n"
    }
   }
  },
  {
   "cell_type": "code",
   "execution_count": 2,
   "outputs": [],
   "source": [
    "# LOGGING CONFIGURATION\n",
    "enabled_log = False\n",
    "enabled_tensor_board = False\n",
    "log_writer = LogWriter(enabled_log)"
   ],
   "metadata": {
    "collapsed": false,
    "pycharm": {
     "name": "#%%\n"
    }
   }
  },
  {
   "cell_type": "code",
   "execution_count": 3,
   "outputs": [
    {
     "name": "stdout",
     "output_type": "stream",
     "text": [
      "STARTING THE TRAINING PROCESS\n"
     ]
    }
   ],
   "source": [
    "# TRAINING CONFIGURATION\n",
    "print(\"STARTING THE TRAINING PROCESS\")\n",
    "SAVED_BEST_MODEL = \"model/best_model.h5\"\n",
    "window_time_in_seconds = 2\n",
    "window_size = 40\n",
    "epochs = 1000\n",
    "batch_size = 32\n",
    "validation_split = 1 / 9\n",
    "optimizer = 'adam'\n",
    "loss_function = \"sparse_categorical_crossentropy\"\n",
    "supported_features = all_features\n",
    "\n",
    "log_writer.write(\"Configuration\", line_divider=True)\n",
    "log_writer.write(\n",
    "    f\"\"\"Window size: {window_size}\n",
    "Window time in second: ${window_time_in_seconds}\n",
    "Maximum number of epochs: ${epochs}\n",
    "Batch size: ${batch_size}\n",
    "Validation split: ${validation_split}\n",
    "Optimizer: ${optimizer}\n",
    "Loss function: ${loss_function}\n",
    "Features used for training: ${str(supported_features)}\"\"\"\n",
    ")"
   ],
   "metadata": {
    "collapsed": false,
    "pycharm": {
     "name": "#%%\n"
    }
   }
  },
  {
   "cell_type": "code",
   "execution_count": 4,
   "outputs": [
    {
     "name": "stdout",
     "output_type": "stream",
     "text": [
      "****************************************************\n",
      "Preparing data...\n",
      "Loading data from file px4_datacollection.csv\n",
      "Loading data from file ps1_datacollection.csv\n",
      "Loading data from file tc4_datacollection.csv\n",
      "Loading data from file ss3_datacollection.csv\n",
      "Loading data from file ps2_datacollection.csv\n",
      "Loading data from file op4_datacollection.csv\n",
      "Loading data from file op2_datacollection.csv\n",
      "Loading data from file ps4_datacollection.csv\n",
      "Loading data from file px1_datacollection.csv\n",
      "Loading data from file tc1_datacollection.csv\n",
      "Loading data from file tc2_datacollection.csv\n",
      "Loading data from file px2_datacollection.csv\n",
      "Loading data from file op1_datacollection.csv\n",
      "Loading data from file tc3_datacollection.csv\n",
      "Loading data from file px3_datacollection.csv\n",
      "Loading data from file op3_datacollection.csv\n",
      "Loading data from file ps5_datacollection.csv\n",
      "Loading data from file ss4_datacollection.csv\n",
      "Loading data from file ss2_datacollection.csv\n",
      "Loading data from file ps3_datacollection.csv\n",
      "Loading data from file op5_datacollection.csv\n",
      "Loading data from file px5_datacollection.csv\n",
      "Loading data from file ss1_datacollection.csv\n",
      "Loading data from file tc5_datacollection.csv\n",
      "Train data shape: (5780, 40, 9) | Train label shape: (5780,)\n",
      "Test data shape: (1416, 40, 9) | Test label shape: (1416,)\n",
      "****************************************************\n"
     ]
    }
   ],
   "source": [
    "# DATA Loader\n",
    "print_line_divider()\n",
    "print(\"Preparing data...\")\n",
    "# x_train, y_train, x_test, y_test = get_train_test_data(supported_features, window_time_in_seconds, window_size)\n",
    "x_train, y_train, x_test, y_test = load_data_v3(\n",
    "    features = supported_features,\n",
    "    window_time_in_seconds = window_time_in_seconds,\n",
    "    window_size = window_size\n",
    ")\n",
    "print(\"Train data shape: \" + str(x_train.shape) + \" | Train label shape: \" + str(y_train.shape))\n",
    "print(\"Test data shape: \" + str(x_test.shape) + \" | Test label shape: \" + str(y_test.shape))\n",
    "print_line_divider()\n",
    "log_writer.write(\"Data\", line_divider=True)\n",
    "log_writer.write(\"Data loaded from version \" + data_version)\n",
    "log_writer.write(\n",
    "    f\"\"\"Data training shape: ${x_train.shape}\n",
    "Data testing shape: ${x_test.shape}\"\"\"\n",
    ")"
   ],
   "metadata": {
    "collapsed": false,
    "pycharm": {
     "name": "#%%\n"
    }
   }
  },
  {
   "cell_type": "code",
   "execution_count": 5,
   "outputs": [
    {
     "name": "stdout",
     "output_type": "stream",
     "text": [
      "****************************************************\n",
      "Distribution for set Training set\n",
      "\n",
      "insidethepantpocket count is 954\n",
      "beingusedinhand count is 1213\n",
      "calling count is 1205\n",
      "holdinginhand count is 1200\n",
      "insidethebag count is 1208\n",
      "****************************************************\n",
      "Distribution for set Testing set\n",
      "\n",
      "insidethepantpocket count is 240\n",
      "beingusedinhand count is 285\n",
      "calling count is 294\n",
      "holdinginhand count is 298\n",
      "insidethebag count is 299\n"
     ]
    }
   ],
   "source": [
    "def check_distribution(labels_list, set_name):\n",
    "    label_count_dict = {}\n",
    "    for label_ind in labels_list:\n",
    "        if label_ind in label_count_dict.keys():\n",
    "            label_count_dict[label_ind] += 1\n",
    "        else:\n",
    "            label_count_dict[label_ind] = 1\n",
    "\n",
    "    print_line_divider()\n",
    "    print(\"Distribution for set \" + set_name + \"\\n\")\n",
    "    for key in label_count_dict:\n",
    "        print(location_labels[key] + \" count is \" + str(label_count_dict[key]))\n",
    "\n",
    "check_distribution(y_train, \"Training set\")\n",
    "check_distribution(y_test, \"Testing set\")"
   ],
   "metadata": {
    "collapsed": false,
    "pycharm": {
     "name": "#%%\n"
    }
   }
  },
  {
   "cell_type": "code",
   "execution_count": 6,
   "outputs": [
    {
     "name": "stdout",
     "output_type": "stream",
     "text": [
      "Model Summary:\n",
      "Model: \"model\"\n",
      "_________________________________________________________________\n",
      " Layer (type)                Output Shape              Param #   \n",
      "=================================================================\n",
      " input_1 (InputLayer)        [(None, 40, 9)]           0         \n",
      "                                                                 \n",
      " conv1d (Conv1D)             (None, 40, 64)            1792      \n",
      "                                                                 \n",
      " batch_normalization (BatchN  (None, 40, 64)           256       \n",
      " ormalization)                                                   \n",
      "                                                                 \n",
      " re_lu (ReLU)                (None, 40, 64)            0         \n",
      "                                                                 \n",
      " conv1d_1 (Conv1D)           (None, 40, 64)            12352     \n",
      "                                                                 \n",
      " batch_normalization_1 (Batc  (None, 40, 64)           256       \n",
      " hNormalization)                                                 \n",
      "                                                                 \n",
      " re_lu_1 (ReLU)              (None, 40, 64)            0         \n",
      "                                                                 \n",
      " conv1d_2 (Conv1D)           (None, 40, 64)            12352     \n",
      "                                                                 \n",
      " batch_normalization_2 (Batc  (None, 40, 64)           256       \n",
      " hNormalization)                                                 \n",
      "                                                                 \n",
      " re_lu_2 (ReLU)              (None, 40, 64)            0         \n",
      "                                                                 \n",
      " global_average_pooling1d (G  (None, 64)               0         \n",
      " lobalAveragePooling1D)                                          \n",
      "                                                                 \n",
      " dense (Dense)               (None, 5)                 325       \n",
      "                                                                 \n",
      "=================================================================\n",
      "Total params: 27,589\n",
      "Trainable params: 27,205\n",
      "Non-trainable params: 384\n",
      "_________________________________________________________________\n",
      "****************************************************\n",
      "None\n"
     ]
    },
    {
     "name": "stderr",
     "output_type": "stream",
     "text": [
      "2022-05-26 17:16:04.930977: I tensorflow/core/platform/cpu_feature_guard.cc:151] This TensorFlow binary is optimized with oneAPI Deep Neural Network Library (oneDNN) to use the following CPU instructions in performance-critical operations:  AVX2 FMA\n",
      "To enable them in other operations, rebuild TensorFlow with the appropriate compiler flags.\n"
     ]
    }
   ],
   "source": [
    "# SETTING UP THE MODEL\n",
    "input_shape = (window_size, len(supported_features))\n",
    "model_name, model = make_cnn_model_v1(input_shape=input_shape)\n",
    "# model_name, model = make_lstm_model_v1(input_shape=input_shape)\n",
    "# model_name, model = make_transformer_model_v1(\n",
    "#     input_shape=input_shape,\n",
    "#     head_size=256,\n",
    "#     num_heads=4,\n",
    "#     ff_dim=4,\n",
    "#     num_transformer_blocks=2,\n",
    "#     mlp_units=[128],\n",
    "#     mlp_dropout=0.4,\n",
    "#     dropout=0.25,\n",
    "# )\n",
    "print(\"Model Summary:\")\n",
    "stringlist = []\n",
    "model.summary(print_fn=lambda x: stringlist.append(x))\n",
    "short_model_summary = \"\\n\".join(stringlist)\n",
    "print(short_model_summary)\n",
    "print(print_line_divider())"
   ],
   "metadata": {
    "collapsed": false,
    "pycharm": {
     "name": "#%%\n"
    }
   }
  },
  {
   "cell_type": "code",
   "execution_count": 7,
   "outputs": [],
   "source": [
    "# LOGGING THE MODEL\n",
    "log_writer.write(\"Model\", line_divider=True)\n",
    "log_writer.write(\"Model name: \" + model_name)\n",
    "log_writer.write(short_model_summary)"
   ],
   "metadata": {
    "collapsed": false,
    "pycharm": {
     "name": "#%%\n"
    }
   }
  },
  {
   "cell_type": "code",
   "execution_count": 8,
   "outputs": [],
   "source": [
    "# MODELS CALLBACK AND SETUP\n",
    "callback_list = [\n",
    "    callbacks.ModelCheckpoint(SAVED_BEST_MODEL, save_best_only=True, monitor=\"val_loss\"),\n",
    "    callbacks.ReduceLROnPlateau(monitor=\"val_loss\", factor=0.5, patience=20, min_lr=0.0001),\n",
    "    callbacks.EarlyStopping(monitor=\"val_loss\", patience=50, verbose=1)\n",
    "]\n",
    "if enabled_tensor_board:\n",
    "    callback_list.append(callbacks.TensorBoard(log_dir=tensorboard_dir, histogram_freq=1))\n",
    "if log_writer.enabled:\n",
    "    callback_list.append(\n",
    "        callbacks.ModelCheckpoint(log_writer.base_folder + \"/model.h5\", save_best_only=True, monitor=\"val_loss\")\n",
    "    )\n",
    "model.compile(\n",
    "    optimizer=optimizer,\n",
    "    loss=loss_function,\n",
    "    metrics=[\"sparse_categorical_accuracy\"],\n",
    ")"
   ],
   "metadata": {
    "collapsed": false,
    "pycharm": {
     "name": "#%%\n"
    }
   }
  },
  {
   "cell_type": "code",
   "execution_count": 9,
   "outputs": [
    {
     "name": "stdout",
     "output_type": "stream",
     "text": [
      "****************************************************\n",
      "Starting to train...\n",
      "Epoch 1/1000\n",
      "161/161 [==============================] - 3s 12ms/step - loss: 0.2514 - sparse_categorical_accuracy: 0.9406 - val_loss: 2.7907 - val_sparse_categorical_accuracy: 0.0000e+00 - lr: 0.0010\n",
      "Epoch 2/1000\n",
      "161/161 [==============================] - 2s 12ms/step - loss: 0.0359 - sparse_categorical_accuracy: 0.9965 - val_loss: 2.0931 - val_sparse_categorical_accuracy: 0.2691 - lr: 0.0010\n",
      "Epoch 3/1000\n",
      "161/161 [==============================] - 2s 11ms/step - loss: 0.0215 - sparse_categorical_accuracy: 0.9982 - val_loss: 1.2887 - val_sparse_categorical_accuracy: 0.6159 - lr: 0.0010\n",
      "Epoch 4/1000\n",
      "161/161 [==============================] - 2s 11ms/step - loss: 0.0110 - sparse_categorical_accuracy: 0.9981 - val_loss: 2.4684 - val_sparse_categorical_accuracy: 0.6096 - lr: 0.0010\n",
      "Epoch 5/1000\n",
      "161/161 [==============================] - 2s 13ms/step - loss: 0.0072 - sparse_categorical_accuracy: 0.9990 - val_loss: 1.4822 - val_sparse_categorical_accuracy: 0.6765 - lr: 0.0010\n",
      "Epoch 6/1000\n",
      "161/161 [==============================] - 2s 13ms/step - loss: 0.0099 - sparse_categorical_accuracy: 0.9979 - val_loss: 2.1617 - val_sparse_categorical_accuracy: 0.6656 - lr: 0.0010\n",
      "Epoch 7/1000\n",
      "161/161 [==============================] - 2s 14ms/step - loss: 0.0061 - sparse_categorical_accuracy: 0.9996 - val_loss: 1.3720 - val_sparse_categorical_accuracy: 0.7481 - lr: 0.0010\n",
      "Epoch 8/1000\n",
      "161/161 [==============================] - 2s 12ms/step - loss: 0.0022 - sparse_categorical_accuracy: 1.0000 - val_loss: 1.4408 - val_sparse_categorical_accuracy: 0.7574 - lr: 0.0010\n",
      "Epoch 9/1000\n",
      "161/161 [==============================] - 2s 12ms/step - loss: 0.0029 - sparse_categorical_accuracy: 0.9998 - val_loss: 1.2706 - val_sparse_categorical_accuracy: 0.8056 - lr: 0.0010\n",
      "Epoch 10/1000\n",
      "161/161 [==============================] - 2s 10ms/step - loss: 0.0027 - sparse_categorical_accuracy: 1.0000 - val_loss: 1.5735 - val_sparse_categorical_accuracy: 0.6890 - lr: 0.0010\n",
      "Epoch 11/1000\n",
      "161/161 [==============================] - 2s 11ms/step - loss: 0.0019 - sparse_categorical_accuracy: 0.9996 - val_loss: 1.2692 - val_sparse_categorical_accuracy: 0.8212 - lr: 0.0010\n",
      "Epoch 12/1000\n",
      "161/161 [==============================] - 2s 12ms/step - loss: 0.0047 - sparse_categorical_accuracy: 0.9990 - val_loss: 1.7510 - val_sparse_categorical_accuracy: 0.7278 - lr: 0.0010\n",
      "Epoch 13/1000\n",
      "161/161 [==============================] - 2s 10ms/step - loss: 0.0021 - sparse_categorical_accuracy: 0.9998 - val_loss: 2.5732 - val_sparse_categorical_accuracy: 0.6128 - lr: 0.0010\n",
      "Epoch 14/1000\n",
      "161/161 [==============================] - 2s 11ms/step - loss: 7.6691e-04 - sparse_categorical_accuracy: 1.0000 - val_loss: 2.5794 - val_sparse_categorical_accuracy: 0.6143 - lr: 0.0010\n",
      "Epoch 15/1000\n",
      "161/161 [==============================] - 2s 12ms/step - loss: 0.0044 - sparse_categorical_accuracy: 0.9986 - val_loss: 1.9167 - val_sparse_categorical_accuracy: 0.6765 - lr: 0.0010\n",
      "Epoch 16/1000\n",
      "161/161 [==============================] - 2s 13ms/step - loss: 0.0034 - sparse_categorical_accuracy: 0.9990 - val_loss: 5.4609 - val_sparse_categorical_accuracy: 0.5272 - lr: 0.0010\n",
      "Epoch 17/1000\n",
      "161/161 [==============================] - 2s 14ms/step - loss: 0.0015 - sparse_categorical_accuracy: 1.0000 - val_loss: 1.3782 - val_sparse_categorical_accuracy: 0.8678 - lr: 0.0010\n",
      "Epoch 18/1000\n",
      "161/161 [==============================] - 2s 14ms/step - loss: 7.6444e-04 - sparse_categorical_accuracy: 1.0000 - val_loss: 1.5837 - val_sparse_categorical_accuracy: 0.7636 - lr: 0.0010\n",
      "Epoch 19/1000\n",
      "161/161 [==============================] - 2s 14ms/step - loss: 6.4967e-04 - sparse_categorical_accuracy: 1.0000 - val_loss: 2.0073 - val_sparse_categorical_accuracy: 0.6921 - lr: 0.0010\n",
      "Epoch 20/1000\n",
      "161/161 [==============================] - 2s 14ms/step - loss: 3.9622e-04 - sparse_categorical_accuracy: 1.0000 - val_loss: 2.4716 - val_sparse_categorical_accuracy: 0.6439 - lr: 0.0010\n",
      "Epoch 21/1000\n",
      "161/161 [==============================] - 2s 14ms/step - loss: 5.2858e-04 - sparse_categorical_accuracy: 1.0000 - val_loss: 1.5184 - val_sparse_categorical_accuracy: 0.8507 - lr: 0.0010\n",
      "Epoch 22/1000\n",
      "161/161 [==============================] - 2s 15ms/step - loss: 3.1471e-04 - sparse_categorical_accuracy: 1.0000 - val_loss: 1.8704 - val_sparse_categorical_accuracy: 0.7341 - lr: 0.0010\n",
      "Epoch 23/1000\n",
      "161/161 [==============================] - 2s 15ms/step - loss: 0.0021 - sparse_categorical_accuracy: 0.9996 - val_loss: 1.2934 - val_sparse_categorical_accuracy: 0.7558 - lr: 0.0010\n",
      "Epoch 24/1000\n",
      "161/161 [==============================] - 3s 16ms/step - loss: 0.0025 - sparse_categorical_accuracy: 0.9996 - val_loss: 4.2596 - val_sparse_categorical_accuracy: 0.6205 - lr: 0.0010\n",
      "Epoch 25/1000\n",
      "161/161 [==============================] - 2s 15ms/step - loss: 0.0021 - sparse_categorical_accuracy: 0.9994 - val_loss: 2.6002 - val_sparse_categorical_accuracy: 0.6423 - lr: 0.0010\n",
      "Epoch 26/1000\n",
      "161/161 [==============================] - 2s 14ms/step - loss: 0.0052 - sparse_categorical_accuracy: 0.9990 - val_loss: 3.9465 - val_sparse_categorical_accuracy: 0.6128 - lr: 0.0010\n",
      "Epoch 27/1000\n",
      "161/161 [==============================] - 2s 14ms/step - loss: 0.0011 - sparse_categorical_accuracy: 0.9998 - val_loss: 3.7542 - val_sparse_categorical_accuracy: 0.6143 - lr: 0.0010\n",
      "Epoch 28/1000\n",
      "161/161 [==============================] - 2s 14ms/step - loss: 8.0240e-04 - sparse_categorical_accuracy: 1.0000 - val_loss: 2.7034 - val_sparse_categorical_accuracy: 0.6423 - lr: 0.0010\n",
      "Epoch 29/1000\n",
      "161/161 [==============================] - 2s 14ms/step - loss: 2.4494e-04 - sparse_categorical_accuracy: 1.0000 - val_loss: 1.9972 - val_sparse_categorical_accuracy: 0.7403 - lr: 0.0010\n",
      "Epoch 30/1000\n",
      "161/161 [==============================] - 2s 14ms/step - loss: 1.9513e-04 - sparse_categorical_accuracy: 1.0000 - val_loss: 2.0350 - val_sparse_categorical_accuracy: 0.7481 - lr: 0.0010\n",
      "Epoch 31/1000\n",
      "161/161 [==============================] - 2s 13ms/step - loss: 4.0790e-04 - sparse_categorical_accuracy: 1.0000 - val_loss: 3.4674 - val_sparse_categorical_accuracy: 0.6205 - lr: 0.0010\n",
      "Epoch 32/1000\n",
      "161/161 [==============================] - 2s 13ms/step - loss: 1.9173e-04 - sparse_categorical_accuracy: 1.0000 - val_loss: 3.0370 - val_sparse_categorical_accuracy: 0.6439 - lr: 5.0000e-04\n",
      "Epoch 33/1000\n",
      "161/161 [==============================] - 2s 13ms/step - loss: 3.1573e-04 - sparse_categorical_accuracy: 1.0000 - val_loss: 2.9160 - val_sparse_categorical_accuracy: 0.7045 - lr: 5.0000e-04\n",
      "Epoch 34/1000\n",
      "161/161 [==============================] - 2s 13ms/step - loss: 1.3614e-04 - sparse_categorical_accuracy: 1.0000 - val_loss: 2.6162 - val_sparse_categorical_accuracy: 0.7123 - lr: 5.0000e-04\n",
      "Epoch 35/1000\n",
      "161/161 [==============================] - 2s 12ms/step - loss: 4.3926e-04 - sparse_categorical_accuracy: 0.9998 - val_loss: 1.4505 - val_sparse_categorical_accuracy: 0.8802 - lr: 5.0000e-04\n",
      "Epoch 36/1000\n",
      "161/161 [==============================] - 2s 12ms/step - loss: 2.1778e-04 - sparse_categorical_accuracy: 1.0000 - val_loss: 2.8337 - val_sparse_categorical_accuracy: 0.6719 - lr: 5.0000e-04\n",
      "Epoch 37/1000\n",
      "161/161 [==============================] - 2s 13ms/step - loss: 1.1177e-04 - sparse_categorical_accuracy: 1.0000 - val_loss: 2.6534 - val_sparse_categorical_accuracy: 0.6781 - lr: 5.0000e-04\n",
      "Epoch 38/1000\n",
      "161/161 [==============================] - 2s 13ms/step - loss: 7.6332e-05 - sparse_categorical_accuracy: 1.0000 - val_loss: 2.5053 - val_sparse_categorical_accuracy: 0.6874 - lr: 5.0000e-04\n",
      "Epoch 39/1000\n",
      "161/161 [==============================] - 2s 11ms/step - loss: 7.4977e-05 - sparse_categorical_accuracy: 1.0000 - val_loss: 2.3313 - val_sparse_categorical_accuracy: 0.7030 - lr: 5.0000e-04\n",
      "Epoch 40/1000\n",
      "161/161 [==============================] - 2s 12ms/step - loss: 7.1836e-05 - sparse_categorical_accuracy: 1.0000 - val_loss: 2.2376 - val_sparse_categorical_accuracy: 0.6998 - lr: 5.0000e-04\n",
      "Epoch 41/1000\n",
      "161/161 [==============================] - 2s 12ms/step - loss: 4.9038e-05 - sparse_categorical_accuracy: 1.0000 - val_loss: 1.9863 - val_sparse_categorical_accuracy: 0.7481 - lr: 5.0000e-04\n",
      "Epoch 42/1000\n",
      "161/161 [==============================] - 2s 15ms/step - loss: 6.0614e-05 - sparse_categorical_accuracy: 1.0000 - val_loss: 2.0805 - val_sparse_categorical_accuracy: 0.7232 - lr: 5.0000e-04\n",
      "Epoch 43/1000\n",
      "161/161 [==============================] - 2s 15ms/step - loss: 4.8796e-05 - sparse_categorical_accuracy: 1.0000 - val_loss: 2.1121 - val_sparse_categorical_accuracy: 0.7138 - lr: 5.0000e-04\n",
      "Epoch 44/1000\n",
      "161/161 [==============================] - 3s 16ms/step - loss: 5.8093e-05 - sparse_categorical_accuracy: 1.0000 - val_loss: 2.2146 - val_sparse_categorical_accuracy: 0.6765 - lr: 5.0000e-04\n",
      "Epoch 45/1000\n",
      "161/161 [==============================] - 2s 14ms/step - loss: 9.1665e-05 - sparse_categorical_accuracy: 1.0000 - val_loss: 2.0673 - val_sparse_categorical_accuracy: 0.7138 - lr: 5.0000e-04\n",
      "Epoch 46/1000\n",
      "161/161 [==============================] - 2s 13ms/step - loss: 2.8261e-04 - sparse_categorical_accuracy: 1.0000 - val_loss: 2.4498 - val_sparse_categorical_accuracy: 0.6765 - lr: 5.0000e-04\n",
      "Epoch 47/1000\n",
      "161/161 [==============================] - 2s 14ms/step - loss: 1.0786e-04 - sparse_categorical_accuracy: 1.0000 - val_loss: 1.7654 - val_sparse_categorical_accuracy: 0.8134 - lr: 5.0000e-04\n",
      "Epoch 48/1000\n",
      "161/161 [==============================] - 2s 14ms/step - loss: 5.0218e-05 - sparse_categorical_accuracy: 1.0000 - val_loss: 1.9969 - val_sparse_categorical_accuracy: 0.7823 - lr: 5.0000e-04\n",
      "Epoch 49/1000\n",
      "161/161 [==============================] - 3s 16ms/step - loss: 4.0204e-05 - sparse_categorical_accuracy: 1.0000 - val_loss: 2.0046 - val_sparse_categorical_accuracy: 0.7792 - lr: 5.0000e-04\n",
      "Epoch 50/1000\n",
      "161/161 [==============================] - 2s 13ms/step - loss: 4.7895e-05 - sparse_categorical_accuracy: 1.0000 - val_loss: 2.2750 - val_sparse_categorical_accuracy: 0.6967 - lr: 5.0000e-04\n",
      "Epoch 51/1000\n",
      "161/161 [==============================] - 2s 13ms/step - loss: 4.5315e-05 - sparse_categorical_accuracy: 1.0000 - val_loss: 2.0828 - val_sparse_categorical_accuracy: 0.7481 - lr: 5.0000e-04\n",
      "Epoch 52/1000\n",
      "161/161 [==============================] - 2s 12ms/step - loss: 4.2502e-05 - sparse_categorical_accuracy: 1.0000 - val_loss: 1.9989 - val_sparse_categorical_accuracy: 0.7636 - lr: 2.5000e-04\n",
      "Epoch 53/1000\n",
      "161/161 [==============================] - 2s 9ms/step - loss: 1.0819e-04 - sparse_categorical_accuracy: 1.0000 - val_loss: 1.2511 - val_sparse_categorical_accuracy: 0.9036 - lr: 2.5000e-04\n",
      "Epoch 54/1000\n",
      "161/161 [==============================] - 1s 9ms/step - loss: 1.8386e-04 - sparse_categorical_accuracy: 1.0000 - val_loss: 1.8956 - val_sparse_categorical_accuracy: 0.7434 - lr: 2.5000e-04\n",
      "Epoch 55/1000\n",
      "161/161 [==============================] - 2s 10ms/step - loss: 4.8403e-05 - sparse_categorical_accuracy: 1.0000 - val_loss: 1.9118 - val_sparse_categorical_accuracy: 0.7574 - lr: 2.5000e-04\n",
      "Epoch 56/1000\n",
      "161/161 [==============================] - 2s 11ms/step - loss: 3.7249e-05 - sparse_categorical_accuracy: 1.0000 - val_loss: 1.7847 - val_sparse_categorical_accuracy: 0.7652 - lr: 2.5000e-04\n",
      "Epoch 57/1000\n",
      "161/161 [==============================] - 2s 13ms/step - loss: 7.0346e-05 - sparse_categorical_accuracy: 1.0000 - val_loss: 1.7925 - val_sparse_categorical_accuracy: 0.7916 - lr: 2.5000e-04\n",
      "Epoch 58/1000\n",
      "161/161 [==============================] - 2s 14ms/step - loss: 3.5380e-05 - sparse_categorical_accuracy: 1.0000 - val_loss: 1.9577 - val_sparse_categorical_accuracy: 0.7589 - lr: 2.5000e-04\n",
      "Epoch 59/1000\n",
      "161/161 [==============================] - 2s 13ms/step - loss: 2.7732e-04 - sparse_categorical_accuracy: 1.0000 - val_loss: 2.5725 - val_sparse_categorical_accuracy: 0.6330 - lr: 2.5000e-04\n",
      "Epoch 60/1000\n",
      "161/161 [==============================] - 2s 13ms/step - loss: 6.1358e-05 - sparse_categorical_accuracy: 1.0000 - val_loss: 2.2327 - val_sparse_categorical_accuracy: 0.7123 - lr: 2.5000e-04\n",
      "Epoch 61/1000\n",
      "161/161 [==============================] - 2s 13ms/step - loss: 3.3549e-05 - sparse_categorical_accuracy: 1.0000 - val_loss: 2.3897 - val_sparse_categorical_accuracy: 0.7138 - lr: 2.5000e-04\n",
      "Epoch 62/1000\n",
      "161/161 [==============================] - 2s 14ms/step - loss: 6.7840e-04 - sparse_categorical_accuracy: 0.9996 - val_loss: 7.9285 - val_sparse_categorical_accuracy: 0.5879 - lr: 2.5000e-04\n",
      "Epoch 63/1000\n",
      "161/161 [==============================] - 2s 14ms/step - loss: 2.3032e-04 - sparse_categorical_accuracy: 1.0000 - val_loss: 2.7268 - val_sparse_categorical_accuracy: 0.6221 - lr: 2.5000e-04\n",
      "Epoch 64/1000\n",
      "161/161 [==============================] - 2s 15ms/step - loss: 2.9020e-04 - sparse_categorical_accuracy: 0.9998 - val_loss: 2.4357 - val_sparse_categorical_accuracy: 0.6579 - lr: 2.5000e-04\n",
      "Epoch 65/1000\n",
      "161/161 [==============================] - 2s 14ms/step - loss: 6.0198e-05 - sparse_categorical_accuracy: 1.0000 - val_loss: 2.0425 - val_sparse_categorical_accuracy: 0.7278 - lr: 2.5000e-04\n",
      "Epoch 66/1000\n",
      "161/161 [==============================] - 2s 15ms/step - loss: 2.9294e-05 - sparse_categorical_accuracy: 1.0000 - val_loss: 2.1509 - val_sparse_categorical_accuracy: 0.7014 - lr: 2.5000e-04\n",
      "Epoch 67/1000\n",
      "161/161 [==============================] - 2s 13ms/step - loss: 2.8926e-05 - sparse_categorical_accuracy: 1.0000 - val_loss: 2.1620 - val_sparse_categorical_accuracy: 0.6952 - lr: 2.5000e-04\n",
      "Epoch 68/1000\n",
      "161/161 [==============================] - 2s 13ms/step - loss: 3.6852e-05 - sparse_categorical_accuracy: 1.0000 - val_loss: 2.2429 - val_sparse_categorical_accuracy: 0.6765 - lr: 2.5000e-04\n",
      "Epoch 69/1000\n",
      "161/161 [==============================] - 2s 13ms/step - loss: 3.0676e-05 - sparse_categorical_accuracy: 1.0000 - val_loss: 2.2862 - val_sparse_categorical_accuracy: 0.6734 - lr: 2.5000e-04\n",
      "Epoch 70/1000\n",
      "161/161 [==============================] - 2s 14ms/step - loss: 8.7775e-05 - sparse_categorical_accuracy: 1.0000 - val_loss: 2.1858 - val_sparse_categorical_accuracy: 0.7030 - lr: 2.5000e-04\n",
      "Epoch 71/1000\n",
      "161/161 [==============================] - 2s 14ms/step - loss: 2.2700e-05 - sparse_categorical_accuracy: 1.0000 - val_loss: 2.2041 - val_sparse_categorical_accuracy: 0.7123 - lr: 2.5000e-04\n",
      "Epoch 72/1000\n",
      "161/161 [==============================] - 2s 11ms/step - loss: 2.3114e-05 - sparse_categorical_accuracy: 1.0000 - val_loss: 2.2359 - val_sparse_categorical_accuracy: 0.7092 - lr: 2.5000e-04\n",
      "Epoch 73/1000\n",
      "161/161 [==============================] - 2s 12ms/step - loss: 4.1161e-05 - sparse_categorical_accuracy: 1.0000 - val_loss: 1.6285 - val_sparse_categorical_accuracy: 0.8460 - lr: 2.5000e-04\n",
      "Epoch 74/1000\n",
      "161/161 [==============================] - 2s 13ms/step - loss: 3.0960e-05 - sparse_categorical_accuracy: 1.0000 - val_loss: 1.8567 - val_sparse_categorical_accuracy: 0.7885 - lr: 1.2500e-04\n",
      "Epoch 75/1000\n",
      "161/161 [==============================] - 2s 15ms/step - loss: 4.7470e-05 - sparse_categorical_accuracy: 1.0000 - val_loss: 2.0227 - val_sparse_categorical_accuracy: 0.7729 - lr: 1.2500e-04\n",
      "Epoch 76/1000\n",
      "161/161 [==============================] - 2s 15ms/step - loss: 1.1483e-04 - sparse_categorical_accuracy: 1.0000 - val_loss: 1.9132 - val_sparse_categorical_accuracy: 0.7885 - lr: 1.2500e-04\n",
      "Epoch 77/1000\n",
      "161/161 [==============================] - 2s 15ms/step - loss: 4.1491e-05 - sparse_categorical_accuracy: 1.0000 - val_loss: 2.1761 - val_sparse_categorical_accuracy: 0.7481 - lr: 1.2500e-04\n",
      "Epoch 78/1000\n",
      "161/161 [==============================] - 2s 14ms/step - loss: 4.7589e-05 - sparse_categorical_accuracy: 1.0000 - val_loss: 2.3118 - val_sparse_categorical_accuracy: 0.7309 - lr: 1.2500e-04\n",
      "Epoch 79/1000\n",
      "161/161 [==============================] - 2s 12ms/step - loss: 3.2155e-05 - sparse_categorical_accuracy: 1.0000 - val_loss: 2.1687 - val_sparse_categorical_accuracy: 0.7574 - lr: 1.2500e-04\n",
      "Epoch 80/1000\n",
      "161/161 [==============================] - 2s 12ms/step - loss: 1.7106e-05 - sparse_categorical_accuracy: 1.0000 - val_loss: 2.0906 - val_sparse_categorical_accuracy: 0.7714 - lr: 1.2500e-04\n",
      "Epoch 81/1000\n",
      "161/161 [==============================] - 2s 12ms/step - loss: 2.0575e-05 - sparse_categorical_accuracy: 1.0000 - val_loss: 2.0343 - val_sparse_categorical_accuracy: 0.7729 - lr: 1.2500e-04\n",
      "Epoch 82/1000\n",
      "161/161 [==============================] - 2s 12ms/step - loss: 1.3419e-05 - sparse_categorical_accuracy: 1.0000 - val_loss: 2.1438 - val_sparse_categorical_accuracy: 0.7621 - lr: 1.2500e-04\n",
      "Epoch 83/1000\n",
      "161/161 [==============================] - 2s 13ms/step - loss: 2.2894e-05 - sparse_categorical_accuracy: 1.0000 - val_loss: 2.0212 - val_sparse_categorical_accuracy: 0.7698 - lr: 1.2500e-04\n",
      "Epoch 84/1000\n",
      "161/161 [==============================] - 2s 14ms/step - loss: 1.4954e-05 - sparse_categorical_accuracy: 1.0000 - val_loss: 2.0547 - val_sparse_categorical_accuracy: 0.7698 - lr: 1.2500e-04\n",
      "Epoch 85/1000\n",
      "161/161 [==============================] - 2s 14ms/step - loss: 7.7035e-05 - sparse_categorical_accuracy: 1.0000 - val_loss: 1.8754 - val_sparse_categorical_accuracy: 0.7558 - lr: 1.2500e-04\n",
      "Epoch 86/1000\n",
      "161/161 [==============================] - 2s 14ms/step - loss: 5.4023e-05 - sparse_categorical_accuracy: 1.0000 - val_loss: 1.8174 - val_sparse_categorical_accuracy: 0.7776 - lr: 1.2500e-04\n",
      "Epoch 87/1000\n",
      "161/161 [==============================] - 2s 15ms/step - loss: 3.4959e-05 - sparse_categorical_accuracy: 1.0000 - val_loss: 1.8128 - val_sparse_categorical_accuracy: 0.7760 - lr: 1.2500e-04\n",
      "Epoch 88/1000\n",
      "161/161 [==============================] - 3s 16ms/step - loss: 2.1205e-05 - sparse_categorical_accuracy: 1.0000 - val_loss: 1.8934 - val_sparse_categorical_accuracy: 0.7683 - lr: 1.2500e-04\n",
      "Epoch 89/1000\n",
      "161/161 [==============================] - 2s 15ms/step - loss: 1.1726e-05 - sparse_categorical_accuracy: 1.0000 - val_loss: 1.8493 - val_sparse_categorical_accuracy: 0.7823 - lr: 1.2500e-04\n",
      "Epoch 90/1000\n",
      "161/161 [==============================] - 3s 16ms/step - loss: 1.2113e-05 - sparse_categorical_accuracy: 1.0000 - val_loss: 1.8933 - val_sparse_categorical_accuracy: 0.7760 - lr: 1.2500e-04\n",
      "Epoch 91/1000\n",
      "161/161 [==============================] - 3s 16ms/step - loss: 2.5412e-05 - sparse_categorical_accuracy: 1.0000 - val_loss: 1.8247 - val_sparse_categorical_accuracy: 0.7978 - lr: 1.2500e-04\n",
      "Epoch 92/1000\n",
      "161/161 [==============================] - 3s 16ms/step - loss: 1.6004e-05 - sparse_categorical_accuracy: 1.0000 - val_loss: 1.9353 - val_sparse_categorical_accuracy: 0.7776 - lr: 1.2500e-04\n",
      "Epoch 93/1000\n",
      "161/161 [==============================] - 2s 15ms/step - loss: 1.2488e-05 - sparse_categorical_accuracy: 1.0000 - val_loss: 1.9765 - val_sparse_categorical_accuracy: 0.7698 - lr: 1.2500e-04\n",
      "Epoch 94/1000\n",
      "161/161 [==============================] - 2s 11ms/step - loss: 9.9739e-06 - sparse_categorical_accuracy: 1.0000 - val_loss: 1.9666 - val_sparse_categorical_accuracy: 0.7698 - lr: 1.0000e-04\n",
      "Epoch 95/1000\n",
      "161/161 [==============================] - 2s 11ms/step - loss: 9.4599e-06 - sparse_categorical_accuracy: 1.0000 - val_loss: 1.9096 - val_sparse_categorical_accuracy: 0.7807 - lr: 1.0000e-04\n",
      "Epoch 96/1000\n",
      "161/161 [==============================] - 2s 12ms/step - loss: 1.1350e-05 - sparse_categorical_accuracy: 1.0000 - val_loss: 1.9505 - val_sparse_categorical_accuracy: 0.7776 - lr: 1.0000e-04\n",
      "Epoch 97/1000\n",
      "161/161 [==============================] - 2s 12ms/step - loss: 1.6573e-05 - sparse_categorical_accuracy: 1.0000 - val_loss: 1.8381 - val_sparse_categorical_accuracy: 0.8165 - lr: 1.0000e-04\n",
      "Epoch 98/1000\n",
      "161/161 [==============================] - 2s 13ms/step - loss: 1.0747e-05 - sparse_categorical_accuracy: 1.0000 - val_loss: 1.8661 - val_sparse_categorical_accuracy: 0.8025 - lr: 1.0000e-04\n",
      "Epoch 99/1000\n",
      "161/161 [==============================] - 2s 14ms/step - loss: 1.1346e-05 - sparse_categorical_accuracy: 1.0000 - val_loss: 2.0415 - val_sparse_categorical_accuracy: 0.7776 - lr: 1.0000e-04\n",
      "Epoch 100/1000\n",
      "161/161 [==============================] - 3s 16ms/step - loss: 9.0274e-06 - sparse_categorical_accuracy: 1.0000 - val_loss: 1.9460 - val_sparse_categorical_accuracy: 0.7854 - lr: 1.0000e-04\n",
      "Epoch 101/1000\n",
      "161/161 [==============================] - 3s 16ms/step - loss: 1.2161e-05 - sparse_categorical_accuracy: 1.0000 - val_loss: 1.9907 - val_sparse_categorical_accuracy: 0.7729 - lr: 1.0000e-04\n",
      "Epoch 102/1000\n",
      "161/161 [==============================] - 2s 15ms/step - loss: 1.1971e-05 - sparse_categorical_accuracy: 1.0000 - val_loss: 2.1388 - val_sparse_categorical_accuracy: 0.7621 - lr: 1.0000e-04\n",
      "Epoch 103/1000\n",
      "161/161 [==============================] - 3s 16ms/step - loss: 8.8885e-06 - sparse_categorical_accuracy: 1.0000 - val_loss: 2.0318 - val_sparse_categorical_accuracy: 0.7745 - lr: 1.0000e-04\n",
      "Epoch 103: early stopping\n",
      "Highest validation accuracy:  0.9035769701004028\n"
     ]
    }
   ],
   "source": [
    "# TRAINING\n",
    "print_line_divider()\n",
    "print(\"Starting to train...\")\n",
    "history = model.fit(\n",
    "    x_train,\n",
    "    y_train,\n",
    "    batch_size=batch_size,\n",
    "    epochs=epochs,\n",
    "    callbacks=callback_list,\n",
    "    validation_split=validation_split,\n",
    "    verbose=1,\n",
    "    shuffle=True\n",
    ")\n",
    "print(\"Highest validation accuracy: \", max(history.history['val_sparse_categorical_accuracy']))\n",
    "log_writer.write(\"Result\", line_divider=True)\n",
    "log_writer.write(\"Highest validation accuracy: \" + str(max(history.history['val_sparse_categorical_accuracy'])))"
   ],
   "metadata": {
    "collapsed": false,
    "pycharm": {
     "name": "#%%\n"
    }
   }
  },
  {
   "cell_type": "code",
   "execution_count": 10,
   "outputs": [
    {
     "data": {
      "text/plain": "<Figure size 432x288 with 1 Axes>",
      "image/png": "[encoded data removed]"
     },
     "metadata": {
      "needs_background": "light"
     },
     "output_type": "display_data"
    }
   ],
   "source": [
    "# PLOTTING\n",
    "metric = \"sparse_categorical_accuracy\"\n",
    "plt.figure()\n",
    "plt.plot(history.history[metric])\n",
    "plt.plot(history.history[\"val_\" + metric])\n",
    "plt.title(\"model \" + model_name + \" :\" + metric)\n",
    "plt.ylabel(metric, fontsize=\"large\")\n",
    "plt.xlabel(\"epoch\", fontsize=\"large\")\n",
    "plt.legend([\"train\", \"val\"], loc=\"best\")\n",
    "if log_writer.enabled:\n",
    "    plt.savefig(os.path.join(log_writer.base_folder, \"Validation progress.png\"))\n",
    "plt.show()\n",
    "plt.close()"
   ],
   "metadata": {
    "collapsed": false,
    "pycharm": {
     "name": "#%%\n"
    }
   }
  },
  {
   "cell_type": "code",
   "execution_count": 11,
   "outputs": [
    {
     "name": "stdout",
     "output_type": "stream",
     "text": [
      "45/45 [==============================] - 0s 4ms/step - loss: 0.1331 - sparse_categorical_accuracy: 0.9901\n",
      "****************************************************\n",
      "Test accuracy 0.9901130199432373\n",
      "Test loss 0.13311679661273956\n"
     ]
    },
    {
     "data": {
      "text/plain": "<Figure size 576x576 with 2 Axes>",
      "image/png": "[encoded data removed]"
     },
     "metadata": {
      "needs_background": "light"
     },
     "output_type": "display_data"
    }
   ],
   "source": [
    "# EVALUATION\n",
    "model = models.load_model(SAVED_BEST_MODEL)\n",
    "\n",
    "test_loss, test_acc = model.evaluate(x_test, y_test)\n",
    "print_line_divider()\n",
    "print(\"Test accuracy\", test_acc)\n",
    "print(\"Test loss\", test_loss)\n",
    "\n",
    "# Accuracy based on different labels\n",
    "y_pred = model.predict(x_test)\n",
    "y_pred = np.argmax(y_pred, axis=1)\n",
    "con_mat = tf.math.confusion_matrix(labels=y_test, predictions=y_pred).numpy()\n",
    "con_mat_norm = np.around(con_mat.astype('float') / con_mat.sum(axis=1)[:, np.newaxis], decimals=4)\n",
    "con_mat_df = pd.DataFrame(con_mat_norm, index=location_labels, columns=location_labels)\n",
    "figure = plt.figure(figsize=(8, 8))\n",
    "sns.heatmap(con_mat_df, annot=True, cmap=plt.cm.Blues)\n",
    "plt.tight_layout()\n",
    "plt.ylabel('True label')\n",
    "plt.xlabel('Predicted label')\n",
    "if log_writer.enabled:\n",
    "    plt.savefig(os.path.join(log_writer.base_folder, \"Accuracy.png\"))\n",
    "plt.show()\n",
    "plt.close()\n",
    "\n",
    "log_writer.write(\"Test evaluation\", line_divider=True)\n",
    "log_writer.write(\"Test accuracy: \" + str(test_acc))\n",
    "log_writer.write(\"Test loss: \" + str(test_loss))\n",
    "log_writer.close()"
   ],
   "metadata": {
    "collapsed": false,
    "pycharm": {
     "name": "#%%\n"
    }
   }
  },
  {
   "cell_type": "code",
   "execution_count": null,
   "outputs": [],
   "source": [],
   "metadata": {
    "collapsed": false,
    "pycharm": {
     "name": "#%%\n"
    }
   }
  }
 ],
 "metadata": {
  "kernelspec": {
   "display_name": "Python 3",
   "language": "python",
   "name": "python3"
  },
  "language_info": {
   "codemirror_mode": {
    "name": "ipython",
    "version": 2
   },
   "file_extension": ".py",
   "mimetype": "text/x-python",
   "name": "python",
   "nbconvert_exporter": "python",
   "pygments_lexer": "ipython2",
   "version": "2.7.6"
  }
 },
 "nbformat": 4,
 "nbformat_minor": 0
}