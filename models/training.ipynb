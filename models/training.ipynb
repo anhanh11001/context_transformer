{
 "cells": [
  {
   "cell_type": "code",
   "execution_count": 1,
   "outputs": [],
   "source": [
    "import os.path\n",
    "import sys\n",
    "\n",
    "from keras import callbacks, models\n",
    "from datahandler.constants import all_features, data_version, acc_features, tensorboard_dir, location_labels\n",
    "from datahandler.data_preprocessing import get_train_test_data, load_data_v3\n",
    "from models.log_writer import LogWriter\n",
    "from model.lstm import make_lstm_model_v1\n",
    "from model.transformer import make_transformer_model_v1\n",
    "from model.cnn import make_cnn_model_v1, make_cnn_model_v2\n",
    "import matplotlib.pyplot as plt\n",
    "from utils import print_line_divider\n",
    "import numpy as np\n",
    "import tensorflow as tf\n",
    "import pandas as pd\n",
    "import seaborn as sns\n",
    "from datahandler.data_preprocessing_from_jupyter import load_train_test_data_raw_normalized, load_train_test_data_added_features_normalized, load_train_test_data_added_features_pca\n",
    "from audio.audio import play_training_is_complete"
   ],
   "metadata": {
    "collapsed": false,
    "pycharm": {
     "name": "#%%\n"
    }
   }
  },
  {
   "cell_type": "code",
   "execution_count": 2,
   "outputs": [],
   "source": [
    "# LOGGING CONFIGURATION\n",
    "enabled_log = False\n",
    "enabled_tensor_board = False\n",
    "log_writer = LogWriter(enabled_log)"
   ],
   "metadata": {
    "collapsed": false,
    "pycharm": {
     "name": "#%%\n"
    }
   }
  },
  {
   "cell_type": "code",
   "execution_count": 3,
   "outputs": [
    {
     "name": "stdout",
     "output_type": "stream",
     "text": [
      "STARTING THE TRAINING PROCESS\n"
     ]
    }
   ],
   "source": [
    "# TRAINING CONFIGURATION\n",
    "print(\"STARTING THE TRAINING PROCESS\")\n",
    "SAVED_BEST_MODEL = \"model/best_model.h5\"\n",
    "window_time_in_seconds = 2\n",
    "window_size = 40\n",
    "epochs = 300\n",
    "batch_size = 32\n",
    "validation_split = 1 / 9\n",
    "optimizer = 'adam'\n",
    "loss_function = \"sparse_categorical_crossentropy\"\n",
    "supported_features = all_features"
   ],
   "metadata": {
    "collapsed": false,
    "pycharm": {
     "name": "#%%\n"
    }
   }
  },
  {
   "cell_type": "code",
   "execution_count": 4,
   "outputs": [],
   "source": [
    "log_writer.write(\"Configuration\", line_divider=True)\n",
    "log_writer.write(\n",
    "    f\"\"\"Window size: {window_size}\n",
    "Window time in second: ${window_time_in_seconds}\n",
    "Maximum number of epochs: ${epochs}\n",
    "Batch size: ${batch_size}\n",
    "Validation split: ${validation_split}\n",
    "Optimizer: ${optimizer}\n",
    "Loss function: ${loss_function}\n",
    "Features used for training: ${str(supported_features)}\"\"\"\n",
    ")"
   ],
   "metadata": {
    "collapsed": false,
    "pycharm": {
     "name": "#%%\n"
    }
   }
  },
  {
   "cell_type": "code",
   "execution_count": null,
   "outputs": [
    {
     "name": "stdout",
     "output_type": "stream",
     "text": [
      "****************************************************\n",
      "Preparing data...\n",
      "Loading from file: /Users/duc.letran/Desktop/FINAL PROJECT/context_transformer/data/v3/train/px4_datacollection.csv (1/24)\n",
      "Loading from file: /Users/duc.letran/Desktop/FINAL PROJECT/context_transformer/data/v3/train/ps1_datacollection.csv (2/24)\n",
      "Loading from file: /Users/duc.letran/Desktop/FINAL PROJECT/context_transformer/data/v3/train/tc4_datacollection.csv (3/24)\n",
      "Loading from file: /Users/duc.letran/Desktop/FINAL PROJECT/context_transformer/data/v3/train/ss3_datacollection.csv (4/24)\n",
      "Loading from file: /Users/duc.letran/Desktop/FINAL PROJECT/context_transformer/data/v3/train/ps2_datacollection.csv (5/24)\n",
      "Loading from file: /Users/duc.letran/Desktop/FINAL PROJECT/context_transformer/data/v3/train/op4_datacollection.csv (6/24)\n",
      "Loading from file: /Users/duc.letran/Desktop/FINAL PROJECT/context_transformer/data/v3/train/op2_datacollection.csv (7/24)\n",
      "Loading from file: /Users/duc.letran/Desktop/FINAL PROJECT/context_transformer/data/v3/train/ps4_datacollection.csv (8/24)\n"
     ]
    },
    {
     "ename": "KeyboardInterrupt",
     "evalue": "",
     "output_type": "error",
     "traceback": [
      "\u001B[0;31m---------------------------------------------------------------------------\u001B[0m",
      "\u001B[0;31mKeyboardInterrupt\u001B[0m                         Traceback (most recent call last)",
      "File \u001B[0;32mpandas/_libs/tslibs/timezones.pyx:268\u001B[0m, in \u001B[0;36mpandas._libs.tslibs.timezones.get_dst_info\u001B[0;34m()\u001B[0m\n",
      "\u001B[0;31mKeyboardInterrupt\u001B[0m: "
     ]
    },
    {
     "name": "stderr",
     "output_type": "stream",
     "text": [
      "Exception ignored in: 'pandas._libs.tslibs.conversion._localize_tso'\n",
      "Traceback (most recent call last):\n",
      "  File \"pandas/_libs/tslibs/timezones.pyx\", line 268, in pandas._libs.tslibs.timezones.get_dst_info\n",
      "KeyboardInterrupt: \n"
     ]
    }
   ],
   "source": [
    "# DATA Loader\n",
    "print_line_divider()\n",
    "print(\"Preparing data...\")\n",
    "# x_train, y_train, x_test, y_test = get_train_test_data(supported_features, window_time_in_seconds, window_size)\n",
    "# x_train, y_train, x_test, y_test = load_data_v3(\n",
    "#     features = supported_features,\n",
    "#     window_time_in_seconds = window_time_in_seconds,\n",
    "#     window_size = window_size\n",
    "# )\n",
    "x_train, y_train, x_test, y_test = load_train_test_data_added_features_normalized()\n",
    "print(\"Train data shape: \" + str(x_train.shape) + \" | Train label shape: \" + str(y_train.shape))\n",
    "print(\"Test data shape: \" + str(x_test.shape) + \" | Test label shape: \" + str(y_test.shape))\n",
    "print_line_divider()\n"
   ],
   "metadata": {
    "collapsed": false,
    "pycharm": {
     "name": "#%%\n"
    }
   }
  },
  {
   "cell_type": "code",
   "execution_count": null,
   "outputs": [],
   "source": [
    "log_writer.write(\"Data\", line_divider=True)\n",
    "log_writer.write(\"Data loaded from version \" + data_version)\n",
    "log_writer.write(\n",
    "    f\"\"\"Data training shape: ${x_train.shape}\n",
    "Data testing shape: ${x_test.shape}\"\"\"\n",
    ")"
   ],
   "metadata": {
    "collapsed": false,
    "pycharm": {
     "name": "#%%\n"
    }
   }
  },
  {
   "cell_type": "code",
   "execution_count": null,
   "outputs": [],
   "source": [
    "def check_distribution(labels_list, set_name):\n",
    "    label_count_dict = {}\n",
    "    for label_ind in labels_list:\n",
    "        if label_ind in label_count_dict.keys():\n",
    "            label_count_dict[label_ind] += 1\n",
    "        else:\n",
    "            label_count_dict[label_ind] = 1\n",
    "\n",
    "    print_line_divider()\n",
    "    print(\"Distribution for set \" + set_name + \"\\n\")\n",
    "    for key in label_count_dict:\n",
    "        key = int(key)\n",
    "        print(location_labels[key] + \" count is \" + str(label_count_dict[key]))\n",
    "\n",
    "\n",
    "check_distribution(y_train, \"Training set\")\n",
    "check_distribution(y_test, \"Testing set\")"
   ],
   "metadata": {
    "collapsed": false,
    "pycharm": {
     "name": "#%%\n"
    }
   }
  },
  {
   "cell_type": "code",
   "execution_count": null,
   "outputs": [],
   "source": [
    "if len(x_train.shape) == 2:\n",
    "    input_shape = (x_train.shape[1], 1)\n",
    "else:\n",
    "    input_shape = x_train.shape[1:]\n",
    "print(\"Input shape: \" + str(input_shape))"
   ],
   "metadata": {
    "collapsed": false,
    "pycharm": {
     "name": "#%%\n"
    }
   }
  },
  {
   "cell_type": "code",
   "execution_count": 50,
   "outputs": [
    {
     "name": "stdout",
     "output_type": "stream",
     "text": [
      "Model Summary:\n",
      "Model: \"model_2\"\n",
      "__________________________________________________________________________________________________\n",
      " Layer (type)                   Output Shape         Param #     Connected to                     \n",
      "==================================================================================================\n",
      " input_3 (InputLayer)           [(None, 40, 9)]      0           []                               \n",
      "                                                                                                  \n",
      " layer_normalization_4 (LayerNo  (None, 40, 9)       18          ['input_3[0][0]']                \n",
      " rmalization)                                                                                     \n",
      "                                                                                                  \n",
      " multi_head_attention_2 (MultiH  (None, 40, 9)       39945       ['layer_normalization_4[0][0]',  \n",
      " eadAttention)                                                    'layer_normalization_4[0][0]']  \n",
      "                                                                                                  \n",
      " dropout_8 (Dropout)            (None, 40, 9)        0           ['multi_head_attention_2[0][0]'] \n",
      "                                                                                                  \n",
      " tf.__operators__.add_4 (TFOpLa  (None, 40, 9)       0           ['dropout_8[0][0]',              \n",
      " mbda)                                                            'input_3[0][0]']                \n",
      "                                                                                                  \n",
      " layer_normalization_5 (LayerNo  (None, 40, 9)       18          ['tf.__operators__.add_4[0][0]'] \n",
      " rmalization)                                                                                     \n",
      "                                                                                                  \n",
      " conv1d_7 (Conv1D)              (None, 40, 4)        40          ['layer_normalization_5[0][0]']  \n",
      "                                                                                                  \n",
      " dropout_9 (Dropout)            (None, 40, 4)        0           ['conv1d_7[0][0]']               \n",
      "                                                                                                  \n",
      " conv1d_8 (Conv1D)              (None, 40, 9)        45          ['dropout_9[0][0]']              \n",
      "                                                                                                  \n",
      " tf.__operators__.add_5 (TFOpLa  (None, 40, 9)       0           ['conv1d_8[0][0]',               \n",
      " mbda)                                                            'tf.__operators__.add_4[0][0]'] \n",
      "                                                                                                  \n",
      " layer_normalization_6 (LayerNo  (None, 40, 9)       18          ['tf.__operators__.add_5[0][0]'] \n",
      " rmalization)                                                                                     \n",
      "                                                                                                  \n",
      " multi_head_attention_3 (MultiH  (None, 40, 9)       39945       ['layer_normalization_6[0][0]',  \n",
      " eadAttention)                                                    'layer_normalization_6[0][0]']  \n",
      "                                                                                                  \n",
      " dropout_10 (Dropout)           (None, 40, 9)        0           ['multi_head_attention_3[0][0]'] \n",
      "                                                                                                  \n",
      " tf.__operators__.add_6 (TFOpLa  (None, 40, 9)       0           ['dropout_10[0][0]',             \n",
      " mbda)                                                            'tf.__operators__.add_5[0][0]'] \n",
      "                                                                                                  \n",
      " layer_normalization_7 (LayerNo  (None, 40, 9)       18          ['tf.__operators__.add_6[0][0]'] \n",
      " rmalization)                                                                                     \n",
      "                                                                                                  \n",
      " conv1d_9 (Conv1D)              (None, 40, 4)        40          ['layer_normalization_7[0][0]']  \n",
      "                                                                                                  \n",
      " dropout_11 (Dropout)           (None, 40, 4)        0           ['conv1d_9[0][0]']               \n",
      "                                                                                                  \n",
      " conv1d_10 (Conv1D)             (None, 40, 9)        45          ['dropout_11[0][0]']             \n",
      "                                                                                                  \n",
      " tf.__operators__.add_7 (TFOpLa  (None, 40, 9)       0           ['conv1d_10[0][0]',              \n",
      " mbda)                                                            'tf.__operators__.add_6[0][0]'] \n",
      "                                                                                                  \n",
      " global_average_pooling1d_2 (Gl  (None, 40)          0           ['tf.__operators__.add_7[0][0]'] \n",
      " obalAveragePooling1D)                                                                            \n",
      "                                                                                                  \n",
      " dense_5 (Dense)                (None, 128)          5248        ['global_average_pooling1d_2[0][0\n",
      "                                                                 ]']                              \n",
      "                                                                                                  \n",
      " dropout_12 (Dropout)           (None, 128)          0           ['dense_5[0][0]']                \n",
      "                                                                                                  \n",
      " dense_6 (Dense)                (None, 5)            645         ['dropout_12[0][0]']             \n",
      "                                                                                                  \n",
      "==================================================================================================\n",
      "Total params: 86,025\n",
      "Trainable params: 86,025\n",
      "Non-trainable params: 0\n",
      "__________________________________________________________________________________________________\n",
      "****************************************************\n",
      "None\n"
     ]
    }
   ],
   "source": [
    "# SETTING UP THE MODEL\n",
    "# input_shape = x_train.shape[1:] # (window_size, len(supported_features))\n",
    "# model_name, model = make_cnn_model_v1(input_shape=input_shape)\n",
    "# model_name, model = make_lstm_model_v1(input_shape=input_shape)\n",
    "model_name, model = make_transformer_model_v1(\n",
    "    input_shape=input_shape,\n",
    "    head_size=256,\n",
    "    num_heads=4,\n",
    "    ff_dim=4,\n",
    "    num_transformer_blocks=2,\n",
    "    mlp_units=[128],\n",
    "    mlp_dropout=0.4,\n",
    "    dropout=0.25,\n",
    ")\n",
    "print(\"Model Summary:\")\n",
    "stringlist = []\n",
    "model.summary(print_fn=lambda x: stringlist.append(x))\n",
    "short_model_summary = \"\\n\".join(stringlist)\n",
    "print(short_model_summary)\n",
    "print(print_line_divider())"
   ],
   "metadata": {
    "collapsed": false,
    "pycharm": {
     "name": "#%%\n"
    }
   }
  },
  {
   "cell_type": "code",
   "execution_count": 51,
   "outputs": [],
   "source": [
    "# LOGGING THE MODEL\n",
    "log_writer.write(\"Model\", line_divider=True)\n",
    "log_writer.write(\"Model name: \" + model_name)\n",
    "log_writer.write(short_model_summary)"
   ],
   "metadata": {
    "collapsed": false,
    "pycharm": {
     "name": "#%%\n"
    }
   }
  },
  {
   "cell_type": "code",
   "execution_count": 52,
   "outputs": [],
   "source": [
    "# MODELS CALLBACK AND SETUP\n",
    "callback_list = [\n",
    "    callbacks.ModelCheckpoint(SAVED_BEST_MODEL, save_best_only=True, monitor=\"val_loss\"),\n",
    "    callbacks.ReduceLROnPlateau(monitor=\"val_loss\", factor=0.5, patience=50, min_lr=0.0001),\n",
    "    callbacks.EarlyStopping(monitor=\"val_loss\", patience=100, verbose=1)\n",
    "]\n",
    "if enabled_tensor_board:\n",
    "    callback_list.append(callbacks.TensorBoard(log_dir=tensorboard_dir, histogram_freq=1))\n",
    "if log_writer.enabled:\n",
    "    callback_list.append(\n",
    "        callbacks.ModelCheckpoint(log_writer.base_folder + \"/model.h5\", save_best_only=True, monitor=\"val_loss\")\n",
    "    )\n",
    "model.compile(\n",
    "    optimizer=optimizer,\n",
    "    loss=loss_function,\n",
    "    metrics=[\"sparse_categorical_accuracy\"],\n",
    ")"
   ],
   "metadata": {
    "collapsed": false,
    "pycharm": {
     "name": "#%%\n"
    }
   }
  },
  {
   "cell_type": "code",
   "execution_count": 53,
   "outputs": [
    {
     "name": "stdout",
     "output_type": "stream",
     "text": [
      "****************************************************\n",
      "Starting to train...\n",
      "Epoch 1/300\n",
      "162/162 [==============================] - 21s 120ms/step - loss: 1.1155 - sparse_categorical_accuracy: 0.4371 - val_loss: 1.3792 - val_sparse_categorical_accuracy: 0.3704 - lr: 0.0010\n",
      "Epoch 2/300\n",
      "162/162 [==============================] - 18s 110ms/step - loss: 0.8433 - sparse_categorical_accuracy: 0.6100 - val_loss: 1.6080 - val_sparse_categorical_accuracy: 0.4753 - lr: 0.0010\n",
      "Epoch 3/300\n",
      "162/162 [==============================] - 18s 113ms/step - loss: 0.6236 - sparse_categorical_accuracy: 0.7350 - val_loss: 1.8541 - val_sparse_categorical_accuracy: 0.5231 - lr: 0.0010\n",
      "Epoch 4/300\n",
      "162/162 [==============================] - 18s 110ms/step - loss: 0.4783 - sparse_categorical_accuracy: 0.8159 - val_loss: 1.1186 - val_sparse_categorical_accuracy: 0.5926 - lr: 0.0010\n",
      "Epoch 5/300\n",
      "162/162 [==============================] - 18s 111ms/step - loss: 0.3561 - sparse_categorical_accuracy: 0.8705 - val_loss: 1.9360 - val_sparse_categorical_accuracy: 0.5278 - lr: 0.0010\n",
      "Epoch 6/300\n",
      "162/162 [==============================] - 18s 113ms/step - loss: 0.2979 - sparse_categorical_accuracy: 0.8904 - val_loss: 1.8467 - val_sparse_categorical_accuracy: 0.6127 - lr: 0.0010\n",
      "Epoch 7/300\n",
      "162/162 [==============================] - 18s 110ms/step - loss: 0.2444 - sparse_categorical_accuracy: 0.9149 - val_loss: 2.5983 - val_sparse_categorical_accuracy: 0.5278 - lr: 0.0010\n",
      "Epoch 8/300\n",
      "162/162 [==============================] - 17s 107ms/step - loss: 0.2130 - sparse_categorical_accuracy: 0.9267 - val_loss: 1.8043 - val_sparse_categorical_accuracy: 0.5586 - lr: 0.0010\n",
      "Epoch 9/300\n",
      "162/162 [==============================] - 17s 108ms/step - loss: 0.2110 - sparse_categorical_accuracy: 0.9199 - val_loss: 2.5648 - val_sparse_categorical_accuracy: 0.5972 - lr: 0.0010\n",
      "Epoch 10/300\n",
      "162/162 [==============================] - 18s 111ms/step - loss: 0.1467 - sparse_categorical_accuracy: 0.9543 - val_loss: 3.8200 - val_sparse_categorical_accuracy: 0.5710 - lr: 0.0010\n",
      "Epoch 11/300\n",
      "162/162 [==============================] - 18s 108ms/step - loss: 0.1533 - sparse_categorical_accuracy: 0.9479 - val_loss: 1.9984 - val_sparse_categorical_accuracy: 0.6111 - lr: 0.0010\n",
      "Epoch 12/300\n",
      "162/162 [==============================] - 17s 104ms/step - loss: 0.1278 - sparse_categorical_accuracy: 0.9581 - val_loss: 3.2200 - val_sparse_categorical_accuracy: 0.5525 - lr: 0.0010\n",
      "Epoch 13/300\n",
      "162/162 [==============================] - 17s 105ms/step - loss: 0.1139 - sparse_categorical_accuracy: 0.9593 - val_loss: 3.2372 - val_sparse_categorical_accuracy: 0.6003 - lr: 0.0010\n",
      "Epoch 14/300\n",
      "162/162 [==============================] - 17s 105ms/step - loss: 0.1306 - sparse_categorical_accuracy: 0.9516 - val_loss: 3.0133 - val_sparse_categorical_accuracy: 0.6003 - lr: 0.0010\n",
      "Epoch 15/300\n",
      "162/162 [==============================] - 17s 103ms/step - loss: 0.1342 - sparse_categorical_accuracy: 0.9541 - val_loss: 2.7626 - val_sparse_categorical_accuracy: 0.5725 - lr: 0.0010\n",
      "Epoch 16/300\n",
      "162/162 [==============================] - 17s 105ms/step - loss: 0.1161 - sparse_categorical_accuracy: 0.9606 - val_loss: 2.3271 - val_sparse_categorical_accuracy: 0.6049 - lr: 0.0010\n",
      "Epoch 17/300\n",
      "162/162 [==============================] - 18s 109ms/step - loss: 0.0997 - sparse_categorical_accuracy: 0.9631 - val_loss: 3.4741 - val_sparse_categorical_accuracy: 0.6034 - lr: 0.0010\n",
      "Epoch 18/300\n",
      "162/162 [==============================] - 18s 111ms/step - loss: 0.0929 - sparse_categorical_accuracy: 0.9657 - val_loss: 2.2512 - val_sparse_categorical_accuracy: 0.6481 - lr: 0.0010\n",
      "Epoch 19/300\n",
      "162/162 [==============================] - 18s 110ms/step - loss: 0.1113 - sparse_categorical_accuracy: 0.9606 - val_loss: 3.0895 - val_sparse_categorical_accuracy: 0.5741 - lr: 0.0010\n",
      "Epoch 20/300\n",
      "162/162 [==============================] - 17s 105ms/step - loss: 0.0936 - sparse_categorical_accuracy: 0.9699 - val_loss: 3.1768 - val_sparse_categorical_accuracy: 0.5957 - lr: 0.0010\n",
      "Epoch 21/300\n",
      "162/162 [==============================] - 17s 103ms/step - loss: 0.0811 - sparse_categorical_accuracy: 0.9739 - val_loss: 3.5008 - val_sparse_categorical_accuracy: 0.6127 - lr: 0.0010\n",
      "Epoch 22/300\n",
      "162/162 [==============================] - 17s 108ms/step - loss: 0.1043 - sparse_categorical_accuracy: 0.9631 - val_loss: 3.5336 - val_sparse_categorical_accuracy: 0.6219 - lr: 0.0010\n",
      "Epoch 23/300\n",
      "162/162 [==============================] - 18s 110ms/step - loss: 0.0525 - sparse_categorical_accuracy: 0.9826 - val_loss: 3.7087 - val_sparse_categorical_accuracy: 0.5864 - lr: 0.0010\n",
      "Epoch 24/300\n",
      "162/162 [==============================] - 18s 110ms/step - loss: 0.0738 - sparse_categorical_accuracy: 0.9749 - val_loss: 2.5824 - val_sparse_categorical_accuracy: 0.6281 - lr: 0.0010\n",
      "Epoch 25/300\n",
      "162/162 [==============================] - 17s 107ms/step - loss: 0.0781 - sparse_categorical_accuracy: 0.9718 - val_loss: 2.6344 - val_sparse_categorical_accuracy: 0.6435 - lr: 0.0010\n",
      "Epoch 26/300\n",
      "162/162 [==============================] - 17s 103ms/step - loss: 0.0581 - sparse_categorical_accuracy: 0.9801 - val_loss: 2.0439 - val_sparse_categorical_accuracy: 0.6728 - lr: 0.0010\n",
      "Epoch 27/300\n",
      "162/162 [==============================] - 17s 107ms/step - loss: 0.0603 - sparse_categorical_accuracy: 0.9797 - val_loss: 3.8116 - val_sparse_categorical_accuracy: 0.6281 - lr: 0.0010\n",
      "Epoch 28/300\n",
      "162/162 [==============================] - 18s 109ms/step - loss: 0.0743 - sparse_categorical_accuracy: 0.9755 - val_loss: 3.7923 - val_sparse_categorical_accuracy: 0.6420 - lr: 0.0010\n",
      "Epoch 29/300\n",
      "162/162 [==============================] - 18s 109ms/step - loss: 0.0531 - sparse_categorical_accuracy: 0.9809 - val_loss: 3.9626 - val_sparse_categorical_accuracy: 0.6204 - lr: 0.0010\n",
      "Epoch 30/300\n",
      "162/162 [==============================] - 17s 106ms/step - loss: 0.0448 - sparse_categorical_accuracy: 0.9840 - val_loss: 3.7542 - val_sparse_categorical_accuracy: 0.6559 - lr: 0.0010\n",
      "Epoch 31/300\n",
      "162/162 [==============================] - 17s 104ms/step - loss: 0.0573 - sparse_categorical_accuracy: 0.9815 - val_loss: 3.2570 - val_sparse_categorical_accuracy: 0.7022 - lr: 0.0010\n",
      "Epoch 32/300\n",
      "162/162 [==============================] - 17s 106ms/step - loss: 0.0822 - sparse_categorical_accuracy: 0.9772 - val_loss: 3.5919 - val_sparse_categorical_accuracy: 0.6605 - lr: 0.0010\n",
      "Epoch 33/300\n",
      "162/162 [==============================] - 18s 111ms/step - loss: 0.0649 - sparse_categorical_accuracy: 0.9819 - val_loss: 2.5967 - val_sparse_categorical_accuracy: 0.7515 - lr: 0.0010\n",
      "Epoch 34/300\n",
      "162/162 [==============================] - 18s 109ms/step - loss: 0.0594 - sparse_categorical_accuracy: 0.9809 - val_loss: 3.6813 - val_sparse_categorical_accuracy: 0.6698 - lr: 0.0010\n",
      "Epoch 35/300\n",
      "162/162 [==============================] - 17s 107ms/step - loss: 0.0462 - sparse_categorical_accuracy: 0.9869 - val_loss: 5.7606 - val_sparse_categorical_accuracy: 0.6806 - lr: 0.0010\n",
      "Epoch 36/300\n",
      "162/162 [==============================] - 17s 105ms/step - loss: 0.0552 - sparse_categorical_accuracy: 0.9807 - val_loss: 4.9409 - val_sparse_categorical_accuracy: 0.6620 - lr: 0.0010\n",
      "Epoch 37/300\n",
      "162/162 [==============================] - 17s 107ms/step - loss: 0.0533 - sparse_categorical_accuracy: 0.9826 - val_loss: 5.4605 - val_sparse_categorical_accuracy: 0.6296 - lr: 0.0010\n",
      "Epoch 38/300\n",
      "162/162 [==============================] - 17s 106ms/step - loss: 0.0402 - sparse_categorical_accuracy: 0.9861 - val_loss: 5.2535 - val_sparse_categorical_accuracy: 0.6389 - lr: 0.0010\n",
      "Epoch 39/300\n",
      "162/162 [==============================] - 18s 111ms/step - loss: 0.0273 - sparse_categorical_accuracy: 0.9911 - val_loss: 4.9872 - val_sparse_categorical_accuracy: 0.6435 - lr: 0.0010\n",
      "Epoch 40/300\n",
      "162/162 [==============================] - 17s 105ms/step - loss: 0.0402 - sparse_categorical_accuracy: 0.9873 - val_loss: 3.4601 - val_sparse_categorical_accuracy: 0.7006 - lr: 0.0010\n",
      "Epoch 41/300\n",
      "162/162 [==============================] - 18s 110ms/step - loss: 0.0601 - sparse_categorical_accuracy: 0.9826 - val_loss: 4.7992 - val_sparse_categorical_accuracy: 0.6528 - lr: 0.0010\n",
      "Epoch 42/300\n",
      "162/162 [==============================] - 17s 107ms/step - loss: 0.0425 - sparse_categorical_accuracy: 0.9865 - val_loss: 1.5376 - val_sparse_categorical_accuracy: 0.7330 - lr: 0.0010\n",
      "Epoch 43/300\n",
      "162/162 [==============================] - 18s 110ms/step - loss: 0.0546 - sparse_categorical_accuracy: 0.9832 - val_loss: 3.1644 - val_sparse_categorical_accuracy: 0.6991 - lr: 0.0010\n",
      "Epoch 44/300\n",
      "162/162 [==============================] - 17s 107ms/step - loss: 0.0325 - sparse_categorical_accuracy: 0.9894 - val_loss: 3.2979 - val_sparse_categorical_accuracy: 0.7778 - lr: 0.0010\n",
      "Epoch 45/300\n",
      "162/162 [==============================] - 17s 106ms/step - loss: 0.0485 - sparse_categorical_accuracy: 0.9834 - val_loss: 4.1681 - val_sparse_categorical_accuracy: 0.6821 - lr: 0.0010\n",
      "Epoch 46/300\n",
      "162/162 [==============================] - 17s 106ms/step - loss: 0.0549 - sparse_categorical_accuracy: 0.9824 - val_loss: 5.3683 - val_sparse_categorical_accuracy: 0.7407 - lr: 0.0010\n",
      "Epoch 47/300\n",
      "162/162 [==============================] - 17s 104ms/step - loss: 0.0545 - sparse_categorical_accuracy: 0.9844 - val_loss: 3.2618 - val_sparse_categorical_accuracy: 0.6867 - lr: 0.0010\n",
      "Epoch 48/300\n",
      "162/162 [==============================] - 17s 104ms/step - loss: 0.0354 - sparse_categorical_accuracy: 0.9888 - val_loss: 3.9623 - val_sparse_categorical_accuracy: 0.7253 - lr: 0.0010\n",
      "Epoch 49/300\n",
      "162/162 [==============================] - 17s 106ms/step - loss: 0.0304 - sparse_categorical_accuracy: 0.9902 - val_loss: 6.2967 - val_sparse_categorical_accuracy: 0.6512 - lr: 0.0010\n",
      "Epoch 50/300\n",
      "162/162 [==============================] - 18s 112ms/step - loss: 0.0244 - sparse_categorical_accuracy: 0.9932 - val_loss: 5.5102 - val_sparse_categorical_accuracy: 0.6929 - lr: 0.0010\n",
      "Epoch 51/300\n",
      "162/162 [==============================] - 18s 112ms/step - loss: 0.0313 - sparse_categorical_accuracy: 0.9921 - val_loss: 3.7798 - val_sparse_categorical_accuracy: 0.7083 - lr: 0.0010\n",
      "Epoch 52/300\n",
      "162/162 [==============================] - 18s 109ms/step - loss: 0.0430 - sparse_categorical_accuracy: 0.9867 - val_loss: 2.0450 - val_sparse_categorical_accuracy: 0.7052 - lr: 0.0010\n",
      "Epoch 53/300\n",
      "162/162 [==============================] - 18s 109ms/step - loss: 0.0589 - sparse_categorical_accuracy: 0.9830 - val_loss: 5.7483 - val_sparse_categorical_accuracy: 0.6651 - lr: 0.0010\n",
      "Epoch 54/300\n",
      "162/162 [==============================] - 18s 109ms/step - loss: 0.0196 - sparse_categorical_accuracy: 0.9942 - val_loss: 4.5793 - val_sparse_categorical_accuracy: 0.6605 - lr: 0.0010\n",
      "Epoch 55/300\n",
      "162/162 [==============================] - 18s 111ms/step - loss: 0.0193 - sparse_categorical_accuracy: 0.9934 - val_loss: 5.0204 - val_sparse_categorical_accuracy: 0.6682 - lr: 5.0000e-04\n",
      "Epoch 56/300\n",
      "162/162 [==============================] - 18s 111ms/step - loss: 0.0160 - sparse_categorical_accuracy: 0.9950 - val_loss: 3.6286 - val_sparse_categorical_accuracy: 0.6775 - lr: 5.0000e-04\n",
      "Epoch 57/300\n",
      "162/162 [==============================] - 19s 116ms/step - loss: 0.0217 - sparse_categorical_accuracy: 0.9932 - val_loss: 4.0898 - val_sparse_categorical_accuracy: 0.6806 - lr: 5.0000e-04\n",
      "Epoch 58/300\n",
      "162/162 [==============================] - 18s 113ms/step - loss: 0.0357 - sparse_categorical_accuracy: 0.9900 - val_loss: 3.4093 - val_sparse_categorical_accuracy: 0.7191 - lr: 5.0000e-04\n",
      "Epoch 59/300\n",
      "162/162 [==============================] - 17s 106ms/step - loss: 0.0301 - sparse_categorical_accuracy: 0.9936 - val_loss: 3.3729 - val_sparse_categorical_accuracy: 0.7361 - lr: 5.0000e-04\n",
      "Epoch 60/300\n",
      "162/162 [==============================] - 19s 116ms/step - loss: 0.0131 - sparse_categorical_accuracy: 0.9963 - val_loss: 3.7708 - val_sparse_categorical_accuracy: 0.6975 - lr: 5.0000e-04\n",
      "Epoch 61/300\n",
      "162/162 [==============================] - 19s 115ms/step - loss: 0.0177 - sparse_categorical_accuracy: 0.9942 - val_loss: 5.0524 - val_sparse_categorical_accuracy: 0.7407 - lr: 5.0000e-04\n",
      "Epoch 62/300\n",
      "162/162 [==============================] - 19s 116ms/step - loss: 0.0106 - sparse_categorical_accuracy: 0.9967 - val_loss: 5.8668 - val_sparse_categorical_accuracy: 0.7145 - lr: 5.0000e-04\n",
      "Epoch 63/300\n",
      "162/162 [==============================] - 18s 110ms/step - loss: 0.0141 - sparse_categorical_accuracy: 0.9963 - val_loss: 4.3260 - val_sparse_categorical_accuracy: 0.7346 - lr: 5.0000e-04\n",
      "Epoch 64/300\n",
      "162/162 [==============================] - 18s 113ms/step - loss: 0.0173 - sparse_categorical_accuracy: 0.9948 - val_loss: 4.8324 - val_sparse_categorical_accuracy: 0.7238 - lr: 5.0000e-04\n",
      "Epoch 65/300\n",
      "162/162 [==============================] - 19s 117ms/step - loss: 0.0116 - sparse_categorical_accuracy: 0.9967 - val_loss: 5.3943 - val_sparse_categorical_accuracy: 0.7191 - lr: 5.0000e-04\n",
      "Epoch 66/300\n",
      "162/162 [==============================] - 18s 114ms/step - loss: 0.0116 - sparse_categorical_accuracy: 0.9961 - val_loss: 4.2158 - val_sparse_categorical_accuracy: 0.6728 - lr: 5.0000e-04\n",
      "Epoch 67/300\n",
      "162/162 [==============================] - 19s 120ms/step - loss: 0.0142 - sparse_categorical_accuracy: 0.9956 - val_loss: 5.5194 - val_sparse_categorical_accuracy: 0.7176 - lr: 5.0000e-04\n",
      "Epoch 68/300\n",
      "162/162 [==============================] - 19s 118ms/step - loss: 0.0151 - sparse_categorical_accuracy: 0.9956 - val_loss: 4.8029 - val_sparse_categorical_accuracy: 0.7454 - lr: 5.0000e-04\n",
      "Epoch 69/300\n",
      "162/162 [==============================] - 19s 120ms/step - loss: 0.0138 - sparse_categorical_accuracy: 0.9959 - val_loss: 5.9016 - val_sparse_categorical_accuracy: 0.7068 - lr: 5.0000e-04\n",
      "Epoch 70/300\n",
      "162/162 [==============================] - 19s 118ms/step - loss: 0.0091 - sparse_categorical_accuracy: 0.9969 - val_loss: 5.5749 - val_sparse_categorical_accuracy: 0.7222 - lr: 5.0000e-04\n",
      "Epoch 71/300\n",
      "162/162 [==============================] - 19s 117ms/step - loss: 0.0120 - sparse_categorical_accuracy: 0.9973 - val_loss: 7.2455 - val_sparse_categorical_accuracy: 0.6898 - lr: 5.0000e-04\n",
      "Epoch 72/300\n",
      "162/162 [==============================] - 20s 121ms/step - loss: 0.0174 - sparse_categorical_accuracy: 0.9936 - val_loss: 5.5064 - val_sparse_categorical_accuracy: 0.7515 - lr: 5.0000e-04\n",
      "Epoch 73/300\n",
      "162/162 [==============================] - 19s 114ms/step - loss: 0.0178 - sparse_categorical_accuracy: 0.9948 - val_loss: 6.0490 - val_sparse_categorical_accuracy: 0.7191 - lr: 5.0000e-04\n",
      "Epoch 74/300\n",
      "162/162 [==============================] - 18s 110ms/step - loss: 0.0179 - sparse_categorical_accuracy: 0.9934 - val_loss: 6.5961 - val_sparse_categorical_accuracy: 0.6883 - lr: 5.0000e-04\n",
      "Epoch 75/300\n",
      "162/162 [==============================] - 20s 122ms/step - loss: 0.0140 - sparse_categorical_accuracy: 0.9956 - val_loss: 4.7443 - val_sparse_categorical_accuracy: 0.6312 - lr: 5.0000e-04\n",
      "Epoch 76/300\n",
      "162/162 [==============================] - 20s 121ms/step - loss: 0.0078 - sparse_categorical_accuracy: 0.9977 - val_loss: 4.7748 - val_sparse_categorical_accuracy: 0.6806 - lr: 5.0000e-04\n",
      "Epoch 77/300\n",
      "162/162 [==============================] - 19s 116ms/step - loss: 0.0159 - sparse_categorical_accuracy: 0.9946 - val_loss: 4.5839 - val_sparse_categorical_accuracy: 0.7546 - lr: 5.0000e-04\n",
      "Epoch 78/300\n",
      "162/162 [==============================] - 19s 116ms/step - loss: 0.0100 - sparse_categorical_accuracy: 0.9969 - val_loss: 5.2034 - val_sparse_categorical_accuracy: 0.7562 - lr: 5.0000e-04\n",
      "Epoch 79/300\n",
      "162/162 [==============================] - 19s 115ms/step - loss: 0.0074 - sparse_categorical_accuracy: 0.9979 - val_loss: 6.8473 - val_sparse_categorical_accuracy: 0.7438 - lr: 5.0000e-04\n",
      "Epoch 80/300\n",
      "162/162 [==============================] - 19s 119ms/step - loss: 0.0116 - sparse_categorical_accuracy: 0.9967 - val_loss: 7.0065 - val_sparse_categorical_accuracy: 0.6991 - lr: 5.0000e-04\n",
      "Epoch 81/300\n",
      "162/162 [==============================] - 20s 126ms/step - loss: 0.0136 - sparse_categorical_accuracy: 0.9956 - val_loss: 6.3897 - val_sparse_categorical_accuracy: 0.7222 - lr: 5.0000e-04\n",
      "Epoch 82/300\n",
      "162/162 [==============================] - 19s 118ms/step - loss: 0.0166 - sparse_categorical_accuracy: 0.9948 - val_loss: 4.6136 - val_sparse_categorical_accuracy: 0.7238 - lr: 5.0000e-04\n",
      "Epoch 83/300\n",
      "162/162 [==============================] - 19s 116ms/step - loss: 0.0184 - sparse_categorical_accuracy: 0.9958 - val_loss: 3.2372 - val_sparse_categorical_accuracy: 0.7793 - lr: 5.0000e-04\n",
      "Epoch 84/300\n",
      "162/162 [==============================] - 20s 120ms/step - loss: 0.0109 - sparse_categorical_accuracy: 0.9956 - val_loss: 5.4870 - val_sparse_categorical_accuracy: 0.6034 - lr: 5.0000e-04\n",
      "Epoch 85/300\n",
      "162/162 [==============================] - 19s 116ms/step - loss: 0.0093 - sparse_categorical_accuracy: 0.9971 - val_loss: 4.7669 - val_sparse_categorical_accuracy: 0.6975 - lr: 5.0000e-04\n",
      "Epoch 86/300\n",
      "162/162 [==============================] - 19s 119ms/step - loss: 0.0146 - sparse_categorical_accuracy: 0.9971 - val_loss: 5.7040 - val_sparse_categorical_accuracy: 0.6157 - lr: 5.0000e-04\n",
      "Epoch 87/300\n",
      "162/162 [==============================] - 20s 123ms/step - loss: 0.0176 - sparse_categorical_accuracy: 0.9948 - val_loss: 3.2570 - val_sparse_categorical_accuracy: 0.7531 - lr: 5.0000e-04\n",
      "Epoch 88/300\n",
      "162/162 [==============================] - 20s 121ms/step - loss: 0.0160 - sparse_categorical_accuracy: 0.9946 - val_loss: 3.7951 - val_sparse_categorical_accuracy: 0.6914 - lr: 5.0000e-04\n",
      "Epoch 89/300\n",
      "162/162 [==============================] - 19s 116ms/step - loss: 0.0124 - sparse_categorical_accuracy: 0.9956 - val_loss: 5.2925 - val_sparse_categorical_accuracy: 0.7901 - lr: 5.0000e-04\n",
      "Epoch 90/300\n",
      "162/162 [==============================] - 18s 109ms/step - loss: 0.0087 - sparse_categorical_accuracy: 0.9961 - val_loss: 5.5011 - val_sparse_categorical_accuracy: 0.6389 - lr: 5.0000e-04\n",
      "Epoch 91/300\n",
      "162/162 [==============================] - 18s 110ms/step - loss: 0.0089 - sparse_categorical_accuracy: 0.9973 - val_loss: 6.5849 - val_sparse_categorical_accuracy: 0.7392 - lr: 5.0000e-04\n",
      "Epoch 92/300\n",
      "162/162 [==============================] - 18s 111ms/step - loss: 0.0163 - sparse_categorical_accuracy: 0.9958 - val_loss: 5.4103 - val_sparse_categorical_accuracy: 0.7793 - lr: 5.0000e-04\n",
      "Epoch 93/300\n",
      "162/162 [==============================] - 19s 117ms/step - loss: 0.0143 - sparse_categorical_accuracy: 0.9967 - val_loss: 4.6293 - val_sparse_categorical_accuracy: 0.7731 - lr: 5.0000e-04\n",
      "Epoch 94/300\n",
      "162/162 [==============================] - 19s 117ms/step - loss: 0.0161 - sparse_categorical_accuracy: 0.9961 - val_loss: 4.9412 - val_sparse_categorical_accuracy: 0.7531 - lr: 5.0000e-04\n",
      "Epoch 95/300\n",
      "162/162 [==============================] - 19s 117ms/step - loss: 0.0113 - sparse_categorical_accuracy: 0.9961 - val_loss: 5.0930 - val_sparse_categorical_accuracy: 0.7222 - lr: 5.0000e-04\n",
      "Epoch 96/300\n",
      "162/162 [==============================] - 19s 116ms/step - loss: 0.0089 - sparse_categorical_accuracy: 0.9971 - val_loss: 4.3228 - val_sparse_categorical_accuracy: 0.4583 - lr: 5.0000e-04\n",
      "Epoch 97/300\n",
      "162/162 [==============================] - 18s 111ms/step - loss: 0.0088 - sparse_categorical_accuracy: 0.9969 - val_loss: 5.5182 - val_sparse_categorical_accuracy: 0.7222 - lr: 5.0000e-04\n",
      "Epoch 98/300\n",
      "162/162 [==============================] - 18s 112ms/step - loss: 0.0039 - sparse_categorical_accuracy: 0.9992 - val_loss: 5.7580 - val_sparse_categorical_accuracy: 0.7299 - lr: 5.0000e-04\n",
      "Epoch 99/300\n",
      "162/162 [==============================] - 18s 111ms/step - loss: 0.0133 - sparse_categorical_accuracy: 0.9959 - val_loss: 6.0320 - val_sparse_categorical_accuracy: 0.7346 - lr: 5.0000e-04\n",
      "Epoch 100/300\n",
      "162/162 [==============================] - 19s 117ms/step - loss: 0.0059 - sparse_categorical_accuracy: 0.9981 - val_loss: 6.0145 - val_sparse_categorical_accuracy: 0.7855 - lr: 5.0000e-04\n",
      "Epoch 101/300\n",
      "162/162 [==============================] - 19s 116ms/step - loss: 0.0178 - sparse_categorical_accuracy: 0.9942 - val_loss: 4.9270 - val_sparse_categorical_accuracy: 0.7994 - lr: 5.0000e-04\n",
      "Epoch 102/300\n",
      "162/162 [==============================] - 20s 121ms/step - loss: 0.0094 - sparse_categorical_accuracy: 0.9975 - val_loss: 5.5858 - val_sparse_categorical_accuracy: 0.7485 - lr: 5.0000e-04\n",
      "Epoch 103/300\n",
      "162/162 [==============================] - 20s 121ms/step - loss: 0.0078 - sparse_categorical_accuracy: 0.9977 - val_loss: 7.2304 - val_sparse_categorical_accuracy: 0.7222 - lr: 5.0000e-04\n",
      "Epoch 104/300\n",
      "162/162 [==============================] - 19s 119ms/step - loss: 0.0139 - sparse_categorical_accuracy: 0.9952 - val_loss: 5.4469 - val_sparse_categorical_accuracy: 0.7593 - lr: 5.0000e-04\n",
      "Epoch 104: early stopping\n",
      "Highest validation accuracy:  0.7993826866149902\n"
     ]
    },
    {
     "name": "stderr",
     "output_type": "stream",
     "text": [
      "Input #0, wav, from '/var/folders/ph/8yv0q18n4mb1439tnf3rzcf40000gp/T/tmp1vjesrre.wav':\n",
      "  Duration: 00:00:02.27, bitrate: 705 kb/s\n",
      "  Stream #0:0: Audio: pcm_s16le ([1][0][0][0] / 0x0001), 44100 Hz, 1 channels, s16, 705 kb/s\n",
      "   2.11 M-A:  0.000 fd=   0 aq=    0KB vq=    0KB sq=    0B f=0/0   \r"
     ]
    },
    {
     "name": "stdout",
     "output_type": "stream",
     "text": [
      "\n"
     ]
    },
    {
     "name": "stderr",
     "output_type": "stream",
     "text": [
      "   2.18 M-A:  0.000 fd=   0 aq=    0KB vq=    0KB sq=    0B f=0/0   \r"
     ]
    }
   ],
   "source": [
    "# TRAINING\n",
    "print_line_divider()\n",
    "print(\"Starting to train...\")\n",
    "history = model.fit(\n",
    "    x_train,\n",
    "    y_train,\n",
    "    batch_size=batch_size,\n",
    "    epochs=epochs,\n",
    "    callbacks=callback_list,\n",
    "    validation_split=validation_split,\n",
    "    verbose=1,\n",
    "    shuffle=True\n",
    ")\n",
    "print(\"Highest validation accuracy: \", max(history.history['val_sparse_categorical_accuracy']))\n",
    "log_writer.write(\"Result\", line_divider=True)\n",
    "log_writer.write(\"Highest validation accuracy: \" + str(max(history.history['val_sparse_categorical_accuracy'])))\n",
    "play_training_is_complete()"
   ],
   "metadata": {
    "collapsed": false,
    "pycharm": {
     "name": "#%%\n"
    }
   }
  },
  {
   "cell_type": "code",
   "execution_count": 54,
   "outputs": [],
   "source": [
    "if log_writer.enabled:\n",
    "    model.save(log_writer.base_folder + \"/model_last.h5\")"
   ],
   "metadata": {
    "collapsed": false,
    "pycharm": {
     "name": "#%%\n"
    }
   }
  },
  {
   "cell_type": "code",
   "execution_count": 55,
   "outputs": [
    {
     "data": {
      "text/plain": "<Figure size 432x288 with 1 Axes>",
      "image/png": "[encoded data removed]"
     },
     "metadata": {
      "needs_background": "light"
     },
     "output_type": "display_data"
    }
   ],
   "source": [
    "# PLOTTING\n",
    "metric = \"sparse_categorical_accuracy\"\n",
    "plt.figure()\n",
    "plt.plot(history.history[metric])\n",
    "plt.plot(history.history[\"val_\" + metric])\n",
    "plt.title(\"model \" + model_name + \" :\" + metric)\n",
    "plt.ylabel(metric, fontsize=\"large\")\n",
    "plt.xlabel(\"epoch\", fontsize=\"large\")\n",
    "plt.legend([\"train\", \"val\"], loc=\"best\")\n",
    "if log_writer.enabled:\n",
    "    plt.savefig(os.path.join(log_writer.base_folder, \"Validation progress.png\"))\n",
    "plt.show()\n",
    "plt.close()"
   ],
   "metadata": {
    "collapsed": false,
    "pycharm": {
     "name": "#%%\n"
    }
   }
  },
  {
   "cell_type": "code",
   "execution_count": 56,
   "outputs": [
    {
     "name": "stdout",
     "output_type": "stream",
     "text": [
      "43/43 [==============================] - 3s 54ms/step - loss: 0.7933 - sparse_categorical_accuracy: 0.6413\n",
      "****************************************************\n",
      "Test accuracy 0.6412884593009949\n",
      "Test loss 0.793317973613739\n"
     ]
    },
    {
     "data": {
      "text/plain": "<Figure size 576x576 with 2 Axes>",
      "image/png": "[encoded data removed]"
     },
     "metadata": {
      "needs_background": "light"
     },
     "output_type": "display_data"
    }
   ],
   "source": [
    "# EVALUATION\n",
    "model = models.load_model(SAVED_BEST_MODEL)\n",
    "\n",
    "test_loss, test_acc = model.evaluate(x_test, y_test)\n",
    "print_line_divider()\n",
    "print(\"Test accuracy\", test_acc)\n",
    "print(\"Test loss\", test_loss)\n",
    "\n",
    "# Accuracy based on different labels\n",
    "y_pred = model.predict(x_test)\n",
    "y_pred = np.argmax(y_pred, axis=1)\n",
    "con_mat = tf.math.confusion_matrix(labels=y_test, predictions=y_pred).numpy()\n",
    "con_mat_norm = np.around(con_mat.astype('float') / con_mat.sum(axis=1)[:, np.newaxis], decimals=4)\n",
    "con_mat_df = pd.DataFrame(con_mat_norm, index=location_labels, columns=location_labels)\n",
    "figure = plt.figure(figsize=(8, 8))\n",
    "sns.heatmap(con_mat_df, annot=True, cmap=plt.cm.Blues)\n",
    "plt.tight_layout()\n",
    "plt.ylabel('True label')\n",
    "plt.xlabel('Predicted label')\n",
    "if log_writer.enabled:\n",
    "    plt.savefig(os.path.join(log_writer.base_folder, \"Accuracy.png\"))\n",
    "plt.show()\n",
    "plt.close()\n",
    "\n",
    "log_writer.write(\"Test evaluation\", line_divider=True)\n",
    "log_writer.write(\"Test accuracy: \" + str(test_acc))\n",
    "log_writer.write(\"Test loss: \" + str(test_loss))\n",
    "log_writer.close()"
   ],
   "metadata": {
    "collapsed": false,
    "pycharm": {
     "name": "#%%\n"
    }
   }
  },
  {
   "cell_type": "code",
   "execution_count": null,
   "outputs": [],
   "source": [],
   "metadata": {
    "collapsed": false,
    "pycharm": {
     "name": "#%%\n"
    }
   }
  }
 ],
 "metadata": {
  "kernelspec": {
   "display_name": "Python 3",
   "language": "python",
   "name": "python3"
  },
  "language_info": {
   "codemirror_mode": {
    "name": "ipython",
    "version": 2
   },
   "file_extension": ".py",
   "mimetype": "text/x-python",
   "name": "python",
   "nbconvert_exporter": "python",
   "pygments_lexer": "ipython2",
   "version": "2.7.6"
  }
 },
 "nbformat": 4,
 "nbformat_minor": 0
}