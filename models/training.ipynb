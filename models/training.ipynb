{
 "cells": [
  {
   "cell_type": "code",
   "execution_count": 1,
   "outputs": [],
   "source": [
    "import os.path\n",
    "import sys\n",
    "\n",
    "import keras.metrics\n",
    "from keras import callbacks, models, metrics\n",
    "from datahandler.constants import all_features, data_version, acc_features, tensorboard_dir, location_labels\n",
    "from datahandler.data_preprocessing import get_train_test_data, load_data_v3\n",
    "from models.log_writer import LogWriter\n",
    "from model.lstm import make_lstm_model_v1\n",
    "from model.transformer import make_transformer_model_v1, make_transformer_model_v2\n",
    "from model.cnn import make_cnn_model_v1, make_cnn_model_v2\n",
    "import matplotlib.pyplot as plt\n",
    "from utils import print_line_divider\n",
    "import numpy as np\n",
    "import tensorflow as tf\n",
    "import pandas as pd\n",
    "import seaborn as sns\n",
    "from datahandler.data_preprocessing_from_jupyter import load_train_test_data_raw_normalized,load_train_test_data_added_features_normalized, load_train_test_data_added_features_pca\n",
    "from audio.audio import play_training_is_complete\n",
    "from sklearn.metrics import classification_report\n",
    "import time"
   ],
   "metadata": {
    "collapsed": false,
    "pycharm": {
     "name": "#%%\n"
    }
   }
  },
  {
   "cell_type": "code",
   "execution_count": 2,
   "outputs": [],
   "source": [
    "# LOGGING CONFIGURATION\n",
    "enabled_log = True\n",
    "enabled_tensor_board = True\n",
    "log_writer = LogWriter(enabled_log)"
   ],
   "metadata": {
    "collapsed": false,
    "pycharm": {
     "name": "#%%\n"
    }
   }
  },
  {
   "cell_type": "code",
   "execution_count": 239,
   "outputs": [
    {
     "name": "stdout",
     "output_type": "stream",
     "text": [
      "STARTING THE TRAINING PROCESS\n"
     ]
    }
   ],
   "source": [
    "# TRAINING CONFIGURATION\n",
    "print(\"STARTING THE TRAINING PROCESS\")\n",
    "SAVED_BEST_MODEL = \"model/best_model.h5\"\n",
    "window_time_in_seconds = 2\n",
    "window_size = 40\n",
    "epochs = 200\n",
    "batch_size = 32\n",
    "validation_split = 1 / 8\n",
    "optimizer = 'adam'\n",
    "loss_function = \"sparse_categorical_crossentropy\"\n",
    "supported_features = all_features"
   ],
   "metadata": {
    "collapsed": false,
    "pycharm": {
     "name": "#%%\n"
    }
   }
  },
  {
   "cell_type": "code",
   "execution_count": 240,
   "outputs": [],
   "source": [
    "log_writer.write(\"Configuration\", line_divider=True)\n",
    "log_writer.write(\n",
    "    f\"\"\"Window size: {window_size}\n",
    "Window time in second: {window_time_in_seconds}\n",
    "Maximum number of epochs: {epochs}\n",
    "Batch size: {batch_size}\n",
    "Validation split: {validation_split}\n",
    "Optimizer: {optimizer}\n",
    "Loss function: {loss_function}\"\"\"\n",
    ")"
   ],
   "metadata": {
    "collapsed": false,
    "pycharm": {
     "name": "#%%\n"
    }
   }
  },
  {
   "cell_type": "code",
   "execution_count": 5,
   "outputs": [
    {
     "name": "stdout",
     "output_type": "stream",
     "text": [
      "****************************************************\n",
      "Preparing data...\n",
      "Loading from file: /Users/duc.letran/Desktop/FINAL PROJECT/context_transformer/data/v4/train/ds2_datacollection.csv (1/6)\n",
      "Loading from file: /Users/duc.letran/Desktop/FINAL PROJECT/context_transformer/data/v4/train/ds1_datacollection.csv (2/6)\n",
      "Loading from file: /Users/duc.letran/Desktop/FINAL PROJECT/context_transformer/data/v4/train/ds4_datacollection.csv (3/6)\n",
      "Loading from file: /Users/duc.letran/Desktop/FINAL PROJECT/context_transformer/data/v4/train/mm2_datacollection.csv (4/6)\n",
      "Loading from file: /Users/duc.letran/Desktop/FINAL PROJECT/context_transformer/data/v4/train/mm1_datacollection.csv (5/6)\n",
      "Loading from file: /Users/duc.letran/Desktop/FINAL PROJECT/context_transformer/data/v4/train/mm4_datacollection.csv (6/6)\n",
      "Train data shape: (1433, 40, 9) | Train label shape: (1433,)\n",
      "Test data shape: (366, 40, 9) | Test label shape: (366,)\n",
      "****************************************************\n"
     ]
    }
   ],
   "source": [
    "# DATA Loader\n",
    "print_line_divider()\n",
    "print(\"Preparing data...\")\n",
    "# x_train, y_train, x_test, y_test = get_train_test_data(supported_features, window_time_in_seconds, window_size)\n",
    "# x_train, y_train, x_test, y_test = load_data_v3(\n",
    "#     features = supported_features,\n",
    "#     window_time_in_seconds = window_time_in_seconds,\n",
    "#     window_size = window_size\n",
    "# )\n",
    "x_train, y_train, x_test, y_test = load_train_test_data_raw_normalized()\n",
    "print(\"Train data shape: \" + str(x_train.shape) + \" | Train label shape: \" + str(y_train.shape))\n",
    "print(\"Test data shape: \" + str(x_test.shape) + \" | Test label shape: \" + str(y_test.shape))\n",
    "print_line_divider()\n"
   ],
   "metadata": {
    "collapsed": false,
    "pycharm": {
     "name": "#%%\n"
    }
   }
  },
  {
   "cell_type": "code",
   "execution_count": 241,
   "outputs": [],
   "source": [
    "log_writer.write(\"Data\", line_divider=True)\n",
    "log_writer.write(\"Data loaded from version \" + data_version)\n",
    "log_writer.write(\n",
    "    f\"\"\"Data training shape: ${x_train.shape}\n",
    "Data testing shape: ${x_test.shape}\"\"\"\n",
    ")"
   ],
   "metadata": {
    "collapsed": false,
    "pycharm": {
     "name": "#%%\n"
    }
   }
  },
  {
   "cell_type": "code",
   "execution_count": 242,
   "outputs": [
    {
     "name": "stdout",
     "output_type": "stream",
     "text": [
      "****************************************************\n",
      "Distribution for set Training set\n",
      "\n",
      "calling count is 473\n",
      "beingusedinhand count is 473\n",
      "insidethepantpocket count is 487\n",
      "****************************************************\n",
      "Distribution for set Testing set\n",
      "\n",
      "calling count is 127\n",
      "beingusedinhand count is 127\n",
      "insidethepantpocket count is 112\n"
     ]
    }
   ],
   "source": [
    "def check_distribution(labels_list, set_name):\n",
    "    label_count_dict = {}\n",
    "    for label_ind in labels_list:\n",
    "        if label_ind in label_count_dict.keys():\n",
    "            label_count_dict[label_ind] += 1\n",
    "        else:\n",
    "            label_count_dict[label_ind] = 1\n",
    "\n",
    "    print_line_divider()\n",
    "    print(\"Distribution for set \" + set_name + \"\\n\")\n",
    "    for key in label_count_dict:\n",
    "        key = int(key)\n",
    "        print(location_labels[key] + \" count is \" + str(label_count_dict[key]))\n",
    "\n",
    "\n",
    "check_distribution(y_train, \"Training set\")\n",
    "check_distribution(y_test, \"Testing set\")"
   ],
   "metadata": {
    "collapsed": false,
    "pycharm": {
     "name": "#%%\n"
    }
   }
  },
  {
   "cell_type": "code",
   "execution_count": 243,
   "outputs": [
    {
     "name": "stdout",
     "output_type": "stream",
     "text": [
      "Input shape: (40, 9)\n"
     ]
    }
   ],
   "source": [
    "if len(x_train.shape) == 2:\n",
    "    input_shape = (x_train.shape[1], 1)\n",
    "else:\n",
    "    input_shape = x_train.shape[1:]\n",
    "print(\"Input shape: \" + str(input_shape))"
   ],
   "metadata": {
    "collapsed": false,
    "pycharm": {
     "name": "#%%\n"
    }
   }
  },
  {
   "cell_type": "code",
   "execution_count": 244,
   "outputs": [
    {
     "name": "stdout",
     "output_type": "stream",
     "text": [
      "Model Summary:\n",
      "Model: \"model_17\"\n",
      "__________________________________________________________________________________________________\n",
      " Layer (type)                   Output Shape         Param #     Connected to                     \n",
      "==================================================================================================\n",
      " input_18 (InputLayer)          [(None, 40, 9)]      0           []                               \n",
      "                                                                                                  \n",
      " layer_normalization_86 (LayerN  (None, 40, 9)       18          ['input_18[0][0]']               \n",
      " ormalization)                                                                                    \n",
      "                                                                                                  \n",
      " multi_head_attention_43 (Multi  (None, 40, 9)       7497        ['layer_normalization_86[0][0]', \n",
      " HeadAttention)                                                   'layer_normalization_86[0][0]'] \n",
      "                                                                                                  \n",
      " dropout_144 (Dropout)          (None, 40, 9)        0           ['multi_head_attention_43[0][0]']\n",
      "                                                                                                  \n",
      " tf.__operators__.add_86 (TFOpL  (None, 40, 9)       0           ['dropout_144[0][0]',            \n",
      " ambda)                                                           'input_18[0][0]']               \n",
      "                                                                                                  \n",
      " layer_normalization_87 (LayerN  (None, 40, 9)       18          ['tf.__operators__.add_86[0][0]']\n",
      " ormalization)                                                                                    \n",
      "                                                                                                  \n",
      " conv1d_86 (Conv1D)             (None, 40, 4)        40          ['layer_normalization_87[0][0]'] \n",
      "                                                                                                  \n",
      " dropout_145 (Dropout)          (None, 40, 4)        0           ['conv1d_86[0][0]']              \n",
      "                                                                                                  \n",
      " conv1d_87 (Conv1D)             (None, 40, 9)        45          ['dropout_145[0][0]']            \n",
      "                                                                                                  \n",
      " tf.__operators__.add_87 (TFOpL  (None, 40, 9)       0           ['conv1d_87[0][0]',              \n",
      " ambda)                                                           'tf.__operators__.add_86[0][0]']\n",
      "                                                                                                  \n",
      " layer_normalization_88 (LayerN  (None, 40, 9)       18          ['tf.__operators__.add_87[0][0]']\n",
      " ormalization)                                                                                    \n",
      "                                                                                                  \n",
      " multi_head_attention_44 (Multi  (None, 40, 9)       7497        ['layer_normalization_88[0][0]', \n",
      " HeadAttention)                                                   'layer_normalization_88[0][0]'] \n",
      "                                                                                                  \n",
      " dropout_146 (Dropout)          (None, 40, 9)        0           ['multi_head_attention_44[0][0]']\n",
      "                                                                                                  \n",
      " tf.__operators__.add_88 (TFOpL  (None, 40, 9)       0           ['dropout_146[0][0]',            \n",
      " ambda)                                                           'tf.__operators__.add_87[0][0]']\n",
      "                                                                                                  \n",
      " layer_normalization_89 (LayerN  (None, 40, 9)       18          ['tf.__operators__.add_88[0][0]']\n",
      " ormalization)                                                                                    \n",
      "                                                                                                  \n",
      " conv1d_88 (Conv1D)             (None, 40, 4)        40          ['layer_normalization_89[0][0]'] \n",
      "                                                                                                  \n",
      " dropout_147 (Dropout)          (None, 40, 4)        0           ['conv1d_88[0][0]']              \n",
      "                                                                                                  \n",
      " conv1d_89 (Conv1D)             (None, 40, 9)        45          ['dropout_147[0][0]']            \n",
      "                                                                                                  \n",
      " tf.__operators__.add_89 (TFOpL  (None, 40, 9)       0           ['conv1d_89[0][0]',              \n",
      " ambda)                                                           'tf.__operators__.add_88[0][0]']\n",
      "                                                                                                  \n",
      " global_average_pooling1d_17 (G  (None, 40)          0           ['tf.__operators__.add_89[0][0]']\n",
      " lobalAveragePooling1D)                                                                           \n",
      "                                                                                                  \n",
      " dense_34 (Dense)               (None, 128)          5248        ['global_average_pooling1d_17[0][\n",
      "                                                                 0]']                             \n",
      "                                                                                                  \n",
      " dropout_148 (Dropout)          (None, 128)          0           ['dense_34[0][0]']               \n",
      "                                                                                                  \n",
      " dense_35 (Dense)               (None, 5)            645         ['dropout_148[0][0]']            \n",
      "                                                                                                  \n",
      "==================================================================================================\n",
      "Total params: 21,129\n",
      "Trainable params: 21,129\n",
      "Non-trainable params: 0\n",
      "__________________________________________________________________________________________________\n",
      "****************************************************\n",
      "None\n"
     ]
    }
   ],
   "source": [
    "# SETTING UP THE MODEL\n",
    "# input_shape = x_train.shape[1:] # (window_size, len(supported_features))\n",
    "# model_name, model = make_cnn_model_v1(input_shape=input_shape)\n",
    "# model_name, model = make_lstm_model_v1(input_shape=input_shape)\n",
    "model_name, model = make_transformer_model_v1(\n",
    "    input_shape=input_shape,\n",
    "    head_size=32,\n",
    "    num_heads=6,\n",
    "    ff_dim=4,\n",
    "    num_transformer_blocks=2,\n",
    "    mlp_units=[128],\n",
    "    mlp_dropout=0.4,\n",
    "    dropout=0.25,\n",
    ")\n",
    "# model_name, model = make_transformer_model_v2(input_shape=input_shape)\n",
    "print(\"Model Summary:\")\n",
    "stringlist = []\n",
    "model.summary(print_fn=lambda x: stringlist.append(x))\n",
    "short_model_summary = \"\\n\".join(stringlist)\n",
    "print(short_model_summary)\n",
    "print(print_line_divider())"
   ],
   "metadata": {
    "collapsed": false,
    "pycharm": {
     "name": "#%%\n"
    }
   }
  },
  {
   "cell_type": "code",
   "execution_count": 245,
   "outputs": [],
   "source": [
    "# LOGGING THE MODEL\n",
    "log_writer.write(\"Model\", line_divider=True)\n",
    "log_writer.write(\"Model name: \" + model_name)\n",
    "log_writer.write(short_model_summary)"
   ],
   "metadata": {
    "collapsed": false,
    "pycharm": {
     "name": "#%%\n"
    }
   }
  },
  {
   "cell_type": "code",
   "execution_count": 246,
   "outputs": [],
   "source": [
    "# MODELS CALLBACK AND SETUP\n",
    "callback_list = [\n",
    "    callbacks.ModelCheckpoint(SAVED_BEST_MODEL, save_best_only=True, monitor=\"val_loss\"),\n",
    "    callbacks.ReduceLROnPlateau(monitor=\"val_loss\", factor=0.5, patience=25, min_lr=0.0001),\n",
    "    callbacks.EarlyStopping(monitor=\"val_loss\", patience=50, verbose=1)\n",
    "]\n",
    "if enabled_tensor_board:\n",
    "    callback_list.append(callbacks.TensorBoard(log_dir=tensorboard_dir, histogram_freq=1))\n",
    "if log_writer.enabled:\n",
    "    callback_list.append(\n",
    "        callbacks.ModelCheckpoint(log_writer.base_folder + \"/model.h5\", save_best_only=True, monitor=\"val_loss\")\n",
    "    )\n",
    "model.compile(\n",
    "    optimizer=optimizer,\n",
    "    loss=loss_function,\n",
    "    metrics=[\"sparse_categorical_accuracy\"],\n",
    ")"
   ],
   "metadata": {
    "collapsed": false,
    "pycharm": {
     "name": "#%%\n"
    }
   }
  },
  {
   "cell_type": "code",
   "execution_count": 247,
   "outputs": [
    {
     "name": "stdout",
     "output_type": "stream",
     "text": [
      "****************************************************\n",
      "Starting to train...\n",
      "Epoch 1/200\n",
      "40/40 [==============================] - 5s 77ms/step - loss: 1.1904 - sparse_categorical_accuracy: 0.3735 - val_loss: 1.6095 - val_sparse_categorical_accuracy: 0.2111 - lr: 0.0010\n",
      "Epoch 2/200\n",
      "40/40 [==============================] - 3s 66ms/step - loss: 0.8057 - sparse_categorical_accuracy: 0.5698 - val_loss: 0.1072 - val_sparse_categorical_accuracy: 0.9778 - lr: 0.0010\n",
      "Epoch 3/200\n",
      "40/40 [==============================] - 3s 67ms/step - loss: 0.5869 - sparse_categorical_accuracy: 0.7119 - val_loss: 0.5379 - val_sparse_categorical_accuracy: 0.8389 - lr: 0.0010\n",
      "Epoch 4/200\n",
      "40/40 [==============================] - 3s 63ms/step - loss: 0.5148 - sparse_categorical_accuracy: 0.7893 - val_loss: 0.6459 - val_sparse_categorical_accuracy: 0.7444 - lr: 0.0010\n",
      "Epoch 5/200\n",
      "40/40 [==============================] - 3s 69ms/step - loss: 0.4047 - sparse_categorical_accuracy: 0.8500 - val_loss: 0.4264 - val_sparse_categorical_accuracy: 0.8667 - lr: 0.0010\n",
      "Epoch 6/200\n",
      "40/40 [==============================] - 3s 69ms/step - loss: 0.3139 - sparse_categorical_accuracy: 0.8867 - val_loss: 1.0771 - val_sparse_categorical_accuracy: 0.8056 - lr: 0.0010\n",
      "Epoch 7/200\n",
      "40/40 [==============================] - 3s 68ms/step - loss: 0.2290 - sparse_categorical_accuracy: 0.9346 - val_loss: 0.0042 - val_sparse_categorical_accuracy: 1.0000 - lr: 0.0010\n",
      "Epoch 8/200\n",
      "40/40 [==============================] - 3s 78ms/step - loss: 0.1929 - sparse_categorical_accuracy: 0.9385 - val_loss: 0.0014 - val_sparse_categorical_accuracy: 1.0000 - lr: 0.0010\n",
      "Epoch 9/200\n",
      "40/40 [==============================] - 3s 75ms/step - loss: 0.1560 - sparse_categorical_accuracy: 0.9513 - val_loss: 0.0156 - val_sparse_categorical_accuracy: 0.9944 - lr: 0.0010\n",
      "Epoch 10/200\n",
      "40/40 [==============================] - 3s 62ms/step - loss: 0.1136 - sparse_categorical_accuracy: 0.9657 - val_loss: 0.0837 - val_sparse_categorical_accuracy: 0.9833 - lr: 0.0010\n",
      "Epoch 11/200\n",
      "40/40 [==============================] - 2s 47ms/step - loss: 0.1085 - sparse_categorical_accuracy: 0.9657 - val_loss: 0.0224 - val_sparse_categorical_accuracy: 1.0000 - lr: 0.0010\n",
      "Epoch 12/200\n",
      "40/40 [==============================] - 3s 67ms/step - loss: 0.1006 - sparse_categorical_accuracy: 0.9609 - val_loss: 0.0049 - val_sparse_categorical_accuracy: 1.0000 - lr: 0.0010\n",
      "Epoch 13/200\n",
      "40/40 [==============================] - 3s 63ms/step - loss: 0.1005 - sparse_categorical_accuracy: 0.9713 - val_loss: 0.0222 - val_sparse_categorical_accuracy: 1.0000 - lr: 0.0010\n",
      "Epoch 14/200\n",
      "40/40 [==============================] - 3s 69ms/step - loss: 0.0923 - sparse_categorical_accuracy: 0.9705 - val_loss: 0.1255 - val_sparse_categorical_accuracy: 0.9722 - lr: 0.0010\n",
      "Epoch 15/200\n",
      "40/40 [==============================] - 3s 67ms/step - loss: 0.0723 - sparse_categorical_accuracy: 0.9832 - val_loss: 0.3995 - val_sparse_categorical_accuracy: 0.8278 - lr: 0.0010\n",
      "Epoch 16/200\n",
      "40/40 [==============================] - 3s 66ms/step - loss: 0.0694 - sparse_categorical_accuracy: 0.9785 - val_loss: 0.4322 - val_sparse_categorical_accuracy: 0.8389 - lr: 0.0010\n",
      "Epoch 17/200\n",
      "40/40 [==============================] - 3s 66ms/step - loss: 0.0783 - sparse_categorical_accuracy: 0.9737 - val_loss: 0.0321 - val_sparse_categorical_accuracy: 1.0000 - lr: 0.0010\n",
      "Epoch 18/200\n",
      "40/40 [==============================] - 2s 58ms/step - loss: 0.0596 - sparse_categorical_accuracy: 0.9824 - val_loss: 0.0147 - val_sparse_categorical_accuracy: 1.0000 - lr: 0.0010\n",
      "Epoch 19/200\n",
      "40/40 [==============================] - 2s 59ms/step - loss: 0.0559 - sparse_categorical_accuracy: 0.9848 - val_loss: 0.1896 - val_sparse_categorical_accuracy: 0.8889 - lr: 0.0010\n",
      "Epoch 20/200\n",
      "40/40 [==============================] - 2s 59ms/step - loss: 0.0667 - sparse_categorical_accuracy: 0.9785 - val_loss: 0.0045 - val_sparse_categorical_accuracy: 1.0000 - lr: 0.0010\n",
      "Epoch 21/200\n",
      "40/40 [==============================] - 2s 56ms/step - loss: 0.0624 - sparse_categorical_accuracy: 0.9745 - val_loss: 0.1200 - val_sparse_categorical_accuracy: 0.9667 - lr: 0.0010\n",
      "Epoch 22/200\n",
      "40/40 [==============================] - 2s 61ms/step - loss: 0.0732 - sparse_categorical_accuracy: 0.9737 - val_loss: 0.0014 - val_sparse_categorical_accuracy: 1.0000 - lr: 0.0010\n",
      "Epoch 23/200\n",
      "40/40 [==============================] - 2s 58ms/step - loss: 0.0492 - sparse_categorical_accuracy: 0.9832 - val_loss: 0.2365 - val_sparse_categorical_accuracy: 0.8833 - lr: 0.0010\n",
      "Epoch 24/200\n",
      "40/40 [==============================] - 2s 60ms/step - loss: 0.0492 - sparse_categorical_accuracy: 0.9848 - val_loss: 0.0144 - val_sparse_categorical_accuracy: 1.0000 - lr: 0.0010\n",
      "Epoch 25/200\n",
      "40/40 [==============================] - 3s 66ms/step - loss: 0.0403 - sparse_categorical_accuracy: 0.9856 - val_loss: 0.0342 - val_sparse_categorical_accuracy: 0.9944 - lr: 0.0010\n",
      "Epoch 26/200\n",
      "40/40 [==============================] - 3s 64ms/step - loss: 0.0466 - sparse_categorical_accuracy: 0.9848 - val_loss: 0.3802 - val_sparse_categorical_accuracy: 0.8722 - lr: 0.0010\n",
      "Epoch 27/200\n",
      "40/40 [==============================] - 2s 60ms/step - loss: 0.0486 - sparse_categorical_accuracy: 0.9856 - val_loss: 7.5659e-04 - val_sparse_categorical_accuracy: 1.0000 - lr: 0.0010\n",
      "Epoch 28/200\n",
      "40/40 [==============================] - 2s 58ms/step - loss: 0.0272 - sparse_categorical_accuracy: 0.9912 - val_loss: 0.0043 - val_sparse_categorical_accuracy: 1.0000 - lr: 0.0010\n",
      "Epoch 29/200\n",
      "40/40 [==============================] - 2s 56ms/step - loss: 0.0263 - sparse_categorical_accuracy: 0.9912 - val_loss: 0.0737 - val_sparse_categorical_accuracy: 0.9833 - lr: 0.0010\n",
      "Epoch 30/200\n",
      "40/40 [==============================] - 3s 65ms/step - loss: 0.0300 - sparse_categorical_accuracy: 0.9904 - val_loss: 0.1849 - val_sparse_categorical_accuracy: 0.8944 - lr: 0.0010\n",
      "Epoch 31/200\n",
      "40/40 [==============================] - 2s 60ms/step - loss: 0.0297 - sparse_categorical_accuracy: 0.9880 - val_loss: 0.0010 - val_sparse_categorical_accuracy: 1.0000 - lr: 0.0010\n",
      "Epoch 32/200\n",
      "40/40 [==============================] - 2s 54ms/step - loss: 0.0281 - sparse_categorical_accuracy: 0.9912 - val_loss: 0.1113 - val_sparse_categorical_accuracy: 0.9389 - lr: 0.0010\n",
      "Epoch 33/200\n",
      "40/40 [==============================] - 3s 66ms/step - loss: 0.0244 - sparse_categorical_accuracy: 0.9880 - val_loss: 0.0659 - val_sparse_categorical_accuracy: 0.9889 - lr: 0.0010\n",
      "Epoch 34/200\n",
      "40/40 [==============================] - 3s 66ms/step - loss: 0.0317 - sparse_categorical_accuracy: 0.9912 - val_loss: 4.3569e-05 - val_sparse_categorical_accuracy: 1.0000 - lr: 0.0010\n",
      "Epoch 35/200\n",
      "40/40 [==============================] - 3s 63ms/step - loss: 0.0174 - sparse_categorical_accuracy: 0.9936 - val_loss: 1.0956 - val_sparse_categorical_accuracy: 0.8389 - lr: 0.0010\n",
      "Epoch 36/200\n",
      "40/40 [==============================] - 2s 60ms/step - loss: 0.0159 - sparse_categorical_accuracy: 0.9960 - val_loss: 0.0062 - val_sparse_categorical_accuracy: 1.0000 - lr: 0.0010\n",
      "Epoch 37/200\n",
      "40/40 [==============================] - 2s 61ms/step - loss: 0.0161 - sparse_categorical_accuracy: 0.9944 - val_loss: 0.0016 - val_sparse_categorical_accuracy: 1.0000 - lr: 0.0010\n",
      "Epoch 38/200\n",
      "40/40 [==============================] - 3s 63ms/step - loss: 0.0159 - sparse_categorical_accuracy: 0.9952 - val_loss: 0.0019 - val_sparse_categorical_accuracy: 1.0000 - lr: 0.0010\n",
      "Epoch 39/200\n",
      "40/40 [==============================] - 2s 61ms/step - loss: 0.0222 - sparse_categorical_accuracy: 0.9912 - val_loss: 1.6249e-05 - val_sparse_categorical_accuracy: 1.0000 - lr: 0.0010\n",
      "Epoch 40/200\n",
      "40/40 [==============================] - 2s 53ms/step - loss: 0.0455 - sparse_categorical_accuracy: 0.9824 - val_loss: 0.0398 - val_sparse_categorical_accuracy: 0.9944 - lr: 0.0010\n",
      "Epoch 41/200\n",
      "40/40 [==============================] - 2s 53ms/step - loss: 0.0121 - sparse_categorical_accuracy: 0.9976 - val_loss: 0.1328 - val_sparse_categorical_accuracy: 0.9222 - lr: 0.0010\n",
      "Epoch 42/200\n",
      "40/40 [==============================] - 2s 48ms/step - loss: 0.0108 - sparse_categorical_accuracy: 0.9952 - val_loss: 0.0066 - val_sparse_categorical_accuracy: 1.0000 - lr: 0.0010\n",
      "Epoch 43/200\n",
      "40/40 [==============================] - 2s 47ms/step - loss: 0.0062 - sparse_categorical_accuracy: 0.9984 - val_loss: 6.7823e-04 - val_sparse_categorical_accuracy: 1.0000 - lr: 0.0010\n",
      "Epoch 44/200\n",
      "40/40 [==============================] - 2s 51ms/step - loss: 0.0041 - sparse_categorical_accuracy: 0.9992 - val_loss: 0.3946 - val_sparse_categorical_accuracy: 0.8833 - lr: 0.0010\n",
      "Epoch 45/200\n",
      "40/40 [==============================] - 2s 45ms/step - loss: 0.0125 - sparse_categorical_accuracy: 0.9936 - val_loss: 0.0566 - val_sparse_categorical_accuracy: 0.9667 - lr: 0.0010\n",
      "Epoch 46/200\n",
      "40/40 [==============================] - 2s 51ms/step - loss: 0.0082 - sparse_categorical_accuracy: 0.9984 - val_loss: 0.0038 - val_sparse_categorical_accuracy: 1.0000 - lr: 0.0010\n",
      "Epoch 47/200\n",
      "40/40 [==============================] - 2s 50ms/step - loss: 0.0048 - sparse_categorical_accuracy: 0.9992 - val_loss: 4.5900e-04 - val_sparse_categorical_accuracy: 1.0000 - lr: 0.0010\n",
      "Epoch 48/200\n",
      "40/40 [==============================] - 2s 51ms/step - loss: 0.0142 - sparse_categorical_accuracy: 0.9952 - val_loss: 0.3930 - val_sparse_categorical_accuracy: 0.8222 - lr: 0.0010\n",
      "Epoch 49/200\n",
      "40/40 [==============================] - 2s 49ms/step - loss: 0.0235 - sparse_categorical_accuracy: 0.9912 - val_loss: 1.5079e-04 - val_sparse_categorical_accuracy: 1.0000 - lr: 0.0010\n",
      "Epoch 50/200\n",
      "40/40 [==============================] - 2s 57ms/step - loss: 0.0335 - sparse_categorical_accuracy: 0.9880 - val_loss: 0.3055 - val_sparse_categorical_accuracy: 0.8222 - lr: 0.0010\n",
      "Epoch 51/200\n",
      "40/40 [==============================] - 2s 56ms/step - loss: 0.0335 - sparse_categorical_accuracy: 0.9880 - val_loss: 9.4757e-05 - val_sparse_categorical_accuracy: 1.0000 - lr: 0.0010\n",
      "Epoch 52/200\n",
      "40/40 [==============================] - 2s 50ms/step - loss: 0.0050 - sparse_categorical_accuracy: 0.9992 - val_loss: 0.0039 - val_sparse_categorical_accuracy: 1.0000 - lr: 0.0010\n",
      "Epoch 53/200\n",
      "40/40 [==============================] - 2s 57ms/step - loss: 0.0090 - sparse_categorical_accuracy: 0.9976 - val_loss: 0.1700 - val_sparse_categorical_accuracy: 0.8944 - lr: 0.0010\n",
      "Epoch 54/200\n",
      "40/40 [==============================] - 2s 60ms/step - loss: 0.0027 - sparse_categorical_accuracy: 1.0000 - val_loss: 5.1982e-04 - val_sparse_categorical_accuracy: 1.0000 - lr: 0.0010\n",
      "Epoch 55/200\n",
      "40/40 [==============================] - 2s 57ms/step - loss: 0.0100 - sparse_categorical_accuracy: 0.9960 - val_loss: 0.1794 - val_sparse_categorical_accuracy: 0.8944 - lr: 0.0010\n",
      "Epoch 56/200\n",
      "40/40 [==============================] - 3s 64ms/step - loss: 0.0050 - sparse_categorical_accuracy: 0.9984 - val_loss: 0.0035 - val_sparse_categorical_accuracy: 1.0000 - lr: 0.0010\n",
      "Epoch 57/200\n",
      "40/40 [==============================] - 2s 59ms/step - loss: 0.0045 - sparse_categorical_accuracy: 0.9992 - val_loss: 0.4797 - val_sparse_categorical_accuracy: 0.8667 - lr: 0.0010\n",
      "Epoch 58/200\n",
      "40/40 [==============================] - 2s 57ms/step - loss: 0.0045 - sparse_categorical_accuracy: 0.9984 - val_loss: 0.3656 - val_sparse_categorical_accuracy: 0.8833 - lr: 0.0010\n",
      "Epoch 59/200\n",
      "40/40 [==============================] - 2s 59ms/step - loss: 0.0040 - sparse_categorical_accuracy: 0.9984 - val_loss: 0.0488 - val_sparse_categorical_accuracy: 0.9833 - lr: 0.0010\n",
      "Epoch 60/200\n",
      "40/40 [==============================] - 3s 68ms/step - loss: 0.0015 - sparse_categorical_accuracy: 1.0000 - val_loss: 0.0013 - val_sparse_categorical_accuracy: 1.0000 - lr: 5.0000e-04\n",
      "Epoch 61/200\n",
      "40/40 [==============================] - 3s 66ms/step - loss: 0.0023 - sparse_categorical_accuracy: 0.9992 - val_loss: 7.2521e-05 - val_sparse_categorical_accuracy: 1.0000 - lr: 5.0000e-04\n",
      "Epoch 62/200\n",
      "40/40 [==============================] - 3s 66ms/step - loss: 0.0034 - sparse_categorical_accuracy: 0.9984 - val_loss: 0.0161 - val_sparse_categorical_accuracy: 1.0000 - lr: 5.0000e-04\n",
      "Epoch 63/200\n",
      "40/40 [==============================] - 3s 71ms/step - loss: 0.0029 - sparse_categorical_accuracy: 1.0000 - val_loss: 0.0061 - val_sparse_categorical_accuracy: 0.9944 - lr: 5.0000e-04\n",
      "Epoch 64/200\n",
      "40/40 [==============================] - 3s 73ms/step - loss: 0.0026 - sparse_categorical_accuracy: 1.0000 - val_loss: 0.0026 - val_sparse_categorical_accuracy: 1.0000 - lr: 5.0000e-04\n",
      "Epoch 65/200\n",
      "40/40 [==============================] - 3s 81ms/step - loss: 0.0026 - sparse_categorical_accuracy: 0.9992 - val_loss: 1.2912e-04 - val_sparse_categorical_accuracy: 1.0000 - lr: 5.0000e-04\n",
      "Epoch 66/200\n",
      "40/40 [==============================] - 3s 68ms/step - loss: 0.0016 - sparse_categorical_accuracy: 1.0000 - val_loss: 0.0018 - val_sparse_categorical_accuracy: 1.0000 - lr: 5.0000e-04\n",
      "Epoch 67/200\n",
      "40/40 [==============================] - 3s 69ms/step - loss: 0.0013 - sparse_categorical_accuracy: 1.0000 - val_loss: 8.7653e-04 - val_sparse_categorical_accuracy: 1.0000 - lr: 5.0000e-04\n",
      "Epoch 68/200\n",
      "40/40 [==============================] - 3s 65ms/step - loss: 7.1972e-04 - sparse_categorical_accuracy: 1.0000 - val_loss: 0.0016 - val_sparse_categorical_accuracy: 1.0000 - lr: 5.0000e-04\n",
      "Epoch 69/200\n",
      "40/40 [==============================] - 3s 75ms/step - loss: 0.0030 - sparse_categorical_accuracy: 0.9984 - val_loss: 0.0733 - val_sparse_categorical_accuracy: 0.9833 - lr: 5.0000e-04\n",
      "Epoch 70/200\n",
      "40/40 [==============================] - 3s 73ms/step - loss: 0.0018 - sparse_categorical_accuracy: 1.0000 - val_loss: 0.0237 - val_sparse_categorical_accuracy: 0.9944 - lr: 5.0000e-04\n",
      "Epoch 71/200\n",
      "40/40 [==============================] - 3s 72ms/step - loss: 0.0022 - sparse_categorical_accuracy: 0.9992 - val_loss: 3.4172e-05 - val_sparse_categorical_accuracy: 1.0000 - lr: 5.0000e-04\n",
      "Epoch 72/200\n",
      "40/40 [==============================] - 3s 68ms/step - loss: 0.0018 - sparse_categorical_accuracy: 1.0000 - val_loss: 2.9835e-05 - val_sparse_categorical_accuracy: 1.0000 - lr: 5.0000e-04\n",
      "Epoch 73/200\n",
      "40/40 [==============================] - 3s 64ms/step - loss: 0.0041 - sparse_categorical_accuracy: 0.9984 - val_loss: 8.9929e-04 - val_sparse_categorical_accuracy: 1.0000 - lr: 5.0000e-04\n",
      "Epoch 74/200\n",
      "40/40 [==============================] - 3s 68ms/step - loss: 0.0016 - sparse_categorical_accuracy: 1.0000 - val_loss: 0.0014 - val_sparse_categorical_accuracy: 1.0000 - lr: 5.0000e-04\n",
      "Epoch 75/200\n",
      "40/40 [==============================] - 3s 74ms/step - loss: 0.0024 - sparse_categorical_accuracy: 0.9992 - val_loss: 0.0278 - val_sparse_categorical_accuracy: 0.9944 - lr: 5.0000e-04\n",
      "Epoch 76/200\n",
      "40/40 [==============================] - 3s 81ms/step - loss: 0.0019 - sparse_categorical_accuracy: 1.0000 - val_loss: 0.0369 - val_sparse_categorical_accuracy: 0.9944 - lr: 5.0000e-04\n",
      "Epoch 77/200\n",
      "40/40 [==============================] - 3s 81ms/step - loss: 0.0032 - sparse_categorical_accuracy: 0.9984 - val_loss: 0.1166 - val_sparse_categorical_accuracy: 0.9778 - lr: 5.0000e-04\n",
      "Epoch 78/200\n",
      "40/40 [==============================] - 3s 79ms/step - loss: 0.0064 - sparse_categorical_accuracy: 0.9984 - val_loss: 0.1558 - val_sparse_categorical_accuracy: 0.9778 - lr: 5.0000e-04\n",
      "Epoch 79/200\n",
      "40/40 [==============================] - 3s 76ms/step - loss: 0.0026 - sparse_categorical_accuracy: 1.0000 - val_loss: 0.5257 - val_sparse_categorical_accuracy: 0.8667 - lr: 5.0000e-04\n",
      "Epoch 80/200\n",
      "40/40 [==============================] - 3s 79ms/step - loss: 0.0030 - sparse_categorical_accuracy: 0.9984 - val_loss: 0.2965 - val_sparse_categorical_accuracy: 0.8833 - lr: 5.0000e-04\n",
      "Epoch 81/200\n",
      "40/40 [==============================] - 3s 70ms/step - loss: 0.0020 - sparse_categorical_accuracy: 1.0000 - val_loss: 0.0545 - val_sparse_categorical_accuracy: 0.9889 - lr: 5.0000e-04\n",
      "Epoch 82/200\n",
      "40/40 [==============================] - 3s 70ms/step - loss: 9.1870e-04 - sparse_categorical_accuracy: 1.0000 - val_loss: 0.0662 - val_sparse_categorical_accuracy: 0.9722 - lr: 5.0000e-04\n",
      "Epoch 83/200\n",
      "40/40 [==============================] - 3s 66ms/step - loss: 0.0015 - sparse_categorical_accuracy: 0.9992 - val_loss: 0.0339 - val_sparse_categorical_accuracy: 0.9944 - lr: 5.0000e-04\n",
      "Epoch 84/200\n",
      "40/40 [==============================] - 3s 65ms/step - loss: 0.0054 - sparse_categorical_accuracy: 0.9992 - val_loss: 0.0948 - val_sparse_categorical_accuracy: 0.9833 - lr: 5.0000e-04\n",
      "Epoch 85/200\n",
      "40/40 [==============================] - 3s 71ms/step - loss: 0.0017 - sparse_categorical_accuracy: 1.0000 - val_loss: 0.0495 - val_sparse_categorical_accuracy: 0.9833 - lr: 2.5000e-04\n",
      "Epoch 86/200\n",
      "40/40 [==============================] - 3s 73ms/step - loss: 0.0034 - sparse_categorical_accuracy: 0.9984 - val_loss: 0.0064 - val_sparse_categorical_accuracy: 0.9944 - lr: 2.5000e-04\n",
      "Epoch 87/200\n",
      "40/40 [==============================] - 3s 69ms/step - loss: 0.0018 - sparse_categorical_accuracy: 0.9992 - val_loss: 0.0041 - val_sparse_categorical_accuracy: 1.0000 - lr: 2.5000e-04\n",
      "Epoch 88/200\n",
      "40/40 [==============================] - 3s 71ms/step - loss: 0.0011 - sparse_categorical_accuracy: 1.0000 - val_loss: 0.0018 - val_sparse_categorical_accuracy: 1.0000 - lr: 2.5000e-04\n",
      "Epoch 89/200\n",
      "40/40 [==============================] - 3s 70ms/step - loss: 6.8687e-04 - sparse_categorical_accuracy: 1.0000 - val_loss: 0.0015 - val_sparse_categorical_accuracy: 1.0000 - lr: 2.5000e-04\n",
      "Epoch 89: early stopping\n",
      "Total training time in seconds: 228.73249578475952\n",
      "Highest validation accuracy:  1.0\n"
     ]
    },
    {
     "name": "stderr",
     "output_type": "stream",
     "text": [
      "Input #0, wav, from '/var/folders/ph/8yv0q18n4mb1439tnf3rzcf40000gp/T/tmpnah3c26e.wav':\n",
      "  Duration: 00:00:02.27, bitrate: 705 kb/s\n",
      "  Stream #0:0: Audio: pcm_s16le ([1][0][0][0] / 0x0001), 44100 Hz, 1 channels, s16, 705 kb/s\n",
      "   2.18 M-A:  0.000 fd=   0 aq=    0KB vq=    0KB sq=    0B f=0/0   \r"
     ]
    },
    {
     "name": "stdout",
     "output_type": "stream",
     "text": [
      "\n"
     ]
    }
   ],
   "source": [
    "# TRAINING\n",
    "print_line_divider()\n",
    "print(\"Starting to train...\")\n",
    "\n",
    "start_time = time.time()\n",
    "history = model.fit(\n",
    "    x_train,\n",
    "    y_train,\n",
    "    batch_size=batch_size,\n",
    "    epochs=epochs,\n",
    "    callbacks=callback_list,\n",
    "    validation_split=validation_split,\n",
    "    verbose=1,\n",
    "    shuffle=True\n",
    ")\n",
    "end_time = time.time()\n",
    "training_time = end_time - start_time\n",
    "print(\"Total training time in seconds: \" + str(training_time))\n",
    "print(\"Highest validation accuracy: \", max(history.history['val_sparse_categorical_accuracy']))\n",
    "log_writer.write(\"Result\", line_divider=True)\n",
    "log_writer.write(\"Training time: \" + str(end_time - start_time) + \" seconds.\")\n",
    "log_writer.write(\"Highest validation accuracy: \" + str(max(history.history['val_sparse_categorical_accuracy'])))\n",
    "play_training_is_complete()"
   ],
   "metadata": {
    "collapsed": false,
    "pycharm": {
     "name": "#%%\n"
    }
   }
  },
  {
   "cell_type": "code",
   "execution_count": 248,
   "outputs": [],
   "source": [
    "if log_writer.enabled:\n",
    "    model.save(log_writer.base_folder + \"/model_last.h5\")"
   ],
   "metadata": {
    "collapsed": false,
    "pycharm": {
     "name": "#%%\n"
    }
   }
  },
  {
   "cell_type": "code",
   "execution_count": 249,
   "outputs": [
    {
     "data": {
      "text/plain": "<Figure size 432x288 with 1 Axes>",
      "image/png": "[encoded data removed]"
     },
     "metadata": {
      "needs_background": "light"
     },
     "output_type": "display_data"
    }
   ],
   "source": [
    "# PLOTTING\n",
    "metric = \"sparse_categorical_accuracy\"\n",
    "plt.figure()\n",
    "plt.plot(history.history[metric])\n",
    "plt.plot(history.history[\"val_\" + metric])\n",
    "plt.title(\"model \" + model_name + \" :\" + metric)\n",
    "plt.ylabel(metric, fontsize=\"large\")\n",
    "plt.xlabel(\"epoch\", fontsize=\"large\")\n",
    "plt.legend([\"train\", \"val\"], loc=\"best\")\n",
    "if log_writer.enabled:\n",
    "    plt.savefig(os.path.join(log_writer.base_folder, \"Validation progress.png\"))\n",
    "plt.show()\n",
    "plt.close()"
   ],
   "metadata": {
    "collapsed": false,
    "pycharm": {
     "name": "#%%\n"
    }
   }
  },
  {
   "cell_type": "code",
   "execution_count": 250,
   "outputs": [
    {
     "name": "stdout",
     "output_type": "stream",
     "text": [
      "12/12 [==============================] - 1s 33ms/step - loss: 0.1673 - sparse_categorical_accuracy: 0.9672\n",
      "****************************************************\n",
      "Test accuracy 0.9672130942344666\n",
      "Test loss 0.16729332506656647\n",
      "Metrics report: \n",
      "              precision    recall  f1-score   support\n",
      "\n",
      "         2.0       1.00      0.97      0.98       127\n",
      "         3.0       0.93      1.00      0.97       112\n",
      "         4.0       0.97      0.94      0.95       127\n",
      "\n",
      "    accuracy                           0.97       366\n",
      "   macro avg       0.97      0.97      0.97       366\n",
      "weighted avg       0.97      0.97      0.97       366\n",
      "\n"
     ]
    },
    {
     "name": "stderr",
     "output_type": "stream",
     "text": [
      "/var/folders/ph/8yv0q18n4mb1439tnf3rzcf40000gp/T/ipykernel_63614/1353766246.py:16: RuntimeWarning: invalid value encountered in true_divide\n",
      "  con_mat_norm = np.around(con_mat.astype('float') / con_mat.sum(axis=1)[:, np.newaxis], decimals=4)\n"
     ]
    },
    {
     "data": {
      "text/plain": "<Figure size 576x576 with 2 Axes>",
      "image/png": "[encoded data removed]"
     },
     "metadata": {
      "needs_background": "light"
     },
     "output_type": "display_data"
    }
   ],
   "source": [
    "# EVALUATION\n",
    "model = models.load_model(SAVED_BEST_MODEL)\n",
    "test_loss, test_acc = model.evaluate(x_test, y_test)\n",
    "print_line_divider()\n",
    "print(\"Test accuracy\", test_acc)\n",
    "print(\"Test loss\", test_loss)\n",
    "\n",
    "# Accuracy based on different labels\n",
    "y_pred = model.predict(x_test)\n",
    "y_pred = np.argmax(y_pred, axis=1)\n",
    "metrics_report = classification_report(y_test, y_pred)\n",
    "print(\"Metrics report: \")\n",
    "print(metrics_report)\n",
    "\n",
    "con_mat = tf.math.confusion_matrix(labels=y_test, predictions=y_pred).numpy()\n",
    "con_mat_norm = np.around(con_mat.astype('float') / con_mat.sum(axis=1)[:, np.newaxis], decimals=4)\n",
    "con_mat_df = pd.DataFrame(con_mat_norm, index=location_labels, columns=location_labels)\n",
    "figure = plt.figure(figsize=(8, 8))\n",
    "sns.heatmap(con_mat_df, annot=True, cmap=plt.cm.Blues)\n",
    "plt.tight_layout()\n",
    "plt.ylabel('True label')\n",
    "plt.xlabel('Predicted label')\n",
    "if log_writer.enabled:\n",
    "    plt.savefig(os.path.join(log_writer.base_folder, \"Accuracy.png\"))\n",
    "plt.show()\n",
    "plt.close()\n",
    "\n",
    "log_writer.write(\"Test evaluation\", line_divider=True)\n",
    "log_writer.write(\"Test accuracy: \" + str(test_acc))\n",
    "log_writer.write(\"Test loss: \" + str(test_loss))\n",
    "log_writer.write(\"Metric report: \")\n",
    "log_writer.write(metrics_report)\n",
    "log_writer.close()"
   ],
   "metadata": {
    "collapsed": false,
    "pycharm": {
     "name": "#%%\n"
    }
   }
  },
  {
   "cell_type": "code",
   "execution_count": null,
   "outputs": [],
   "source": [],
   "metadata": {
    "collapsed": false,
    "pycharm": {
     "name": "#%%\n"
    }
   }
  }
 ],
 "metadata": {
  "kernelspec": {
   "display_name": "Python 3",
   "language": "python",
   "name": "python3"
  },
  "language_info": {
   "codemirror_mode": {
    "name": "ipython",
    "version": 2
   },
   "file_extension": ".py",
   "mimetype": "text/x-python",
   "name": "python",
   "nbconvert_exporter": "python",
   "pygments_lexer": "ipython2",
   "version": "2.7.6"
  }
 },
 "nbformat": 4,
 "nbformat_minor": 0
}