{
 "cells": [
  {
   "cell_type": "code",
   "execution_count": 1,
   "outputs": [],
   "source": [
    "import os.path\n",
    "import sys\n",
    "\n",
    "import keras.metrics\n",
    "from keras import callbacks, models, metrics\n",
    "from datahandler.constants import all_features, data_version, acc_features, tensorboard_dir, location_labels\n",
    "from datahandler.data_preprocessing import get_train_test_data, load_data_v3\n",
    "from models.log_writer import LogWriter\n",
    "from model.lstm import make_lstm_model_v1\n",
    "from model.transformer import make_transformer_model_v1, make_transformer_model_v2\n",
    "from model.cnn import make_cnn_model_v1, make_cnn_model_v2\n",
    "import matplotlib.pyplot as plt\n",
    "from utils import print_line_divider\n",
    "import numpy as np\n",
    "import tensorflow as tf\n",
    "import pandas as pd\n",
    "import seaborn as sns\n",
    "from datahandler.data_preprocessing_from_jupyter import load_train_test_data_raw_normalized,load_train_test_data_added_features_normalized, load_train_test_data_added_features_pca\n",
    "from audio.audio import play_training_is_complete\n",
    "from sklearn.metrics import classification_report\n",
    "import time"
   ],
   "metadata": {
    "collapsed": false,
    "pycharm": {
     "name": "#%%\n"
    }
   }
  },
  {
   "cell_type": "code",
   "execution_count": 18,
   "outputs": [],
   "source": [
    "# LOGGING CONFIGURATION\n",
    "enabled_log = True\n",
    "enabled_tensor_board = True\n",
    "log_writer = LogWriter(enabled_log)"
   ],
   "metadata": {
    "collapsed": false,
    "pycharm": {
     "name": "#%%\n"
    }
   }
  },
  {
   "cell_type": "code",
   "execution_count": 19,
   "outputs": [
    {
     "name": "stdout",
     "output_type": "stream",
     "text": [
      "STARTING THE TRAINING PROCESS\n"
     ]
    }
   ],
   "source": [
    "# TRAINING CONFIGURATION\n",
    "print(\"STARTING THE TRAINING PROCESS\")\n",
    "SAVED_BEST_MODEL = \"model/best_model.h5\"\n",
    "window_time_in_seconds = 2\n",
    "window_size = 40\n",
    "epochs = 100\n",
    "batch_size = 32\n",
    "validation_split = 1 / 9\n",
    "optimizer = 'adam'\n",
    "loss_function = \"sparse_categorical_crossentropy\"\n",
    "supported_features = all_features"
   ],
   "metadata": {
    "collapsed": false,
    "pycharm": {
     "name": "#%%\n"
    }
   }
  },
  {
   "cell_type": "code",
   "execution_count": 20,
   "outputs": [],
   "source": [
    "log_writer.write(\"Configuration\", line_divider=True)\n",
    "log_writer.write(\n",
    "    f\"\"\"Window size: {window_size}\n",
    "Window time in second: {window_time_in_seconds}\n",
    "Maximum number of epochs: {epochs}\n",
    "Batch size: {batch_size}\n",
    "Validation split: {validation_split}\n",
    "Optimizer: {optimizer}\n",
    "Loss function: {loss_function}\"\"\"\n",
    ")"
   ],
   "metadata": {
    "collapsed": false,
    "pycharm": {
     "name": "#%%\n"
    }
   }
  },
  {
   "cell_type": "code",
   "execution_count": 5,
   "outputs": [
    {
     "name": "stdout",
     "output_type": "stream",
     "text": [
      "****************************************************\n",
      "Preparing data...\n",
      "Loading from file: /Users/duc.letran/Desktop/FINAL PROJECT/context_transformer/data/v4/train/px4_datacollection.csv (1/74)\n",
      "Loading from file: /Users/duc.letran/Desktop/FINAL PROJECT/context_transformer/data/v4/train/mm5_datacollection.csv (2/74)\n",
      "Loading from file: /Users/duc.letran/Desktop/FINAL PROJECT/context_transformer/data/v4/train/ps1_datacollection.csv (3/74)\n",
      "Loading from file: /Users/duc.letran/Desktop/FINAL PROJECT/context_transformer/data/v4/train/px15_datacollection.csv (4/74)\n",
      "Loading from file: /Users/duc.letran/Desktop/FINAL PROJECT/context_transformer/data/v4/train/sx11_datacollection.csv (5/74)\n",
      "Loading from file: /Users/duc.letran/Desktop/FINAL PROJECT/context_transformer/data/v4/train/ht13_datacollection.csv (6/74)\n",
      "Loading from file: /Users/duc.letran/Desktop/FINAL PROJECT/context_transformer/data/v4/train/hc11_datacollection.csv (7/74)\n",
      "Loading from file: /Users/duc.letran/Desktop/FINAL PROJECT/context_transformer/data/v4/train/pp1_datacollection.csv (8/74)\n",
      "Loading from file: /Users/duc.letran/Desktop/FINAL PROJECT/context_transformer/data/v4/train/ds2_datacollection.csv (9/74)\n",
      "Loading from file: /Users/duc.letran/Desktop/FINAL PROJECT/context_transformer/data/v4/train/tc4_datacollection.csv (10/74)\n",
      "Loading from file: /Users/duc.letran/Desktop/FINAL PROJECT/context_transformer/data/v4/train/ss14_datacollection.csv (11/74)\n",
      "Loading from file: /Users/duc.letran/Desktop/FINAL PROJECT/context_transformer/data/v4/train/ss3_datacollection.csv (12/74)\n",
      "Loading from file: /Users/duc.letran/Desktop/FINAL PROJECT/context_transformer/data/v4/train/ds1_datacollection.csv (13/74)\n",
      "Loading from file: /Users/duc.letran/Desktop/FINAL PROJECT/context_transformer/data/v4/train/tt4_datacollection.csv (14/74)\n",
      "Loading from file: /Users/duc.letran/Desktop/FINAL PROJECT/context_transformer/data/v4/train/sx12_datacollection.csv (15/74)\n",
      "Loading from file: /Users/duc.letran/Desktop/FINAL PROJECT/context_transformer/data/v4/train/os4_datacollection.csv (16/74)\n",
      "Loading from file: /Users/duc.letran/Desktop/FINAL PROJECT/context_transformer/data/v4/train/pp2_datacollection.csv (17/74)\n",
      "Loading from file: /Users/duc.letran/Desktop/FINAL PROJECT/context_transformer/data/v4/train/hc12_datacollection.csv (18/74)\n",
      "Loading from file: /Users/duc.letran/Desktop/FINAL PROJECT/context_transformer/data/v4/train/ps2_datacollection.csv (19/74)\n",
      "Loading from file: /Users/duc.letran/Desktop/FINAL PROJECT/context_transformer/data/v4/train/op4_datacollection.csv (20/74)\n",
      "Loading from file: /Users/duc.letran/Desktop/FINAL PROJECT/context_transformer/data/v4/train/op2_datacollection.csv (21/74)\n",
      "Loading from file: /Users/duc.letran/Desktop/FINAL PROJECT/context_transformer/data/v4/train/ps4_datacollection.csv (22/74)\n",
      "Loading from file: /Users/duc.letran/Desktop/FINAL PROJECT/context_transformer/data/v4/train/px1_datacollection.csv (23/74)\n",
      "Loading from file: /Users/duc.letran/Desktop/FINAL PROJECT/context_transformer/data/v4/train/ss11_datacollection.csv (24/74)\n",
      "Loading from file: /Users/duc.letran/Desktop/FINAL PROJECT/context_transformer/data/v4/train/tc1_datacollection.csv (25/74)\n",
      "Loading from file: /Users/duc.letran/Desktop/FINAL PROJECT/context_transformer/data/v4/train/hc14_datacollection.csv (26/74)\n",
      "Loading from file: /Users/duc.letran/Desktop/FINAL PROJECT/context_transformer/data/v4/train/pp4_datacollection.csv (27/74)\n",
      "Loading from file: /Users/duc.letran/Desktop/FINAL PROJECT/context_transformer/data/v4/train/tt2_datacollection.csv (28/74)\n",
      "Loading from file: /Users/duc.letran/Desktop/FINAL PROJECT/context_transformer/data/v4/train/os2_datacollection.csv (29/74)\n",
      "Loading from file: /Users/duc.letran/Desktop/FINAL PROJECT/context_transformer/data/v4/train/sx14_datacollection.csv (30/74)\n",
      "Loading from file: /Users/duc.letran/Desktop/FINAL PROJECT/context_transformer/data/v4/train/os1_datacollection.csv (31/74)\n",
      "Loading from file: /Users/duc.letran/Desktop/FINAL PROJECT/context_transformer/data/v4/train/ht15_datacollection.csv (32/74)\n",
      "Loading from file: /Users/duc.letran/Desktop/FINAL PROJECT/context_transformer/data/v4/train/tt1_datacollection.csv (33/74)\n",
      "Loading from file: /Users/duc.letran/Desktop/FINAL PROJECT/context_transformer/data/v4/train/tc2_datacollection.csv (34/74)\n",
      "Loading from file: /Users/duc.letran/Desktop/FINAL PROJECT/context_transformer/data/v4/train/ss12_datacollection.csv (35/74)\n",
      "Loading from file: /Users/duc.letran/Desktop/FINAL PROJECT/context_transformer/data/v4/train/ds4_datacollection.csv (36/74)\n",
      "Loading from file: /Users/duc.letran/Desktop/FINAL PROJECT/context_transformer/data/v4/train/px2_datacollection.csv (37/74)\n",
      "Loading from file: /Users/duc.letran/Desktop/FINAL PROJECT/context_transformer/data/v4/train/op1_datacollection.csv (38/74)\n",
      "Loading from file: /Users/duc.letran/Desktop/FINAL PROJECT/context_transformer/data/v4/train/px13_datacollection.csv (39/74)\n",
      "Loading from file: /Users/duc.letran/Desktop/FINAL PROJECT/context_transformer/data/v4/train/mm3_datacollection.csv (40/74)\n",
      "Loading from file: /Users/duc.letran/Desktop/FINAL PROJECT/context_transformer/data/v4/train/ds5_datacollection.csv (41/74)\n",
      "Loading from file: /Users/duc.letran/Desktop/FINAL PROJECT/context_transformer/data/v4/train/tc3_datacollection.csv (42/74)\n",
      "Loading from file: /Users/duc.letran/Desktop/FINAL PROJECT/context_transformer/data/v4/train/ss13_datacollection.csv (43/74)\n",
      "Loading from file: /Users/duc.letran/Desktop/FINAL PROJECT/context_transformer/data/v4/train/ht14_datacollection.csv (44/74)\n",
      "Loading from file: /Users/duc.letran/Desktop/FINAL PROJECT/context_transformer/data/v4/train/mm2_datacollection.csv (45/74)\n",
      "Loading from file: /Users/duc.letran/Desktop/FINAL PROJECT/context_transformer/data/v4/train/px12_datacollection.csv (46/74)\n",
      "Loading from file: /Users/duc.letran/Desktop/FINAL PROJECT/context_transformer/data/v4/train/px3_datacollection.csv (47/74)\n",
      "Loading from file: /Users/duc.letran/Desktop/FINAL PROJECT/context_transformer/data/v4/train/op3_datacollection.csv (48/74)\n",
      "Loading from file: /Users/duc.letran/Desktop/FINAL PROJECT/context_transformer/data/v4/train/px11_datacollection.csv (49/74)\n",
      "Loading from file: /Users/duc.letran/Desktop/FINAL PROJECT/context_transformer/data/v4/train/mm1_datacollection.csv (50/74)\n",
      "Loading from file: /Users/duc.letran/Desktop/FINAL PROJECT/context_transformer/data/v4/train/ps5_datacollection.csv (51/74)\n",
      "Loading from file: /Users/duc.letran/Desktop/FINAL PROJECT/context_transformer/data/v4/train/pp5_datacollection.csv (52/74)\n",
      "Loading from file: /Users/duc.letran/Desktop/FINAL PROJECT/context_transformer/data/v4/train/hc15_datacollection.csv (53/74)\n",
      "Loading from file: /Users/duc.letran/Desktop/FINAL PROJECT/context_transformer/data/v4/train/tt3_datacollection.csv (54/74)\n",
      "Loading from file: /Users/duc.letran/Desktop/FINAL PROJECT/context_transformer/data/v4/train/sx15_datacollection.csv (55/74)\n",
      "Loading from file: /Users/duc.letran/Desktop/FINAL PROJECT/context_transformer/data/v4/train/os3_datacollection.csv (56/74)\n",
      "Loading from file: /Users/duc.letran/Desktop/FINAL PROJECT/context_transformer/data/v4/train/ss4_datacollection.csv (57/74)\n",
      "Loading from file: /Users/duc.letran/Desktop/FINAL PROJECT/context_transformer/data/v4/train/ht11_datacollection.csv (58/74)\n",
      "Loading from file: /Users/duc.letran/Desktop/FINAL PROJECT/context_transformer/data/v4/train/tt5_datacollection.csv (59/74)\n",
      "Loading from file: /Users/duc.letran/Desktop/FINAL PROJECT/context_transformer/data/v4/train/os5_datacollection.csv (60/74)\n",
      "Loading from file: /Users/duc.letran/Desktop/FINAL PROJECT/context_transformer/data/v4/train/sx13_datacollection.csv (61/74)\n",
      "Loading from file: /Users/duc.letran/Desktop/FINAL PROJECT/context_transformer/data/v4/train/hc13_datacollection.csv (62/74)\n",
      "Loading from file: /Users/duc.letran/Desktop/FINAL PROJECT/context_transformer/data/v4/train/pp3_datacollection.csv (63/74)\n",
      "Loading from file: /Users/duc.letran/Desktop/FINAL PROJECT/context_transformer/data/v4/train/ss2_datacollection.csv (64/74)\n",
      "Loading from file: /Users/duc.letran/Desktop/FINAL PROJECT/context_transformer/data/v4/train/ps3_datacollection.csv (65/74)\n",
      "Loading from file: /Users/duc.letran/Desktop/FINAL PROJECT/context_transformer/data/v4/train/op5_datacollection.csv (66/74)\n",
      "Loading from file: /Users/duc.letran/Desktop/FINAL PROJECT/context_transformer/data/v4/train/px14_datacollection.csv (67/74)\n",
      "Loading from file: /Users/duc.letran/Desktop/FINAL PROJECT/context_transformer/data/v4/train/mm4_datacollection.csv (68/74)\n",
      "Loading from file: /Users/duc.letran/Desktop/FINAL PROJECT/context_transformer/data/v4/train/px5_datacollection.csv (69/74)\n",
      "Loading from file: /Users/duc.letran/Desktop/FINAL PROJECT/context_transformer/data/v4/train/ss1_datacollection.csv (70/74)\n",
      "Loading from file: /Users/duc.letran/Desktop/FINAL PROJECT/context_transformer/data/v4/train/tc5_datacollection.csv (71/74)\n",
      "Loading from file: /Users/duc.letran/Desktop/FINAL PROJECT/context_transformer/data/v4/train/ss15_datacollection.csv (72/74)\n",
      "Loading from file: /Users/duc.letran/Desktop/FINAL PROJECT/context_transformer/data/v4/train/ds3_datacollection.csv (73/74)\n",
      "Loading from file: /Users/duc.letran/Desktop/FINAL PROJECT/context_transformer/data/v4/train/ht12_datacollection.csv (74/74)\n",
      "Train data shape: (17855, 40, 9) | Train label shape: (17855,)\n",
      "Test data shape: (4345, 40, 9) | Test label shape: (4345,)\n",
      "****************************************************\n"
     ]
    }
   ],
   "source": [
    "# DATA Loader\n",
    "print_line_divider()\n",
    "print(\"Preparing data...\")\n",
    "# x_train, y_train, x_test, y_test = get_train_test_data(supported_features, window_time_in_seconds, window_size)\n",
    "# x_train, y_train, x_test, y_test = load_data_v3(\n",
    "#     features = supported_features,\n",
    "#     window_time_in_seconds = window_time_in_seconds,\n",
    "#     window_size = window_size\n",
    "# )\n",
    "x_train, y_train, x_test, y_test = load_train_test_data_raw_normalized()\n",
    "print(\"Train data shape: \" + str(x_train.shape) + \" | Train label shape: \" + str(y_train.shape))\n",
    "print(\"Test data shape: \" + str(x_test.shape) + \" | Test label shape: \" + str(y_test.shape))\n",
    "print_line_divider()\n"
   ],
   "metadata": {
    "collapsed": false,
    "pycharm": {
     "name": "#%%\n"
    }
   }
  },
  {
   "cell_type": "code",
   "execution_count": 21,
   "outputs": [],
   "source": [
    "log_writer.write(\"Data\", line_divider=True)\n",
    "log_writer.write(\"Data loaded from version \" + data_version)\n",
    "log_writer.write(\n",
    "    f\"\"\"Data training shape: ${x_train.shape}\n",
    "Data testing shape: ${x_test.shape}\"\"\"\n",
    ")"
   ],
   "metadata": {
    "collapsed": false,
    "pycharm": {
     "name": "#%%\n"
    }
   }
  },
  {
   "cell_type": "code",
   "execution_count": 22,
   "outputs": [
    {
     "name": "stdout",
     "output_type": "stream",
     "text": [
      "****************************************************\n",
      "Distribution for set Training set\n",
      "\n",
      "insidethepantpocket count is 3359\n",
      "holdinginhand count is 3644\n",
      "beingusedinhand count is 3636\n",
      "insidethebag count is 3597\n",
      "calling count is 3619\n",
      "****************************************************\n",
      "Distribution for set Testing set\n",
      "\n",
      "insidethepantpocket count is 833\n",
      "holdinginhand count is 855\n",
      "beingusedinhand count is 863\n",
      "insidethebag count is 912\n",
      "calling count is 882\n"
     ]
    }
   ],
   "source": [
    "def check_distribution(labels_list, set_name):\n",
    "    label_count_dict = {}\n",
    "    for label_ind in labels_list:\n",
    "        if label_ind in label_count_dict.keys():\n",
    "            label_count_dict[label_ind] += 1\n",
    "        else:\n",
    "            label_count_dict[label_ind] = 1\n",
    "\n",
    "    print_line_divider()\n",
    "    print(\"Distribution for set \" + set_name + \"\\n\")\n",
    "    for key in label_count_dict:\n",
    "        key = int(key)\n",
    "        print(location_labels[key] + \" count is \" + str(label_count_dict[key]))\n",
    "\n",
    "\n",
    "check_distribution(y_train, \"Training set\")\n",
    "check_distribution(y_test, \"Testing set\")"
   ],
   "metadata": {
    "collapsed": false,
    "pycharm": {
     "name": "#%%\n"
    }
   }
  },
  {
   "cell_type": "code",
   "execution_count": 23,
   "outputs": [
    {
     "name": "stdout",
     "output_type": "stream",
     "text": [
      "Input shape: (40, 9)\n"
     ]
    }
   ],
   "source": [
    "if len(x_train.shape) == 2:\n",
    "    input_shape = (x_train.shape[1], 1)\n",
    "else:\n",
    "    input_shape = x_train.shape[1:]\n",
    "print(\"Input shape: \" + str(input_shape))"
   ],
   "metadata": {
    "collapsed": false,
    "pycharm": {
     "name": "#%%\n"
    }
   }
  },
  {
   "cell_type": "code",
   "execution_count": 24,
   "outputs": [
    {
     "name": "stdout",
     "output_type": "stream",
     "text": [
      "Model Summary:\n",
      "Model: \"model_3\"\n",
      "__________________________________________________________________________________________________\n",
      " Layer (type)                   Output Shape         Param #     Connected to                     \n",
      "==================================================================================================\n",
      " input_4 (InputLayer)           [(None, 40, 9)]      0           []                               \n",
      "                                                                                                  \n",
      " layer_normalization (LayerNorm  (None, 40, 9)       18          ['input_4[0][0]']                \n",
      " alization)                                                                                       \n",
      "                                                                                                  \n",
      " multi_head_attention (MultiHea  (None, 40, 9)       14985       ['layer_normalization[0][0]',    \n",
      " dAttention)                                                      'layer_normalization[0][0]']    \n",
      "                                                                                                  \n",
      " dropout (Dropout)              (None, 40, 9)        0           ['multi_head_attention[0][0]']   \n",
      "                                                                                                  \n",
      " tf.__operators__.add (TFOpLamb  (None, 40, 9)       0           ['dropout[0][0]',                \n",
      " da)                                                              'input_4[0][0]']                \n",
      "                                                                                                  \n",
      " layer_normalization_1 (LayerNo  (None, 40, 9)       18          ['tf.__operators__.add[0][0]']   \n",
      " rmalization)                                                                                     \n",
      "                                                                                                  \n",
      " conv1d_9 (Conv1D)              (None, 40, 4)        40          ['layer_normalization_1[0][0]']  \n",
      "                                                                                                  \n",
      " dropout_1 (Dropout)            (None, 40, 4)        0           ['conv1d_9[0][0]']               \n",
      "                                                                                                  \n",
      " conv1d_10 (Conv1D)             (None, 40, 9)        45          ['dropout_1[0][0]']              \n",
      "                                                                                                  \n",
      " tf.__operators__.add_1 (TFOpLa  (None, 40, 9)       0           ['conv1d_10[0][0]',              \n",
      " mbda)                                                            'tf.__operators__.add[0][0]']   \n",
      "                                                                                                  \n",
      " layer_normalization_2 (LayerNo  (None, 40, 9)       18          ['tf.__operators__.add_1[0][0]'] \n",
      " rmalization)                                                                                     \n",
      "                                                                                                  \n",
      " multi_head_attention_1 (MultiH  (None, 40, 9)       14985       ['layer_normalization_2[0][0]',  \n",
      " eadAttention)                                                    'layer_normalization_2[0][0]']  \n",
      "                                                                                                  \n",
      " dropout_2 (Dropout)            (None, 40, 9)        0           ['multi_head_attention_1[0][0]'] \n",
      "                                                                                                  \n",
      " tf.__operators__.add_2 (TFOpLa  (None, 40, 9)       0           ['dropout_2[0][0]',              \n",
      " mbda)                                                            'tf.__operators__.add_1[0][0]'] \n",
      "                                                                                                  \n",
      " layer_normalization_3 (LayerNo  (None, 40, 9)       18          ['tf.__operators__.add_2[0][0]'] \n",
      " rmalization)                                                                                     \n",
      "                                                                                                  \n",
      " conv1d_11 (Conv1D)             (None, 40, 4)        40          ['layer_normalization_3[0][0]']  \n",
      "                                                                                                  \n",
      " dropout_3 (Dropout)            (None, 40, 4)        0           ['conv1d_11[0][0]']              \n",
      "                                                                                                  \n",
      " conv1d_12 (Conv1D)             (None, 40, 9)        45          ['dropout_3[0][0]']              \n",
      "                                                                                                  \n",
      " tf.__operators__.add_3 (TFOpLa  (None, 40, 9)       0           ['conv1d_12[0][0]',              \n",
      " mbda)                                                            'tf.__operators__.add_2[0][0]'] \n",
      "                                                                                                  \n",
      " global_average_pooling1d_3 (Gl  (None, 40)          0           ['tf.__operators__.add_3[0][0]'] \n",
      " obalAveragePooling1D)                                                                            \n",
      "                                                                                                  \n",
      " dense_3 (Dense)                (None, 128)          5248        ['global_average_pooling1d_3[0][0\n",
      "                                                                 ]']                              \n",
      "                                                                                                  \n",
      " dropout_4 (Dropout)            (None, 128)          0           ['dense_3[0][0]']                \n",
      "                                                                                                  \n",
      " dense_4 (Dense)                (None, 5)            645         ['dropout_4[0][0]']              \n",
      "                                                                                                  \n",
      "==================================================================================================\n",
      "Total params: 36,105\n",
      "Trainable params: 36,105\n",
      "Non-trainable params: 0\n",
      "__________________________________________________________________________________________________\n",
      "****************************************************\n",
      "None\n"
     ]
    }
   ],
   "source": [
    "# SETTING UP THE MODEL\n",
    "# input_shape = x_train.shape[1:] # (window_size, len(supported_features))\n",
    "# model_name, model = make_cnn_model_v1(input_shape=input_shape)\n",
    "# model_name, model = make_lstm_model_v1(input_shape=input_shape)\n",
    "model_name, model = make_transformer_model_v1(\n",
    "    input_shape=input_shape,\n",
    "    head_size=64,\n",
    "    num_heads=6,\n",
    "    ff_dim=4,\n",
    "    num_transformer_blocks=2,\n",
    "    mlp_units=[128],\n",
    "    mlp_dropout=0.4,\n",
    "    dropout=0.25,\n",
    ")\n",
    "# model_name, model = make_transformer_model_v2(input_shape=input_shape)\n",
    "print(\"Model Summary:\")\n",
    "stringlist = []\n",
    "model.summary(print_fn=lambda x: stringlist.append(x))\n",
    "short_model_summary = \"\\n\".join(stringlist)\n",
    "print(short_model_summary)\n",
    "print(print_line_divider())"
   ],
   "metadata": {
    "collapsed": false,
    "pycharm": {
     "name": "#%%\n"
    }
   }
  },
  {
   "cell_type": "code",
   "execution_count": 25,
   "outputs": [],
   "source": [
    "# LOGGING THE MODEL\n",
    "log_writer.write(\"Model\", line_divider=True)\n",
    "log_writer.write(\"Model name: \" + model_name)\n",
    "log_writer.write(short_model_summary)"
   ],
   "metadata": {
    "collapsed": false,
    "pycharm": {
     "name": "#%%\n"
    }
   }
  },
  {
   "cell_type": "code",
   "execution_count": 26,
   "outputs": [],
   "source": [
    "# MODELS CALLBACK AND SETUP\n",
    "callback_list = [\n",
    "    callbacks.ModelCheckpoint(SAVED_BEST_MODEL, save_best_only=True, monitor=\"val_loss\"),\n",
    "    callbacks.ReduceLROnPlateau(monitor=\"val_loss\", factor=0.5, patience=25, min_lr=0.0001),\n",
    "    callbacks.EarlyStopping(monitor=\"val_loss\", patience=50, verbose=1)\n",
    "]\n",
    "if enabled_tensor_board:\n",
    "    callback_list.append(callbacks.TensorBoard(log_dir=tensorboard_dir, histogram_freq=1))\n",
    "if log_writer.enabled:\n",
    "    callback_list.append(\n",
    "        callbacks.ModelCheckpoint(log_writer.base_folder + \"/model.h5\", save_best_only=True, monitor=\"val_loss\")\n",
    "    )\n",
    "model.compile(\n",
    "    optimizer=optimizer,\n",
    "    loss=loss_function,\n",
    "    metrics=[\"sparse_categorical_accuracy\"],\n",
    ")"
   ],
   "metadata": {
    "collapsed": false,
    "pycharm": {
     "name": "#%%\n"
    }
   }
  },
  {
   "cell_type": "code",
   "execution_count": 27,
   "outputs": [
    {
     "name": "stdout",
     "output_type": "stream",
     "text": [
      "****************************************************\n",
      "Starting to train...\n",
      "Epoch 1/100\n",
      "496/496 [==============================] - 37s 71ms/step - loss: 1.3219 - sparse_categorical_accuracy: 0.3926 - val_loss: 1.4839 - val_sparse_categorical_accuracy: 0.3967 - lr: 0.0010\n",
      "Epoch 2/100\n",
      "496/496 [==============================] - 39s 80ms/step - loss: 0.9938 - sparse_categorical_accuracy: 0.5616 - val_loss: 1.5020 - val_sparse_categorical_accuracy: 0.5776 - lr: 0.0010\n",
      "Epoch 3/100\n",
      "496/496 [==============================] - 39s 78ms/step - loss: 0.7858 - sparse_categorical_accuracy: 0.6908 - val_loss: 1.7881 - val_sparse_categorical_accuracy: 0.5645 - lr: 0.0010\n",
      "Epoch 4/100\n",
      "496/496 [==============================] - 42s 85ms/step - loss: 0.6902 - sparse_categorical_accuracy: 0.7415 - val_loss: 1.5614 - val_sparse_categorical_accuracy: 0.5872 - lr: 0.0010\n",
      "Epoch 5/100\n",
      "496/496 [==============================] - 42s 85ms/step - loss: 0.6279 - sparse_categorical_accuracy: 0.7742 - val_loss: 1.8428 - val_sparse_categorical_accuracy: 0.5348 - lr: 0.0010\n",
      "Epoch 6/100\n",
      "496/496 [==============================] - 41s 83ms/step - loss: 0.5821 - sparse_categorical_accuracy: 0.7957 - val_loss: 1.9799 - val_sparse_categorical_accuracy: 0.5897 - lr: 0.0010\n",
      "Epoch 7/100\n",
      "496/496 [==============================] - 41s 83ms/step - loss: 0.5396 - sparse_categorical_accuracy: 0.8182 - val_loss: 2.6024 - val_sparse_categorical_accuracy: 0.5166 - lr: 0.0010\n",
      "Epoch 8/100\n",
      "496/496 [==============================] - 42s 85ms/step - loss: 0.5075 - sparse_categorical_accuracy: 0.8296 - val_loss: 2.2901 - val_sparse_categorical_accuracy: 0.5418 - lr: 0.0010\n",
      "Epoch 9/100\n",
      "496/496 [==============================] - 44s 89ms/step - loss: 0.4884 - sparse_categorical_accuracy: 0.8396 - val_loss: 2.3964 - val_sparse_categorical_accuracy: 0.5393 - lr: 0.0010\n",
      "Epoch 10/100\n",
      "496/496 [==============================] - 46s 92ms/step - loss: 0.4628 - sparse_categorical_accuracy: 0.8459 - val_loss: 3.1110 - val_sparse_categorical_accuracy: 0.5292 - lr: 0.0010\n",
      "Epoch 11/100\n",
      "496/496 [==============================] - 43s 86ms/step - loss: 0.4420 - sparse_categorical_accuracy: 0.8531 - val_loss: 2.8194 - val_sparse_categorical_accuracy: 0.5570 - lr: 0.0010\n",
      "Epoch 12/100\n",
      "496/496 [==============================] - 43s 87ms/step - loss: 0.4250 - sparse_categorical_accuracy: 0.8593 - val_loss: 2.3171 - val_sparse_categorical_accuracy: 0.5953 - lr: 0.0010\n",
      "Epoch 13/100\n",
      "496/496 [==============================] - 41s 82ms/step - loss: 0.4177 - sparse_categorical_accuracy: 0.8579 - val_loss: 2.2750 - val_sparse_categorical_accuracy: 0.5943 - lr: 0.0010\n",
      "Epoch 14/100\n",
      "496/496 [==============================] - 49s 98ms/step - loss: 0.3992 - sparse_categorical_accuracy: 0.8681 - val_loss: 2.0728 - val_sparse_categorical_accuracy: 0.5932 - lr: 0.0010\n",
      "Epoch 15/100\n",
      "496/496 [==============================] - 55s 111ms/step - loss: 0.3931 - sparse_categorical_accuracy: 0.8674 - val_loss: 2.2870 - val_sparse_categorical_accuracy: 0.6018 - lr: 0.0010\n",
      "Epoch 16/100\n",
      "496/496 [==============================] - 44s 88ms/step - loss: 0.3872 - sparse_categorical_accuracy: 0.8708 - val_loss: 1.9974 - val_sparse_categorical_accuracy: 0.6169 - lr: 0.0010\n",
      "Epoch 17/100\n",
      "496/496 [==============================] - 44s 89ms/step - loss: 0.3662 - sparse_categorical_accuracy: 0.8771 - val_loss: 2.5424 - val_sparse_categorical_accuracy: 0.5600 - lr: 0.0010\n",
      "Epoch 18/100\n",
      "496/496 [==============================] - 45s 91ms/step - loss: 0.3638 - sparse_categorical_accuracy: 0.8807 - val_loss: 2.2928 - val_sparse_categorical_accuracy: 0.5731 - lr: 0.0010\n",
      "Epoch 19/100\n",
      "496/496 [==============================] - 41s 84ms/step - loss: 0.3498 - sparse_categorical_accuracy: 0.8827 - val_loss: 2.9150 - val_sparse_categorical_accuracy: 0.5055 - lr: 0.0010\n",
      "Epoch 20/100\n",
      "496/496 [==============================] - 42s 85ms/step - loss: 0.3473 - sparse_categorical_accuracy: 0.8851 - val_loss: 2.9757 - val_sparse_categorical_accuracy: 0.5030 - lr: 0.0010\n",
      "Epoch 21/100\n",
      "496/496 [==============================] - 41s 82ms/step - loss: 0.3476 - sparse_categorical_accuracy: 0.8855 - val_loss: 2.8160 - val_sparse_categorical_accuracy: 0.5141 - lr: 0.0010\n",
      "Epoch 22/100\n",
      "496/496 [==============================] - 42s 84ms/step - loss: 0.3441 - sparse_categorical_accuracy: 0.8846 - val_loss: 2.8456 - val_sparse_categorical_accuracy: 0.4899 - lr: 0.0010\n",
      "Epoch 23/100\n",
      "496/496 [==============================] - 40s 81ms/step - loss: 0.3376 - sparse_categorical_accuracy: 0.8898 - val_loss: 2.5436 - val_sparse_categorical_accuracy: 0.5247 - lr: 0.0010\n",
      "Epoch 24/100\n",
      "496/496 [==============================] - 42s 85ms/step - loss: 0.3272 - sparse_categorical_accuracy: 0.8951 - val_loss: 2.3962 - val_sparse_categorical_accuracy: 0.5393 - lr: 0.0010\n",
      "Epoch 25/100\n",
      "496/496 [==============================] - 43s 86ms/step - loss: 0.3219 - sparse_categorical_accuracy: 0.8953 - val_loss: 2.3877 - val_sparse_categorical_accuracy: 0.5570 - lr: 0.0010\n",
      "Epoch 26/100\n",
      "496/496 [==============================] - 41s 84ms/step - loss: 0.3191 - sparse_categorical_accuracy: 0.8972 - val_loss: 2.0897 - val_sparse_categorical_accuracy: 0.6104 - lr: 0.0010\n",
      "Epoch 27/100\n",
      "496/496 [==============================] - 41s 83ms/step - loss: 0.2829 - sparse_categorical_accuracy: 0.9089 - val_loss: 2.5179 - val_sparse_categorical_accuracy: 0.5827 - lr: 5.0000e-04\n",
      "Epoch 28/100\n",
      "496/496 [==============================] - 42s 84ms/step - loss: 0.2727 - sparse_categorical_accuracy: 0.9113 - val_loss: 2.5705 - val_sparse_categorical_accuracy: 0.5368 - lr: 5.0000e-04\n",
      "Epoch 29/100\n",
      "496/496 [==============================] - 43s 86ms/step - loss: 0.2824 - sparse_categorical_accuracy: 0.9096 - val_loss: 2.7097 - val_sparse_categorical_accuracy: 0.5912 - lr: 5.0000e-04\n",
      "Epoch 30/100\n",
      "496/496 [==============================] - 44s 88ms/step - loss: 0.2740 - sparse_categorical_accuracy: 0.9108 - val_loss: 2.5639 - val_sparse_categorical_accuracy: 0.5670 - lr: 5.0000e-04\n",
      "Epoch 31/100\n",
      "496/496 [==============================] - 43s 86ms/step - loss: 0.2619 - sparse_categorical_accuracy: 0.9174 - val_loss: 2.8658 - val_sparse_categorical_accuracy: 0.5494 - lr: 5.0000e-04\n",
      "Epoch 32/100\n",
      "496/496 [==============================] - 41s 83ms/step - loss: 0.2615 - sparse_categorical_accuracy: 0.9144 - val_loss: 2.8068 - val_sparse_categorical_accuracy: 0.5575 - lr: 5.0000e-04\n",
      "Epoch 33/100\n",
      "496/496 [==============================] - 41s 83ms/step - loss: 0.2634 - sparse_categorical_accuracy: 0.9151 - val_loss: 2.8273 - val_sparse_categorical_accuracy: 0.5645 - lr: 5.0000e-04\n",
      "Epoch 34/100\n",
      "496/496 [==============================] - 40s 82ms/step - loss: 0.2604 - sparse_categorical_accuracy: 0.9147 - val_loss: 2.5659 - val_sparse_categorical_accuracy: 0.5731 - lr: 5.0000e-04\n",
      "Epoch 35/100\n",
      "496/496 [==============================] - 42s 84ms/step - loss: 0.2613 - sparse_categorical_accuracy: 0.9137 - val_loss: 2.6456 - val_sparse_categorical_accuracy: 0.5726 - lr: 5.0000e-04\n",
      "Epoch 36/100\n",
      "496/496 [==============================] - 43s 86ms/step - loss: 0.2550 - sparse_categorical_accuracy: 0.9173 - val_loss: 3.1167 - val_sparse_categorical_accuracy: 0.5373 - lr: 5.0000e-04\n",
      "Epoch 37/100\n",
      "496/496 [==============================] - 42s 84ms/step - loss: 0.2544 - sparse_categorical_accuracy: 0.9175 - val_loss: 2.3914 - val_sparse_categorical_accuracy: 0.5665 - lr: 5.0000e-04\n",
      "Epoch 38/100\n",
      "496/496 [==============================] - 42s 85ms/step - loss: 0.2522 - sparse_categorical_accuracy: 0.9188 - val_loss: 3.0623 - val_sparse_categorical_accuracy: 0.5197 - lr: 5.0000e-04\n",
      "Epoch 39/100\n",
      "496/496 [==============================] - 41s 83ms/step - loss: 0.2454 - sparse_categorical_accuracy: 0.9212 - val_loss: 2.4867 - val_sparse_categorical_accuracy: 0.5786 - lr: 5.0000e-04\n",
      "Epoch 40/100\n",
      "496/496 [==============================] - 41s 83ms/step - loss: 0.2484 - sparse_categorical_accuracy: 0.9196 - val_loss: 2.5090 - val_sparse_categorical_accuracy: 0.5529 - lr: 5.0000e-04\n",
      "Epoch 41/100\n",
      "496/496 [==============================] - 41s 83ms/step - loss: 0.2397 - sparse_categorical_accuracy: 0.9246 - val_loss: 2.6925 - val_sparse_categorical_accuracy: 0.5559 - lr: 5.0000e-04\n",
      "Epoch 42/100\n",
      "496/496 [==============================] - 44s 90ms/step - loss: 0.2415 - sparse_categorical_accuracy: 0.9240 - val_loss: 2.8191 - val_sparse_categorical_accuracy: 0.5565 - lr: 5.0000e-04\n",
      "Epoch 43/100\n",
      "496/496 [==============================] - 44s 89ms/step - loss: 0.2448 - sparse_categorical_accuracy: 0.9212 - val_loss: 2.7751 - val_sparse_categorical_accuracy: 0.5650 - lr: 5.0000e-04\n",
      "Epoch 44/100\n",
      "496/496 [==============================] - 46s 94ms/step - loss: 0.2414 - sparse_categorical_accuracy: 0.9218 - val_loss: 2.9292 - val_sparse_categorical_accuracy: 0.5050 - lr: 5.0000e-04\n",
      "Epoch 45/100\n",
      "496/496 [==============================] - 45s 90ms/step - loss: 0.2462 - sparse_categorical_accuracy: 0.9220 - val_loss: 2.5122 - val_sparse_categorical_accuracy: 0.5701 - lr: 5.0000e-04\n",
      "Epoch 46/100\n",
      "496/496 [==============================] - 38s 77ms/step - loss: 0.2398 - sparse_categorical_accuracy: 0.9235 - val_loss: 2.4858 - val_sparse_categorical_accuracy: 0.5736 - lr: 5.0000e-04\n",
      "Epoch 47/100\n",
      "496/496 [==============================] - 42s 85ms/step - loss: 0.2393 - sparse_categorical_accuracy: 0.9238 - val_loss: 2.5975 - val_sparse_categorical_accuracy: 0.5872 - lr: 5.0000e-04\n",
      "Epoch 48/100\n",
      "496/496 [==============================] - 46s 92ms/step - loss: 0.2377 - sparse_categorical_accuracy: 0.9241 - val_loss: 2.5538 - val_sparse_categorical_accuracy: 0.6013 - lr: 5.0000e-04\n",
      "Epoch 49/100\n",
      "496/496 [==============================] - 48s 97ms/step - loss: 0.2325 - sparse_categorical_accuracy: 0.9257 - val_loss: 2.6602 - val_sparse_categorical_accuracy: 0.5736 - lr: 5.0000e-04\n",
      "Epoch 50/100\n",
      "496/496 [==============================] - 47s 95ms/step - loss: 0.2420 - sparse_categorical_accuracy: 0.9227 - val_loss: 2.5970 - val_sparse_categorical_accuracy: 0.6195 - lr: 5.0000e-04\n",
      "Epoch 51/100\n",
      "496/496 [==============================] - 45s 90ms/step - loss: 0.2322 - sparse_categorical_accuracy: 0.9255 - val_loss: 2.7119 - val_sparse_categorical_accuracy: 0.5706 - lr: 5.0000e-04\n",
      "Epoch 51: early stopping\n",
      "Total training time in seconds: 2181.7326097488403\n",
      "Highest validation accuracy:  0.6194556355476379\n"
     ]
    },
    {
     "name": "stderr",
     "output_type": "stream",
     "text": [
      "Input #0, wav, from '/var/folders/ph/8yv0q18n4mb1439tnf3rzcf40000gp/T/tmpk90qqerl.wav':\n",
      "  Duration: 00:00:02.27, bitrate: 705 kb/s\n",
      "  Stream #0:0: Audio: pcm_s16le ([1][0][0][0] / 0x0001), 44100 Hz, 1 channels, s16, 705 kb/s\n",
      "   2.12 M-A:  0.000 fd=   0 aq=    0KB vq=    0KB sq=    0B f=0/0   \r"
     ]
    },
    {
     "name": "stdout",
     "output_type": "stream",
     "text": [
      "\n"
     ]
    },
    {
     "name": "stderr",
     "output_type": "stream",
     "text": [
      "   2.19 M-A: -0.000 fd=   0 aq=    0KB vq=    0KB sq=    0B f=0/0   \r"
     ]
    }
   ],
   "source": [
    "# TRAINING\n",
    "print_line_divider()\n",
    "print(\"Starting to train...\")\n",
    "\n",
    "start_time = time.time()\n",
    "history = model.fit(\n",
    "    x_train,\n",
    "    y_train,\n",
    "    batch_size=batch_size,\n",
    "    epochs=epochs,\n",
    "    callbacks=callback_list,\n",
    "    validation_split=validation_split,\n",
    "    verbose=1,\n",
    "    shuffle=True\n",
    ")\n",
    "end_time = time.time()\n",
    "training_time = end_time - start_time\n",
    "print(\"Total training time in seconds: \" + str(training_time))\n",
    "print(\"Highest validation accuracy: \", max(history.history['val_sparse_categorical_accuracy']))\n",
    "log_writer.write(\"Result\", line_divider=True)\n",
    "log_writer.write(\"Training time: \" + str(end_time - start_time) + \" seconds.\")\n",
    "log_writer.write(\"Highest validation accuracy: \" + str(max(history.history['val_sparse_categorical_accuracy'])))\n",
    "play_training_is_complete()"
   ],
   "metadata": {
    "collapsed": false,
    "pycharm": {
     "name": "#%%\n"
    }
   }
  },
  {
   "cell_type": "code",
   "execution_count": 28,
   "outputs": [],
   "source": [
    "if log_writer.enabled:\n",
    "    model.save(log_writer.base_folder + \"/model_last.h5\")"
   ],
   "metadata": {
    "collapsed": false,
    "pycharm": {
     "name": "#%%\n"
    }
   }
  },
  {
   "cell_type": "code",
   "execution_count": 29,
   "outputs": [
    {
     "data": {
      "text/plain": "<Figure size 432x288 with 1 Axes>",
      "image/png": "[encoded data removed]"
     },
     "metadata": {
      "needs_background": "light"
     },
     "output_type": "display_data"
    }
   ],
   "source": [
    "# PLOTTING\n",
    "metric = \"sparse_categorical_accuracy\"\n",
    "plt.figure()\n",
    "plt.plot(history.history[metric])\n",
    "plt.plot(history.history[\"val_\" + metric])\n",
    "plt.title(\"model \" + model_name + \" :\" + metric)\n",
    "plt.ylabel(metric, fontsize=\"large\")\n",
    "plt.xlabel(\"epoch\", fontsize=\"large\")\n",
    "plt.legend([\"train\", \"val\"], loc=\"best\")\n",
    "if log_writer.enabled:\n",
    "    plt.savefig(os.path.join(log_writer.base_folder, \"Validation progress.png\"))\n",
    "plt.show()\n",
    "plt.close()"
   ],
   "metadata": {
    "collapsed": false,
    "pycharm": {
     "name": "#%%\n"
    }
   }
  },
  {
   "cell_type": "code",
   "execution_count": 30,
   "outputs": [
    {
     "name": "stdout",
     "output_type": "stream",
     "text": [
      "136/136 [==============================] - 6s 42ms/step - loss: 1.2296 - sparse_categorical_accuracy: 0.4104\n",
      "****************************************************\n",
      "Test accuracy 0.410356730222702\n",
      "Test loss 1.2295557260513306\n",
      "Metrics report: \n",
      "              precision    recall  f1-score   support\n",
      "\n",
      "         0.0       0.47      0.19      0.28       855\n",
      "         1.0       0.39      0.63      0.48       912\n",
      "         2.0       0.27      0.11      0.16       882\n",
      "         3.0       0.48      0.87      0.62       833\n",
      "         4.0       0.34      0.25      0.29       863\n",
      "\n",
      "    accuracy                           0.41      4345\n",
      "   macro avg       0.39      0.41      0.37      4345\n",
      "weighted avg       0.39      0.41      0.36      4345\n",
      "\n"
     ]
    },
    {
     "data": {
      "text/plain": "<Figure size 576x576 with 2 Axes>",
      "image/png": "[encoded data removed]"
     },
     "metadata": {
      "needs_background": "light"
     },
     "output_type": "display_data"
    }
   ],
   "source": [
    "# EVALUATION\n",
    "model = models.load_model(SAVED_BEST_MODEL)\n",
    "test_loss, test_acc = model.evaluate(x_test, y_test)\n",
    "print_line_divider()\n",
    "print(\"Test accuracy\", test_acc)\n",
    "print(\"Test loss\", test_loss)\n",
    "\n",
    "# Accuracy based on different labels\n",
    "y_pred = model.predict(x_test)\n",
    "y_pred = np.argmax(y_pred, axis=1)\n",
    "metrics_report = classification_report(y_test, y_pred)\n",
    "print(\"Metrics report: \")\n",
    "print(metrics_report)\n",
    "\n",
    "con_mat = tf.math.confusion_matrix(labels=y_test, predictions=y_pred).numpy()\n",
    "con_mat_norm = np.around(con_mat.astype('float') / con_mat.sum(axis=1)[:, np.newaxis], decimals=4)\n",
    "con_mat_df = pd.DataFrame(con_mat_norm, index=location_labels, columns=location_labels)\n",
    "figure = plt.figure(figsize=(8, 8))\n",
    "sns.heatmap(con_mat_df, annot=True, cmap=plt.cm.Blues)\n",
    "plt.tight_layout()\n",
    "plt.ylabel('True label')\n",
    "plt.xlabel('Predicted label')\n",
    "if log_writer.enabled:\n",
    "    plt.savefig(os.path.join(log_writer.base_folder, \"Accuracy.png\"))\n",
    "plt.show()\n",
    "plt.close()\n",
    "\n",
    "log_writer.write(\"Test evaluation\", line_divider=True)\n",
    "log_writer.write(\"Test accuracy: \" + str(test_acc))\n",
    "log_writer.write(\"Test loss: \" + str(test_loss))\n",
    "log_writer.write(\"Metric report: \")\n",
    "log_writer.write(metrics_report)\n",
    "log_writer.close()"
   ],
   "metadata": {
    "collapsed": false,
    "pycharm": {
     "name": "#%%\n"
    }
   }
  },
  {
   "cell_type": "code",
   "execution_count": null,
   "outputs": [],
   "source": [],
   "metadata": {
    "collapsed": false,
    "pycharm": {
     "name": "#%%\n"
    }
   }
  }
 ],
 "metadata": {
  "kernelspec": {
   "display_name": "Python 3",
   "language": "python",
   "name": "python3"
  },
  "language_info": {
   "codemirror_mode": {
    "name": "ipython",
    "version": 2
   },
   "file_extension": ".py",
   "mimetype": "text/x-python",
   "name": "python",
   "nbconvert_exporter": "python",
   "pygments_lexer": "ipython2",
   "version": "2.7.6"
  }
 },
 "nbformat": 4,
 "nbformat_minor": 0
}