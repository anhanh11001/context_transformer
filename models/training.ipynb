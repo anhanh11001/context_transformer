{
 "cells": [
  {
   "cell_type": "code",
   "execution_count": 1,
   "outputs": [],
   "source": [
    "import os.path\n",
    "import sys\n",
    "\n",
    "import keras.metrics\n",
    "from keras import callbacks, models, metrics\n",
    "from datahandler.constants import all_features, data_version, acc_features, tensorboard_dir, location_labels, mag_features\n",
    "from datahandler.data_preprocessing import get_train_test_data, load_data_v3\n",
    "from models.log_writer import LogWriter\n",
    "from model.lstm import make_lstm_model_v1\n",
    "from model.transformer import make_transformer_model_v1, make_transformer_model_v2\n",
    "from model.cnn import make_cnn_model_v1, make_cnn_model_v2\n",
    "import matplotlib.pyplot as plt\n",
    "from utils import print_line_divider\n",
    "import numpy as np\n",
    "import tensorflow as tf\n",
    "import pandas as pd\n",
    "import seaborn as sns\n",
    "from datahandler.data_preprocessing_from_jupyter import load_train_test_data_raw_normalized,load_train_test_data_added_features_normalized, load_train_test_data_added_features_pca\n",
    "from audio.audio import play_training_is_complete\n",
    "from sklearn.metrics import classification_report\n",
    "import time"
   ],
   "metadata": {
    "collapsed": false,
    "pycharm": {
     "name": "#%%\n"
    }
   }
  },
  {
   "cell_type": "code",
   "execution_count": 2,
   "outputs": [],
   "source": [
    "# LOGGING CONFIGURATION\n",
    "enabled_log = False\n",
    "enabled_tensor_board = False\n",
    "log_writer = LogWriter(enabled_log)"
   ],
   "metadata": {
    "collapsed": false,
    "pycharm": {
     "name": "#%%\n"
    }
   }
  },
  {
   "cell_type": "code",
   "execution_count": 8,
   "outputs": [
    {
     "name": "stdout",
     "output_type": "stream",
     "text": [
      "STARTING THE TRAINING PROCESS\n"
     ]
    }
   ],
   "source": [
    "# TRAINING CONFIGURATION\n",
    "print(\"STARTING THE TRAINING PROCESS\")\n",
    "SAVED_BEST_MODEL = \"model/best_model.h5\"\n",
    "window_time_in_seconds = 2\n",
    "window_size = 40\n",
    "epochs = 200\n",
    "batch_size = 32\n",
    "validation_split = 1 / 8\n",
    "optimizer = 'adam'\n",
    "loss_function = \"sparse_categorical_crossentropy\"\n",
    "supported_features = all_features"
   ],
   "metadata": {
    "collapsed": false,
    "pycharm": {
     "name": "#%%\n"
    }
   }
  },
  {
   "cell_type": "code",
   "execution_count": 9,
   "outputs": [],
   "source": [
    "log_writer.write(\"Configuration\", line_divider=True)\n",
    "log_writer.write(\n",
    "    f\"\"\"Window size: {window_size}\n",
    "Window time in second: {window_time_in_seconds}\n",
    "Maximum number of epochs: {epochs}\n",
    "Batch size: {batch_size}\n",
    "Validation split: {validation_split}\n",
    "Optimizer: {optimizer}\n",
    "Loss function: {loss_function}\"\"\"\n",
    ")"
   ],
   "metadata": {
    "collapsed": false,
    "pycharm": {
     "name": "#%%\n"
    }
   }
  },
  {
   "cell_type": "code",
   "execution_count": 5,
   "outputs": [
    {
     "name": "stdout",
     "output_type": "stream",
     "text": [
      "****************************************************\n",
      "Preparing data...\n",
      "Loading from file: /Users/duc.letran/Desktop/FINAL PROJECT/context_transformer/data/v4/train/mm5_datacollection.csv (1/10)\n",
      "Loading from file: /Users/duc.letran/Desktop/FINAL PROJECT/context_transformer/data/v4/train/ds2_datacollection.csv (2/10)\n",
      "Loading from file: /Users/duc.letran/Desktop/FINAL PROJECT/context_transformer/data/v4/train/ds1_datacollection.csv (3/10)\n",
      "Loading from file: /Users/duc.letran/Desktop/FINAL PROJECT/context_transformer/data/v4/train/ds4_datacollection.csv (4/10)\n",
      "Loading from file: /Users/duc.letran/Desktop/FINAL PROJECT/context_transformer/data/v4/train/mm3_datacollection.csv (5/10)\n",
      "Loading from file: /Users/duc.letran/Desktop/FINAL PROJECT/context_transformer/data/v4/train/ds5_datacollection.csv (6/10)\n",
      "Loading from file: /Users/duc.letran/Desktop/FINAL PROJECT/context_transformer/data/v4/train/mm2_datacollection.csv (7/10)\n",
      "Loading from file: /Users/duc.letran/Desktop/FINAL PROJECT/context_transformer/data/v4/train/mm1_datacollection.csv (8/10)\n",
      "Loading from file: /Users/duc.letran/Desktop/FINAL PROJECT/context_transformer/data/v4/train/mm4_datacollection.csv (9/10)\n",
      "Loading from file: /Users/duc.letran/Desktop/FINAL PROJECT/context_transformer/data/v4/train/ds3_datacollection.csv (10/10)\n",
      "Train data shape: (2347, 40, 9) | Train label shape: (2347,)\n",
      "Test data shape: (650, 40, 9) | Test label shape: (650,)\n",
      "****************************************************\n"
     ]
    }
   ],
   "source": [
    "# DATA Loader\n",
    "print_line_divider()\n",
    "print(\"Preparing data...\")\n",
    "# x_train, y_train, x_test, y_test = get_train_test_data(supported_features, window_time_in_seconds, window_size)\n",
    "# x_train, y_train, x_test, y_test = load_data_v3(\n",
    "#     features = supported_features,\n",
    "#     window_time_in_seconds = window_time_in_seconds,\n",
    "#     window_size = window_size\n",
    "# )\n",
    "x_train, y_train, x_test, y_test = load_train_test_data_raw_normalized(selected_features=all_features)\n",
    "print(\"Train data shape: \" + str(x_train.shape) + \" | Train label shape: \" + str(y_train.shape))\n",
    "print(\"Test data shape: \" + str(x_test.shape) + \" | Test label shape: \" + str(y_test.shape))\n",
    "print_line_divider()\n"
   ],
   "metadata": {
    "collapsed": false,
    "pycharm": {
     "name": "#%%\n"
    }
   }
  },
  {
   "cell_type": "code",
   "execution_count": 6,
   "outputs": [],
   "source": [
    "log_writer.write(\"Data\", line_divider=True)\n",
    "log_writer.write(\"Data loaded from version \" + data_version)\n",
    "log_writer.write(\n",
    "    f\"\"\"Data training shape: ${x_train.shape}\n",
    "Data testing shape: ${x_test.shape}\"\"\"\n",
    ")"
   ],
   "metadata": {
    "collapsed": false,
    "pycharm": {
     "name": "#%%\n"
    }
   }
  },
  {
   "cell_type": "code",
   "execution_count": 7,
   "outputs": [
    {
     "name": "stdout",
     "output_type": "stream",
     "text": [
      "****************************************************\n",
      "Distribution for set Training set\n",
      "\n",
      "holdinginhand count is 472\n",
      "calling count is 463\n",
      "beingusedinhand count is 470\n",
      "insidethepantpocket count is 470\n",
      "insidethebag count is 472\n",
      "****************************************************\n",
      "Distribution for set Testing set\n",
      "\n",
      "holdinginhand count is 127\n",
      "calling count is 137\n",
      "beingusedinhand count is 130\n",
      "insidethepantpocket count is 129\n",
      "insidethebag count is 127\n"
     ]
    }
   ],
   "source": [
    "def check_distribution(labels_list, set_name):\n",
    "    label_count_dict = {}\n",
    "    for label_ind in labels_list:\n",
    "        if label_ind in label_count_dict.keys():\n",
    "            label_count_dict[label_ind] += 1\n",
    "        else:\n",
    "            label_count_dict[label_ind] = 1\n",
    "\n",
    "    print_line_divider()\n",
    "    print(\"Distribution for set \" + set_name + \"\\n\")\n",
    "    for key in label_count_dict:\n",
    "        key = int(key)\n",
    "        print(location_labels[key] + \" count is \" + str(label_count_dict[key]))\n",
    "\n",
    "\n",
    "check_distribution(y_train, \"Training set\")\n",
    "check_distribution(y_test, \"Testing set\")"
   ],
   "metadata": {
    "collapsed": false,
    "pycharm": {
     "name": "#%%\n"
    }
   }
  },
  {
   "cell_type": "code",
   "execution_count": 8,
   "outputs": [
    {
     "name": "stdout",
     "output_type": "stream",
     "text": [
      "Input shape: (40, 9)\n"
     ]
    }
   ],
   "source": [
    "if len(x_train.shape) == 2:\n",
    "    input_shape = (x_train.shape[1], 1)\n",
    "else:\n",
    "    input_shape = x_train.shape[1:]\n",
    "print(\"Input shape: \" + str(input_shape))"
   ],
   "metadata": {
    "collapsed": false,
    "pycharm": {
     "name": "#%%\n"
    }
   }
  },
  {
   "cell_type": "code",
   "execution_count": 2,
   "outputs": [
    {
     "name": "stderr",
     "output_type": "stream",
     "text": [
      "2022-06-13 16:20:05.339932: I tensorflow/core/platform/cpu_feature_guard.cc:151] This TensorFlow binary is optimized with oneAPI Deep Neural Network Library (oneDNN) to use the following CPU instructions in performance-critical operations:  AVX2 FMA\n",
      "To enable them in other operations, rebuild TensorFlow with the appropriate compiler flags.\n"
     ]
    },
    {
     "name": "stdout",
     "output_type": "stream",
     "text": [
      "Model Summary:\n",
      "Model: \"sequential\"\n",
      "_________________________________________________________________\n",
      " Layer (type)                Output Shape              Param #   \n",
      "=================================================================\n",
      " lstm (LSTM)                 (None, 60)                16800     \n",
      "                                                                 \n",
      " dropout (Dropout)           (None, 60)                0         \n",
      "                                                                 \n",
      " dense (Dense)               (None, 100)               6100      \n",
      "                                                                 \n",
      " dense_1 (Dense)             (None, 5)                 505       \n",
      "                                                                 \n",
      "=================================================================\n",
      "Total params: 23,405\n",
      "Trainable params: 23,405\n",
      "Non-trainable params: 0\n",
      "_________________________________________________________________\n",
      "****************************************************\n",
      "None\n"
     ]
    }
   ],
   "source": [
    "# SETTING UP THE MODEL\n",
    "input_shape = (40,9)\n",
    "# input_shape = x_train.shape[1:] # (window_size, len(supported_features))\n",
    "# model_name, model = make_cnn_model_v1(input_shape=input_shape)\n",
    "model_name, model = make_lstm_model_v1(input_shape=input_shape)\n",
    "# model_name, model = make_transformer_model_v1(\n",
    "#     input_shape=input_shape,\n",
    "#     head_size=64,\n",
    "#     num_heads=3,\n",
    "#     ff_dim=4,\n",
    "#     num_transformer_blocks=2,\n",
    "#     mlp_units=[128],\n",
    "#     mlp_dropout=0.4,\n",
    "#     dropout=0.25,\n",
    "# )\n",
    "# model_name, model = make_transformer_model_v2(input_shape=input_shape)\n",
    "print(\"Model Summary:\")\n",
    "stringlist = []\n",
    "model.summary(print_fn=lambda x: stringlist.append(x))\n",
    "short_model_summary = \"\\n\".join(stringlist)\n",
    "print(short_model_summary)\n",
    "print(print_line_divider())"
   ],
   "metadata": {
    "collapsed": false,
    "pycharm": {
     "name": "#%%\n"
    }
   }
  },
  {
   "cell_type": "code",
   "execution_count": 10,
   "outputs": [],
   "source": [
    "# LOGGING THE MODEL\n",
    "log_writer.write(\"Model\", line_divider=True)\n",
    "log_writer.write(\"Model name: \" + model_name)\n",
    "log_writer.write(short_model_summary)"
   ],
   "metadata": {
    "collapsed": false,
    "pycharm": {
     "name": "#%%\n"
    }
   }
  },
  {
   "cell_type": "code",
   "execution_count": 11,
   "outputs": [],
   "source": [
    "# MODELS CALLBACK AND SETUP\n",
    "callback_list = [\n",
    "    callbacks.ModelCheckpoint(SAVED_BEST_MODEL, save_best_only=True, monitor=\"val_loss\"),\n",
    "    callbacks.ReduceLROnPlateau(monitor=\"val_loss\", factor=0.5, patience=50, min_lr=0.0001),\n",
    "    callbacks.EarlyStopping(monitor=\"val_loss\", patience=100, verbose=1)\n",
    "]\n",
    "if enabled_tensor_board:\n",
    "    callback_list.append(callbacks.TensorBoard(log_dir=tensorboard_dir, histogram_freq=1))\n",
    "if log_writer.enabled:\n",
    "    callback_list.append(\n",
    "        callbacks.ModelCheckpoint(log_writer.base_folder + \"/model.h5\", save_best_only=True, monitor=\"val_loss\")\n",
    "    )\n",
    "model.compile(\n",
    "    optimizer=optimizer,\n",
    "    loss=loss_function,\n",
    "    metrics=[\"sparse_categorical_accuracy\"],\n",
    ")"
   ],
   "metadata": {
    "collapsed": false,
    "pycharm": {
     "name": "#%%\n"
    }
   }
  },
  {
   "cell_type": "code",
   "execution_count": 12,
   "outputs": [
    {
     "name": "stdout",
     "output_type": "stream",
     "text": [
      "****************************************************\n",
      "Starting to train...\n",
      "Epoch 1/200\n",
      "65/65 [==============================] - 2s 16ms/step - loss: 0.5046 - sparse_categorical_accuracy: 0.8441 - val_loss: 1.6683 - val_sparse_categorical_accuracy: 0.2075 - lr: 0.0010\n",
      "Epoch 2/200\n",
      "65/65 [==============================] - 1s 10ms/step - loss: 0.1447 - sparse_categorical_accuracy: 0.9659 - val_loss: 2.2732 - val_sparse_categorical_accuracy: 0.2075 - lr: 0.0010\n",
      "Epoch 3/200\n",
      "65/65 [==============================] - 1s 11ms/step - loss: 0.0900 - sparse_categorical_accuracy: 0.9795 - val_loss: 3.3797 - val_sparse_categorical_accuracy: 0.1973 - lr: 0.0010\n",
      "Epoch 4/200\n",
      "65/65 [==============================] - 1s 12ms/step - loss: 0.0599 - sparse_categorical_accuracy: 0.9903 - val_loss: 3.7794 - val_sparse_categorical_accuracy: 0.2075 - lr: 0.0010\n",
      "Epoch 5/200\n",
      "65/65 [==============================] - 1s 12ms/step - loss: 0.0448 - sparse_categorical_accuracy: 0.9937 - val_loss: 4.3718 - val_sparse_categorical_accuracy: 0.2075 - lr: 0.0010\n",
      "Epoch 6/200\n",
      "65/65 [==============================] - 1s 11ms/step - loss: 0.0430 - sparse_categorical_accuracy: 0.9912 - val_loss: 4.5408 - val_sparse_categorical_accuracy: 0.2075 - lr: 0.0010\n",
      "Epoch 7/200\n",
      "65/65 [==============================] - 1s 13ms/step - loss: 0.0277 - sparse_categorical_accuracy: 0.9942 - val_loss: 5.5396 - val_sparse_categorical_accuracy: 0.2075 - lr: 0.0010\n",
      "Epoch 8/200\n",
      "65/65 [==============================] - 1s 13ms/step - loss: 0.0169 - sparse_categorical_accuracy: 0.9971 - val_loss: 6.6135 - val_sparse_categorical_accuracy: 0.2075 - lr: 0.0010\n",
      "Epoch 9/200\n",
      "65/65 [==============================] - 1s 13ms/step - loss: 0.0147 - sparse_categorical_accuracy: 0.9976 - val_loss: 6.3331 - val_sparse_categorical_accuracy: 0.2075 - lr: 0.0010\n",
      "Epoch 10/200\n",
      "65/65 [==============================] - 1s 14ms/step - loss: 0.0501 - sparse_categorical_accuracy: 0.9849 - val_loss: 8.0984 - val_sparse_categorical_accuracy: 0.2075 - lr: 0.0010\n",
      "Epoch 11/200\n",
      "65/65 [==============================] - 1s 14ms/step - loss: 0.0227 - sparse_categorical_accuracy: 0.9942 - val_loss: 8.4152 - val_sparse_categorical_accuracy: 0.2075 - lr: 0.0010\n",
      "Epoch 12/200\n",
      "65/65 [==============================] - 1s 13ms/step - loss: 0.0188 - sparse_categorical_accuracy: 0.9956 - val_loss: 9.0054 - val_sparse_categorical_accuracy: 0.2075 - lr: 0.0010\n",
      "Epoch 13/200\n",
      "65/65 [==============================] - 1s 13ms/step - loss: 0.0135 - sparse_categorical_accuracy: 0.9956 - val_loss: 9.1199 - val_sparse_categorical_accuracy: 0.2075 - lr: 0.0010\n",
      "Epoch 14/200\n",
      "65/65 [==============================] - 1s 14ms/step - loss: 0.0296 - sparse_categorical_accuracy: 0.9917 - val_loss: 13.3533 - val_sparse_categorical_accuracy: 0.2075 - lr: 0.0010\n",
      "Epoch 15/200\n",
      "65/65 [==============================] - 1s 19ms/step - loss: 0.0137 - sparse_categorical_accuracy: 0.9976 - val_loss: 10.9659 - val_sparse_categorical_accuracy: 0.2075 - lr: 0.0010\n",
      "Epoch 16/200\n",
      "65/65 [==============================] - 1s 15ms/step - loss: 0.0119 - sparse_categorical_accuracy: 0.9971 - val_loss: 13.1363 - val_sparse_categorical_accuracy: 0.2075 - lr: 0.0010\n",
      "Epoch 17/200\n",
      "65/65 [==============================] - 1s 19ms/step - loss: 0.0203 - sparse_categorical_accuracy: 0.9946 - val_loss: 8.4459 - val_sparse_categorical_accuracy: 0.2075 - lr: 0.0010\n",
      "Epoch 18/200\n",
      "65/65 [==============================] - 1s 18ms/step - loss: 0.0289 - sparse_categorical_accuracy: 0.9903 - val_loss: 10.3225 - val_sparse_categorical_accuracy: 0.2075 - lr: 0.0010\n",
      "Epoch 19/200\n",
      "65/65 [==============================] - 1s 18ms/step - loss: 0.0139 - sparse_categorical_accuracy: 0.9971 - val_loss: 10.0709 - val_sparse_categorical_accuracy: 0.2075 - lr: 0.0010\n",
      "Epoch 20/200\n",
      "65/65 [==============================] - 1s 21ms/step - loss: 0.0106 - sparse_categorical_accuracy: 0.9971 - val_loss: 10.4057 - val_sparse_categorical_accuracy: 0.2041 - lr: 0.0010\n",
      "Epoch 21/200\n",
      "65/65 [==============================] - 1s 19ms/step - loss: 0.0092 - sparse_categorical_accuracy: 0.9985 - val_loss: 9.7538 - val_sparse_categorical_accuracy: 0.2075 - lr: 0.0010\n",
      "Epoch 22/200\n",
      "65/65 [==============================] - 1s 20ms/step - loss: 0.0063 - sparse_categorical_accuracy: 0.9985 - val_loss: 12.1972 - val_sparse_categorical_accuracy: 0.2075 - lr: 0.0010\n",
      "Epoch 23/200\n",
      "65/65 [==============================] - 1s 23ms/step - loss: 0.0042 - sparse_categorical_accuracy: 0.9995 - val_loss: 10.7363 - val_sparse_categorical_accuracy: 0.2075 - lr: 0.0010\n",
      "Epoch 24/200\n",
      "65/65 [==============================] - 2s 24ms/step - loss: 0.0085 - sparse_categorical_accuracy: 0.9981 - val_loss: 9.7315 - val_sparse_categorical_accuracy: 0.2075 - lr: 0.0010\n",
      "Epoch 25/200\n",
      "65/65 [==============================] - 2s 24ms/step - loss: 0.0300 - sparse_categorical_accuracy: 0.9922 - val_loss: 10.4797 - val_sparse_categorical_accuracy: 0.2075 - lr: 0.0010\n",
      "Epoch 26/200\n",
      "65/65 [==============================] - 2s 24ms/step - loss: 0.0275 - sparse_categorical_accuracy: 0.9898 - val_loss: 10.7323 - val_sparse_categorical_accuracy: 0.1735 - lr: 0.0010\n",
      "Epoch 27/200\n",
      "65/65 [==============================] - 2s 25ms/step - loss: 0.0116 - sparse_categorical_accuracy: 0.9976 - val_loss: 10.2465 - val_sparse_categorical_accuracy: 0.2075 - lr: 0.0010\n",
      "Epoch 28/200\n",
      "65/65 [==============================] - 2s 29ms/step - loss: 0.0079 - sparse_categorical_accuracy: 0.9985 - val_loss: 10.3162 - val_sparse_categorical_accuracy: 0.2075 - lr: 0.0010\n",
      "Epoch 29/200\n",
      "65/65 [==============================] - 2s 28ms/step - loss: 0.0041 - sparse_categorical_accuracy: 0.9990 - val_loss: 11.1002 - val_sparse_categorical_accuracy: 0.2075 - lr: 0.0010\n",
      "Epoch 30/200\n",
      "65/65 [==============================] - 2s 31ms/step - loss: 0.0059 - sparse_categorical_accuracy: 0.9966 - val_loss: 10.8452 - val_sparse_categorical_accuracy: 0.2075 - lr: 0.0010\n",
      "Epoch 31/200\n",
      "65/65 [==============================] - 2s 32ms/step - loss: 0.0050 - sparse_categorical_accuracy: 0.9995 - val_loss: 11.0385 - val_sparse_categorical_accuracy: 0.2075 - lr: 0.0010\n",
      "Epoch 32/200\n",
      "65/65 [==============================] - 2s 35ms/step - loss: 0.0038 - sparse_categorical_accuracy: 0.9990 - val_loss: 10.4355 - val_sparse_categorical_accuracy: 0.2075 - lr: 0.0010\n",
      "Epoch 33/200\n",
      "65/65 [==============================] - 2s 33ms/step - loss: 0.0029 - sparse_categorical_accuracy: 1.0000 - val_loss: 9.8281 - val_sparse_categorical_accuracy: 0.2075 - lr: 0.0010\n",
      "Epoch 34/200\n",
      "65/65 [==============================] - 2s 30ms/step - loss: 0.0016 - sparse_categorical_accuracy: 1.0000 - val_loss: 10.1315 - val_sparse_categorical_accuracy: 0.2075 - lr: 0.0010\n",
      "Epoch 35/200\n",
      "65/65 [==============================] - 2s 29ms/step - loss: 0.0039 - sparse_categorical_accuracy: 0.9990 - val_loss: 9.8148 - val_sparse_categorical_accuracy: 0.2075 - lr: 0.0010\n",
      "Epoch 36/200\n",
      "65/65 [==============================] - 2s 28ms/step - loss: 0.0024 - sparse_categorical_accuracy: 0.9995 - val_loss: 9.7285 - val_sparse_categorical_accuracy: 0.2075 - lr: 0.0010\n",
      "Epoch 37/200\n",
      "65/65 [==============================] - 2s 31ms/step - loss: 0.0013 - sparse_categorical_accuracy: 1.0000 - val_loss: 10.3210 - val_sparse_categorical_accuracy: 0.2075 - lr: 0.0010\n",
      "Epoch 38/200\n",
      "65/65 [==============================] - 2s 30ms/step - loss: 0.0022 - sparse_categorical_accuracy: 1.0000 - val_loss: 9.6570 - val_sparse_categorical_accuracy: 0.2075 - lr: 0.0010\n",
      "Epoch 39/200\n",
      "65/65 [==============================] - 2s 32ms/step - loss: 0.0017 - sparse_categorical_accuracy: 1.0000 - val_loss: 9.5855 - val_sparse_categorical_accuracy: 0.2075 - lr: 0.0010\n",
      "Epoch 40/200\n",
      "65/65 [==============================] - 2s 31ms/step - loss: 0.0016 - sparse_categorical_accuracy: 1.0000 - val_loss: 9.6897 - val_sparse_categorical_accuracy: 0.2075 - lr: 0.0010\n",
      "Epoch 41/200\n",
      "65/65 [==============================] - 2s 30ms/step - loss: 0.0035 - sparse_categorical_accuracy: 0.9995 - val_loss: 10.6625 - val_sparse_categorical_accuracy: 0.2075 - lr: 0.0010\n",
      "Epoch 42/200\n",
      "65/65 [==============================] - 2s 32ms/step - loss: 0.0035 - sparse_categorical_accuracy: 0.9990 - val_loss: 11.1358 - val_sparse_categorical_accuracy: 0.2075 - lr: 0.0010\n",
      "Epoch 43/200\n",
      "65/65 [==============================] - 2s 31ms/step - loss: 0.0038 - sparse_categorical_accuracy: 0.9990 - val_loss: 10.5165 - val_sparse_categorical_accuracy: 0.2075 - lr: 0.0010\n",
      "Epoch 44/200\n",
      "65/65 [==============================] - 2s 31ms/step - loss: 0.0018 - sparse_categorical_accuracy: 1.0000 - val_loss: 11.9232 - val_sparse_categorical_accuracy: 0.2075 - lr: 0.0010\n",
      "Epoch 45/200\n",
      "65/65 [==============================] - 2s 32ms/step - loss: 0.0069 - sparse_categorical_accuracy: 0.9985 - val_loss: 11.4132 - val_sparse_categorical_accuracy: 0.2075 - lr: 0.0010\n",
      "Epoch 46/200\n",
      "65/65 [==============================] - 2s 28ms/step - loss: 0.0017 - sparse_categorical_accuracy: 0.9995 - val_loss: 9.9880 - val_sparse_categorical_accuracy: 0.2075 - lr: 0.0010\n",
      "Epoch 47/200\n",
      "65/65 [==============================] - 2s 29ms/step - loss: 0.0013 - sparse_categorical_accuracy: 1.0000 - val_loss: 10.7752 - val_sparse_categorical_accuracy: 0.2075 - lr: 0.0010\n",
      "Epoch 48/200\n",
      "65/65 [==============================] - 2s 29ms/step - loss: 0.0028 - sparse_categorical_accuracy: 1.0000 - val_loss: 11.6587 - val_sparse_categorical_accuracy: 0.2075 - lr: 0.0010\n",
      "Epoch 49/200\n",
      "65/65 [==============================] - 2s 29ms/step - loss: 0.0033 - sparse_categorical_accuracy: 0.9985 - val_loss: 13.8509 - val_sparse_categorical_accuracy: 0.2041 - lr: 0.0010\n",
      "Epoch 50/200\n",
      "65/65 [==============================] - 2s 28ms/step - loss: 0.0010 - sparse_categorical_accuracy: 1.0000 - val_loss: 11.1074 - val_sparse_categorical_accuracy: 0.2075 - lr: 0.0010\n",
      "Epoch 51/200\n",
      "65/65 [==============================] - 2s 27ms/step - loss: 0.0017 - sparse_categorical_accuracy: 0.9995 - val_loss: 11.3898 - val_sparse_categorical_accuracy: 0.2075 - lr: 0.0010\n",
      "Epoch 52/200\n",
      "65/65 [==============================] - 2s 27ms/step - loss: 0.0017 - sparse_categorical_accuracy: 0.9995 - val_loss: 12.0226 - val_sparse_categorical_accuracy: 0.2075 - lr: 5.0000e-04\n",
      "Epoch 53/200\n",
      "65/65 [==============================] - 2s 26ms/step - loss: 0.0022 - sparse_categorical_accuracy: 1.0000 - val_loss: 11.8000 - val_sparse_categorical_accuracy: 0.2075 - lr: 5.0000e-04\n",
      "Epoch 54/200\n",
      "65/65 [==============================] - 2s 26ms/step - loss: 0.0025 - sparse_categorical_accuracy: 0.9995 - val_loss: 11.8493 - val_sparse_categorical_accuracy: 0.2075 - lr: 5.0000e-04\n",
      "Epoch 55/200\n",
      "65/65 [==============================] - 2s 24ms/step - loss: 0.0048 - sparse_categorical_accuracy: 0.9995 - val_loss: 10.7963 - val_sparse_categorical_accuracy: 0.2075 - lr: 5.0000e-04\n",
      "Epoch 56/200\n",
      "65/65 [==============================] - 2s 25ms/step - loss: 0.0103 - sparse_categorical_accuracy: 0.9976 - val_loss: 11.3216 - val_sparse_categorical_accuracy: 0.2075 - lr: 5.0000e-04\n",
      "Epoch 57/200\n",
      "65/65 [==============================] - 2s 24ms/step - loss: 0.0020 - sparse_categorical_accuracy: 0.9995 - val_loss: 11.9708 - val_sparse_categorical_accuracy: 0.2075 - lr: 5.0000e-04\n",
      "Epoch 58/200\n",
      "65/65 [==============================] - 2s 28ms/step - loss: 0.0069 - sparse_categorical_accuracy: 0.9985 - val_loss: 13.3289 - val_sparse_categorical_accuracy: 0.2075 - lr: 5.0000e-04\n",
      "Epoch 59/200\n",
      "65/65 [==============================] - 1s 23ms/step - loss: 0.0172 - sparse_categorical_accuracy: 0.9951 - val_loss: 10.4804 - val_sparse_categorical_accuracy: 0.2075 - lr: 5.0000e-04\n",
      "Epoch 60/200\n",
      "65/65 [==============================] - 2s 24ms/step - loss: 0.0066 - sparse_categorical_accuracy: 0.9981 - val_loss: 11.1057 - val_sparse_categorical_accuracy: 0.2075 - lr: 5.0000e-04\n",
      "Epoch 61/200\n",
      "65/65 [==============================] - 2s 24ms/step - loss: 0.0043 - sparse_categorical_accuracy: 0.9995 - val_loss: 11.5273 - val_sparse_categorical_accuracy: 0.2075 - lr: 5.0000e-04\n",
      "Epoch 62/200\n",
      "65/65 [==============================] - 2s 25ms/step - loss: 0.0117 - sparse_categorical_accuracy: 0.9961 - val_loss: 9.5245 - val_sparse_categorical_accuracy: 0.2075 - lr: 5.0000e-04\n",
      "Epoch 63/200\n",
      "65/65 [==============================] - 2s 25ms/step - loss: 0.0018 - sparse_categorical_accuracy: 1.0000 - val_loss: 9.6115 - val_sparse_categorical_accuracy: 0.2075 - lr: 5.0000e-04\n",
      "Epoch 64/200\n",
      "65/65 [==============================] - 2s 24ms/step - loss: 0.0031 - sparse_categorical_accuracy: 0.9985 - val_loss: 10.2322 - val_sparse_categorical_accuracy: 0.2075 - lr: 5.0000e-04\n",
      "Epoch 65/200\n",
      "65/65 [==============================] - 2s 26ms/step - loss: 0.0010 - sparse_categorical_accuracy: 1.0000 - val_loss: 9.9156 - val_sparse_categorical_accuracy: 0.2075 - lr: 5.0000e-04\n",
      "Epoch 66/200\n",
      "65/65 [==============================] - 2s 25ms/step - loss: 0.0015 - sparse_categorical_accuracy: 1.0000 - val_loss: 8.6413 - val_sparse_categorical_accuracy: 0.2075 - lr: 5.0000e-04\n",
      "Epoch 67/200\n",
      "65/65 [==============================] - 1s 22ms/step - loss: 0.0043 - sparse_categorical_accuracy: 0.9995 - val_loss: 9.5887 - val_sparse_categorical_accuracy: 0.2075 - lr: 5.0000e-04\n",
      "Epoch 68/200\n",
      "65/65 [==============================] - 1s 22ms/step - loss: 0.0045 - sparse_categorical_accuracy: 0.9995 - val_loss: 8.2892 - val_sparse_categorical_accuracy: 0.2075 - lr: 5.0000e-04\n",
      "Epoch 69/200\n",
      "65/65 [==============================] - 1s 22ms/step - loss: 0.0013 - sparse_categorical_accuracy: 0.9995 - val_loss: 9.9873 - val_sparse_categorical_accuracy: 0.2075 - lr: 5.0000e-04\n",
      "Epoch 70/200\n",
      "65/65 [==============================] - 1s 22ms/step - loss: 0.0017 - sparse_categorical_accuracy: 0.9995 - val_loss: 12.6306 - val_sparse_categorical_accuracy: 0.2075 - lr: 5.0000e-04\n",
      "Epoch 71/200\n",
      "65/65 [==============================] - 1s 21ms/step - loss: 0.0029 - sparse_categorical_accuracy: 0.9995 - val_loss: 10.2880 - val_sparse_categorical_accuracy: 0.2075 - lr: 5.0000e-04\n",
      "Epoch 72/200\n",
      "65/65 [==============================] - 1s 21ms/step - loss: 0.0062 - sparse_categorical_accuracy: 0.9981 - val_loss: 10.4317 - val_sparse_categorical_accuracy: 0.2075 - lr: 5.0000e-04\n",
      "Epoch 73/200\n",
      "65/65 [==============================] - 1s 21ms/step - loss: 0.0017 - sparse_categorical_accuracy: 0.9995 - val_loss: 10.2507 - val_sparse_categorical_accuracy: 0.2075 - lr: 5.0000e-04\n",
      "Epoch 74/200\n",
      "65/65 [==============================] - 1s 21ms/step - loss: 0.0040 - sparse_categorical_accuracy: 0.9985 - val_loss: 10.0940 - val_sparse_categorical_accuracy: 0.2075 - lr: 5.0000e-04\n",
      "Epoch 75/200\n",
      "65/65 [==============================] - 1s 21ms/step - loss: 0.0013 - sparse_categorical_accuracy: 1.0000 - val_loss: 10.6201 - val_sparse_categorical_accuracy: 0.2075 - lr: 5.0000e-04\n",
      "Epoch 76/200\n",
      "65/65 [==============================] - 1s 21ms/step - loss: 9.9191e-04 - sparse_categorical_accuracy: 1.0000 - val_loss: 10.7416 - val_sparse_categorical_accuracy: 0.2075 - lr: 5.0000e-04\n",
      "Epoch 77/200\n",
      "65/65 [==============================] - 1s 20ms/step - loss: 0.0012 - sparse_categorical_accuracy: 1.0000 - val_loss: 10.8642 - val_sparse_categorical_accuracy: 0.2075 - lr: 5.0000e-04\n",
      "Epoch 78/200\n",
      "65/65 [==============================] - 1s 20ms/step - loss: 0.0043 - sparse_categorical_accuracy: 0.9985 - val_loss: 12.0340 - val_sparse_categorical_accuracy: 0.2075 - lr: 5.0000e-04\n",
      "Epoch 79/200\n",
      "65/65 [==============================] - 1s 20ms/step - loss: 0.0257 - sparse_categorical_accuracy: 0.9937 - val_loss: 12.3093 - val_sparse_categorical_accuracy: 0.2075 - lr: 5.0000e-04\n",
      "Epoch 80/200\n",
      "65/65 [==============================] - 1s 20ms/step - loss: 0.0192 - sparse_categorical_accuracy: 0.9951 - val_loss: 17.9115 - val_sparse_categorical_accuracy: 0.2075 - lr: 5.0000e-04\n",
      "Epoch 81/200\n",
      "65/65 [==============================] - 1s 19ms/step - loss: 0.0115 - sparse_categorical_accuracy: 0.9971 - val_loss: 16.6479 - val_sparse_categorical_accuracy: 0.2075 - lr: 5.0000e-04\n",
      "Epoch 82/200\n",
      "65/65 [==============================] - 1s 20ms/step - loss: 0.0080 - sparse_categorical_accuracy: 0.9971 - val_loss: 16.7908 - val_sparse_categorical_accuracy: 0.2075 - lr: 5.0000e-04\n",
      "Epoch 83/200\n",
      "65/65 [==============================] - 1s 19ms/step - loss: 0.0032 - sparse_categorical_accuracy: 0.9995 - val_loss: 16.4189 - val_sparse_categorical_accuracy: 0.2075 - lr: 5.0000e-04\n",
      "Epoch 84/200\n",
      "65/65 [==============================] - 2s 24ms/step - loss: 0.0026 - sparse_categorical_accuracy: 0.9995 - val_loss: 15.3568 - val_sparse_categorical_accuracy: 0.2075 - lr: 5.0000e-04\n",
      "Epoch 85/200\n",
      "65/65 [==============================] - 2s 25ms/step - loss: 0.0014 - sparse_categorical_accuracy: 1.0000 - val_loss: 15.1659 - val_sparse_categorical_accuracy: 0.2075 - lr: 5.0000e-04\n",
      "Epoch 86/200\n",
      "65/65 [==============================] - 2s 24ms/step - loss: 0.0027 - sparse_categorical_accuracy: 0.9995 - val_loss: 14.3956 - val_sparse_categorical_accuracy: 0.2075 - lr: 5.0000e-04\n",
      "Epoch 87/200\n",
      "65/65 [==============================] - 2s 25ms/step - loss: 0.0019 - sparse_categorical_accuracy: 0.9995 - val_loss: 15.1246 - val_sparse_categorical_accuracy: 0.2075 - lr: 5.0000e-04\n",
      "Epoch 88/200\n",
      "65/65 [==============================] - 1s 20ms/step - loss: 0.0015 - sparse_categorical_accuracy: 1.0000 - val_loss: 14.3582 - val_sparse_categorical_accuracy: 0.2075 - lr: 5.0000e-04\n",
      "Epoch 89/200\n",
      "65/65 [==============================] - 1s 22ms/step - loss: 0.0036 - sparse_categorical_accuracy: 0.9990 - val_loss: 14.7151 - val_sparse_categorical_accuracy: 0.2075 - lr: 5.0000e-04\n",
      "Epoch 90/200\n",
      "65/65 [==============================] - 1s 22ms/step - loss: 0.0064 - sparse_categorical_accuracy: 0.9981 - val_loss: 15.7257 - val_sparse_categorical_accuracy: 0.2075 - lr: 5.0000e-04\n",
      "Epoch 91/200\n",
      "65/65 [==============================] - 1s 19ms/step - loss: 0.0020 - sparse_categorical_accuracy: 1.0000 - val_loss: 15.1110 - val_sparse_categorical_accuracy: 0.2075 - lr: 5.0000e-04\n",
      "Epoch 92/200\n",
      "65/65 [==============================] - 2s 23ms/step - loss: 0.0020 - sparse_categorical_accuracy: 0.9995 - val_loss: 14.6741 - val_sparse_categorical_accuracy: 0.2075 - lr: 5.0000e-04\n",
      "Epoch 93/200\n",
      "65/65 [==============================] - 2s 27ms/step - loss: 0.0012 - sparse_categorical_accuracy: 1.0000 - val_loss: 14.7684 - val_sparse_categorical_accuracy: 0.2075 - lr: 5.0000e-04\n",
      "Epoch 94/200\n",
      "65/65 [==============================] - 2s 24ms/step - loss: 0.0021 - sparse_categorical_accuracy: 0.9995 - val_loss: 13.0397 - val_sparse_categorical_accuracy: 0.2075 - lr: 5.0000e-04\n",
      "Epoch 95/200\n",
      "65/65 [==============================] - 1s 21ms/step - loss: 0.0011 - sparse_categorical_accuracy: 1.0000 - val_loss: 14.3371 - val_sparse_categorical_accuracy: 0.2075 - lr: 5.0000e-04\n",
      "Epoch 96/200\n",
      "65/65 [==============================] - 1s 21ms/step - loss: 0.0014 - sparse_categorical_accuracy: 0.9995 - val_loss: 13.3422 - val_sparse_categorical_accuracy: 0.2075 - lr: 5.0000e-04\n",
      "Epoch 97/200\n",
      "65/65 [==============================] - 1s 21ms/step - loss: 0.0014 - sparse_categorical_accuracy: 1.0000 - val_loss: 14.7655 - val_sparse_categorical_accuracy: 0.2075 - lr: 5.0000e-04\n",
      "Epoch 98/200\n",
      "65/65 [==============================] - 1s 21ms/step - loss: 0.0010 - sparse_categorical_accuracy: 1.0000 - val_loss: 15.3035 - val_sparse_categorical_accuracy: 0.2075 - lr: 5.0000e-04\n",
      "Epoch 99/200\n",
      "65/65 [==============================] - 1s 21ms/step - loss: 0.0038 - sparse_categorical_accuracy: 0.9985 - val_loss: 13.4187 - val_sparse_categorical_accuracy: 0.2075 - lr: 5.0000e-04\n",
      "Epoch 100/200\n",
      "65/65 [==============================] - 1s 22ms/step - loss: 0.0090 - sparse_categorical_accuracy: 0.9961 - val_loss: 19.5823 - val_sparse_categorical_accuracy: 0.0544 - lr: 5.0000e-04\n",
      "Epoch 101/200\n",
      "65/65 [==============================] - 1s 23ms/step - loss: 0.0019 - sparse_categorical_accuracy: 1.0000 - val_loss: 16.5877 - val_sparse_categorical_accuracy: 0.2075 - lr: 5.0000e-04\n",
      "Epoch 101: early stopping\n",
      "Total training time in seconds: 151.23910903930664\n",
      "Highest validation accuracy:  0.20748299360275269\n"
     ]
    },
    {
     "name": "stderr",
     "output_type": "stream",
     "text": [
      "Input #0, wav, from '/var/folders/ph/8yv0q18n4mb1439tnf3rzcf40000gp/T/tmp92r15mhq.wav':\n",
      "  Duration: 00:00:02.27, bitrate: 705 kb/s\n",
      "  Stream #0:0: Audio: pcm_s16le ([1][0][0][0] / 0x0001), 44100 Hz, 1 channels, s16, 705 kb/s\n",
      "   2.20 M-A:  0.000 fd=   0 aq=    0KB vq=    0KB sq=    0B f=0/0   \r"
     ]
    },
    {
     "name": "stdout",
     "output_type": "stream",
     "text": [
      "\n"
     ]
    }
   ],
   "source": [
    "# TRAINING\n",
    "print_line_divider()\n",
    "print(\"Starting to train...\")\n",
    "\n",
    "start_time = time.time()\n",
    "history = model.fit(\n",
    "    x_train,\n",
    "    y_train,\n",
    "    batch_size=batch_size,\n",
    "    epochs=epochs,\n",
    "    callbacks=callback_list,\n",
    "    validation_split=validation_split,\n",
    "    verbose=1,\n",
    "    shuffle=True\n",
    ")\n",
    "end_time = time.time()\n",
    "training_time = end_time - start_time\n",
    "print(\"Total training time in seconds: \" + str(training_time))\n",
    "print(\"Highest validation accuracy: \", max(history.history['val_sparse_categorical_accuracy']))\n",
    "log_writer.write(\"Result\", line_divider=True)\n",
    "log_writer.write(\"Training time: \" + str(end_time - start_time) + \" seconds.\")\n",
    "log_writer.write(\"Highest validation accuracy: \" + str(max(history.history['val_sparse_categorical_accuracy'])))\n",
    "play_training_is_complete()"
   ],
   "metadata": {
    "collapsed": false,
    "pycharm": {
     "name": "#%%\n"
    }
   }
  },
  {
   "cell_type": "code",
   "execution_count": 13,
   "outputs": [],
   "source": [
    "if log_writer.enabled:\n",
    "    model.save(log_writer.base_folder + \"/model_last.h5\")"
   ],
   "metadata": {
    "collapsed": false,
    "pycharm": {
     "name": "#%%\n"
    }
   }
  },
  {
   "cell_type": "code",
   "execution_count": 14,
   "outputs": [
    {
     "data": {
      "text/plain": "<Figure size 432x288 with 1 Axes>",
      "image/png": "[encoded data removed]"
     },
     "metadata": {
      "needs_background": "light"
     },
     "output_type": "display_data"
    }
   ],
   "source": [
    "# PLOTTING\n",
    "metric = \"sparse_categorical_accuracy\"\n",
    "plt.figure()\n",
    "plt.plot(history.history[metric])\n",
    "plt.plot(history.history[\"val_\" + metric])\n",
    "plt.title(\"model \" + model_name + \" :\" + metric)\n",
    "plt.ylabel(metric, fontsize=\"large\")\n",
    "plt.xlabel(\"epoch\", fontsize=\"large\")\n",
    "plt.legend([\"train\", \"val\"], loc=\"best\")\n",
    "if log_writer.enabled:\n",
    "    plt.savefig(os.path.join(log_writer.base_folder, \"Validation progress.png\"))\n",
    "plt.show()\n",
    "plt.close()"
   ],
   "metadata": {
    "collapsed": false,
    "pycharm": {
     "name": "#%%\n"
    }
   }
  },
  {
   "cell_type": "code",
   "execution_count": 15,
   "outputs": [
    {
     "name": "stdout",
     "output_type": "stream",
     "text": [
      "21/21 [==============================] - 0s 8ms/step - loss: 1.4155 - sparse_categorical_accuracy: 0.4831\n",
      "****************************************************\n",
      "Test accuracy 0.48307693004608154\n",
      "Test loss 1.415450930595398\n",
      "Metrics report: \n",
      "              precision    recall  f1-score   support\n",
      "\n",
      "         0.0       0.51      0.58      0.54       127\n",
      "         1.0       1.00      0.37      0.54       127\n",
      "         2.0       0.31      0.06      0.10       137\n",
      "         3.0       0.37      1.00      0.54       129\n",
      "         4.0       0.72      0.43      0.54       130\n",
      "\n",
      "    accuracy                           0.48       650\n",
      "   macro avg       0.58      0.49      0.45       650\n",
      "weighted avg       0.58      0.48      0.45       650\n",
      "\n"
     ]
    },
    {
     "data": {
      "text/plain": "<Figure size 576x576 with 2 Axes>",
      "image/png": "[encoded data removed]"
     },
     "metadata": {
      "needs_background": "light"
     },
     "output_type": "display_data"
    }
   ],
   "source": [
    "# EVALUATION\n",
    "model = models.load_model(SAVED_BEST_MODEL)\n",
    "test_loss, test_acc = model.evaluate(x_test, y_test)\n",
    "print_line_divider()\n",
    "print(\"Test accuracy\", test_acc)\n",
    "print(\"Test loss\", test_loss)\n",
    "\n",
    "# Accuracy based on different labels\n",
    "y_pred = model.predict(x_test)\n",
    "y_pred = np.argmax(y_pred, axis=1)\n",
    "metrics_report = classification_report(y_test, y_pred)\n",
    "print(\"Metrics report: \")\n",
    "print(metrics_report)\n",
    "\n",
    "con_mat = tf.math.confusion_matrix(labels=y_test, predictions=y_pred).numpy()\n",
    "con_mat_norm = np.around(con_mat.astype('float') / con_mat.sum(axis=1)[:, np.newaxis], decimals=4)\n",
    "con_mat_df = pd.DataFrame(con_mat_norm, index=location_labels, columns=location_labels)\n",
    "figure = plt.figure(figsize=(8, 8))\n",
    "sns.heatmap(con_mat_df, annot=True, cmap=plt.cm.Blues)\n",
    "plt.tight_layout()\n",
    "plt.ylabel('True label')\n",
    "plt.xlabel('Predicted label')\n",
    "if log_writer.enabled:\n",
    "    plt.savefig(os.path.join(log_writer.base_folder, \"Accuracy.png\"))\n",
    "plt.show()\n",
    "plt.close()\n",
    "\n",
    "log_writer.write(\"Test evaluation\", line_divider=True)\n",
    "log_writer.write(\"Test accuracy: \" + str(test_acc))\n",
    "log_writer.write(\"Test loss: \" + str(test_loss))\n",
    "log_writer.write(\"Metric report: \")\n",
    "log_writer.write(metrics_report)\n",
    "log_writer.close()"
   ],
   "metadata": {
    "collapsed": false,
    "pycharm": {
     "name": "#%%\n"
    }
   }
  },
  {
   "cell_type": "code",
   "execution_count": null,
   "outputs": [],
   "source": [],
   "metadata": {
    "collapsed": false,
    "pycharm": {
     "name": "#%%\n"
    }
   }
  }
 ],
 "metadata": {
  "kernelspec": {
   "display_name": "Python 3",
   "language": "python",
   "name": "python3"
  },
  "language_info": {
   "codemirror_mode": {
    "name": "ipython",
    "version": 2
   },
   "file_extension": ".py",
   "mimetype": "text/x-python",
   "name": "python",
   "nbconvert_exporter": "python",
   "pygments_lexer": "ipython2",
   "version": "2.7.6"
  }
 },
 "nbformat": 4,
 "nbformat_minor": 0
}