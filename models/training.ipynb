{
 "cells": [
  {
   "cell_type": "code",
   "execution_count": 77,
   "outputs": [],
   "source": [
    "import os.path\n",
    "import sys\n",
    "\n",
    "import keras.metrics\n",
    "from keras import callbacks, models, metrics\n",
    "from datahandler.constants import all_features, data_version, acc_features, tensorboard_dir, location_labels\n",
    "from datahandler.data_preprocessing import get_train_test_data, load_data_v3\n",
    "from models.log_writer import LogWriter\n",
    "from model.lstm import make_lstm_model_v1\n",
    "from model.transformer import make_transformer_model_v1, make_transformer_model_v2\n",
    "from model.cnn import make_cnn_model_v1, make_cnn_model_v2\n",
    "import matplotlib.pyplot as plt\n",
    "from utils import print_line_divider\n",
    "import numpy as np\n",
    "import tensorflow as tf\n",
    "import pandas as pd\n",
    "import seaborn as sns\n",
    "from datahandler.data_preprocessing_from_jupyter import load_train_test_data_raw_normalized,load_train_test_data_added_features_normalized, load_train_test_data_added_features_pca\n",
    "from audio.audio import play_training_is_complete\n",
    "from sklearn.metrics import classification_report\n",
    "import time"
   ],
   "metadata": {
    "collapsed": false,
    "pycharm": {
     "name": "#%%\n"
    }
   }
  },
  {
   "cell_type": "code",
   "execution_count": 78,
   "outputs": [],
   "source": [
    "# LOGGING CONFIGURATION\n",
    "enabled_log = True\n",
    "enabled_tensor_board = True\n",
    "log_writer = LogWriter(enabled_log)"
   ],
   "metadata": {
    "collapsed": false,
    "pycharm": {
     "name": "#%%\n"
    }
   }
  },
  {
   "cell_type": "code",
   "execution_count": 79,
   "outputs": [
    {
     "name": "stdout",
     "output_type": "stream",
     "text": [
      "STARTING THE TRAINING PROCESS\n"
     ]
    }
   ],
   "source": [
    "# TRAINING CONFIGURATION\n",
    "print(\"STARTING THE TRAINING PROCESS\")\n",
    "SAVED_BEST_MODEL = \"model/best_model.h5\"\n",
    "window_time_in_seconds = 2\n",
    "window_size = 40\n",
    "epochs = 10\n",
    "batch_size = 32\n",
    "validation_split = 1 / 9\n",
    "optimizer = 'adam'\n",
    "loss_function = \"sparse_categorical_crossentropy\"\n",
    "supported_features = all_features"
   ],
   "metadata": {
    "collapsed": false,
    "pycharm": {
     "name": "#%%\n"
    }
   }
  },
  {
   "cell_type": "code",
   "execution_count": 80,
   "outputs": [],
   "source": [
    "log_writer.write(\"Configuration\", line_divider=True)\n",
    "log_writer.write(\n",
    "    f\"\"\"Window size: {window_size}\n",
    "Window time in second: {window_time_in_seconds}\n",
    "Maximum number of epochs: {epochs}\n",
    "Batch size: {batch_size}\n",
    "Validation split: {validation_split}\n",
    "Optimizer: {optimizer}\n",
    "Loss function: {loss_function}\"\"\"\n",
    ")"
   ],
   "metadata": {
    "collapsed": false,
    "pycharm": {
     "name": "#%%\n"
    }
   }
  },
  {
   "cell_type": "code",
   "execution_count": 66,
   "outputs": [
    {
     "name": "stdout",
     "output_type": "stream",
     "text": [
      "****************************************************\n",
      "Preparing data...\n",
      "Loading from file: /Users/duc.letran/Desktop/FINAL PROJECT/context_transformer/data/v3/train/px1_datacollection.csv (1/5)\n",
      "Loading from file: /Users/duc.letran/Desktop/FINAL PROJECT/context_transformer/data/v3/train/px2_datacollection.csv (2/5)\n",
      "Loading from file: /Users/duc.letran/Desktop/FINAL PROJECT/context_transformer/data/v3/train/px3_datacollection.csv (3/5)\n",
      "Loading from file: /Users/duc.letran/Desktop/FINAL PROJECT/context_transformer/data/v3/train/px4_datacollection.csv (4/5)\n",
      "Loading from file: /Users/duc.letran/Desktop/FINAL PROJECT/context_transformer/data/v3/train/px5_datacollection.csv (5/5)\n",
      "Train data shape: (1218, 40, 9) | Train label shape: (1218,)\n",
      "Test data shape: (282, 40, 9) | Test label shape: (282,)\n",
      "****************************************************\n"
     ]
    }
   ],
   "source": [
    "# DATA Loader\n",
    "print_line_divider()\n",
    "print(\"Preparing data...\")\n",
    "# x_train, y_train, x_test, y_test = get_train_test_data(supported_features, window_time_in_seconds, window_size)\n",
    "# x_train, y_train, x_test, y_test = load_data_v3(\n",
    "#     features = supported_features,\n",
    "#     window_time_in_seconds = window_time_in_seconds,\n",
    "#     window_size = window_size\n",
    "# )\n",
    "x_train, y_train, x_test, y_test = load_train_test_data_raw_normalized()\n",
    "print(\"Train data shape: \" + str(x_train.shape) + \" | Train label shape: \" + str(y_train.shape))\n",
    "print(\"Test data shape: \" + str(x_test.shape) + \" | Test label shape: \" + str(y_test.shape))\n",
    "print_line_divider()\n"
   ],
   "metadata": {
    "collapsed": false,
    "pycharm": {
     "name": "#%%\n"
    }
   }
  },
  {
   "cell_type": "code",
   "execution_count": 81,
   "outputs": [],
   "source": [
    "log_writer.write(\"Data\", line_divider=True)\n",
    "log_writer.write(\"Data loaded from version \" + data_version)\n",
    "log_writer.write(\n",
    "    f\"\"\"Data training shape: ${x_train.shape}\n",
    "Data testing shape: ${x_test.shape}\"\"\"\n",
    ")"
   ],
   "metadata": {
    "collapsed": false,
    "pycharm": {
     "name": "#%%\n"
    }
   }
  },
  {
   "cell_type": "code",
   "execution_count": 82,
   "outputs": [
    {
     "name": "stdout",
     "output_type": "stream",
     "text": [
      "****************************************************\n",
      "Distribution for set Training set\n",
      "\n",
      "holdinginhand count is 228\n",
      "beingusedinhand count is 251\n",
      "calling count is 249\n",
      "insidethepantpocket count is 243\n",
      "insidethebag count is 247\n",
      "****************************************************\n",
      "Distribution for set Testing set\n",
      "\n",
      "holdinginhand count is 72\n",
      "beingusedinhand count is 49\n",
      "calling count is 51\n",
      "insidethepantpocket count is 57\n",
      "insidethebag count is 53\n"
     ]
    }
   ],
   "source": [
    "def check_distribution(labels_list, set_name):\n",
    "    label_count_dict = {}\n",
    "    for label_ind in labels_list:\n",
    "        if label_ind in label_count_dict.keys():\n",
    "            label_count_dict[label_ind] += 1\n",
    "        else:\n",
    "            label_count_dict[label_ind] = 1\n",
    "\n",
    "    print_line_divider()\n",
    "    print(\"Distribution for set \" + set_name + \"\\n\")\n",
    "    for key in label_count_dict:\n",
    "        key = int(key)\n",
    "        print(location_labels[key] + \" count is \" + str(label_count_dict[key]))\n",
    "\n",
    "\n",
    "check_distribution(y_train, \"Training set\")\n",
    "check_distribution(y_test, \"Testing set\")"
   ],
   "metadata": {
    "collapsed": false,
    "pycharm": {
     "name": "#%%\n"
    }
   }
  },
  {
   "cell_type": "code",
   "execution_count": 83,
   "outputs": [
    {
     "name": "stdout",
     "output_type": "stream",
     "text": [
      "Input shape: (40, 9)\n"
     ]
    }
   ],
   "source": [
    "if len(x_train.shape) == 2:\n",
    "    input_shape = (x_train.shape[1], 1)\n",
    "else:\n",
    "    input_shape = x_train.shape[1:]\n",
    "print(\"Input shape: \" + str(input_shape))"
   ],
   "metadata": {
    "collapsed": false,
    "pycharm": {
     "name": "#%%\n"
    }
   }
  },
  {
   "cell_type": "code",
   "execution_count": 84,
   "outputs": [
    {
     "name": "stdout",
     "output_type": "stream",
     "text": [
      "Model Summary:\n",
      "Model: \"model_3\"\n",
      "__________________________________________________________________________________________________\n",
      " Layer (type)                   Output Shape         Param #     Connected to                     \n",
      "==================================================================================================\n",
      " input_4 (InputLayer)           [(None, 40, 9)]      0           []                               \n",
      "                                                                                                  \n",
      " layer_normalization_6 (LayerNo  (None, 40, 9)       18          ['input_4[0][0]']                \n",
      " rmalization)                                                                                     \n",
      "                                                                                                  \n",
      " multi_head_attention_3 (MultiH  (None, 40, 9)       9993        ['layer_normalization_6[0][0]',  \n",
      " eadAttention)                                                    'layer_normalization_6[0][0]']  \n",
      "                                                                                                  \n",
      " dropout_9 (Dropout)            (None, 40, 9)        0           ['multi_head_attention_3[0][0]'] \n",
      "                                                                                                  \n",
      " tf.__operators__.add_6 (TFOpLa  (None, 40, 9)       0           ['dropout_9[0][0]',              \n",
      " mbda)                                                            'input_4[0][0]']                \n",
      "                                                                                                  \n",
      " layer_normalization_7 (LayerNo  (None, 40, 9)       18          ['tf.__operators__.add_6[0][0]'] \n",
      " rmalization)                                                                                     \n",
      "                                                                                                  \n",
      " conv1d_6 (Conv1D)              (None, 40, 64)       640         ['layer_normalization_7[0][0]']  \n",
      "                                                                                                  \n",
      " dropout_10 (Dropout)           (None, 40, 64)       0           ['conv1d_6[0][0]']               \n",
      "                                                                                                  \n",
      " conv1d_7 (Conv1D)              (None, 40, 9)        585         ['dropout_10[0][0]']             \n",
      "                                                                                                  \n",
      " tf.__operators__.add_7 (TFOpLa  (None, 40, 9)       0           ['conv1d_7[0][0]',               \n",
      " mbda)                                                            'tf.__operators__.add_6[0][0]'] \n",
      "                                                                                                  \n",
      " global_average_pooling1d_3 (Gl  (None, 40)          0           ['tf.__operators__.add_7[0][0]'] \n",
      " obalAveragePooling1D)                                                                            \n",
      "                                                                                                  \n",
      " dense_3 (Dense)                (None, 5)            205         ['global_average_pooling1d_3[0][0\n",
      "                                                                 ]']                              \n",
      "                                                                                                  \n",
      "==================================================================================================\n",
      "Total params: 11,459\n",
      "Trainable params: 11,459\n",
      "Non-trainable params: 0\n",
      "__________________________________________________________________________________________________\n",
      "****************************************************\n",
      "None\n"
     ]
    }
   ],
   "source": [
    "# SETTING UP THE MODEL\n",
    "# input_shape = x_train.shape[1:] # (window_size, len(supported_features))\n",
    "# model_name, model = make_cnn_model_v1(input_shape=input_shape)\n",
    "# model_name, model = make_lstm_model_v1(input_shape=input_shape)\n",
    "# model_name, model = make_transformer_model_v1(\n",
    "#     input_shape=input_shape,\n",
    "#     head_size=256,\n",
    "#     num_heads=4,\n",
    "#     ff_dim=4,\n",
    "#     num_transformer_blocks=2,\n",
    "#     mlp_units=[128],\n",
    "#     mlp_dropout=0.4,\n",
    "#     dropout=0.25,\n",
    "# )\n",
    "model_name, model = make_transformer_model_v2(input_shape=input_shape)\n",
    "print(\"Model Summary:\")\n",
    "stringlist = []\n",
    "model.summary(print_fn=lambda x: stringlist.append(x))\n",
    "short_model_summary = \"\\n\".join(stringlist)\n",
    "print(short_model_summary)\n",
    "print(print_line_divider())"
   ],
   "metadata": {
    "collapsed": false,
    "pycharm": {
     "name": "#%%\n"
    }
   }
  },
  {
   "cell_type": "code",
   "execution_count": 85,
   "outputs": [],
   "source": [
    "# LOGGING THE MODEL\n",
    "log_writer.write(\"Model\", line_divider=True)\n",
    "log_writer.write(\"Model name: \" + model_name)\n",
    "log_writer.write(short_model_summary)"
   ],
   "metadata": {
    "collapsed": false,
    "pycharm": {
     "name": "#%%\n"
    }
   }
  },
  {
   "cell_type": "code",
   "execution_count": 86,
   "outputs": [],
   "source": [
    "# MODELS CALLBACK AND SETUP\n",
    "callback_list = [\n",
    "    callbacks.ModelCheckpoint(SAVED_BEST_MODEL, save_best_only=True, monitor=\"val_loss\"),\n",
    "    callbacks.ReduceLROnPlateau(monitor=\"val_loss\", factor=0.5, patience=50, min_lr=0.0001),\n",
    "    callbacks.EarlyStopping(monitor=\"val_loss\", patience=100, verbose=1)\n",
    "]\n",
    "if enabled_tensor_board:\n",
    "    callback_list.append(callbacks.TensorBoard(log_dir=tensorboard_dir, histogram_freq=1))\n",
    "if log_writer.enabled:\n",
    "    callback_list.append(\n",
    "        callbacks.ModelCheckpoint(log_writer.base_folder + \"/model.h5\", save_best_only=True, monitor=\"val_loss\")\n",
    "    )\n",
    "model.compile(\n",
    "    optimizer=optimizer,\n",
    "    loss=loss_function,\n",
    "    metrics=[\"sparse_categorical_accuracy\"],\n",
    ")"
   ],
   "metadata": {
    "collapsed": false,
    "pycharm": {
     "name": "#%%\n"
    }
   }
  },
  {
   "cell_type": "code",
   "execution_count": 87,
   "outputs": [
    {
     "name": "stdout",
     "output_type": "stream",
     "text": [
      "****************************************************\n",
      "Starting to train...\n",
      "Epoch 1/10\n",
      "34/34 [==============================] - 2s 42ms/step - loss: 1.4325 - sparse_categorical_accuracy: 0.3299 - val_loss: 0.9728 - val_sparse_categorical_accuracy: 0.5147 - lr: 0.0010\n",
      "Epoch 2/10\n",
      "34/34 [==============================] - 1s 34ms/step - loss: 1.1755 - sparse_categorical_accuracy: 0.4335 - val_loss: 1.2435 - val_sparse_categorical_accuracy: 0.0074 - lr: 0.0010\n",
      "Epoch 3/10\n",
      "34/34 [==============================] - 1s 35ms/step - loss: 1.1215 - sparse_categorical_accuracy: 0.4658 - val_loss: 1.7156 - val_sparse_categorical_accuracy: 0.0000e+00 - lr: 0.0010\n",
      "Epoch 4/10\n",
      "34/34 [==============================] - 1s 34ms/step - loss: 1.0534 - sparse_categorical_accuracy: 0.4852 - val_loss: 1.8745 - val_sparse_categorical_accuracy: 0.0000e+00 - lr: 0.0010\n",
      "Epoch 5/10\n",
      "34/34 [==============================] - 1s 30ms/step - loss: 0.9616 - sparse_categorical_accuracy: 0.5065 - val_loss: 1.8090 - val_sparse_categorical_accuracy: 0.0000e+00 - lr: 0.0010\n",
      "Epoch 6/10\n",
      "34/34 [==============================] - 1s 31ms/step - loss: 0.8644 - sparse_categorical_accuracy: 0.6128 - val_loss: 1.6250 - val_sparse_categorical_accuracy: 0.0000e+00 - lr: 0.0010\n",
      "Epoch 7/10\n",
      "34/34 [==============================] - 1s 33ms/step - loss: 0.7665 - sparse_categorical_accuracy: 0.6534 - val_loss: 1.4273 - val_sparse_categorical_accuracy: 0.0000e+00 - lr: 0.0010\n",
      "Epoch 8/10\n",
      "34/34 [==============================] - 1s 33ms/step - loss: 0.7051 - sparse_categorical_accuracy: 0.6793 - val_loss: 1.3787 - val_sparse_categorical_accuracy: 0.0147 - lr: 0.0010\n",
      "Epoch 9/10\n",
      "34/34 [==============================] - 1s 30ms/step - loss: 0.6450 - sparse_categorical_accuracy: 0.6987 - val_loss: 1.3554 - val_sparse_categorical_accuracy: 0.0515 - lr: 0.0010\n",
      "Epoch 10/10\n",
      "34/34 [==============================] - 1s 31ms/step - loss: 0.5919 - sparse_categorical_accuracy: 0.7274 - val_loss: 1.3869 - val_sparse_categorical_accuracy: 0.1029 - lr: 0.0010\n",
      "Total training time in seconds: 12.162914037704468\n",
      "Highest validation accuracy:  0.5147058963775635\n"
     ]
    },
    {
     "name": "stderr",
     "output_type": "stream",
     "text": [
      "Input #0, wav, from '/var/folders/ph/8yv0q18n4mb1439tnf3rzcf40000gp/T/tmpfc3b21zu.wav':\n",
      "  Duration: 00:00:02.27, bitrate: 705 kb/s\n",
      "  Stream #0:0: Audio: pcm_s16le ([1][0][0][0] / 0x0001), 44100 Hz, 1 channels, s16, 705 kb/s\n",
      "   2.18 M-A:  0.000 fd=   0 aq=    0KB vq=    0KB sq=    0B f=0/0   \r"
     ]
    },
    {
     "name": "stdout",
     "output_type": "stream",
     "text": [
      "\n"
     ]
    }
   ],
   "source": [
    "# TRAINING\n",
    "print_line_divider()\n",
    "print(\"Starting to train...\")\n",
    "\n",
    "start_time = time.time()\n",
    "history = model.fit(\n",
    "    x_train,\n",
    "    y_train,\n",
    "    batch_size=batch_size,\n",
    "    epochs=epochs,\n",
    "    callbacks=callback_list,\n",
    "    validation_split=validation_split,\n",
    "    verbose=1,\n",
    "    shuffle=True\n",
    ")\n",
    "end_time = time.time()\n",
    "training_time = end_time - start_time\n",
    "print(\"Total training time in seconds: \" + str(training_time))\n",
    "print(\"Highest validation accuracy: \", max(history.history['val_sparse_categorical_accuracy']))\n",
    "log_writer.write(\"Result\", line_divider=True)\n",
    "log_writer.write(\"Training time: \" + str(end_time - start_time) + \" seconds.\")\n",
    "log_writer.write(\"Highest validation accuracy: \" + str(max(history.history['val_sparse_categorical_accuracy'])))\n",
    "play_training_is_complete()"
   ],
   "metadata": {
    "collapsed": false,
    "pycharm": {
     "name": "#%%\n"
    }
   }
  },
  {
   "cell_type": "code",
   "execution_count": 88,
   "outputs": [],
   "source": [
    "if log_writer.enabled:\n",
    "    model.save(log_writer.base_folder + \"/model_last.h5\")"
   ],
   "metadata": {
    "collapsed": false,
    "pycharm": {
     "name": "#%%\n"
    }
   }
  },
  {
   "cell_type": "code",
   "execution_count": 89,
   "outputs": [
    {
     "data": {
      "text/plain": "<Figure size 432x288 with 1 Axes>",
      "image/png": "[encoded data removed]"
     },
     "metadata": {
      "needs_background": "light"
     },
     "output_type": "display_data"
    }
   ],
   "source": [
    "# PLOTTING\n",
    "metric = \"sparse_categorical_accuracy\"\n",
    "plt.figure()\n",
    "plt.plot(history.history[metric])\n",
    "plt.plot(history.history[\"val_\" + metric])\n",
    "plt.title(\"model \" + model_name + \" :\" + metric)\n",
    "plt.ylabel(metric, fontsize=\"large\")\n",
    "plt.xlabel(\"epoch\", fontsize=\"large\")\n",
    "plt.legend([\"train\", \"val\"], loc=\"best\")\n",
    "if log_writer.enabled:\n",
    "    plt.savefig(os.path.join(log_writer.base_folder, \"Validation progress.png\"))\n",
    "plt.show()\n",
    "plt.close()"
   ],
   "metadata": {
    "collapsed": false,
    "pycharm": {
     "name": "#%%\n"
    }
   }
  },
  {
   "cell_type": "code",
   "execution_count": 90,
   "outputs": [
    {
     "name": "stdout",
     "output_type": "stream",
     "text": [
      "9/9 [==============================] - 0s 18ms/step - loss: 0.5831 - sparse_categorical_accuracy: 0.6915\n",
      "****************************************************\n",
      "Test accuracy 0.6914893388748169\n",
      "Test loss 0.5831219553947449\n",
      "Metrics report: \n",
      "              precision    recall  f1-score   support\n",
      "\n",
      "         0.0       0.94      0.89      0.91        72\n",
      "         1.0       1.00      0.04      0.07        53\n",
      "         2.0       0.52      1.00      0.68        51\n",
      "         3.0       0.69      0.98      0.81        57\n",
      "         4.0       0.67      0.45      0.54        49\n",
      "\n",
      "    accuracy                           0.69       282\n",
      "   macro avg       0.76      0.67      0.60       282\n",
      "weighted avg       0.78      0.69      0.63       282\n",
      "\n"
     ]
    },
    {
     "data": {
      "text/plain": "<Figure size 576x576 with 2 Axes>",
      "image/png": "[encoded data removed]"
     },
     "metadata": {
      "needs_background": "light"
     },
     "output_type": "display_data"
    }
   ],
   "source": [
    "# EVALUATION\n",
    "test_loss, test_acc = model.evaluate(x_test, y_test)\n",
    "print_line_divider()\n",
    "print(\"Test accuracy\", test_acc)\n",
    "print(\"Test loss\", test_loss)\n",
    "\n",
    "# Accuracy based on different labels\n",
    "y_pred = model.predict(x_test)\n",
    "y_pred = np.argmax(y_pred, axis=1)\n",
    "metrics_report = classification_report(y_test, y_pred)\n",
    "print(\"Metrics report: \")\n",
    "print(metrics_report)\n",
    "\n",
    "con_mat = tf.math.confusion_matrix(labels=y_test, predictions=y_pred).numpy()\n",
    "con_mat_norm = np.around(con_mat.astype('float') / con_mat.sum(axis=1)[:, np.newaxis], decimals=4)\n",
    "con_mat_df = pd.DataFrame(con_mat_norm, index=location_labels, columns=location_labels)\n",
    "figure = plt.figure(figsize=(8, 8))\n",
    "sns.heatmap(con_mat_df, annot=True, cmap=plt.cm.Blues)\n",
    "plt.tight_layout()\n",
    "plt.ylabel('True label')\n",
    "plt.xlabel('Predicted label')\n",
    "if log_writer.enabled:\n",
    "    plt.savefig(os.path.join(log_writer.base_folder, \"Accuracy.png\"))\n",
    "plt.show()\n",
    "plt.close()\n",
    "\n",
    "log_writer.write(\"Test evaluation\", line_divider=True)\n",
    "log_writer.write(\"Test accuracy: \" + str(test_acc))\n",
    "log_writer.write(\"Test loss: \" + str(test_loss))\n",
    "log_writer.write(\"Metric report: \")\n",
    "log_writer.write(metrics_report)\n",
    "log_writer.close()"
   ],
   "metadata": {
    "collapsed": false,
    "pycharm": {
     "name": "#%%\n"
    }
   }
  },
  {
   "cell_type": "code",
   "execution_count": null,
   "outputs": [],
   "source": [],
   "metadata": {
    "collapsed": false,
    "pycharm": {
     "name": "#%%\n"
    }
   }
  }
 ],
 "metadata": {
  "kernelspec": {
   "display_name": "Python 3",
   "language": "python",
   "name": "python3"
  },
  "language_info": {
   "codemirror_mode": {
    "name": "ipython",
    "version": 2
   },
   "file_extension": ".py",
   "mimetype": "text/x-python",
   "name": "python",
   "nbconvert_exporter": "python",
   "pygments_lexer": "ipython2",
   "version": "2.7.6"
  }
 },
 "nbformat": 4,
 "nbformat_minor": 0
}