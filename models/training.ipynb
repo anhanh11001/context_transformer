{
 "cells": [
  {
   "cell_type": "code",
   "execution_count": 22,
   "outputs": [],
   "source": [
    "import os.path\n",
    "import sys\n",
    "\n",
    "from keras import callbacks, models\n",
    "from datahandler.constants import all_features, data_version, acc_features, tensorboard_dir, location_labels\n",
    "from datahandler.data_preprocessing import get_train_test_data, load_data_v3\n",
    "from models.log_writer import LogWriter\n",
    "from model.lstm import make_lstm_model_v1\n",
    "from model.transformer import make_transformer_model_v1\n",
    "from model.cnn import make_cnn_model_v1, make_cnn_model_v2\n",
    "import matplotlib.pyplot as plt\n",
    "from utils import print_line_divider\n",
    "import numpy as np\n",
    "import tensorflow as tf\n",
    "import pandas as pd\n",
    "import seaborn as sns\n",
    "from datahandler.data_preprocessing_from_jupyter import load_train_test_data_raw_normalized, load_train_test_data_added_features_normalized, load_train_test_data_added_features_pca\n",
    "from audio.audio import play_training_is_complete"
   ],
   "metadata": {
    "collapsed": false,
    "pycharm": {
     "name": "#%%\n"
    }
   }
  },
  {
   "cell_type": "code",
   "execution_count": 23,
   "outputs": [],
   "source": [
    "# LOGGING CONFIGURATION\n",
    "enabled_log = True\n",
    "enabled_tensor_board = True\n",
    "log_writer = LogWriter(enabled_log)"
   ],
   "metadata": {
    "collapsed": false,
    "pycharm": {
     "name": "#%%\n"
    }
   }
  },
  {
   "cell_type": "code",
   "execution_count": 24,
   "outputs": [
    {
     "name": "stdout",
     "output_type": "stream",
     "text": [
      "STARTING THE TRAINING PROCESS\n"
     ]
    }
   ],
   "source": [
    "# TRAINING CONFIGURATION\n",
    "print(\"STARTING THE TRAINING PROCESS\")\n",
    "SAVED_BEST_MODEL = \"model/best_model.h5\"\n",
    "window_time_in_seconds = 2\n",
    "window_size = 40\n",
    "epochs = 1000\n",
    "batch_size = 32\n",
    "validation_split = 1 / 9\n",
    "optimizer = 'adam'\n",
    "loss_function = \"sparse_categorical_crossentropy\"\n",
    "supported_features = all_features"
   ],
   "metadata": {
    "collapsed": false,
    "pycharm": {
     "name": "#%%\n"
    }
   }
  },
  {
   "cell_type": "code",
   "execution_count": 25,
   "outputs": [],
   "source": [
    "log_writer.write(\"Configuration\", line_divider=True)\n",
    "log_writer.write(\n",
    "    f\"\"\"Window size: {window_size}\n",
    "Window time in second: ${window_time_in_seconds}\n",
    "Maximum number of epochs: ${epochs}\n",
    "Batch size: ${batch_size}\n",
    "Validation split: ${validation_split}\n",
    "Optimizer: ${optimizer}\n",
    "Loss function: ${loss_function}\n",
    "Features used for training: ${str(supported_features)}\"\"\"\n",
    ")"
   ],
   "metadata": {
    "collapsed": false,
    "pycharm": {
     "name": "#%%\n"
    }
   }
  },
  {
   "cell_type": "code",
   "execution_count": 10,
   "outputs": [
    {
     "name": "stdout",
     "output_type": "stream",
     "text": [
      "****************************************************\n",
      "Preparing data...\n",
      "Loading from file: /Users/duc.letran/Desktop/FINAL PROJECT/context_transformer/data/v3/train/px4_datacollection.csv (1/24)\n",
      "Loading from file: /Users/duc.letran/Desktop/FINAL PROJECT/context_transformer/data/v3/train/ps1_datacollection.csv (2/24)\n",
      "Loading from file: /Users/duc.letran/Desktop/FINAL PROJECT/context_transformer/data/v3/train/tc4_datacollection.csv (3/24)\n",
      "Loading from file: /Users/duc.letran/Desktop/FINAL PROJECT/context_transformer/data/v3/train/ss3_datacollection.csv (4/24)\n",
      "Loading from file: /Users/duc.letran/Desktop/FINAL PROJECT/context_transformer/data/v3/train/ps2_datacollection.csv (5/24)\n",
      "Loading from file: /Users/duc.letran/Desktop/FINAL PROJECT/context_transformer/data/v3/train/op4_datacollection.csv (6/24)\n",
      "Loading from file: /Users/duc.letran/Desktop/FINAL PROJECT/context_transformer/data/v3/train/op2_datacollection.csv (7/24)\n",
      "Loading from file: /Users/duc.letran/Desktop/FINAL PROJECT/context_transformer/data/v3/train/ps4_datacollection.csv (8/24)\n",
      "Loading from file: /Users/duc.letran/Desktop/FINAL PROJECT/context_transformer/data/v3/train/px1_datacollection.csv (9/24)\n",
      "Loading from file: /Users/duc.letran/Desktop/FINAL PROJECT/context_transformer/data/v3/train/tc1_datacollection.csv (10/24)\n",
      "Loading from file: /Users/duc.letran/Desktop/FINAL PROJECT/context_transformer/data/v3/train/tc2_datacollection.csv (11/24)\n",
      "Loading from file: /Users/duc.letran/Desktop/FINAL PROJECT/context_transformer/data/v3/train/px2_datacollection.csv (12/24)\n",
      "Loading from file: /Users/duc.letran/Desktop/FINAL PROJECT/context_transformer/data/v3/train/op1_datacollection.csv (13/24)\n",
      "Loading from file: /Users/duc.letran/Desktop/FINAL PROJECT/context_transformer/data/v3/train/tc3_datacollection.csv (14/24)\n",
      "Loading from file: /Users/duc.letran/Desktop/FINAL PROJECT/context_transformer/data/v3/train/px3_datacollection.csv (15/24)\n",
      "Loading from file: /Users/duc.letran/Desktop/FINAL PROJECT/context_transformer/data/v3/train/op3_datacollection.csv (16/24)\n",
      "Loading from file: /Users/duc.letran/Desktop/FINAL PROJECT/context_transformer/data/v3/train/ps5_datacollection.csv (17/24)\n",
      "Loading from file: /Users/duc.letran/Desktop/FINAL PROJECT/context_transformer/data/v3/train/ss4_datacollection.csv (18/24)\n",
      "Loading from file: /Users/duc.letran/Desktop/FINAL PROJECT/context_transformer/data/v3/train/ss2_datacollection.csv (19/24)\n",
      "Loading from file: /Users/duc.letran/Desktop/FINAL PROJECT/context_transformer/data/v3/train/ps3_datacollection.csv (20/24)\n",
      "Loading from file: /Users/duc.letran/Desktop/FINAL PROJECT/context_transformer/data/v3/train/op5_datacollection.csv (21/24)\n",
      "Loading from file: /Users/duc.letran/Desktop/FINAL PROJECT/context_transformer/data/v3/train/px5_datacollection.csv (22/24)\n",
      "Loading from file: /Users/duc.letran/Desktop/FINAL PROJECT/context_transformer/data/v3/train/ss1_datacollection.csv (23/24)\n",
      "Loading from file: /Users/duc.letran/Desktop/FINAL PROJECT/context_transformer/data/v3/train/tc5_datacollection.csv (24/24)\n",
      "Train data shape: (5725, 60) | Train label shape: (5725,)\n",
      "Test data shape: (1471, 60) | Test label shape: (1471,)\n",
      "****************************************************\n"
     ]
    }
   ],
   "source": [
    "# DATA Loader\n",
    "print_line_divider()\n",
    "print(\"Preparing data...\")\n",
    "# x_train, y_train, x_test, y_test = get_train_test_data(supported_features, window_time_in_seconds, window_size)\n",
    "# x_train, y_train, x_test, y_test = load_data_v3(\n",
    "#     features = supported_features,\n",
    "#     window_time_in_seconds = window_time_in_seconds,\n",
    "#     window_size = window_size\n",
    "# )\n",
    "x_train, y_train, x_test, y_test = load_train_test_data_added_features_normalized()\n",
    "print(\"Train data shape: \" + str(x_train.shape) + \" | Train label shape: \" + str(y_train.shape))\n",
    "print(\"Test data shape: \" + str(x_test.shape) + \" | Test label shape: \" + str(y_test.shape))\n",
    "print_line_divider()\n"
   ],
   "metadata": {
    "collapsed": false,
    "pycharm": {
     "name": "#%%\n"
    }
   }
  },
  {
   "cell_type": "code",
   "execution_count": 26,
   "outputs": [],
   "source": [
    "log_writer.write(\"Data\", line_divider=True)\n",
    "log_writer.write(\"Data loaded from version \" + data_version)\n",
    "log_writer.write(\n",
    "    f\"\"\"Data training shape: ${x_train.shape}\n",
    "Data testing shape: ${x_test.shape}\"\"\"\n",
    ")"
   ],
   "metadata": {
    "collapsed": false,
    "pycharm": {
     "name": "#%%\n"
    }
   }
  },
  {
   "cell_type": "code",
   "execution_count": 27,
   "outputs": [
    {
     "name": "stdout",
     "output_type": "stream",
     "text": [
      "****************************************************\n",
      "Distribution for set Training set\n",
      "\n",
      "insidethepantpocket count is 964\n",
      "beingusedinhand count is 1194\n",
      "calling count is 1182\n",
      "holdinginhand count is 1177\n",
      "insidethebag count is 1208\n",
      "****************************************************\n",
      "Distribution for set Testing set\n",
      "\n",
      "insidethepantpocket count is 230\n",
      "beingusedinhand count is 304\n",
      "calling count is 317\n",
      "holdinginhand count is 321\n",
      "insidethebag count is 299\n"
     ]
    }
   ],
   "source": [
    "def check_distribution(labels_list, set_name):\n",
    "    label_count_dict = {}\n",
    "    for label_ind in labels_list:\n",
    "        if label_ind in label_count_dict.keys():\n",
    "            label_count_dict[label_ind] += 1\n",
    "        else:\n",
    "            label_count_dict[label_ind] = 1\n",
    "\n",
    "    print_line_divider()\n",
    "    print(\"Distribution for set \" + set_name + \"\\n\")\n",
    "    for key in label_count_dict:\n",
    "        key = int(key)\n",
    "        print(location_labels[key] + \" count is \" + str(label_count_dict[key]))\n",
    "\n",
    "\n",
    "check_distribution(y_train, \"Training set\")\n",
    "check_distribution(y_test, \"Testing set\")"
   ],
   "metadata": {
    "collapsed": false,
    "pycharm": {
     "name": "#%%\n"
    }
   }
  },
  {
   "cell_type": "code",
   "execution_count": 28,
   "outputs": [
    {
     "name": "stdout",
     "output_type": "stream",
     "text": [
      "Input shape: (60, 1)\n"
     ]
    }
   ],
   "source": [
    "if len(x_train.shape) == 2:\n",
    "    input_shape = (x_train.shape[1], 1)\n",
    "else:\n",
    "    input_shape = x_train.shape[1:]\n",
    "print(\"Input shape: \" + str(input_shape))"
   ],
   "metadata": {
    "collapsed": false,
    "pycharm": {
     "name": "#%%\n"
    }
   }
  },
  {
   "cell_type": "code",
   "execution_count": 29,
   "outputs": [
    {
     "name": "stdout",
     "output_type": "stream",
     "text": [
      "Model Summary:\n",
      "Model: \"model_1\"\n",
      "_________________________________________________________________\n",
      " Layer (type)                Output Shape              Param #   \n",
      "=================================================================\n",
      " input_2 (InputLayer)        [(None, 60, 1)]           0         \n",
      "                                                                 \n",
      " conv1d_3 (Conv1D)           (None, 60, 64)            256       \n",
      "                                                                 \n",
      " batch_normalization_3 (Batc  (None, 60, 64)           256       \n",
      " hNormalization)                                                 \n",
      "                                                                 \n",
      " re_lu_3 (ReLU)              (None, 60, 64)            0         \n",
      "                                                                 \n",
      " conv1d_4 (Conv1D)           (None, 60, 64)            12352     \n",
      "                                                                 \n",
      " batch_normalization_4 (Batc  (None, 60, 64)           256       \n",
      " hNormalization)                                                 \n",
      "                                                                 \n",
      " re_lu_4 (ReLU)              (None, 60, 64)            0         \n",
      "                                                                 \n",
      " conv1d_5 (Conv1D)           (None, 60, 64)            12352     \n",
      "                                                                 \n",
      " batch_normalization_5 (Batc  (None, 60, 64)           256       \n",
      " hNormalization)                                                 \n",
      "                                                                 \n",
      " re_lu_5 (ReLU)              (None, 60, 64)            0         \n",
      "                                                                 \n",
      " global_average_pooling1d_1   (None, 64)               0         \n",
      " (GlobalAveragePooling1D)                                        \n",
      "                                                                 \n",
      " dense_1 (Dense)             (None, 5)                 325       \n",
      "                                                                 \n",
      "=================================================================\n",
      "Total params: 26,053\n",
      "Trainable params: 25,669\n",
      "Non-trainable params: 384\n",
      "_________________________________________________________________\n",
      "****************************************************\n",
      "None\n"
     ]
    }
   ],
   "source": [
    "# SETTING UP THE MODEL\n",
    "# input_shape = x_train.shape[1:] # (window_size, len(supported_features))\n",
    "model_name, model = make_cnn_model_v1(input_shape=input_shape)\n",
    "# model_name, model = make_lstm_model_v1(input_shape=input_shape)\n",
    "# model_name, model = make_transformer_model_v1(\n",
    "#     input_shape=input_shape,\n",
    "#     head_size=256,\n",
    "#     num_heads=4,\n",
    "#     ff_dim=4,\n",
    "#     num_transformer_blocks=2,\n",
    "#     mlp_units=[128],\n",
    "#     mlp_dropout=0.4,\n",
    "#     dropout=0.25,\n",
    "# )\n",
    "print(\"Model Summary:\")\n",
    "stringlist = []\n",
    "model.summary(print_fn=lambda x: stringlist.append(x))\n",
    "short_model_summary = \"\\n\".join(stringlist)\n",
    "print(short_model_summary)\n",
    "print(print_line_divider())"
   ],
   "metadata": {
    "collapsed": false,
    "pycharm": {
     "name": "#%%\n"
    }
   }
  },
  {
   "cell_type": "code",
   "execution_count": 30,
   "outputs": [],
   "source": [
    "# LOGGING THE MODEL\n",
    "log_writer.write(\"Model\", line_divider=True)\n",
    "log_writer.write(\"Model name: \" + model_name)\n",
    "log_writer.write(short_model_summary)"
   ],
   "metadata": {
    "collapsed": false,
    "pycharm": {
     "name": "#%%\n"
    }
   }
  },
  {
   "cell_type": "code",
   "execution_count": 31,
   "outputs": [],
   "source": [
    "# MODELS CALLBACK AND SETUP\n",
    "callback_list = [\n",
    "    callbacks.ModelCheckpoint(SAVED_BEST_MODEL, save_best_only=True, monitor=\"val_loss\"),\n",
    "    callbacks.ReduceLROnPlateau(monitor=\"val_loss\", factor=0.5, patience=50, min_lr=0.0001),\n",
    "    callbacks.EarlyStopping(monitor=\"val_loss\", patience=100, verbose=1)\n",
    "]\n",
    "if enabled_tensor_board:\n",
    "    callback_list.append(callbacks.TensorBoard(log_dir=tensorboard_dir, histogram_freq=1))\n",
    "if log_writer.enabled:\n",
    "    callback_list.append(\n",
    "        callbacks.ModelCheckpoint(log_writer.base_folder + \"/model.h5\", save_best_only=True, monitor=\"val_loss\")\n",
    "    )\n",
    "model.compile(\n",
    "    optimizer=optimizer,\n",
    "    loss=loss_function,\n",
    "    metrics=[\"sparse_categorical_accuracy\"],\n",
    ")"
   ],
   "metadata": {
    "collapsed": false,
    "pycharm": {
     "name": "#%%\n"
    }
   }
  },
  {
   "cell_type": "code",
   "execution_count": 32,
   "outputs": [
    {
     "name": "stdout",
     "output_type": "stream",
     "text": [
      "****************************************************\n",
      "Starting to train...\n",
      "Epoch 1/1000\n",
      "159/159 [==============================] - 3s 15ms/step - loss: 1.3079 - sparse_categorical_accuracy: 0.5083 - val_loss: 2.0193 - val_sparse_categorical_accuracy: 0.3736 - lr: 0.0010\n",
      "Epoch 2/1000\n",
      "159/159 [==============================] - 2s 14ms/step - loss: 1.0125 - sparse_categorical_accuracy: 0.6720 - val_loss: 2.5396 - val_sparse_categorical_accuracy: 0.3736 - lr: 0.0010\n",
      "Epoch 3/1000\n",
      "159/159 [==============================] - 2s 16ms/step - loss: 0.8272 - sparse_categorical_accuracy: 0.7402 - val_loss: 2.9835 - val_sparse_categorical_accuracy: 0.3736 - lr: 0.0010\n",
      "Epoch 4/1000\n",
      "159/159 [==============================] - 3s 17ms/step - loss: 0.7022 - sparse_categorical_accuracy: 0.7809 - val_loss: 2.8260 - val_sparse_categorical_accuracy: 0.0816 - lr: 0.0010\n",
      "Epoch 5/1000\n",
      "159/159 [==============================] - 3s 16ms/step - loss: 0.6233 - sparse_categorical_accuracy: 0.8076 - val_loss: 2.5311 - val_sparse_categorical_accuracy: 0.2747 - lr: 0.0010\n",
      "Epoch 6/1000\n",
      "159/159 [==============================] - 2s 13ms/step - loss: 0.5687 - sparse_categorical_accuracy: 0.8208 - val_loss: 6.8370 - val_sparse_categorical_accuracy: 0.0675 - lr: 0.0010\n",
      "Epoch 7/1000\n",
      "159/159 [==============================] - 2s 13ms/step - loss: 0.5249 - sparse_categorical_accuracy: 0.8404 - val_loss: 6.2749 - val_sparse_categorical_accuracy: 0.1209 - lr: 0.0010\n",
      "Epoch 8/1000\n",
      "159/159 [==============================] - 2s 14ms/step - loss: 0.4808 - sparse_categorical_accuracy: 0.8453 - val_loss: 5.1387 - val_sparse_categorical_accuracy: 0.2245 - lr: 0.0010\n",
      "Epoch 9/1000\n",
      "159/159 [==============================] - 2s 15ms/step - loss: 0.4491 - sparse_categorical_accuracy: 0.8616 - val_loss: 3.1219 - val_sparse_categorical_accuracy: 0.5212 - lr: 0.0010\n",
      "Epoch 10/1000\n",
      "159/159 [==============================] - 3s 16ms/step - loss: 0.4340 - sparse_categorical_accuracy: 0.8630 - val_loss: 2.3481 - val_sparse_categorical_accuracy: 0.2339 - lr: 0.0010\n",
      "Epoch 11/1000\n",
      "159/159 [==============================] - 3s 16ms/step - loss: 0.3949 - sparse_categorical_accuracy: 0.8776 - val_loss: 8.0515 - val_sparse_categorical_accuracy: 0.0235 - lr: 0.0010\n",
      "Epoch 12/1000\n",
      "159/159 [==============================] - 3s 16ms/step - loss: 0.3705 - sparse_categorical_accuracy: 0.8856 - val_loss: 3.5935 - val_sparse_categorical_accuracy: 0.2857 - lr: 0.0010\n",
      "Epoch 13/1000\n",
      "159/159 [==============================] - 3s 17ms/step - loss: 0.3676 - sparse_categorical_accuracy: 0.8825 - val_loss: 3.3601 - val_sparse_categorical_accuracy: 0.1758 - lr: 0.0010\n",
      "Epoch 14/1000\n",
      "159/159 [==============================] - 3s 18ms/step - loss: 0.3537 - sparse_categorical_accuracy: 0.8905 - val_loss: 3.8905 - val_sparse_categorical_accuracy: 0.0879 - lr: 0.0010\n",
      "Epoch 15/1000\n",
      "159/159 [==============================] - 3s 18ms/step - loss: 0.3368 - sparse_categorical_accuracy: 0.8913 - val_loss: 5.0343 - val_sparse_categorical_accuracy: 0.2779 - lr: 0.0010\n",
      "Epoch 16/1000\n",
      "159/159 [==============================] - 3s 19ms/step - loss: 0.3199 - sparse_categorical_accuracy: 0.8998 - val_loss: 8.2601 - val_sparse_categorical_accuracy: 0.0675 - lr: 0.0010\n",
      "Epoch 17/1000\n",
      "159/159 [==============================] - 3s 19ms/step - loss: 0.3058 - sparse_categorical_accuracy: 0.9029 - val_loss: 1.7151 - val_sparse_categorical_accuracy: 0.4364 - lr: 0.0010\n",
      "Epoch 18/1000\n",
      "159/159 [==============================] - 3s 19ms/step - loss: 0.2964 - sparse_categorical_accuracy: 0.9039 - val_loss: 1.6619 - val_sparse_categorical_accuracy: 0.4882 - lr: 0.0010\n",
      "Epoch 19/1000\n",
      "159/159 [==============================] - 3s 19ms/step - loss: 0.3007 - sparse_categorical_accuracy: 0.9015 - val_loss: 2.7586 - val_sparse_categorical_accuracy: 0.2057 - lr: 0.0010\n",
      "Epoch 20/1000\n",
      "159/159 [==============================] - 2s 15ms/step - loss: 0.2791 - sparse_categorical_accuracy: 0.9157 - val_loss: 4.0015 - val_sparse_categorical_accuracy: 0.3265 - lr: 0.0010\n",
      "Epoch 21/1000\n",
      "159/159 [==============================] - 2s 14ms/step - loss: 0.2718 - sparse_categorical_accuracy: 0.9127 - val_loss: 2.6793 - val_sparse_categorical_accuracy: 0.2826 - lr: 0.0010\n",
      "Epoch 22/1000\n",
      "159/159 [==============================] - 2s 11ms/step - loss: 0.2681 - sparse_categorical_accuracy: 0.9143 - val_loss: 2.7224 - val_sparse_categorical_accuracy: 0.3548 - lr: 0.0010\n",
      "Epoch 23/1000\n",
      "159/159 [==============================] - 2s 12ms/step - loss: 0.2496 - sparse_categorical_accuracy: 0.9210 - val_loss: 6.4139 - val_sparse_categorical_accuracy: 0.1743 - lr: 0.0010\n",
      "Epoch 24/1000\n",
      "159/159 [==============================] - 2s 12ms/step - loss: 0.2421 - sparse_categorical_accuracy: 0.9253 - val_loss: 3.4041 - val_sparse_categorical_accuracy: 0.1758 - lr: 0.0010\n",
      "Epoch 25/1000\n",
      "159/159 [==============================] - 2s 12ms/step - loss: 0.2339 - sparse_categorical_accuracy: 0.9226 - val_loss: 5.3610 - val_sparse_categorical_accuracy: 0.0345 - lr: 0.0010\n",
      "Epoch 26/1000\n",
      "159/159 [==============================] - 2s 10ms/step - loss: 0.2304 - sparse_categorical_accuracy: 0.9271 - val_loss: 2.3490 - val_sparse_categorical_accuracy: 0.2841 - lr: 0.0010\n",
      "Epoch 27/1000\n",
      "159/159 [==============================] - 2s 11ms/step - loss: 0.2288 - sparse_categorical_accuracy: 0.9269 - val_loss: 5.5376 - val_sparse_categorical_accuracy: 0.1978 - lr: 0.0010\n",
      "Epoch 28/1000\n",
      "159/159 [==============================] - 2s 11ms/step - loss: 0.2116 - sparse_categorical_accuracy: 0.9336 - val_loss: 3.8138 - val_sparse_categorical_accuracy: 0.2889 - lr: 0.0010\n",
      "Epoch 29/1000\n",
      "159/159 [==============================] - 2s 11ms/step - loss: 0.2126 - sparse_categorical_accuracy: 0.9361 - val_loss: 5.3053 - val_sparse_categorical_accuracy: 0.1115 - lr: 0.0010\n",
      "Epoch 30/1000\n",
      "159/159 [==============================] - 2s 13ms/step - loss: 0.2171 - sparse_categorical_accuracy: 0.9349 - val_loss: 2.0395 - val_sparse_categorical_accuracy: 0.5024 - lr: 0.0010\n",
      "Epoch 31/1000\n",
      "159/159 [==============================] - 2s 14ms/step - loss: 0.1997 - sparse_categorical_accuracy: 0.9377 - val_loss: 5.6807 - val_sparse_categorical_accuracy: 0.6232 - lr: 0.0010\n",
      "Epoch 32/1000\n",
      "159/159 [==============================] - 2s 15ms/step - loss: 0.2051 - sparse_categorical_accuracy: 0.9347 - val_loss: 6.3347 - val_sparse_categorical_accuracy: 0.0801 - lr: 0.0010\n",
      "Epoch 33/1000\n",
      "159/159 [==============================] - 2s 16ms/step - loss: 0.1950 - sparse_categorical_accuracy: 0.9418 - val_loss: 6.5368 - val_sparse_categorical_accuracy: 0.0973 - lr: 0.0010\n",
      "Epoch 34/1000\n",
      "159/159 [==============================] - 3s 17ms/step - loss: 0.1891 - sparse_categorical_accuracy: 0.9430 - val_loss: 8.5499 - val_sparse_categorical_accuracy: 0.2135 - lr: 0.0010\n",
      "Epoch 35/1000\n",
      "159/159 [==============================] - 3s 18ms/step - loss: 0.1856 - sparse_categorical_accuracy: 0.9410 - val_loss: 8.1616 - val_sparse_categorical_accuracy: 0.1648 - lr: 0.0010\n",
      "Epoch 36/1000\n",
      "159/159 [==============================] - 3s 18ms/step - loss: 0.1811 - sparse_categorical_accuracy: 0.9444 - val_loss: 5.7325 - val_sparse_categorical_accuracy: 0.1884 - lr: 0.0010\n",
      "Epoch 37/1000\n",
      "159/159 [==============================] - 3s 20ms/step - loss: 0.1724 - sparse_categorical_accuracy: 0.9475 - val_loss: 4.6126 - val_sparse_categorical_accuracy: 0.2151 - lr: 0.0010\n",
      "Epoch 38/1000\n",
      "159/159 [==============================] - 3s 20ms/step - loss: 0.1711 - sparse_categorical_accuracy: 0.9493 - val_loss: 2.5770 - val_sparse_categorical_accuracy: 0.4223 - lr: 0.0010\n",
      "Epoch 39/1000\n",
      "159/159 [==============================] - 3s 19ms/step - loss: 0.1701 - sparse_categorical_accuracy: 0.9509 - val_loss: 3.7043 - val_sparse_categorical_accuracy: 0.2292 - lr: 0.0010\n",
      "Epoch 40/1000\n",
      "159/159 [==============================] - 3s 20ms/step - loss: 0.1641 - sparse_categorical_accuracy: 0.9507 - val_loss: 3.0398 - val_sparse_categorical_accuracy: 0.2998 - lr: 0.0010\n",
      "Epoch 41/1000\n",
      "159/159 [==============================] - 3s 20ms/step - loss: 0.1707 - sparse_categorical_accuracy: 0.9465 - val_loss: 6.6359 - val_sparse_categorical_accuracy: 0.1554 - lr: 0.0010\n",
      "Epoch 42/1000\n",
      "159/159 [==============================] - 3s 21ms/step - loss: 0.1736 - sparse_categorical_accuracy: 0.9499 - val_loss: 2.8486 - val_sparse_categorical_accuracy: 0.4129 - lr: 0.0010\n",
      "Epoch 43/1000\n",
      "159/159 [==============================] - 4s 22ms/step - loss: 0.1479 - sparse_categorical_accuracy: 0.9566 - val_loss: 4.3027 - val_sparse_categorical_accuracy: 0.1601 - lr: 0.0010\n",
      "Epoch 44/1000\n",
      "159/159 [==============================] - 3s 22ms/step - loss: 0.1412 - sparse_categorical_accuracy: 0.9579 - val_loss: 3.4275 - val_sparse_categorical_accuracy: 0.3532 - lr: 0.0010\n",
      "Epoch 45/1000\n",
      "159/159 [==============================] - 3s 20ms/step - loss: 0.1623 - sparse_categorical_accuracy: 0.9499 - val_loss: 3.2797 - val_sparse_categorical_accuracy: 0.2841 - lr: 0.0010\n",
      "Epoch 46/1000\n",
      "159/159 [==============================] - 3s 21ms/step - loss: 0.1581 - sparse_categorical_accuracy: 0.9507 - val_loss: 3.5346 - val_sparse_categorical_accuracy: 0.2857 - lr: 0.0010\n",
      "Epoch 47/1000\n",
      "159/159 [==============================] - 3s 21ms/step - loss: 0.1278 - sparse_categorical_accuracy: 0.9652 - val_loss: 4.9741 - val_sparse_categorical_accuracy: 0.1303 - lr: 0.0010\n",
      "Epoch 48/1000\n",
      "159/159 [==============================] - 4s 23ms/step - loss: 0.1416 - sparse_categorical_accuracy: 0.9599 - val_loss: 3.0966 - val_sparse_categorical_accuracy: 0.5416 - lr: 0.0010\n",
      "Epoch 49/1000\n",
      "159/159 [==============================] - 3s 20ms/step - loss: 0.1463 - sparse_categorical_accuracy: 0.9575 - val_loss: 4.7271 - val_sparse_categorical_accuracy: 0.1743 - lr: 0.0010\n",
      "Epoch 50/1000\n",
      "159/159 [==============================] - 3s 18ms/step - loss: 0.1272 - sparse_categorical_accuracy: 0.9644 - val_loss: 4.3934 - val_sparse_categorical_accuracy: 0.2370 - lr: 0.0010\n",
      "Epoch 51/1000\n",
      "159/159 [==============================] - 3s 16ms/step - loss: 0.1347 - sparse_categorical_accuracy: 0.9577 - val_loss: 2.7358 - val_sparse_categorical_accuracy: 0.4851 - lr: 0.0010\n",
      "Epoch 52/1000\n",
      "159/159 [==============================] - 2s 15ms/step - loss: 0.1358 - sparse_categorical_accuracy: 0.9601 - val_loss: 3.2598 - val_sparse_categorical_accuracy: 0.2700 - lr: 0.0010\n",
      "Epoch 53/1000\n",
      "159/159 [==============================] - 3s 16ms/step - loss: 0.1277 - sparse_categorical_accuracy: 0.9607 - val_loss: 3.3138 - val_sparse_categorical_accuracy: 0.3469 - lr: 0.0010\n",
      "Epoch 54/1000\n",
      "159/159 [==============================] - 2s 16ms/step - loss: 0.1190 - sparse_categorical_accuracy: 0.9648 - val_loss: 2.1847 - val_sparse_categorical_accuracy: 0.4474 - lr: 0.0010\n",
      "Epoch 55/1000\n",
      "159/159 [==============================] - 2s 15ms/step - loss: 0.1222 - sparse_categorical_accuracy: 0.9636 - val_loss: 7.6333 - val_sparse_categorical_accuracy: 0.1005 - lr: 0.0010\n",
      "Epoch 56/1000\n",
      "159/159 [==============================] - 3s 17ms/step - loss: 0.1207 - sparse_categorical_accuracy: 0.9644 - val_loss: 4.6354 - val_sparse_categorical_accuracy: 0.2229 - lr: 0.0010\n",
      "Epoch 57/1000\n",
      "159/159 [==============================] - 3s 17ms/step - loss: 0.1311 - sparse_categorical_accuracy: 0.9581 - val_loss: 4.1257 - val_sparse_categorical_accuracy: 0.2480 - lr: 0.0010\n",
      "Epoch 58/1000\n",
      "159/159 [==============================] - 3s 18ms/step - loss: 0.1194 - sparse_categorical_accuracy: 0.9666 - val_loss: 6.1193 - val_sparse_categorical_accuracy: 0.3281 - lr: 0.0010\n",
      "Epoch 59/1000\n",
      "159/159 [==============================] - 3s 18ms/step - loss: 0.1069 - sparse_categorical_accuracy: 0.9682 - val_loss: 3.3392 - val_sparse_categorical_accuracy: 0.3234 - lr: 0.0010\n",
      "Epoch 60/1000\n",
      "159/159 [==============================] - 3s 18ms/step - loss: 0.1072 - sparse_categorical_accuracy: 0.9725 - val_loss: 6.3331 - val_sparse_categorical_accuracy: 0.2496 - lr: 0.0010\n",
      "Epoch 61/1000\n",
      "159/159 [==============================] - 3s 18ms/step - loss: 0.1048 - sparse_categorical_accuracy: 0.9688 - val_loss: 6.3166 - val_sparse_categorical_accuracy: 0.3422 - lr: 0.0010\n",
      "Epoch 62/1000\n",
      "159/159 [==============================] - 3s 16ms/step - loss: 0.1061 - sparse_categorical_accuracy: 0.9678 - val_loss: 6.6621 - val_sparse_categorical_accuracy: 0.1130 - lr: 0.0010\n",
      "Epoch 63/1000\n",
      "159/159 [==============================] - 3s 17ms/step - loss: 0.1041 - sparse_categorical_accuracy: 0.9731 - val_loss: 11.2024 - val_sparse_categorical_accuracy: 0.1570 - lr: 0.0010\n",
      "Epoch 64/1000\n",
      "159/159 [==============================] - 3s 16ms/step - loss: 0.1074 - sparse_categorical_accuracy: 0.9678 - val_loss: 7.0707 - val_sparse_categorical_accuracy: 0.1758 - lr: 0.0010\n",
      "Epoch 65/1000\n",
      "159/159 [==============================] - 2s 15ms/step - loss: 0.1046 - sparse_categorical_accuracy: 0.9707 - val_loss: 4.8324 - val_sparse_categorical_accuracy: 0.3799 - lr: 0.0010\n",
      "Epoch 66/1000\n",
      "159/159 [==============================] - 2s 15ms/step - loss: 0.0995 - sparse_categorical_accuracy: 0.9723 - val_loss: 5.7822 - val_sparse_categorical_accuracy: 0.1507 - lr: 0.0010\n",
      "Epoch 67/1000\n",
      "159/159 [==============================] - 2s 13ms/step - loss: 0.0982 - sparse_categorical_accuracy: 0.9713 - val_loss: 4.1329 - val_sparse_categorical_accuracy: 0.4129 - lr: 0.0010\n",
      "Epoch 68/1000\n",
      "159/159 [==============================] - 2s 13ms/step - loss: 0.1055 - sparse_categorical_accuracy: 0.9678 - val_loss: 4.7856 - val_sparse_categorical_accuracy: 0.3108 - lr: 0.0010\n",
      "Epoch 69/1000\n",
      "159/159 [==============================] - 2s 13ms/step - loss: 0.0722 - sparse_categorical_accuracy: 0.9841 - val_loss: 4.6521 - val_sparse_categorical_accuracy: 0.2433 - lr: 5.0000e-04\n",
      "Epoch 70/1000\n",
      "159/159 [==============================] - 2s 14ms/step - loss: 0.0623 - sparse_categorical_accuracy: 0.9872 - val_loss: 4.2057 - val_sparse_categorical_accuracy: 0.2355 - lr: 5.0000e-04\n",
      "Epoch 71/1000\n",
      "159/159 [==============================] - 2s 13ms/step - loss: 0.0659 - sparse_categorical_accuracy: 0.9853 - val_loss: 4.4924 - val_sparse_categorical_accuracy: 0.2072 - lr: 5.0000e-04\n",
      "Epoch 72/1000\n",
      "159/159 [==============================] - 2s 13ms/step - loss: 0.0646 - sparse_categorical_accuracy: 0.9862 - val_loss: 7.1434 - val_sparse_categorical_accuracy: 0.1146 - lr: 5.0000e-04\n",
      "Epoch 73/1000\n",
      "159/159 [==============================] - 2s 13ms/step - loss: 0.0628 - sparse_categorical_accuracy: 0.9874 - val_loss: 4.2630 - val_sparse_categorical_accuracy: 0.2057 - lr: 5.0000e-04\n",
      "Epoch 74/1000\n",
      "159/159 [==============================] - 2s 11ms/step - loss: 0.0565 - sparse_categorical_accuracy: 0.9888 - val_loss: 3.9487 - val_sparse_categorical_accuracy: 0.2323 - lr: 5.0000e-04\n",
      "Epoch 75/1000\n",
      "159/159 [==============================] - 1s 9ms/step - loss: 0.0587 - sparse_categorical_accuracy: 0.9880 - val_loss: 3.2768 - val_sparse_categorical_accuracy: 0.3956 - lr: 5.0000e-04\n",
      "Epoch 76/1000\n",
      "159/159 [==============================] - 1s 9ms/step - loss: 0.0551 - sparse_categorical_accuracy: 0.9902 - val_loss: 4.6076 - val_sparse_categorical_accuracy: 0.2763 - lr: 5.0000e-04\n",
      "Epoch 77/1000\n",
      "159/159 [==============================] - 2s 10ms/step - loss: 0.0597 - sparse_categorical_accuracy: 0.9876 - val_loss: 3.4266 - val_sparse_categorical_accuracy: 0.3940 - lr: 5.0000e-04\n",
      "Epoch 78/1000\n",
      "159/159 [==============================] - 2s 10ms/step - loss: 0.0621 - sparse_categorical_accuracy: 0.9866 - val_loss: 3.2107 - val_sparse_categorical_accuracy: 0.4364 - lr: 5.0000e-04\n",
      "Epoch 79/1000\n",
      "159/159 [==============================] - 2s 11ms/step - loss: 0.0569 - sparse_categorical_accuracy: 0.9878 - val_loss: 6.1005 - val_sparse_categorical_accuracy: 0.2261 - lr: 5.0000e-04\n",
      "Epoch 80/1000\n",
      "159/159 [==============================] - 2s 11ms/step - loss: 0.0628 - sparse_categorical_accuracy: 0.9858 - val_loss: 6.0502 - val_sparse_categorical_accuracy: 0.2025 - lr: 5.0000e-04\n",
      "Epoch 81/1000\n",
      "159/159 [==============================] - 2s 11ms/step - loss: 0.0579 - sparse_categorical_accuracy: 0.9884 - val_loss: 7.1113 - val_sparse_categorical_accuracy: 0.1570 - lr: 5.0000e-04\n",
      "Epoch 82/1000\n",
      "159/159 [==============================] - 2s 12ms/step - loss: 0.0643 - sparse_categorical_accuracy: 0.9843 - val_loss: 3.3719 - val_sparse_categorical_accuracy: 0.4254 - lr: 5.0000e-04\n",
      "Epoch 83/1000\n",
      "159/159 [==============================] - 2s 12ms/step - loss: 0.0556 - sparse_categorical_accuracy: 0.9876 - val_loss: 3.4546 - val_sparse_categorical_accuracy: 0.3297 - lr: 5.0000e-04\n",
      "Epoch 84/1000\n",
      "159/159 [==============================] - 2s 13ms/step - loss: 0.0507 - sparse_categorical_accuracy: 0.9902 - val_loss: 4.5826 - val_sparse_categorical_accuracy: 0.3077 - lr: 5.0000e-04\n",
      "Epoch 85/1000\n",
      "159/159 [==============================] - 2s 13ms/step - loss: 0.0548 - sparse_categorical_accuracy: 0.9868 - val_loss: 2.9286 - val_sparse_categorical_accuracy: 0.5181 - lr: 5.0000e-04\n",
      "Epoch 86/1000\n",
      "159/159 [==============================] - 2s 15ms/step - loss: 0.0590 - sparse_categorical_accuracy: 0.9855 - val_loss: 5.1790 - val_sparse_categorical_accuracy: 0.2873 - lr: 5.0000e-04\n",
      "Epoch 87/1000\n",
      "159/159 [==============================] - 2s 15ms/step - loss: 0.0577 - sparse_categorical_accuracy: 0.9872 - val_loss: 8.2698 - val_sparse_categorical_accuracy: 0.1115 - lr: 5.0000e-04\n",
      "Epoch 88/1000\n",
      "159/159 [==============================] - 3s 16ms/step - loss: 0.0545 - sparse_categorical_accuracy: 0.9896 - val_loss: 8.7370 - val_sparse_categorical_accuracy: 0.1240 - lr: 5.0000e-04\n",
      "Epoch 89/1000\n",
      "159/159 [==============================] - 3s 17ms/step - loss: 0.0550 - sparse_categorical_accuracy: 0.9857 - val_loss: 6.1163 - val_sparse_categorical_accuracy: 0.2669 - lr: 5.0000e-04\n",
      "Epoch 90/1000\n",
      "159/159 [==============================] - 3s 17ms/step - loss: 0.0565 - sparse_categorical_accuracy: 0.9866 - val_loss: 8.5010 - val_sparse_categorical_accuracy: 0.0973 - lr: 5.0000e-04\n",
      "Epoch 91/1000\n",
      "159/159 [==============================] - 3s 17ms/step - loss: 0.0507 - sparse_categorical_accuracy: 0.9906 - val_loss: 4.2326 - val_sparse_categorical_accuracy: 0.3014 - lr: 5.0000e-04\n",
      "Epoch 92/1000\n",
      "159/159 [==============================] - 2s 15ms/step - loss: 0.0500 - sparse_categorical_accuracy: 0.9908 - val_loss: 3.6776 - val_sparse_categorical_accuracy: 0.3093 - lr: 5.0000e-04\n",
      "Epoch 93/1000\n",
      "159/159 [==============================] - 2s 16ms/step - loss: 0.0535 - sparse_categorical_accuracy: 0.9870 - val_loss: 2.6505 - val_sparse_categorical_accuracy: 0.4097 - lr: 5.0000e-04\n",
      "Epoch 94/1000\n",
      "159/159 [==============================] - 2s 15ms/step - loss: 0.0451 - sparse_categorical_accuracy: 0.9906 - val_loss: 5.1092 - val_sparse_categorical_accuracy: 0.3548 - lr: 5.0000e-04\n",
      "Epoch 95/1000\n",
      "159/159 [==============================] - 2s 15ms/step - loss: 0.0466 - sparse_categorical_accuracy: 0.9908 - val_loss: 4.9544 - val_sparse_categorical_accuracy: 0.3265 - lr: 5.0000e-04\n",
      "Epoch 96/1000\n",
      "159/159 [==============================] - 3s 16ms/step - loss: 0.0510 - sparse_categorical_accuracy: 0.9888 - val_loss: 4.8687 - val_sparse_categorical_accuracy: 0.3501 - lr: 5.0000e-04\n",
      "Epoch 97/1000\n",
      "159/159 [==============================] - 3s 18ms/step - loss: 0.0505 - sparse_categorical_accuracy: 0.9870 - val_loss: 6.4479 - val_sparse_categorical_accuracy: 0.2292 - lr: 5.0000e-04\n",
      "Epoch 98/1000\n",
      "159/159 [==============================] - 3s 18ms/step - loss: 0.0523 - sparse_categorical_accuracy: 0.9908 - val_loss: 2.7743 - val_sparse_categorical_accuracy: 0.4568 - lr: 5.0000e-04\n",
      "Epoch 99/1000\n",
      "159/159 [==============================] - 3s 18ms/step - loss: 0.0521 - sparse_categorical_accuracy: 0.9882 - val_loss: 5.5158 - val_sparse_categorical_accuracy: 0.2276 - lr: 5.0000e-04\n",
      "Epoch 100/1000\n",
      "159/159 [==============================] - 3s 18ms/step - loss: 0.0440 - sparse_categorical_accuracy: 0.9915 - val_loss: 7.8476 - val_sparse_categorical_accuracy: 0.2684 - lr: 5.0000e-04\n",
      "Epoch 101/1000\n",
      "159/159 [==============================] - 3s 18ms/step - loss: 0.0517 - sparse_categorical_accuracy: 0.9886 - val_loss: 4.5922 - val_sparse_categorical_accuracy: 0.2245 - lr: 5.0000e-04\n",
      "Epoch 102/1000\n",
      "159/159 [==============================] - 3s 18ms/step - loss: 0.0428 - sparse_categorical_accuracy: 0.9925 - val_loss: 5.3038 - val_sparse_categorical_accuracy: 0.3187 - lr: 5.0000e-04\n",
      "Epoch 103/1000\n",
      "159/159 [==============================] - 3s 18ms/step - loss: 0.0402 - sparse_categorical_accuracy: 0.9919 - val_loss: 4.8869 - val_sparse_categorical_accuracy: 0.3799 - lr: 5.0000e-04\n",
      "Epoch 104/1000\n",
      "159/159 [==============================] - 3s 18ms/step - loss: 0.0452 - sparse_categorical_accuracy: 0.9904 - val_loss: 6.3248 - val_sparse_categorical_accuracy: 0.1774 - lr: 5.0000e-04\n",
      "Epoch 105/1000\n",
      "159/159 [==============================] - 3s 17ms/step - loss: 0.0391 - sparse_categorical_accuracy: 0.9937 - val_loss: 4.1292 - val_sparse_categorical_accuracy: 0.2873 - lr: 5.0000e-04\n",
      "Epoch 106/1000\n",
      "159/159 [==============================] - 2s 16ms/step - loss: 0.0472 - sparse_categorical_accuracy: 0.9886 - val_loss: 4.9408 - val_sparse_categorical_accuracy: 0.3250 - lr: 5.0000e-04\n",
      "Epoch 107/1000\n",
      "159/159 [==============================] - 2s 15ms/step - loss: 0.0413 - sparse_categorical_accuracy: 0.9919 - val_loss: 6.3283 - val_sparse_categorical_accuracy: 0.1664 - lr: 5.0000e-04\n",
      "Epoch 108/1000\n",
      "159/159 [==============================] - 2s 15ms/step - loss: 0.0473 - sparse_categorical_accuracy: 0.9904 - val_loss: 9.0814 - val_sparse_categorical_accuracy: 0.0675 - lr: 5.0000e-04\n",
      "Epoch 109/1000\n",
      "159/159 [==============================] - 2s 15ms/step - loss: 0.0386 - sparse_categorical_accuracy: 0.9939 - val_loss: 2.8597 - val_sparse_categorical_accuracy: 0.4050 - lr: 5.0000e-04\n",
      "Epoch 110/1000\n",
      "159/159 [==============================] - 2s 14ms/step - loss: 0.0384 - sparse_categorical_accuracy: 0.9923 - val_loss: 3.1435 - val_sparse_categorical_accuracy: 0.3611 - lr: 5.0000e-04\n",
      "Epoch 111/1000\n",
      "159/159 [==============================] - 2s 14ms/step - loss: 0.0383 - sparse_categorical_accuracy: 0.9921 - val_loss: 5.5616 - val_sparse_categorical_accuracy: 0.1994 - lr: 5.0000e-04\n",
      "Epoch 112/1000\n",
      "159/159 [==============================] - 2s 14ms/step - loss: 0.0420 - sparse_categorical_accuracy: 0.9914 - val_loss: 6.1682 - val_sparse_categorical_accuracy: 0.2559 - lr: 5.0000e-04\n",
      "Epoch 113/1000\n",
      "159/159 [==============================] - 2s 15ms/step - loss: 0.0477 - sparse_categorical_accuracy: 0.9894 - val_loss: 10.5556 - val_sparse_categorical_accuracy: 0.2716 - lr: 5.0000e-04\n",
      "Epoch 114/1000\n",
      "159/159 [==============================] - 3s 16ms/step - loss: 0.0486 - sparse_categorical_accuracy: 0.9880 - val_loss: 3.5332 - val_sparse_categorical_accuracy: 0.3407 - lr: 5.0000e-04\n",
      "Epoch 115/1000\n",
      "159/159 [==============================] - 2s 16ms/step - loss: 0.0481 - sparse_categorical_accuracy: 0.9880 - val_loss: 5.4378 - val_sparse_categorical_accuracy: 0.4129 - lr: 5.0000e-04\n",
      "Epoch 116/1000\n",
      "159/159 [==============================] - 2s 15ms/step - loss: 0.0450 - sparse_categorical_accuracy: 0.9902 - val_loss: 6.2413 - val_sparse_categorical_accuracy: 0.3014 - lr: 5.0000e-04\n",
      "Epoch 117/1000\n",
      "159/159 [==============================] - 2s 15ms/step - loss: 0.0401 - sparse_categorical_accuracy: 0.9912 - val_loss: 7.3645 - val_sparse_categorical_accuracy: 0.2386 - lr: 5.0000e-04\n",
      "Epoch 118/1000\n",
      "159/159 [==============================] - 2s 14ms/step - loss: 0.0406 - sparse_categorical_accuracy: 0.9915 - val_loss: 2.4322 - val_sparse_categorical_accuracy: 0.5055 - lr: 5.0000e-04\n",
      "Epoch 118: early stopping\n",
      "Highest validation accuracy:  0.6232339143753052\n"
     ]
    },
    {
     "name": "stderr",
     "output_type": "stream",
     "text": [
      "Input #0, wav, from '/var/folders/ph/8yv0q18n4mb1439tnf3rzcf40000gp/T/tmpwxb_3em5.wav':\n",
      "  Duration: 00:00:02.27, bitrate: 705 kb/s\n",
      "  Stream #0:0: Audio: pcm_s16le ([1][0][0][0] / 0x0001), 44100 Hz, 1 channels, s16, 705 kb/s\n",
      "   2.16 M-A:  0.000 fd=   0 aq=    0KB vq=    0KB sq=    0B f=0/0   \r"
     ]
    },
    {
     "name": "stdout",
     "output_type": "stream",
     "text": [
      "\n"
     ]
    },
    {
     "name": "stderr",
     "output_type": "stream",
     "text": [
      "   2.20 M-A:  0.000 fd=   0 aq=    0KB vq=    0KB sq=    0B f=0/0   \r"
     ]
    }
   ],
   "source": [
    "# TRAINING\n",
    "print_line_divider()\n",
    "print(\"Starting to train...\")\n",
    "history = model.fit(\n",
    "    x_train,\n",
    "    y_train,\n",
    "    batch_size=batch_size,\n",
    "    epochs=epochs,\n",
    "    callbacks=callback_list,\n",
    "    validation_split=validation_split,\n",
    "    verbose=1,\n",
    "    shuffle=True\n",
    ")\n",
    "print(\"Highest validation accuracy: \", max(history.history['val_sparse_categorical_accuracy']))\n",
    "log_writer.write(\"Result\", line_divider=True)\n",
    "log_writer.write(\"Highest validation accuracy: \" + str(max(history.history['val_sparse_categorical_accuracy'])))\n",
    "play_training_is_complete()"
   ],
   "metadata": {
    "collapsed": false,
    "pycharm": {
     "name": "#%%\n"
    }
   }
  },
  {
   "cell_type": "code",
   "execution_count": 33,
   "outputs": [],
   "source": [
    "if log_writer.enabled:\n",
    "    model.save(log_writer.base_folder + \"/model_last.h5\")"
   ],
   "metadata": {
    "collapsed": false,
    "pycharm": {
     "name": "#%%\n"
    }
   }
  },
  {
   "cell_type": "code",
   "execution_count": 34,
   "outputs": [
    {
     "data": {
      "text/plain": "<Figure size 432x288 with 1 Axes>",
      "image/png": "[encoded data removed]"
     },
     "metadata": {
      "needs_background": "light"
     },
     "output_type": "display_data"
    }
   ],
   "source": [
    "# PLOTTING\n",
    "metric = \"sparse_categorical_accuracy\"\n",
    "plt.figure()\n",
    "plt.plot(history.history[metric])\n",
    "plt.plot(history.history[\"val_\" + metric])\n",
    "plt.title(\"model \" + model_name + \" :\" + metric)\n",
    "plt.ylabel(metric, fontsize=\"large\")\n",
    "plt.xlabel(\"epoch\", fontsize=\"large\")\n",
    "plt.legend([\"train\", \"val\"], loc=\"best\")\n",
    "if log_writer.enabled:\n",
    "    plt.savefig(os.path.join(log_writer.base_folder, \"Validation progress.png\"))\n",
    "plt.show()\n",
    "plt.close()"
   ],
   "metadata": {
    "collapsed": false,
    "pycharm": {
     "name": "#%%\n"
    }
   }
  },
  {
   "cell_type": "code",
   "execution_count": 35,
   "outputs": [
    {
     "name": "stdout",
     "output_type": "stream",
     "text": [
      "46/46 [==============================] - 0s 5ms/step - loss: 1.0786 - sparse_categorical_accuracy: 0.6241\n",
      "****************************************************\n",
      "Test accuracy 0.6240652799606323\n",
      "Test loss 1.0785962343215942\n"
     ]
    },
    {
     "data": {
      "text/plain": "<Figure size 576x576 with 2 Axes>",
      "image/png": "[encoded data removed]"
     },
     "metadata": {
      "needs_background": "light"
     },
     "output_type": "display_data"
    }
   ],
   "source": [
    "# EVALUATION\n",
    "model = models.load_model(SAVED_BEST_MODEL)\n",
    "\n",
    "test_loss, test_acc = model.evaluate(x_test, y_test)\n",
    "print_line_divider()\n",
    "print(\"Test accuracy\", test_acc)\n",
    "print(\"Test loss\", test_loss)\n",
    "\n",
    "# Accuracy based on different labels\n",
    "y_pred = model.predict(x_test)\n",
    "y_pred = np.argmax(y_pred, axis=1)\n",
    "con_mat = tf.math.confusion_matrix(labels=y_test, predictions=y_pred).numpy()\n",
    "con_mat_norm = np.around(con_mat.astype('float') / con_mat.sum(axis=1)[:, np.newaxis], decimals=4)\n",
    "con_mat_df = pd.DataFrame(con_mat_norm, index=location_labels, columns=location_labels)\n",
    "figure = plt.figure(figsize=(8, 8))\n",
    "sns.heatmap(con_mat_df, annot=True, cmap=plt.cm.Blues)\n",
    "plt.tight_layout()\n",
    "plt.ylabel('True label')\n",
    "plt.xlabel('Predicted label')\n",
    "if log_writer.enabled:\n",
    "    plt.savefig(os.path.join(log_writer.base_folder, \"Accuracy.png\"))\n",
    "plt.show()\n",
    "plt.close()\n",
    "\n",
    "log_writer.write(\"Test evaluation\", line_divider=True)\n",
    "log_writer.write(\"Test accuracy: \" + str(test_acc))\n",
    "log_writer.write(\"Test loss: \" + str(test_loss))\n",
    "log_writer.close()"
   ],
   "metadata": {
    "collapsed": false,
    "pycharm": {
     "name": "#%%\n"
    }
   }
  },
  {
   "cell_type": "code",
   "execution_count": null,
   "outputs": [],
   "source": [],
   "metadata": {
    "collapsed": false,
    "pycharm": {
     "name": "#%%\n"
    }
   }
  }
 ],
 "metadata": {
  "kernelspec": {
   "display_name": "Python 3",
   "language": "python",
   "name": "python3"
  },
  "language_info": {
   "codemirror_mode": {
    "name": "ipython",
    "version": 2
   },
   "file_extension": ".py",
   "mimetype": "text/x-python",
   "name": "python",
   "nbconvert_exporter": "python",
   "pygments_lexer": "ipython2",
   "version": "2.7.6"
  }
 },
 "nbformat": 4,
 "nbformat_minor": 0
}