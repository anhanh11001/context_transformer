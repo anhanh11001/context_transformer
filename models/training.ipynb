{
 "cells": [
  {
   "cell_type": "code",
   "execution_count": 12,
   "outputs": [],
   "source": [
    "import os.path\n",
    "import sys\n",
    "\n",
    "from keras import callbacks, models\n",
    "from datahandler.constants import all_features, data_version, acc_features, tensorboard_dir, location_labels\n",
    "from datahandler.data_preprocessing import get_train_test_data, load_data_v3\n",
    "from models.log_writer import LogWriter\n",
    "from model.lstm import make_lstm_model_v1\n",
    "from model.transformer import make_transformer_model_v1\n",
    "from model.cnn import make_cnn_model_v1, make_cnn_model_v2\n",
    "import matplotlib.pyplot as plt\n",
    "from utils import print_line_divider\n",
    "import numpy as np\n",
    "import tensorflow as tf\n",
    "import pandas as pd\n",
    "import seaborn as sns"
   ],
   "metadata": {
    "collapsed": false,
    "pycharm": {
     "name": "#%%\n"
    }
   }
  },
  {
   "cell_type": "code",
   "execution_count": 45,
   "outputs": [],
   "source": [
    "# LOGGING CONFIGURATION\n",
    "enabled_log = True\n",
    "enabled_tensor_board = True\n",
    "log_writer = LogWriter(enabled_log)"
   ],
   "metadata": {
    "collapsed": false,
    "pycharm": {
     "name": "#%%\n"
    }
   }
  },
  {
   "cell_type": "code",
   "execution_count": 33,
   "outputs": [
    {
     "name": "stdout",
     "output_type": "stream",
     "text": [
      "STARTING THE TRAINING PROCESS\n"
     ]
    }
   ],
   "source": [
    "# TRAINING CONFIGURATION\n",
    "print(\"STARTING THE TRAINING PROCESS\")\n",
    "SAVED_BEST_MODEL = \"model/best_model.h5\"\n",
    "window_time_in_seconds = 2\n",
    "window_size = 40\n",
    "epochs = 1000\n",
    "batch_size = 32\n",
    "validation_split = 1 / 9\n",
    "optimizer = 'adam'\n",
    "loss_function = \"sparse_categorical_crossentropy\"\n",
    "supported_features = all_features\n",
    "\n",
    "log_writer.write(\"Configuration\", line_divider=True)\n",
    "log_writer.write(\n",
    "    f\"\"\"Window size: {window_size}\n",
    "Window time in second: ${window_time_in_seconds}\n",
    "Maximum number of epochs: ${epochs}\n",
    "Batch size: ${batch_size}\n",
    "Validation split: ${validation_split}\n",
    "Optimizer: ${optimizer}\n",
    "Loss function: ${loss_function}\n",
    "Features used for training: ${str(supported_features)}\"\"\"\n",
    ")"
   ],
   "metadata": {
    "collapsed": false,
    "pycharm": {
     "name": "#%%\n"
    }
   }
  },
  {
   "cell_type": "code",
   "execution_count": 15,
   "outputs": [
    {
     "name": "stdout",
     "output_type": "stream",
     "text": [
      "****************************************************\n",
      "Preparing data...\n",
      "Loading data from file px4_datacollection.csv\n",
      "Loading data from file ps1_datacollection.csv\n",
      "Loading data from file tc4_datacollection.csv\n",
      "Loading data from file ss3_datacollection.csv\n",
      "Loading data from file ps2_datacollection.csv\n",
      "Loading data from file op4_datacollection.csv\n",
      "Loading data from file op2_datacollection.csv\n",
      "Loading data from file ps4_datacollection.csv\n",
      "Loading data from file px1_datacollection.csv\n",
      "Loading data from file tc1_datacollection.csv\n",
      "Loading data from file tc2_datacollection.csv\n",
      "Loading data from file px2_datacollection.csv\n",
      "Loading data from file op1_datacollection.csv\n",
      "Loading data from file tc3_datacollection.csv\n",
      "Loading data from file px3_datacollection.csv\n",
      "Loading data from file op3_datacollection.csv\n",
      "Loading data from file ps5_datacollection.csv\n",
      "Loading data from file ss4_datacollection.csv\n",
      "Loading data from file ss2_datacollection.csv\n",
      "Loading data from file ps3_datacollection.csv\n",
      "Loading data from file op5_datacollection.csv\n",
      "Loading data from file px5_datacollection.csv\n",
      "Loading data from file ss1_datacollection.csv\n",
      "Loading data from file tc5_datacollection.csv\n",
      "Train data shape: (5745, 40, 9) | Train label shape: (5745,)\n",
      "Test data shape: (1451, 40, 9) | Test label shape: (1451,)\n",
      "****************************************************\n"
     ]
    }
   ],
   "source": [
    "# DATA Loader\n",
    "print_line_divider()\n",
    "print(\"Preparing data...\")\n",
    "# x_train, y_train, x_test, y_test = get_train_test_data(supported_features, window_time_in_seconds, window_size)\n",
    "x_train, y_train, x_test, y_test = load_data_v3(\n",
    "    features = supported_features,\n",
    "    window_time_in_seconds = window_time_in_seconds,\n",
    "    window_size = window_size\n",
    ")\n",
    "print(\"Train data shape: \" + str(x_train.shape) + \" | Train label shape: \" + str(y_train.shape))\n",
    "print(\"Test data shape: \" + str(x_test.shape) + \" | Test label shape: \" + str(y_test.shape))\n",
    "print_line_divider()\n"
   ],
   "metadata": {
    "collapsed": false,
    "pycharm": {
     "name": "#%%\n"
    }
   }
  },
  {
   "cell_type": "code",
   "execution_count": 34,
   "outputs": [],
   "source": [
    "log_writer.write(\"Data\", line_divider=True)\n",
    "log_writer.write(\"Data loaded from version \" + data_version)\n",
    "log_writer.write(\n",
    "    f\"\"\"Data training shape: ${x_train.shape}\n",
    "Data testing shape: ${x_test.shape}\"\"\"\n",
    ")"
   ],
   "metadata": {
    "collapsed": false,
    "pycharm": {
     "name": "#%%\n"
    }
   }
  },
  {
   "cell_type": "code",
   "execution_count": 35,
   "outputs": [
    {
     "name": "stdout",
     "output_type": "stream",
     "text": [
      "****************************************************\n",
      "Distribution for set Training set\n",
      "\n",
      "insidethepantpocket count is 949\n",
      "beingusedinhand count is 1198\n",
      "calling count is 1212\n",
      "holdinginhand count is 1162\n",
      "insidethebag count is 1224\n",
      "****************************************************\n",
      "Distribution for set Testing set\n",
      "\n",
      "insidethepantpocket count is 245\n",
      "beingusedinhand count is 300\n",
      "calling count is 287\n",
      "holdinginhand count is 336\n",
      "insidethebag count is 283\n"
     ]
    }
   ],
   "source": [
    "def check_distribution(labels_list, set_name):\n",
    "    label_count_dict = {}\n",
    "    for label_ind in labels_list:\n",
    "        if label_ind in label_count_dict.keys():\n",
    "            label_count_dict[label_ind] += 1\n",
    "        else:\n",
    "            label_count_dict[label_ind] = 1\n",
    "\n",
    "    print_line_divider()\n",
    "    print(\"Distribution for set \" + set_name + \"\\n\")\n",
    "    for key in label_count_dict:\n",
    "        print(location_labels[key] + \" count is \" + str(label_count_dict[key]))\n",
    "\n",
    "check_distribution(y_train, \"Training set\")\n",
    "check_distribution(y_test, \"Testing set\")"
   ],
   "metadata": {
    "collapsed": false,
    "pycharm": {
     "name": "#%%\n"
    }
   }
  },
  {
   "cell_type": "code",
   "execution_count": 40,
   "outputs": [
    {
     "name": "stdout",
     "output_type": "stream",
     "text": [
      "Model Summary:\n",
      "Model: \"model_6\"\n",
      "__________________________________________________________________________________________________\n",
      " Layer (type)                   Output Shape         Param #     Connected to                     \n",
      "==================================================================================================\n",
      " input_7 (InputLayer)           [(None, 40, 9)]      0           []                               \n",
      "                                                                                                  \n",
      " layer_normalization_16 (LayerN  (None, 40, 9)       18          ['input_7[0][0]']                \n",
      " ormalization)                                                                                    \n",
      "                                                                                                  \n",
      " multi_head_attention_8 (MultiH  (None, 40, 9)       39945       ['layer_normalization_16[0][0]', \n",
      " eadAttention)                                                    'layer_normalization_16[0][0]'] \n",
      "                                                                                                  \n",
      " dropout_21 (Dropout)           (None, 40, 9)        0           ['multi_head_attention_8[0][0]'] \n",
      "                                                                                                  \n",
      " tf.__operators__.add_16 (TFOpL  (None, 40, 9)       0           ['dropout_21[0][0]',             \n",
      " ambda)                                                           'input_7[0][0]']                \n",
      "                                                                                                  \n",
      " layer_normalization_17 (LayerN  (None, 40, 9)       18          ['tf.__operators__.add_16[0][0]']\n",
      " ormalization)                                                                                    \n",
      "                                                                                                  \n",
      " conv1d_22 (Conv1D)             (None, 40, 4)        40          ['layer_normalization_17[0][0]'] \n",
      "                                                                                                  \n",
      " dropout_22 (Dropout)           (None, 40, 4)        0           ['conv1d_22[0][0]']              \n",
      "                                                                                                  \n",
      " conv1d_23 (Conv1D)             (None, 40, 9)        45          ['dropout_22[0][0]']             \n",
      "                                                                                                  \n",
      " tf.__operators__.add_17 (TFOpL  (None, 40, 9)       0           ['conv1d_23[0][0]',              \n",
      " ambda)                                                           'tf.__operators__.add_16[0][0]']\n",
      "                                                                                                  \n",
      " layer_normalization_18 (LayerN  (None, 40, 9)       18          ['tf.__operators__.add_17[0][0]']\n",
      " ormalization)                                                                                    \n",
      "                                                                                                  \n",
      " multi_head_attention_9 (MultiH  (None, 40, 9)       39945       ['layer_normalization_18[0][0]', \n",
      " eadAttention)                                                    'layer_normalization_18[0][0]'] \n",
      "                                                                                                  \n",
      " dropout_23 (Dropout)           (None, 40, 9)        0           ['multi_head_attention_9[0][0]'] \n",
      "                                                                                                  \n",
      " tf.__operators__.add_18 (TFOpL  (None, 40, 9)       0           ['dropout_23[0][0]',             \n",
      " ambda)                                                           'tf.__operators__.add_17[0][0]']\n",
      "                                                                                                  \n",
      " layer_normalization_19 (LayerN  (None, 40, 9)       18          ['tf.__operators__.add_18[0][0]']\n",
      " ormalization)                                                                                    \n",
      "                                                                                                  \n",
      " conv1d_24 (Conv1D)             (None, 40, 4)        40          ['layer_normalization_19[0][0]'] \n",
      "                                                                                                  \n",
      " dropout_24 (Dropout)           (None, 40, 4)        0           ['conv1d_24[0][0]']              \n",
      "                                                                                                  \n",
      " conv1d_25 (Conv1D)             (None, 40, 9)        45          ['dropout_24[0][0]']             \n",
      "                                                                                                  \n",
      " tf.__operators__.add_19 (TFOpL  (None, 40, 9)       0           ['conv1d_25[0][0]',              \n",
      " ambda)                                                           'tf.__operators__.add_18[0][0]']\n",
      "                                                                                                  \n",
      " global_average_pooling1d_6 (Gl  (None, 40)          0           ['tf.__operators__.add_19[0][0]']\n",
      " obalAveragePooling1D)                                                                            \n",
      "                                                                                                  \n",
      " dense_12 (Dense)               (None, 128)          5248        ['global_average_pooling1d_6[0][0\n",
      "                                                                 ]']                              \n",
      "                                                                                                  \n",
      " dropout_25 (Dropout)           (None, 128)          0           ['dense_12[0][0]']               \n",
      "                                                                                                  \n",
      " dense_13 (Dense)               (None, 5)            645         ['dropout_25[0][0]']             \n",
      "                                                                                                  \n",
      "==================================================================================================\n",
      "Total params: 86,025\n",
      "Trainable params: 86,025\n",
      "Non-trainable params: 0\n",
      "__________________________________________________________________________________________________\n",
      "****************************************************\n",
      "None\n"
     ]
    }
   ],
   "source": [
    "# SETTING UP THE MODEL\n",
    "input_shape = (window_size, len(supported_features))\n",
    "# model_name, model = make_cnn_model_v1(input_shape=input_shape)\n",
    "# model_name, model = make_lstm_model_v1(input_shape=input_shape)\n",
    "model_name, model = make_transformer_model_v1(\n",
    "    input_shape=input_shape,\n",
    "    head_size=256,\n",
    "    num_heads=4,\n",
    "    ff_dim=4,\n",
    "    num_transformer_blocks=2,\n",
    "    mlp_units=[128],\n",
    "    mlp_dropout=0.4,\n",
    "    dropout=0.25,\n",
    ")\n",
    "print(\"Model Summary:\")\n",
    "stringlist = []\n",
    "model.summary(print_fn=lambda x: stringlist.append(x))\n",
    "short_model_summary = \"\\n\".join(stringlist)\n",
    "print(short_model_summary)\n",
    "print(print_line_divider())"
   ],
   "metadata": {
    "collapsed": false,
    "pycharm": {
     "name": "#%%\n"
    }
   }
  },
  {
   "cell_type": "code",
   "execution_count": 27,
   "outputs": [],
   "source": [
    "# LOGGING THE MODEL\n",
    "log_writer.write(\"Model\", line_divider=True)\n",
    "log_writer.write(\"Model name: \" + model_name)\n",
    "log_writer.write(short_model_summary)"
   ],
   "metadata": {
    "collapsed": false,
    "pycharm": {
     "name": "#%%\n"
    }
   }
  },
  {
   "cell_type": "code",
   "execution_count": 41,
   "outputs": [],
   "source": [
    "# MODELS CALLBACK AND SETUP\n",
    "callback_list = [\n",
    "    callbacks.ModelCheckpoint(SAVED_BEST_MODEL, save_best_only=True, monitor=\"val_loss\"),\n",
    "    callbacks.ReduceLROnPlateau(monitor=\"val_loss\", factor=0.5, patience=20, min_lr=0.0001),\n",
    "    callbacks.EarlyStopping(monitor=\"val_loss\", patience=50, verbose=1)\n",
    "]\n",
    "if enabled_tensor_board:\n",
    "    callback_list.append(callbacks.TensorBoard(log_dir=tensorboard_dir, histogram_freq=1))\n",
    "if log_writer.enabled:\n",
    "    callback_list.append(\n",
    "        callbacks.ModelCheckpoint(log_writer.base_folder + \"/model.h5\", save_best_only=True, monitor=\"val_loss\")\n",
    "    )\n",
    "model.compile(\n",
    "    optimizer=optimizer,\n",
    "    loss=loss_function,\n",
    "    metrics=[\"sparse_categorical_accuracy\"],\n",
    ")"
   ],
   "metadata": {
    "collapsed": false,
    "pycharm": {
     "name": "#%%\n"
    }
   }
  },
  {
   "cell_type": "code",
   "execution_count": 42,
   "outputs": [
    {
     "name": "stdout",
     "output_type": "stream",
     "text": [
      "****************************************************\n",
      "Starting to train...\n",
      "Epoch 1/1000\n",
      "160/160 [==============================] - 20s 116ms/step - loss: 1.1622 - sparse_categorical_accuracy: 0.4056 - val_loss: 1.2692 - val_sparse_categorical_accuracy: 0.2567 - lr: 0.0010\n",
      "Epoch 2/1000\n",
      "160/160 [==============================] - 19s 118ms/step - loss: 0.9414 - sparse_categorical_accuracy: 0.5182 - val_loss: 1.4614 - val_sparse_categorical_accuracy: 0.3083 - lr: 0.0010\n",
      "Epoch 3/1000\n",
      "160/160 [==============================] - 19s 118ms/step - loss: 0.7302 - sparse_categorical_accuracy: 0.6741 - val_loss: 1.4456 - val_sparse_categorical_accuracy: 0.4851 - lr: 0.0010\n",
      "Epoch 4/1000\n",
      "160/160 [==============================] - 19s 119ms/step - loss: 0.5695 - sparse_categorical_accuracy: 0.7591 - val_loss: 1.5109 - val_sparse_categorical_accuracy: 0.6119 - lr: 0.0010\n",
      "Epoch 5/1000\n",
      "160/160 [==============================] - 22s 135ms/step - loss: 0.4302 - sparse_categorical_accuracy: 0.8365 - val_loss: 1.2463 - val_sparse_categorical_accuracy: 0.7214 - lr: 0.0010\n",
      "Epoch 6/1000\n",
      "160/160 [==============================] - 23s 143ms/step - loss: 0.3237 - sparse_categorical_accuracy: 0.8846 - val_loss: 1.7027 - val_sparse_categorical_accuracy: 0.6933 - lr: 0.0010\n",
      "Epoch 7/1000\n",
      "160/160 [==============================] - 23s 142ms/step - loss: 0.2647 - sparse_categorical_accuracy: 0.9068 - val_loss: 1.2446 - val_sparse_categorical_accuracy: 0.7324 - lr: 0.0010\n",
      "Epoch 8/1000\n",
      "160/160 [==============================] - 21s 134ms/step - loss: 0.2301 - sparse_categorical_accuracy: 0.9191 - val_loss: 1.3537 - val_sparse_categorical_accuracy: 0.7527 - lr: 0.0010\n",
      "Epoch 9/1000\n",
      "160/160 [==============================] - 22s 137ms/step - loss: 0.1923 - sparse_categorical_accuracy: 0.9313 - val_loss: 0.8857 - val_sparse_categorical_accuracy: 0.7621 - lr: 0.0010\n",
      "Epoch 10/1000\n",
      "160/160 [==============================] - 21s 133ms/step - loss: 0.1683 - sparse_categorical_accuracy: 0.9414 - val_loss: 1.1388 - val_sparse_categorical_accuracy: 0.7355 - lr: 0.0010\n",
      "Epoch 11/1000\n",
      "160/160 [==============================] - 22s 137ms/step - loss: 0.1505 - sparse_categorical_accuracy: 0.9436 - val_loss: 0.7212 - val_sparse_categorical_accuracy: 0.7997 - lr: 0.0010\n",
      "Epoch 12/1000\n",
      "160/160 [==============================] - 21s 129ms/step - loss: 0.1382 - sparse_categorical_accuracy: 0.9518 - val_loss: 1.4678 - val_sparse_categorical_accuracy: 0.7496 - lr: 0.0010\n",
      "Epoch 13/1000\n",
      "160/160 [==============================] - 21s 133ms/step - loss: 0.1119 - sparse_categorical_accuracy: 0.9610 - val_loss: 0.7418 - val_sparse_categorical_accuracy: 0.7809 - lr: 0.0010\n",
      "Epoch 14/1000\n",
      "160/160 [==============================] - 22s 140ms/step - loss: 0.1168 - sparse_categorical_accuracy: 0.9579 - val_loss: 0.7202 - val_sparse_categorical_accuracy: 0.7981 - lr: 0.0010\n",
      "Epoch 15/1000\n",
      "160/160 [==============================] - 22s 136ms/step - loss: 0.0927 - sparse_categorical_accuracy: 0.9685 - val_loss: 0.9671 - val_sparse_categorical_accuracy: 0.7637 - lr: 0.0010\n",
      "Epoch 16/1000\n",
      "160/160 [==============================] - 21s 134ms/step - loss: 0.1078 - sparse_categorical_accuracy: 0.9675 - val_loss: 1.5982 - val_sparse_categorical_accuracy: 0.7793 - lr: 0.0010\n",
      "Epoch 17/1000\n",
      "160/160 [==============================] - 22s 138ms/step - loss: 0.0813 - sparse_categorical_accuracy: 0.9724 - val_loss: 1.0065 - val_sparse_categorical_accuracy: 0.8013 - lr: 0.0010\n",
      "Epoch 18/1000\n",
      "160/160 [==============================] - 21s 134ms/step - loss: 0.0895 - sparse_categorical_accuracy: 0.9718 - val_loss: 1.0675 - val_sparse_categorical_accuracy: 0.8685 - lr: 0.0010\n",
      "Epoch 19/1000\n",
      "160/160 [==============================] - 22s 138ms/step - loss: 0.0719 - sparse_categorical_accuracy: 0.9763 - val_loss: 0.6603 - val_sparse_categorical_accuracy: 0.8920 - lr: 0.0010\n",
      "Epoch 20/1000\n",
      "160/160 [==============================] - 22s 137ms/step - loss: 0.0817 - sparse_categorical_accuracy: 0.9747 - val_loss: 1.0084 - val_sparse_categorical_accuracy: 0.8310 - lr: 0.0010\n",
      "Epoch 21/1000\n",
      "160/160 [==============================] - 22s 139ms/step - loss: 0.0834 - sparse_categorical_accuracy: 0.9726 - val_loss: 1.4808 - val_sparse_categorical_accuracy: 0.7621 - lr: 0.0010\n",
      "Epoch 22/1000\n",
      "160/160 [==============================] - 22s 139ms/step - loss: 0.0837 - sparse_categorical_accuracy: 0.9741 - val_loss: 0.9407 - val_sparse_categorical_accuracy: 0.7825 - lr: 0.0010\n",
      "Epoch 23/1000\n",
      "160/160 [==============================] - 22s 135ms/step - loss: 0.0712 - sparse_categorical_accuracy: 0.9775 - val_loss: 0.7788 - val_sparse_categorical_accuracy: 0.8044 - lr: 0.0010\n",
      "Epoch 24/1000\n",
      "160/160 [==============================] - 21s 132ms/step - loss: 0.0546 - sparse_categorical_accuracy: 0.9820 - val_loss: 0.6910 - val_sparse_categorical_accuracy: 0.8951 - lr: 0.0010\n",
      "Epoch 25/1000\n",
      "160/160 [==============================] - 22s 137ms/step - loss: 0.0765 - sparse_categorical_accuracy: 0.9747 - val_loss: 0.6646 - val_sparse_categorical_accuracy: 0.9045 - lr: 0.0010\n",
      "Epoch 26/1000\n",
      "160/160 [==============================] - 25s 153ms/step - loss: 0.0543 - sparse_categorical_accuracy: 0.9804 - val_loss: 0.8491 - val_sparse_categorical_accuracy: 0.7981 - lr: 0.0010\n",
      "Epoch 27/1000\n",
      "160/160 [==============================] - 23s 142ms/step - loss: 0.0810 - sparse_categorical_accuracy: 0.9714 - val_loss: 0.7970 - val_sparse_categorical_accuracy: 0.8326 - lr: 0.0010\n",
      "Epoch 28/1000\n",
      "160/160 [==============================] - 24s 152ms/step - loss: 0.0667 - sparse_categorical_accuracy: 0.9777 - val_loss: 0.4524 - val_sparse_categorical_accuracy: 0.9311 - lr: 0.0010\n",
      "Epoch 29/1000\n",
      "160/160 [==============================] - 23s 146ms/step - loss: 0.0867 - sparse_categorical_accuracy: 0.9755 - val_loss: 1.1988 - val_sparse_categorical_accuracy: 0.8122 - lr: 0.0010\n",
      "Epoch 30/1000\n",
      "160/160 [==============================] - 22s 134ms/step - loss: 0.0531 - sparse_categorical_accuracy: 0.9835 - val_loss: 0.4102 - val_sparse_categorical_accuracy: 0.8638 - lr: 0.0010\n",
      "Epoch 31/1000\n",
      "160/160 [==============================] - 22s 136ms/step - loss: 0.0677 - sparse_categorical_accuracy: 0.9745 - val_loss: 0.4392 - val_sparse_categorical_accuracy: 0.8576 - lr: 0.0010\n",
      "Epoch 32/1000\n",
      "160/160 [==============================] - 21s 130ms/step - loss: 0.0640 - sparse_categorical_accuracy: 0.9783 - val_loss: 0.7454 - val_sparse_categorical_accuracy: 0.8279 - lr: 0.0010\n",
      "Epoch 33/1000\n",
      "160/160 [==============================] - 22s 135ms/step - loss: 0.0561 - sparse_categorical_accuracy: 0.9818 - val_loss: 1.4996 - val_sparse_categorical_accuracy: 0.7887 - lr: 0.0010\n",
      "Epoch 34/1000\n",
      "160/160 [==============================] - 21s 130ms/step - loss: 0.0524 - sparse_categorical_accuracy: 0.9837 - val_loss: 0.4896 - val_sparse_categorical_accuracy: 0.9374 - lr: 0.0010\n",
      "Epoch 35/1000\n",
      "160/160 [==============================] - 21s 130ms/step - loss: 0.0588 - sparse_categorical_accuracy: 0.9816 - val_loss: 0.5130 - val_sparse_categorical_accuracy: 0.9343 - lr: 0.0010\n",
      "Epoch 36/1000\n",
      "160/160 [==============================] - 22s 136ms/step - loss: 0.0448 - sparse_categorical_accuracy: 0.9839 - val_loss: 1.5569 - val_sparse_categorical_accuracy: 0.8059 - lr: 0.0010\n",
      "Epoch 37/1000\n",
      "160/160 [==============================] - 22s 140ms/step - loss: 0.0409 - sparse_categorical_accuracy: 0.9871 - val_loss: 0.4754 - val_sparse_categorical_accuracy: 0.9171 - lr: 0.0010\n",
      "Epoch 38/1000\n",
      "160/160 [==============================] - 25s 155ms/step - loss: 0.0679 - sparse_categorical_accuracy: 0.9810 - val_loss: 0.6651 - val_sparse_categorical_accuracy: 0.8294 - lr: 0.0010\n",
      "Epoch 39/1000\n",
      "160/160 [==============================] - 24s 148ms/step - loss: 0.0488 - sparse_categorical_accuracy: 0.9837 - val_loss: 0.2960 - val_sparse_categorical_accuracy: 0.9515 - lr: 0.0010\n",
      "Epoch 40/1000\n",
      "160/160 [==============================] - 25s 158ms/step - loss: 0.0489 - sparse_categorical_accuracy: 0.9841 - val_loss: 0.2878 - val_sparse_categorical_accuracy: 0.9374 - lr: 0.0010\n",
      "Epoch 41/1000\n",
      "160/160 [==============================] - 25s 154ms/step - loss: 0.0536 - sparse_categorical_accuracy: 0.9824 - val_loss: 0.4981 - val_sparse_categorical_accuracy: 0.9233 - lr: 0.0010\n",
      "Epoch 42/1000\n",
      "160/160 [==============================] - 22s 139ms/step - loss: 0.0534 - sparse_categorical_accuracy: 0.9837 - val_loss: 4.1102 - val_sparse_categorical_accuracy: 0.7480 - lr: 0.0010\n",
      "Epoch 43/1000\n",
      "160/160 [==============================] - 22s 138ms/step - loss: 0.0563 - sparse_categorical_accuracy: 0.9820 - val_loss: 0.7708 - val_sparse_categorical_accuracy: 0.8388 - lr: 0.0010\n",
      "Epoch 44/1000\n",
      "160/160 [==============================] - 21s 133ms/step - loss: 0.0398 - sparse_categorical_accuracy: 0.9875 - val_loss: 0.3848 - val_sparse_categorical_accuracy: 0.9343 - lr: 0.0010\n",
      "Epoch 45/1000\n",
      "160/160 [==============================] - 21s 130ms/step - loss: 0.0480 - sparse_categorical_accuracy: 0.9873 - val_loss: 0.5290 - val_sparse_categorical_accuracy: 0.8404 - lr: 0.0010\n",
      "Epoch 46/1000\n",
      "160/160 [==============================] - 22s 135ms/step - loss: 0.0600 - sparse_categorical_accuracy: 0.9837 - val_loss: 1.9274 - val_sparse_categorical_accuracy: 0.8106 - lr: 0.0010\n",
      "Epoch 47/1000\n",
      "160/160 [==============================] - 21s 129ms/step - loss: 0.0401 - sparse_categorical_accuracy: 0.9888 - val_loss: 2.1484 - val_sparse_categorical_accuracy: 0.8341 - lr: 0.0010\n",
      "Epoch 48/1000\n",
      "160/160 [==============================] - 21s 131ms/step - loss: 0.0446 - sparse_categorical_accuracy: 0.9859 - val_loss: 0.9453 - val_sparse_categorical_accuracy: 0.8294 - lr: 0.0010\n",
      "Epoch 49/1000\n",
      "160/160 [==============================] - 21s 130ms/step - loss: 0.0530 - sparse_categorical_accuracy: 0.9820 - val_loss: 1.6380 - val_sparse_categorical_accuracy: 0.7981 - lr: 0.0010\n",
      "Epoch 50/1000\n",
      "160/160 [==============================] - 21s 132ms/step - loss: 0.0494 - sparse_categorical_accuracy: 0.9847 - val_loss: 0.4888 - val_sparse_categorical_accuracy: 0.9171 - lr: 0.0010\n",
      "Epoch 51/1000\n",
      "160/160 [==============================] - 21s 129ms/step - loss: 0.0469 - sparse_categorical_accuracy: 0.9859 - val_loss: 0.4265 - val_sparse_categorical_accuracy: 0.9296 - lr: 0.0010\n",
      "Epoch 52/1000\n",
      "160/160 [==============================] - 20s 123ms/step - loss: 0.0370 - sparse_categorical_accuracy: 0.9867 - val_loss: 1.8697 - val_sparse_categorical_accuracy: 0.8388 - lr: 0.0010\n",
      "Epoch 53/1000\n",
      "160/160 [==============================] - 20s 125ms/step - loss: 0.0425 - sparse_categorical_accuracy: 0.9879 - val_loss: 0.3953 - val_sparse_categorical_accuracy: 0.9546 - lr: 0.0010\n",
      "Epoch 54/1000\n",
      "160/160 [==============================] - 21s 131ms/step - loss: 0.0450 - sparse_categorical_accuracy: 0.9865 - val_loss: 1.6836 - val_sparse_categorical_accuracy: 0.8670 - lr: 0.0010\n",
      "Epoch 55/1000\n",
      "160/160 [==============================] - 21s 133ms/step - loss: 0.0440 - sparse_categorical_accuracy: 0.9853 - val_loss: 5.5327 - val_sparse_categorical_accuracy: 0.8044 - lr: 0.0010\n",
      "Epoch 56/1000\n",
      "160/160 [==============================] - 20s 128ms/step - loss: 0.0392 - sparse_categorical_accuracy: 0.9877 - val_loss: 1.5339 - val_sparse_categorical_accuracy: 0.8607 - lr: 0.0010\n",
      "Epoch 57/1000\n",
      "160/160 [==============================] - 20s 128ms/step - loss: 0.0443 - sparse_categorical_accuracy: 0.9867 - val_loss: 2.5403 - val_sparse_categorical_accuracy: 0.8091 - lr: 0.0010\n",
      "Epoch 58/1000\n",
      "160/160 [==============================] - 21s 129ms/step - loss: 0.0389 - sparse_categorical_accuracy: 0.9867 - val_loss: 4.6684 - val_sparse_categorical_accuracy: 0.8482 - lr: 0.0010\n",
      "Epoch 59/1000\n",
      "160/160 [==============================] - 24s 148ms/step - loss: 0.0479 - sparse_categorical_accuracy: 0.9839 - val_loss: 5.0602 - val_sparse_categorical_accuracy: 0.8138 - lr: 0.0010\n",
      "Epoch 60/1000\n",
      "160/160 [==============================] - 24s 148ms/step - loss: 0.0432 - sparse_categorical_accuracy: 0.9851 - val_loss: 6.3225 - val_sparse_categorical_accuracy: 0.7606 - lr: 0.0010\n",
      "Epoch 61/1000\n",
      "160/160 [==============================] - 23s 144ms/step - loss: 0.0342 - sparse_categorical_accuracy: 0.9879 - val_loss: 2.6669 - val_sparse_categorical_accuracy: 0.8279 - lr: 5.0000e-04\n",
      "Epoch 62/1000\n",
      "160/160 [==============================] - 24s 150ms/step - loss: 0.0274 - sparse_categorical_accuracy: 0.9908 - val_loss: 2.2780 - val_sparse_categorical_accuracy: 0.8466 - lr: 5.0000e-04\n",
      "Epoch 63/1000\n",
      "160/160 [==============================] - 25s 157ms/step - loss: 0.0283 - sparse_categorical_accuracy: 0.9920 - val_loss: 0.8090 - val_sparse_categorical_accuracy: 0.8623 - lr: 5.0000e-04\n",
      "Epoch 64/1000\n",
      "160/160 [==============================] - 29s 181ms/step - loss: 0.0201 - sparse_categorical_accuracy: 0.9939 - val_loss: 1.8203 - val_sparse_categorical_accuracy: 0.8357 - lr: 5.0000e-04\n",
      "Epoch 65/1000\n",
      "160/160 [==============================] - 27s 167ms/step - loss: 0.0271 - sparse_categorical_accuracy: 0.9928 - val_loss: 0.4913 - val_sparse_categorical_accuracy: 0.8513 - lr: 5.0000e-04\n",
      "Epoch 66/1000\n",
      "160/160 [==============================] - 23s 145ms/step - loss: 0.0287 - sparse_categorical_accuracy: 0.9912 - val_loss: 1.0602 - val_sparse_categorical_accuracy: 0.8466 - lr: 5.0000e-04\n",
      "Epoch 67/1000\n",
      "160/160 [==============================] - 23s 141ms/step - loss: 0.0135 - sparse_categorical_accuracy: 0.9957 - val_loss: 0.7962 - val_sparse_categorical_accuracy: 0.8372 - lr: 5.0000e-04\n",
      "Epoch 68/1000\n",
      "160/160 [==============================] - 24s 147ms/step - loss: 0.0180 - sparse_categorical_accuracy: 0.9951 - val_loss: 0.7176 - val_sparse_categorical_accuracy: 0.8529 - lr: 5.0000e-04\n",
      "Epoch 69/1000\n",
      "160/160 [==============================] - 23s 142ms/step - loss: 0.0191 - sparse_categorical_accuracy: 0.9937 - val_loss: 2.6215 - val_sparse_categorical_accuracy: 0.8372 - lr: 5.0000e-04\n",
      "Epoch 70/1000\n",
      "160/160 [==============================] - 21s 132ms/step - loss: 0.0237 - sparse_categorical_accuracy: 0.9924 - val_loss: 2.8188 - val_sparse_categorical_accuracy: 0.8513 - lr: 5.0000e-04\n",
      "Epoch 71/1000\n",
      "160/160 [==============================] - 21s 133ms/step - loss: 0.0240 - sparse_categorical_accuracy: 0.9931 - val_loss: 5.0507 - val_sparse_categorical_accuracy: 0.8341 - lr: 5.0000e-04\n",
      "Epoch 72/1000\n",
      "160/160 [==============================] - 21s 133ms/step - loss: 0.0255 - sparse_categorical_accuracy: 0.9908 - val_loss: 3.8186 - val_sparse_categorical_accuracy: 0.8326 - lr: 5.0000e-04\n",
      "Epoch 73/1000\n",
      "160/160 [==============================] - 21s 133ms/step - loss: 0.0242 - sparse_categorical_accuracy: 0.9920 - val_loss: 4.1818 - val_sparse_categorical_accuracy: 0.8341 - lr: 5.0000e-04\n",
      "Epoch 74/1000\n",
      "160/160 [==============================] - 19s 121ms/step - loss: 0.0317 - sparse_categorical_accuracy: 0.9900 - val_loss: 1.4612 - val_sparse_categorical_accuracy: 0.8341 - lr: 5.0000e-04\n",
      "Epoch 75/1000\n",
      "160/160 [==============================] - 20s 127ms/step - loss: 0.0179 - sparse_categorical_accuracy: 0.9928 - val_loss: 2.2639 - val_sparse_categorical_accuracy: 0.8326 - lr: 5.0000e-04\n",
      "Epoch 76/1000\n",
      "160/160 [==============================] - 20s 125ms/step - loss: 0.0233 - sparse_categorical_accuracy: 0.9926 - val_loss: 2.0613 - val_sparse_categorical_accuracy: 0.8482 - lr: 5.0000e-04\n",
      "Epoch 77/1000\n",
      "160/160 [==============================] - 20s 126ms/step - loss: 0.0283 - sparse_categorical_accuracy: 0.9916 - val_loss: 3.0831 - val_sparse_categorical_accuracy: 0.8263 - lr: 5.0000e-04\n",
      "Epoch 78/1000\n",
      "160/160 [==============================] - 20s 126ms/step - loss: 0.0211 - sparse_categorical_accuracy: 0.9933 - val_loss: 2.1485 - val_sparse_categorical_accuracy: 0.8341 - lr: 5.0000e-04\n",
      "Epoch 79/1000\n",
      "160/160 [==============================] - 21s 133ms/step - loss: 0.0199 - sparse_categorical_accuracy: 0.9931 - val_loss: 0.8426 - val_sparse_categorical_accuracy: 0.8435 - lr: 5.0000e-04\n",
      "Epoch 80/1000\n",
      "160/160 [==============================] - 23s 141ms/step - loss: 0.0185 - sparse_categorical_accuracy: 0.9947 - val_loss: 1.8895 - val_sparse_categorical_accuracy: 0.8576 - lr: 5.0000e-04\n",
      "Epoch 81/1000\n",
      "160/160 [==============================] - 24s 150ms/step - loss: 0.0095 - sparse_categorical_accuracy: 0.9976 - val_loss: 2.9978 - val_sparse_categorical_accuracy: 0.8592 - lr: 2.5000e-04\n",
      "Epoch 82/1000\n",
      "160/160 [==============================] - 24s 150ms/step - loss: 0.0124 - sparse_categorical_accuracy: 0.9955 - val_loss: 4.3581 - val_sparse_categorical_accuracy: 0.8435 - lr: 2.5000e-04\n",
      "Epoch 83/1000\n",
      "160/160 [==============================] - 23s 143ms/step - loss: 0.0117 - sparse_categorical_accuracy: 0.9955 - val_loss: 4.4617 - val_sparse_categorical_accuracy: 0.8498 - lr: 2.5000e-04\n",
      "Epoch 84/1000\n",
      "160/160 [==============================] - 23s 141ms/step - loss: 0.0121 - sparse_categorical_accuracy: 0.9957 - val_loss: 4.0805 - val_sparse_categorical_accuracy: 0.8466 - lr: 2.5000e-04\n",
      "Epoch 85/1000\n",
      "160/160 [==============================] - 28s 175ms/step - loss: 0.0117 - sparse_categorical_accuracy: 0.9965 - val_loss: 3.8189 - val_sparse_categorical_accuracy: 0.8513 - lr: 2.5000e-04\n",
      "Epoch 86/1000\n",
      "160/160 [==============================] - 24s 147ms/step - loss: 0.0128 - sparse_categorical_accuracy: 0.9971 - val_loss: 3.6092 - val_sparse_categorical_accuracy: 0.8560 - lr: 2.5000e-04\n",
      "Epoch 87/1000\n",
      "160/160 [==============================] - 20s 127ms/step - loss: 0.0215 - sparse_categorical_accuracy: 0.9931 - val_loss: 3.7716 - val_sparse_categorical_accuracy: 0.8466 - lr: 2.5000e-04\n",
      "Epoch 88/1000\n",
      "160/160 [==============================] - 19s 119ms/step - loss: 0.0151 - sparse_categorical_accuracy: 0.9953 - val_loss: 3.6187 - val_sparse_categorical_accuracy: 0.8451 - lr: 2.5000e-04\n",
      "Epoch 89/1000\n",
      "160/160 [==============================] - 20s 128ms/step - loss: 0.0115 - sparse_categorical_accuracy: 0.9961 - val_loss: 4.7210 - val_sparse_categorical_accuracy: 0.8419 - lr: 2.5000e-04\n",
      "Epoch 90/1000\n",
      "160/160 [==============================] - 21s 129ms/step - loss: 0.0140 - sparse_categorical_accuracy: 0.9949 - val_loss: 4.4284 - val_sparse_categorical_accuracy: 0.8200 - lr: 2.5000e-04\n",
      "Epoch 90: early stopping\n",
      "Highest validation accuracy:  0.9546166062355042\n"
     ]
    }
   ],
   "source": [
    "# TRAINING\n",
    "print_line_divider()\n",
    "print(\"Starting to train...\")\n",
    "history = model.fit(\n",
    "    x_train,\n",
    "    y_train,\n",
    "    batch_size=batch_size,\n",
    "    epochs=epochs,\n",
    "    callbacks=callback_list,\n",
    "    validation_split=validation_split,\n",
    "    verbose=1,\n",
    "    shuffle=True\n",
    ")\n",
    "print(\"Highest validation accuracy: \", max(history.history['val_sparse_categorical_accuracy']))\n",
    "log_writer.write(\"Result\", line_divider=True)\n",
    "log_writer.write(\"Highest validation accuracy: \" + str(max(history.history['val_sparse_categorical_accuracy'])))"
   ],
   "metadata": {
    "collapsed": false,
    "pycharm": {
     "name": "#%%\n"
    }
   }
  },
  {
   "cell_type": "code",
   "execution_count": 43,
   "outputs": [
    {
     "data": {
      "text/plain": "<Figure size 432x288 with 1 Axes>",
      "image/png": "[encoded data removed]"
     },
     "metadata": {
      "needs_background": "light"
     },
     "output_type": "display_data"
    }
   ],
   "source": [
    "# PLOTTING\n",
    "metric = \"sparse_categorical_accuracy\"\n",
    "plt.figure()\n",
    "plt.plot(history.history[metric])\n",
    "plt.plot(history.history[\"val_\" + metric])\n",
    "plt.title(\"model \" + model_name + \" :\" + metric)\n",
    "plt.ylabel(metric, fontsize=\"large\")\n",
    "plt.xlabel(\"epoch\", fontsize=\"large\")\n",
    "plt.legend([\"train\", \"val\"], loc=\"best\")\n",
    "if log_writer.enabled:\n",
    "    plt.savefig(os.path.join(log_writer.base_folder, \"Validation progress.png\"))\n",
    "plt.show()\n",
    "plt.close()"
   ],
   "metadata": {
    "collapsed": false,
    "pycharm": {
     "name": "#%%\n"
    }
   }
  },
  {
   "cell_type": "code",
   "execution_count": 44,
   "outputs": [
    {
     "name": "stdout",
     "output_type": "stream",
     "text": [
      "46/46 [==============================] - 3s 61ms/step - loss: 0.4075 - sparse_categorical_accuracy: 0.8994\n",
      "****************************************************\n",
      "Test accuracy 0.8993797302246094\n",
      "Test loss 0.4075002670288086\n"
     ]
    },
    {
     "data": {
      "text/plain": "<Figure size 576x576 with 2 Axes>",
      "image/png": "[encoded data removed]"
     },
     "metadata": {
      "needs_background": "light"
     },
     "output_type": "display_data"
    }
   ],
   "source": [
    "# EVALUATION\n",
    "model = models.load_model(SAVED_BEST_MODEL)\n",
    "\n",
    "test_loss, test_acc = model.evaluate(x_test, y_test)\n",
    "print_line_divider()\n",
    "print(\"Test accuracy\", test_acc)\n",
    "print(\"Test loss\", test_loss)\n",
    "\n",
    "# Accuracy based on different labels\n",
    "y_pred = model.predict(x_test)\n",
    "y_pred = np.argmax(y_pred, axis=1)\n",
    "con_mat = tf.math.confusion_matrix(labels=y_test, predictions=y_pred).numpy()\n",
    "con_mat_norm = np.around(con_mat.astype('float') / con_mat.sum(axis=1)[:, np.newaxis], decimals=4)\n",
    "con_mat_df = pd.DataFrame(con_mat_norm, index=location_labels, columns=location_labels)\n",
    "figure = plt.figure(figsize=(8, 8))\n",
    "sns.heatmap(con_mat_df, annot=True, cmap=plt.cm.Blues)\n",
    "plt.tight_layout()\n",
    "plt.ylabel('True label')\n",
    "plt.xlabel('Predicted label')\n",
    "if log_writer.enabled:\n",
    "    plt.savefig(os.path.join(log_writer.base_folder, \"Accuracy.png\"))\n",
    "plt.show()\n",
    "plt.close()\n",
    "\n",
    "log_writer.write(\"Test evaluation\", line_divider=True)\n",
    "log_writer.write(\"Test accuracy: \" + str(test_acc))\n",
    "log_writer.write(\"Test loss: \" + str(test_loss))\n",
    "log_writer.close()"
   ],
   "metadata": {
    "collapsed": false,
    "pycharm": {
     "name": "#%%\n"
    }
   }
  },
  {
   "cell_type": "code",
   "execution_count": null,
   "outputs": [],
   "source": [],
   "metadata": {
    "collapsed": false,
    "pycharm": {
     "name": "#%%\n"
    }
   }
  }
 ],
 "metadata": {
  "kernelspec": {
   "display_name": "Python 3",
   "language": "python",
   "name": "python3"
  },
  "language_info": {
   "codemirror_mode": {
    "name": "ipython",
    "version": 2
   },
   "file_extension": ".py",
   "mimetype": "text/x-python",
   "name": "python",
   "nbconvert_exporter": "python",
   "pygments_lexer": "ipython2",
   "version": "2.7.6"
  }
 },
 "nbformat": 4,
 "nbformat_minor": 0
}