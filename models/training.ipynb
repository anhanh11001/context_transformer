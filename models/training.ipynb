{
 "cells": [
  {
   "cell_type": "code",
   "execution_count": 125,
   "outputs": [],
   "source": [
    "import os.path\n",
    "import sys\n",
    "\n",
    "import keras.metrics\n",
    "from keras import callbacks, models, metrics\n",
    "from datahandler.constants import all_features, data_version, acc_features, tensorboard_dir, location_labels\n",
    "from datahandler.data_preprocessing import get_train_test_data, load_data_v3\n",
    "from models.log_writer import LogWriter\n",
    "from model.lstm import make_lstm_model_v1\n",
    "from model.transformer import make_transformer_model_v1, make_transformer_model_v2\n",
    "from model.cnn import make_cnn_model_v1, make_cnn_model_v2\n",
    "import matplotlib.pyplot as plt\n",
    "from utils import print_line_divider\n",
    "import numpy as np\n",
    "import tensorflow as tf\n",
    "import pandas as pd\n",
    "import seaborn as sns\n",
    "from datahandler.data_preprocessing_from_jupyter import load_train_test_data_raw_normalized,load_train_test_data_added_features_normalized, load_train_test_data_added_features_pca\n",
    "from audio.audio import play_training_is_complete\n",
    "from sklearn.metrics import classification_report\n",
    "import time"
   ],
   "metadata": {
    "collapsed": false,
    "pycharm": {
     "name": "#%%\n"
    }
   }
  },
  {
   "cell_type": "code",
   "execution_count": 126,
   "outputs": [],
   "source": [
    "# LOGGING CONFIGURATION\n",
    "enabled_log = True\n",
    "enabled_tensor_board = True\n",
    "log_writer = LogWriter(enabled_log)"
   ],
   "metadata": {
    "collapsed": false,
    "pycharm": {
     "name": "#%%\n"
    }
   }
  },
  {
   "cell_type": "code",
   "execution_count": 127,
   "outputs": [
    {
     "name": "stdout",
     "output_type": "stream",
     "text": [
      "STARTING THE TRAINING PROCESS\n"
     ]
    }
   ],
   "source": [
    "# TRAINING CONFIGURATION\n",
    "print(\"STARTING THE TRAINING PROCESS\")\n",
    "SAVED_BEST_MODEL = \"model/best_model.h5\"\n",
    "window_time_in_seconds = 2\n",
    "window_size = 40\n",
    "epochs = 250\n",
    "batch_size = 32\n",
    "validation_split = 1 / 9\n",
    "optimizer = 'adam'\n",
    "loss_function = \"sparse_categorical_crossentropy\"\n",
    "supported_features = all_features"
   ],
   "metadata": {
    "collapsed": false,
    "pycharm": {
     "name": "#%%\n"
    }
   }
  },
  {
   "cell_type": "code",
   "execution_count": 128,
   "outputs": [],
   "source": [
    "log_writer.write(\"Configuration\", line_divider=True)\n",
    "log_writer.write(\n",
    "    f\"\"\"Window size: {window_size}\n",
    "Window time in second: {window_time_in_seconds}\n",
    "Maximum number of epochs: {epochs}\n",
    "Batch size: {batch_size}\n",
    "Validation split: {validation_split}\n",
    "Optimizer: {optimizer}\n",
    "Loss function: {loss_function}\"\"\"\n",
    ")"
   ],
   "metadata": {
    "collapsed": false,
    "pycharm": {
     "name": "#%%\n"
    }
   }
  },
  {
   "cell_type": "code",
   "execution_count": 5,
   "outputs": [
    {
     "name": "stdout",
     "output_type": "stream",
     "text": [
      "****************************************************\n",
      "Preparing data...\n",
      "Loading from file: /Users/duc.letran/Desktop/FINAL PROJECT/context_transformer/data/v3/train/px4_datacollection.csv (1/24)\n",
      "Loading from file: /Users/duc.letran/Desktop/FINAL PROJECT/context_transformer/data/v3/train/ps1_datacollection.csv (2/24)\n",
      "Loading from file: /Users/duc.letran/Desktop/FINAL PROJECT/context_transformer/data/v3/train/tc4_datacollection.csv (3/24)\n",
      "Loading from file: /Users/duc.letran/Desktop/FINAL PROJECT/context_transformer/data/v3/train/ss3_datacollection.csv (4/24)\n",
      "Loading from file: /Users/duc.letran/Desktop/FINAL PROJECT/context_transformer/data/v3/train/ps2_datacollection.csv (5/24)\n",
      "Loading from file: /Users/duc.letran/Desktop/FINAL PROJECT/context_transformer/data/v3/train/op4_datacollection.csv (6/24)\n",
      "Loading from file: /Users/duc.letran/Desktop/FINAL PROJECT/context_transformer/data/v3/train/op2_datacollection.csv (7/24)\n",
      "Loading from file: /Users/duc.letran/Desktop/FINAL PROJECT/context_transformer/data/v3/train/ps4_datacollection.csv (8/24)\n",
      "Loading from file: /Users/duc.letran/Desktop/FINAL PROJECT/context_transformer/data/v3/train/px1_datacollection.csv (9/24)\n",
      "Loading from file: /Users/duc.letran/Desktop/FINAL PROJECT/context_transformer/data/v3/train/tc1_datacollection.csv (10/24)\n",
      "Loading from file: /Users/duc.letran/Desktop/FINAL PROJECT/context_transformer/data/v3/train/tc2_datacollection.csv (11/24)\n",
      "Loading from file: /Users/duc.letran/Desktop/FINAL PROJECT/context_transformer/data/v3/train/px2_datacollection.csv (12/24)\n",
      "Loading from file: /Users/duc.letran/Desktop/FINAL PROJECT/context_transformer/data/v3/train/op1_datacollection.csv (13/24)\n",
      "Loading from file: /Users/duc.letran/Desktop/FINAL PROJECT/context_transformer/data/v3/train/tc3_datacollection.csv (14/24)\n",
      "Loading from file: /Users/duc.letran/Desktop/FINAL PROJECT/context_transformer/data/v3/train/px3_datacollection.csv (15/24)\n",
      "Loading from file: /Users/duc.letran/Desktop/FINAL PROJECT/context_transformer/data/v3/train/op3_datacollection.csv (16/24)\n",
      "Loading from file: /Users/duc.letran/Desktop/FINAL PROJECT/context_transformer/data/v3/train/ps5_datacollection.csv (17/24)\n",
      "Loading from file: /Users/duc.letran/Desktop/FINAL PROJECT/context_transformer/data/v3/train/ss4_datacollection.csv (18/24)\n",
      "Loading from file: /Users/duc.letran/Desktop/FINAL PROJECT/context_transformer/data/v3/train/ss2_datacollection.csv (19/24)\n",
      "Loading from file: /Users/duc.letran/Desktop/FINAL PROJECT/context_transformer/data/v3/train/ps3_datacollection.csv (20/24)\n",
      "Loading from file: /Users/duc.letran/Desktop/FINAL PROJECT/context_transformer/data/v3/train/op5_datacollection.csv (21/24)\n",
      "Loading from file: /Users/duc.letran/Desktop/FINAL PROJECT/context_transformer/data/v3/train/px5_datacollection.csv (22/24)\n",
      "Loading from file: /Users/duc.letran/Desktop/FINAL PROJECT/context_transformer/data/v3/train/ss1_datacollection.csv (23/24)\n",
      "Loading from file: /Users/duc.letran/Desktop/FINAL PROJECT/context_transformer/data/v3/train/tc5_datacollection.csv (24/24)\n",
      "Train data shape: (11520, 10) | Train label shape: (11520,)\n",
      "Test data shape: (2869, 10) | Test label shape: (2869,)\n",
      "****************************************************\n"
     ]
    }
   ],
   "source": [
    "# DATA Loader\n",
    "print_line_divider()\n",
    "print(\"Preparing data...\")\n",
    "# x_train, y_train, x_test, y_test = get_train_test_data(supported_features, window_time_in_seconds, window_size)\n",
    "x_train, y_train, x_test, y_test = load_data_v3(\n",
    "    features = supported_features,\n",
    "    window_time_in_seconds = window_time_in_seconds,\n",
    "    window_size = window_size\n",
    ")\n",
    "# x_train, y_train, x_test, y_test = load_train_test_data_added_features_normalized()\n",
    "print(\"Train data shape: \" + str(x_train.shape) + \" | Train label shape: \" + str(y_train.shape))\n",
    "print(\"Test data shape: \" + str(x_test.shape) + \" | Test label shape: \" + str(y_test.shape))\n",
    "print_line_divider()\n"
   ],
   "metadata": {
    "collapsed": false,
    "pycharm": {
     "name": "#%%\n"
    }
   }
  },
  {
   "cell_type": "code",
   "execution_count": 129,
   "outputs": [],
   "source": [
    "log_writer.write(\"Data\", line_divider=True)\n",
    "log_writer.write(\"Data loaded from version \" + data_version)\n",
    "log_writer.write(\n",
    "    f\"\"\"Data training shape: ${x_train.shape}\n",
    "Data testing shape: ${x_test.shape}\"\"\"\n",
    ")"
   ],
   "metadata": {
    "collapsed": false,
    "pycharm": {
     "name": "#%%\n"
    }
   }
  },
  {
   "cell_type": "code",
   "execution_count": 130,
   "outputs": [
    {
     "name": "stdout",
     "output_type": "stream",
     "text": [
      "****************************************************\n",
      "Distribution for set Training set\n",
      "\n",
      "insidethepantpocket count is 1899\n",
      "beingusedinhand count is 2413\n",
      "calling count is 2393\n",
      "holdinginhand count is 2384\n",
      "insidethebag count is 2431\n",
      "****************************************************\n",
      "Distribution for set Testing set\n",
      "\n",
      "insidethepantpocket count is 488\n",
      "beingusedinhand count is 583\n",
      "calling count is 604\n",
      "holdinginhand count is 612\n",
      "insidethebag count is 582\n"
     ]
    }
   ],
   "source": [
    "def check_distribution(labels_list, set_name):\n",
    "    label_count_dict = {}\n",
    "    for label_ind in labels_list:\n",
    "        if label_ind in label_count_dict.keys():\n",
    "            label_count_dict[label_ind] += 1\n",
    "        else:\n",
    "            label_count_dict[label_ind] = 1\n",
    "\n",
    "    print_line_divider()\n",
    "    print(\"Distribution for set \" + set_name + \"\\n\")\n",
    "    for key in label_count_dict:\n",
    "        key = int(key)\n",
    "        print(location_labels[key] + \" count is \" + str(label_count_dict[key]))\n",
    "\n",
    "\n",
    "check_distribution(y_train, \"Training set\")\n",
    "check_distribution(y_test, \"Testing set\")"
   ],
   "metadata": {
    "collapsed": false,
    "pycharm": {
     "name": "#%%\n"
    }
   }
  },
  {
   "cell_type": "code",
   "execution_count": 131,
   "outputs": [
    {
     "name": "stdout",
     "output_type": "stream",
     "text": [
      "Input shape: (10, 1)\n"
     ]
    }
   ],
   "source": [
    "if len(x_train.shape) == 2:\n",
    "    input_shape = (x_train.shape[1], 1)\n",
    "else:\n",
    "    input_shape = x_train.shape[1:]\n",
    "print(\"Input shape: \" + str(input_shape))"
   ],
   "metadata": {
    "collapsed": false,
    "pycharm": {
     "name": "#%%\n"
    }
   }
  },
  {
   "cell_type": "code",
   "execution_count": 132,
   "outputs": [
    {
     "name": "stdout",
     "output_type": "stream",
     "text": [
      "Model Summary:\n",
      "Model: \"model_7\"\n",
      "__________________________________________________________________________________________________\n",
      " Layer (type)                   Output Shape         Param #     Connected to                     \n",
      "==================================================================================================\n",
      " input_8 (InputLayer)           [(None, 10, 1)]      0           []                               \n",
      "                                                                                                  \n",
      " layer_normalization_12 (LayerN  (None, 10, 1)       2           ['input_8[0][0]']                \n",
      " ormalization)                                                                                    \n",
      "                                                                                                  \n",
      " multi_head_attention_6 (MultiH  (None, 10, 1)       1793        ['layer_normalization_12[0][0]', \n",
      " eadAttention)                                                    'layer_normalization_12[0][0]'] \n",
      "                                                                                                  \n",
      " dropout_15 (Dropout)           (None, 10, 1)        0           ['multi_head_attention_6[0][0]'] \n",
      "                                                                                                  \n",
      " tf.__operators__.add_12 (TFOpL  (None, 10, 1)       0           ['dropout_15[0][0]',             \n",
      " ambda)                                                           'input_8[0][0]']                \n",
      "                                                                                                  \n",
      " layer_normalization_13 (LayerN  (None, 10, 1)       2           ['tf.__operators__.add_12[0][0]']\n",
      " ormalization)                                                                                    \n",
      "                                                                                                  \n",
      " conv1d_18 (Conv1D)             (None, 10, 4)        8           ['layer_normalization_13[0][0]'] \n",
      "                                                                                                  \n",
      " dropout_16 (Dropout)           (None, 10, 4)        0           ['conv1d_18[0][0]']              \n",
      "                                                                                                  \n",
      " conv1d_19 (Conv1D)             (None, 10, 1)        5           ['dropout_16[0][0]']             \n",
      "                                                                                                  \n",
      " tf.__operators__.add_13 (TFOpL  (None, 10, 1)       0           ['conv1d_19[0][0]',              \n",
      " ambda)                                                           'tf.__operators__.add_12[0][0]']\n",
      "                                                                                                  \n",
      " layer_normalization_14 (LayerN  (None, 10, 1)       2           ['tf.__operators__.add_13[0][0]']\n",
      " ormalization)                                                                                    \n",
      "                                                                                                  \n",
      " multi_head_attention_7 (MultiH  (None, 10, 1)       1793        ['layer_normalization_14[0][0]', \n",
      " eadAttention)                                                    'layer_normalization_14[0][0]'] \n",
      "                                                                                                  \n",
      " dropout_17 (Dropout)           (None, 10, 1)        0           ['multi_head_attention_7[0][0]'] \n",
      "                                                                                                  \n",
      " tf.__operators__.add_14 (TFOpL  (None, 10, 1)       0           ['dropout_17[0][0]',             \n",
      " ambda)                                                           'tf.__operators__.add_13[0][0]']\n",
      "                                                                                                  \n",
      " layer_normalization_15 (LayerN  (None, 10, 1)       2           ['tf.__operators__.add_14[0][0]']\n",
      " ormalization)                                                                                    \n",
      "                                                                                                  \n",
      " conv1d_20 (Conv1D)             (None, 10, 4)        8           ['layer_normalization_15[0][0]'] \n",
      "                                                                                                  \n",
      " dropout_18 (Dropout)           (None, 10, 4)        0           ['conv1d_20[0][0]']              \n",
      "                                                                                                  \n",
      " conv1d_21 (Conv1D)             (None, 10, 1)        5           ['dropout_18[0][0]']             \n",
      "                                                                                                  \n",
      " tf.__operators__.add_15 (TFOpL  (None, 10, 1)       0           ['conv1d_21[0][0]',              \n",
      " ambda)                                                           'tf.__operators__.add_14[0][0]']\n",
      "                                                                                                  \n",
      " global_average_pooling1d_7 (Gl  (None, 10)          0           ['tf.__operators__.add_15[0][0]']\n",
      " obalAveragePooling1D)                                                                            \n",
      "                                                                                                  \n",
      " dense_12 (Dense)               (None, 128)          1408        ['global_average_pooling1d_7[0][0\n",
      "                                                                 ]']                              \n",
      "                                                                                                  \n",
      " dropout_19 (Dropout)           (None, 128)          0           ['dense_12[0][0]']               \n",
      "                                                                                                  \n",
      " dense_13 (Dense)               (None, 5)            645         ['dropout_19[0][0]']             \n",
      "                                                                                                  \n",
      "==================================================================================================\n",
      "Total params: 5,673\n",
      "Trainable params: 5,673\n",
      "Non-trainable params: 0\n",
      "__________________________________________________________________________________________________\n",
      "****************************************************\n",
      "None\n"
     ]
    }
   ],
   "source": [
    "# SETTING UP THE MODEL\n",
    "# input_shape = x_train.shape[1:] # (window_size, len(supported_features))\n",
    "# model_name, model = make_cnn_model_v1(input_shape=input_shape)\n",
    "# model_name, model = make_lstm_model_v1(input_shape=input_shape)\n",
    "model_name, model = make_transformer_model_v1(\n",
    "    input_shape=input_shape,\n",
    "    head_size=64,\n",
    "    num_heads=4,\n",
    "    ff_dim=4,\n",
    "    num_transformer_blocks=2,\n",
    "    mlp_units=[128],\n",
    "    mlp_dropout=0.4,\n",
    "    dropout=0.25,\n",
    ")\n",
    "# model_name, model = make_transformer_model_v2(input_shape=input_shape)\n",
    "print(\"Model Summary:\")\n",
    "stringlist = []\n",
    "model.summary(print_fn=lambda x: stringlist.append(x))\n",
    "short_model_summary = \"\\n\".join(stringlist)\n",
    "print(short_model_summary)\n",
    "print(print_line_divider())"
   ],
   "metadata": {
    "collapsed": false,
    "pycharm": {
     "name": "#%%\n"
    }
   }
  },
  {
   "cell_type": "code",
   "execution_count": 133,
   "outputs": [],
   "source": [
    "# LOGGING THE MODEL\n",
    "log_writer.write(\"Model\", line_divider=True)\n",
    "log_writer.write(\"Model name: \" + model_name)\n",
    "log_writer.write(short_model_summary)"
   ],
   "metadata": {
    "collapsed": false,
    "pycharm": {
     "name": "#%%\n"
    }
   }
  },
  {
   "cell_type": "code",
   "execution_count": 134,
   "outputs": [],
   "source": [
    "# MODELS CALLBACK AND SETUP\n",
    "callback_list = [\n",
    "    callbacks.ModelCheckpoint(SAVED_BEST_MODEL, save_best_only=True, monitor=\"val_loss\"),\n",
    "    callbacks.ReduceLROnPlateau(monitor=\"val_loss\", factor=0.5, patience=50, min_lr=0.0001),\n",
    "    callbacks.EarlyStopping(monitor=\"val_loss\", patience=100, verbose=1)\n",
    "]\n",
    "if enabled_tensor_board:\n",
    "    callback_list.append(callbacks.TensorBoard(log_dir=tensorboard_dir, histogram_freq=1))\n",
    "if log_writer.enabled:\n",
    "    callback_list.append(\n",
    "        callbacks.ModelCheckpoint(log_writer.base_folder + \"/model.h5\", save_best_only=True, monitor=\"val_loss\")\n",
    "    )\n",
    "model.compile(\n",
    "    optimizer=optimizer,\n",
    "    loss=loss_function,\n",
    "    metrics=[\"sparse_categorical_accuracy\"],\n",
    ")"
   ],
   "metadata": {
    "collapsed": false,
    "pycharm": {
     "name": "#%%\n"
    }
   }
  },
  {
   "cell_type": "code",
   "execution_count": 135,
   "outputs": [
    {
     "name": "stdout",
     "output_type": "stream",
     "text": [
      "****************************************************\n",
      "Starting to train...\n",
      "Epoch 1/250\n",
      "320/320 [==============================] - 10s 24ms/step - loss: 1.3777 - sparse_categorical_accuracy: 0.4369 - val_loss: 1.4961 - val_sparse_categorical_accuracy: 0.2422 - lr: 0.0010\n",
      "Epoch 2/250\n",
      "320/320 [==============================] - 6s 18ms/step - loss: 1.1171 - sparse_categorical_accuracy: 0.5748 - val_loss: 1.4247 - val_sparse_categorical_accuracy: 0.3102 - lr: 0.0010\n",
      "Epoch 3/250\n",
      "320/320 [==============================] - 6s 18ms/step - loss: 0.9973 - sparse_categorical_accuracy: 0.6303 - val_loss: 1.4116 - val_sparse_categorical_accuracy: 0.3562 - lr: 0.0010\n",
      "Epoch 4/250\n",
      "320/320 [==============================] - 5s 17ms/step - loss: 0.9183 - sparse_categorical_accuracy: 0.6584 - val_loss: 1.5254 - val_sparse_categorical_accuracy: 0.3570 - lr: 0.0010\n",
      "Epoch 5/250\n",
      "320/320 [==============================] - 5s 16ms/step - loss: 0.8484 - sparse_categorical_accuracy: 0.6845 - val_loss: 1.5339 - val_sparse_categorical_accuracy: 0.3867 - lr: 0.0010\n",
      "Epoch 6/250\n",
      "320/320 [==============================] - 5s 16ms/step - loss: 0.7992 - sparse_categorical_accuracy: 0.7026 - val_loss: 1.7182 - val_sparse_categorical_accuracy: 0.3930 - lr: 0.0010\n",
      "Epoch 7/250\n",
      "320/320 [==============================] - 5s 17ms/step - loss: 0.7641 - sparse_categorical_accuracy: 0.7184 - val_loss: 1.7794 - val_sparse_categorical_accuracy: 0.3781 - lr: 0.0010\n",
      "Epoch 8/250\n",
      "320/320 [==============================] - 5s 17ms/step - loss: 0.7285 - sparse_categorical_accuracy: 0.7275 - val_loss: 1.8891 - val_sparse_categorical_accuracy: 0.3711 - lr: 0.0010\n",
      "Epoch 9/250\n",
      "320/320 [==============================] - 5s 16ms/step - loss: 0.7031 - sparse_categorical_accuracy: 0.7387 - val_loss: 1.8982 - val_sparse_categorical_accuracy: 0.4000 - lr: 0.0010\n",
      "Epoch 10/250\n",
      "320/320 [==============================] - 5s 17ms/step - loss: 0.6824 - sparse_categorical_accuracy: 0.7471 - val_loss: 2.0984 - val_sparse_categorical_accuracy: 0.4031 - lr: 0.0010\n",
      "Epoch 11/250\n",
      "320/320 [==============================] - 5s 16ms/step - loss: 0.6617 - sparse_categorical_accuracy: 0.7529 - val_loss: 2.0846 - val_sparse_categorical_accuracy: 0.3812 - lr: 0.0010\n",
      "Epoch 12/250\n",
      "320/320 [==============================] - 5s 16ms/step - loss: 0.6484 - sparse_categorical_accuracy: 0.7612 - val_loss: 2.2597 - val_sparse_categorical_accuracy: 0.3891 - lr: 0.0010\n",
      "Epoch 13/250\n",
      "320/320 [==============================] - 5s 17ms/step - loss: 0.6313 - sparse_categorical_accuracy: 0.7705 - val_loss: 2.2705 - val_sparse_categorical_accuracy: 0.4047 - lr: 0.0010\n",
      "Epoch 14/250\n",
      "320/320 [==============================] - 6s 17ms/step - loss: 0.6233 - sparse_categorical_accuracy: 0.7665 - val_loss: 2.4480 - val_sparse_categorical_accuracy: 0.3781 - lr: 0.0010\n",
      "Epoch 15/250\n",
      "320/320 [==============================] - 5s 17ms/step - loss: 0.6147 - sparse_categorical_accuracy: 0.7753 - val_loss: 2.6505 - val_sparse_categorical_accuracy: 0.4102 - lr: 0.0010\n",
      "Epoch 16/250\n",
      "320/320 [==============================] - 5s 17ms/step - loss: 0.6028 - sparse_categorical_accuracy: 0.7784 - val_loss: 2.5552 - val_sparse_categorical_accuracy: 0.4008 - lr: 0.0010\n",
      "Epoch 17/250\n",
      "320/320 [==============================] - 6s 18ms/step - loss: 0.5882 - sparse_categorical_accuracy: 0.7824 - val_loss: 2.5036 - val_sparse_categorical_accuracy: 0.3867 - lr: 0.0010\n",
      "Epoch 18/250\n",
      "320/320 [==============================] - 6s 17ms/step - loss: 0.5786 - sparse_categorical_accuracy: 0.7864 - val_loss: 2.7136 - val_sparse_categorical_accuracy: 0.3859 - lr: 0.0010\n",
      "Epoch 19/250\n",
      "320/320 [==============================] - 6s 19ms/step - loss: 0.5735 - sparse_categorical_accuracy: 0.7935 - val_loss: 2.7047 - val_sparse_categorical_accuracy: 0.3945 - lr: 0.0010\n",
      "Epoch 20/250\n",
      "320/320 [==============================] - 6s 19ms/step - loss: 0.5600 - sparse_categorical_accuracy: 0.7883 - val_loss: 2.9296 - val_sparse_categorical_accuracy: 0.3859 - lr: 0.0010\n",
      "Epoch 21/250\n",
      "320/320 [==============================] - 6s 18ms/step - loss: 0.5563 - sparse_categorical_accuracy: 0.7979 - val_loss: 3.0401 - val_sparse_categorical_accuracy: 0.4086 - lr: 0.0010\n",
      "Epoch 22/250\n",
      "320/320 [==============================] - 6s 18ms/step - loss: 0.5523 - sparse_categorical_accuracy: 0.7971 - val_loss: 3.1876 - val_sparse_categorical_accuracy: 0.3820 - lr: 0.0010\n",
      "Epoch 23/250\n",
      "320/320 [==============================] - 6s 18ms/step - loss: 0.5445 - sparse_categorical_accuracy: 0.7957 - val_loss: 3.2788 - val_sparse_categorical_accuracy: 0.3766 - lr: 0.0010\n",
      "Epoch 24/250\n",
      "320/320 [==============================] - 6s 18ms/step - loss: 0.5436 - sparse_categorical_accuracy: 0.8039 - val_loss: 3.3967 - val_sparse_categorical_accuracy: 0.3758 - lr: 0.0010\n",
      "Epoch 25/250\n",
      "320/320 [==============================] - 6s 19ms/step - loss: 0.5421 - sparse_categorical_accuracy: 0.8013 - val_loss: 3.3368 - val_sparse_categorical_accuracy: 0.3742 - lr: 0.0010\n",
      "Epoch 26/250\n",
      "320/320 [==============================] - 6s 18ms/step - loss: 0.5337 - sparse_categorical_accuracy: 0.8053 - val_loss: 3.5136 - val_sparse_categorical_accuracy: 0.3859 - lr: 0.0010\n",
      "Epoch 27/250\n",
      "320/320 [==============================] - 6s 19ms/step - loss: 0.5212 - sparse_categorical_accuracy: 0.8063 - val_loss: 3.6436 - val_sparse_categorical_accuracy: 0.3508 - lr: 0.0010\n",
      "Epoch 28/250\n",
      "320/320 [==============================] - 6s 18ms/step - loss: 0.5168 - sparse_categorical_accuracy: 0.8117 - val_loss: 3.3322 - val_sparse_categorical_accuracy: 0.3781 - lr: 0.0010\n",
      "Epoch 29/250\n",
      "320/320 [==============================] - 6s 18ms/step - loss: 0.5193 - sparse_categorical_accuracy: 0.8094 - val_loss: 3.8848 - val_sparse_categorical_accuracy: 0.3938 - lr: 0.0010\n",
      "Epoch 30/250\n",
      "320/320 [==============================] - 6s 17ms/step - loss: 0.5191 - sparse_categorical_accuracy: 0.8086 - val_loss: 3.8651 - val_sparse_categorical_accuracy: 0.3711 - lr: 0.0010\n",
      "Epoch 31/250\n",
      "320/320 [==============================] - 6s 18ms/step - loss: 0.5160 - sparse_categorical_accuracy: 0.8133 - val_loss: 3.5680 - val_sparse_categorical_accuracy: 0.3414 - lr: 0.0010\n",
      "Epoch 32/250\n",
      "320/320 [==============================] - 6s 20ms/step - loss: 0.5014 - sparse_categorical_accuracy: 0.8136 - val_loss: 3.6594 - val_sparse_categorical_accuracy: 0.3594 - lr: 0.0010\n",
      "Epoch 33/250\n",
      "320/320 [==============================] - 7s 21ms/step - loss: 0.5026 - sparse_categorical_accuracy: 0.8146 - val_loss: 3.8721 - val_sparse_categorical_accuracy: 0.3648 - lr: 0.0010\n",
      "Epoch 34/250\n",
      "320/320 [==============================] - 6s 20ms/step - loss: 0.5040 - sparse_categorical_accuracy: 0.8151 - val_loss: 4.4204 - val_sparse_categorical_accuracy: 0.3477 - lr: 0.0010\n",
      "Epoch 35/250\n",
      "320/320 [==============================] - 6s 19ms/step - loss: 0.5021 - sparse_categorical_accuracy: 0.8151 - val_loss: 4.1661 - val_sparse_categorical_accuracy: 0.3500 - lr: 0.0010\n",
      "Epoch 36/250\n",
      "320/320 [==============================] - 6s 19ms/step - loss: 0.4934 - sparse_categorical_accuracy: 0.8171 - val_loss: 4.0794 - val_sparse_categorical_accuracy: 0.3266 - lr: 0.0010\n",
      "Epoch 37/250\n",
      "320/320 [==============================] - 6s 18ms/step - loss: 0.4868 - sparse_categorical_accuracy: 0.8216 - val_loss: 4.4044 - val_sparse_categorical_accuracy: 0.3539 - lr: 0.0010\n",
      "Epoch 38/250\n",
      "320/320 [==============================] - 6s 18ms/step - loss: 0.4914 - sparse_categorical_accuracy: 0.8215 - val_loss: 4.5038 - val_sparse_categorical_accuracy: 0.3492 - lr: 0.0010\n",
      "Epoch 39/250\n",
      "320/320 [==============================] - 6s 18ms/step - loss: 0.4907 - sparse_categorical_accuracy: 0.8170 - val_loss: 4.4407 - val_sparse_categorical_accuracy: 0.3492 - lr: 0.0010\n",
      "Epoch 40/250\n",
      "320/320 [==============================] - 6s 18ms/step - loss: 0.4868 - sparse_categorical_accuracy: 0.8226 - val_loss: 4.3737 - val_sparse_categorical_accuracy: 0.3453 - lr: 0.0010\n",
      "Epoch 41/250\n",
      "320/320 [==============================] - 6s 17ms/step - loss: 0.4903 - sparse_categorical_accuracy: 0.8224 - val_loss: 4.5918 - val_sparse_categorical_accuracy: 0.3266 - lr: 0.0010\n",
      "Epoch 42/250\n",
      "320/320 [==============================] - 6s 18ms/step - loss: 0.4799 - sparse_categorical_accuracy: 0.8255 - val_loss: 4.6035 - val_sparse_categorical_accuracy: 0.3477 - lr: 0.0010\n",
      "Epoch 43/250\n",
      "320/320 [==============================] - 6s 18ms/step - loss: 0.4842 - sparse_categorical_accuracy: 0.8228 - val_loss: 4.5133 - val_sparse_categorical_accuracy: 0.3352 - lr: 0.0010\n",
      "Epoch 44/250\n",
      "320/320 [==============================] - 6s 18ms/step - loss: 0.4744 - sparse_categorical_accuracy: 0.8240 - val_loss: 4.6365 - val_sparse_categorical_accuracy: 0.3336 - lr: 0.0010\n",
      "Epoch 45/250\n",
      "320/320 [==============================] - 6s 18ms/step - loss: 0.4793 - sparse_categorical_accuracy: 0.8266 - val_loss: 4.6201 - val_sparse_categorical_accuracy: 0.3180 - lr: 0.0010\n",
      "Epoch 46/250\n",
      "320/320 [==============================] - 6s 18ms/step - loss: 0.4666 - sparse_categorical_accuracy: 0.8322 - val_loss: 4.3656 - val_sparse_categorical_accuracy: 0.3531 - lr: 0.0010\n",
      "Epoch 47/250\n",
      "320/320 [==============================] - 6s 19ms/step - loss: 0.4730 - sparse_categorical_accuracy: 0.8295 - val_loss: 4.2878 - val_sparse_categorical_accuracy: 0.3484 - lr: 0.0010\n",
      "Epoch 48/250\n",
      "320/320 [==============================] - 6s 19ms/step - loss: 0.4669 - sparse_categorical_accuracy: 0.8277 - val_loss: 4.5713 - val_sparse_categorical_accuracy: 0.3414 - lr: 0.0010\n",
      "Epoch 49/250\n",
      "320/320 [==============================] - 6s 18ms/step - loss: 0.4618 - sparse_categorical_accuracy: 0.8261 - val_loss: 4.9250 - val_sparse_categorical_accuracy: 0.3289 - lr: 0.0010\n",
      "Epoch 50/250\n",
      "320/320 [==============================] - 6s 18ms/step - loss: 0.4686 - sparse_categorical_accuracy: 0.8286 - val_loss: 4.8356 - val_sparse_categorical_accuracy: 0.3227 - lr: 0.0010\n",
      "Epoch 51/250\n",
      "320/320 [==============================] - 6s 18ms/step - loss: 0.4608 - sparse_categorical_accuracy: 0.8304 - val_loss: 4.8186 - val_sparse_categorical_accuracy: 0.3297 - lr: 0.0010\n",
      "Epoch 52/250\n",
      "320/320 [==============================] - 6s 18ms/step - loss: 0.4681 - sparse_categorical_accuracy: 0.8271 - val_loss: 5.0047 - val_sparse_categorical_accuracy: 0.3219 - lr: 0.0010\n",
      "Epoch 53/250\n",
      "320/320 [==============================] - 5s 17ms/step - loss: 0.4608 - sparse_categorical_accuracy: 0.8305 - val_loss: 4.7240 - val_sparse_categorical_accuracy: 0.3219 - lr: 0.0010\n",
      "Epoch 54/250\n",
      "320/320 [==============================] - 6s 17ms/step - loss: 0.4545 - sparse_categorical_accuracy: 0.8332 - val_loss: 4.9451 - val_sparse_categorical_accuracy: 0.3281 - lr: 5.0000e-04\n",
      "Epoch 55/250\n",
      "320/320 [==============================] - 5s 17ms/step - loss: 0.4549 - sparse_categorical_accuracy: 0.8315 - val_loss: 4.9864 - val_sparse_categorical_accuracy: 0.3180 - lr: 5.0000e-04\n",
      "Epoch 56/250\n",
      "320/320 [==============================] - 6s 17ms/step - loss: 0.4632 - sparse_categorical_accuracy: 0.8322 - val_loss: 5.0639 - val_sparse_categorical_accuracy: 0.3336 - lr: 5.0000e-04\n",
      "Epoch 57/250\n",
      "320/320 [==============================] - 5s 17ms/step - loss: 0.4518 - sparse_categorical_accuracy: 0.8329 - val_loss: 5.3013 - val_sparse_categorical_accuracy: 0.3313 - lr: 5.0000e-04\n",
      "Epoch 58/250\n",
      "320/320 [==============================] - 6s 18ms/step - loss: 0.4467 - sparse_categorical_accuracy: 0.8389 - val_loss: 5.2938 - val_sparse_categorical_accuracy: 0.3227 - lr: 5.0000e-04\n",
      "Epoch 59/250\n",
      "320/320 [==============================] - 6s 18ms/step - loss: 0.4595 - sparse_categorical_accuracy: 0.8338 - val_loss: 4.9978 - val_sparse_categorical_accuracy: 0.3430 - lr: 5.0000e-04\n",
      "Epoch 60/250\n",
      "320/320 [==============================] - 6s 18ms/step - loss: 0.4497 - sparse_categorical_accuracy: 0.8384 - val_loss: 5.0893 - val_sparse_categorical_accuracy: 0.3227 - lr: 5.0000e-04\n",
      "Epoch 61/250\n",
      "320/320 [==============================] - 6s 18ms/step - loss: 0.4484 - sparse_categorical_accuracy: 0.8356 - val_loss: 5.2514 - val_sparse_categorical_accuracy: 0.3391 - lr: 5.0000e-04\n",
      "Epoch 62/250\n",
      "320/320 [==============================] - 6s 19ms/step - loss: 0.4436 - sparse_categorical_accuracy: 0.8368 - val_loss: 5.2356 - val_sparse_categorical_accuracy: 0.3289 - lr: 5.0000e-04\n",
      "Epoch 63/250\n",
      "320/320 [==============================] - 6s 17ms/step - loss: 0.4468 - sparse_categorical_accuracy: 0.8402 - val_loss: 5.0297 - val_sparse_categorical_accuracy: 0.3156 - lr: 5.0000e-04\n",
      "Epoch 64/250\n",
      "320/320 [==============================] - 6s 17ms/step - loss: 0.4498 - sparse_categorical_accuracy: 0.8360 - val_loss: 4.8926 - val_sparse_categorical_accuracy: 0.3258 - lr: 5.0000e-04\n",
      "Epoch 65/250\n",
      "320/320 [==============================] - 6s 18ms/step - loss: 0.4438 - sparse_categorical_accuracy: 0.8372 - val_loss: 4.9586 - val_sparse_categorical_accuracy: 0.3219 - lr: 5.0000e-04\n",
      "Epoch 66/250\n",
      "320/320 [==============================] - 5s 17ms/step - loss: 0.4478 - sparse_categorical_accuracy: 0.8397 - val_loss: 5.0570 - val_sparse_categorical_accuracy: 0.3133 - lr: 5.0000e-04\n",
      "Epoch 67/250\n",
      "320/320 [==============================] - 5s 17ms/step - loss: 0.4445 - sparse_categorical_accuracy: 0.8391 - val_loss: 5.1822 - val_sparse_categorical_accuracy: 0.3148 - lr: 5.0000e-04\n",
      "Epoch 68/250\n",
      "320/320 [==============================] - 5s 17ms/step - loss: 0.4462 - sparse_categorical_accuracy: 0.8388 - val_loss: 5.1312 - val_sparse_categorical_accuracy: 0.3234 - lr: 5.0000e-04\n",
      "Epoch 69/250\n",
      "320/320 [==============================] - 5s 17ms/step - loss: 0.4478 - sparse_categorical_accuracy: 0.8383 - val_loss: 5.3189 - val_sparse_categorical_accuracy: 0.3250 - lr: 5.0000e-04\n",
      "Epoch 70/250\n",
      "320/320 [==============================] - 6s 18ms/step - loss: 0.4425 - sparse_categorical_accuracy: 0.8377 - val_loss: 5.2272 - val_sparse_categorical_accuracy: 0.3094 - lr: 5.0000e-04\n",
      "Epoch 71/250\n",
      "320/320 [==============================] - 6s 18ms/step - loss: 0.4365 - sparse_categorical_accuracy: 0.8434 - val_loss: 5.3904 - val_sparse_categorical_accuracy: 0.3258 - lr: 5.0000e-04\n",
      "Epoch 72/250\n",
      "320/320 [==============================] - 6s 18ms/step - loss: 0.4435 - sparse_categorical_accuracy: 0.8390 - val_loss: 5.5800 - val_sparse_categorical_accuracy: 0.3180 - lr: 5.0000e-04\n",
      "Epoch 73/250\n",
      "320/320 [==============================] - 6s 18ms/step - loss: 0.4434 - sparse_categorical_accuracy: 0.8375 - val_loss: 5.3225 - val_sparse_categorical_accuracy: 0.3141 - lr: 5.0000e-04\n",
      "Epoch 74/250\n",
      "320/320 [==============================] - 6s 19ms/step - loss: 0.4368 - sparse_categorical_accuracy: 0.8438 - val_loss: 5.2794 - val_sparse_categorical_accuracy: 0.3258 - lr: 5.0000e-04\n",
      "Epoch 75/250\n",
      "320/320 [==============================] - 6s 19ms/step - loss: 0.4433 - sparse_categorical_accuracy: 0.8381 - val_loss: 5.4308 - val_sparse_categorical_accuracy: 0.3336 - lr: 5.0000e-04\n",
      "Epoch 76/250\n",
      "320/320 [==============================] - 6s 19ms/step - loss: 0.4424 - sparse_categorical_accuracy: 0.8390 - val_loss: 5.5221 - val_sparse_categorical_accuracy: 0.3164 - lr: 5.0000e-04\n",
      "Epoch 77/250\n",
      "320/320 [==============================] - 6s 18ms/step - loss: 0.4448 - sparse_categorical_accuracy: 0.8423 - val_loss: 5.4646 - val_sparse_categorical_accuracy: 0.3195 - lr: 5.0000e-04\n",
      "Epoch 78/250\n",
      "320/320 [==============================] - 6s 19ms/step - loss: 0.4393 - sparse_categorical_accuracy: 0.8408 - val_loss: 5.3508 - val_sparse_categorical_accuracy: 0.3266 - lr: 5.0000e-04\n",
      "Epoch 79/250\n",
      "320/320 [==============================] - 6s 18ms/step - loss: 0.4380 - sparse_categorical_accuracy: 0.8395 - val_loss: 5.5663 - val_sparse_categorical_accuracy: 0.3133 - lr: 5.0000e-04\n",
      "Epoch 80/250\n",
      "320/320 [==============================] - 6s 18ms/step - loss: 0.4390 - sparse_categorical_accuracy: 0.8424 - val_loss: 5.4126 - val_sparse_categorical_accuracy: 0.3055 - lr: 5.0000e-04\n",
      "Epoch 81/250\n",
      "320/320 [==============================] - 6s 18ms/step - loss: 0.4368 - sparse_categorical_accuracy: 0.8388 - val_loss: 5.4416 - val_sparse_categorical_accuracy: 0.3250 - lr: 5.0000e-04\n",
      "Epoch 82/250\n",
      "320/320 [==============================] - 6s 18ms/step - loss: 0.4385 - sparse_categorical_accuracy: 0.8391 - val_loss: 5.6846 - val_sparse_categorical_accuracy: 0.3234 - lr: 5.0000e-04\n",
      "Epoch 83/250\n",
      "320/320 [==============================] - 6s 17ms/step - loss: 0.4363 - sparse_categorical_accuracy: 0.8400 - val_loss: 5.5045 - val_sparse_categorical_accuracy: 0.3242 - lr: 5.0000e-04\n",
      "Epoch 84/250\n",
      "320/320 [==============================] - 5s 17ms/step - loss: 0.4374 - sparse_categorical_accuracy: 0.8425 - val_loss: 5.6380 - val_sparse_categorical_accuracy: 0.3195 - lr: 5.0000e-04\n",
      "Epoch 85/250\n",
      "320/320 [==============================] - 5s 16ms/step - loss: 0.4352 - sparse_categorical_accuracy: 0.8411 - val_loss: 5.7458 - val_sparse_categorical_accuracy: 0.3102 - lr: 5.0000e-04\n",
      "Epoch 86/250\n",
      "320/320 [==============================] - 5s 17ms/step - loss: 0.4331 - sparse_categorical_accuracy: 0.8411 - val_loss: 5.6233 - val_sparse_categorical_accuracy: 0.3328 - lr: 5.0000e-04\n",
      "Epoch 87/250\n",
      "320/320 [==============================] - 5s 16ms/step - loss: 0.4274 - sparse_categorical_accuracy: 0.8470 - val_loss: 5.8633 - val_sparse_categorical_accuracy: 0.3313 - lr: 5.0000e-04\n",
      "Epoch 88/250\n",
      "320/320 [==============================] - 5s 16ms/step - loss: 0.4373 - sparse_categorical_accuracy: 0.8421 - val_loss: 5.5060 - val_sparse_categorical_accuracy: 0.3297 - lr: 5.0000e-04\n",
      "Epoch 89/250\n",
      "320/320 [==============================] - 5s 17ms/step - loss: 0.4309 - sparse_categorical_accuracy: 0.8435 - val_loss: 5.3396 - val_sparse_categorical_accuracy: 0.3266 - lr: 5.0000e-04\n",
      "Epoch 90/250\n",
      "320/320 [==============================] - 5s 17ms/step - loss: 0.4313 - sparse_categorical_accuracy: 0.8425 - val_loss: 5.6273 - val_sparse_categorical_accuracy: 0.3109 - lr: 5.0000e-04\n",
      "Epoch 91/250\n",
      "320/320 [==============================] - 5s 17ms/step - loss: 0.4306 - sparse_categorical_accuracy: 0.8424 - val_loss: 5.7484 - val_sparse_categorical_accuracy: 0.3219 - lr: 5.0000e-04\n",
      "Epoch 92/250\n",
      "320/320 [==============================] - 6s 17ms/step - loss: 0.4351 - sparse_categorical_accuracy: 0.8412 - val_loss: 5.8063 - val_sparse_categorical_accuracy: 0.3250 - lr: 5.0000e-04\n",
      "Epoch 93/250\n",
      "320/320 [==============================] - 5s 17ms/step - loss: 0.4355 - sparse_categorical_accuracy: 0.8396 - val_loss: 6.0233 - val_sparse_categorical_accuracy: 0.3227 - lr: 5.0000e-04\n",
      "Epoch 94/250\n",
      "320/320 [==============================] - 5s 17ms/step - loss: 0.4279 - sparse_categorical_accuracy: 0.8433 - val_loss: 5.5185 - val_sparse_categorical_accuracy: 0.3352 - lr: 5.0000e-04\n",
      "Epoch 95/250\n",
      "320/320 [==============================] - 5s 17ms/step - loss: 0.4256 - sparse_categorical_accuracy: 0.8448 - val_loss: 5.7560 - val_sparse_categorical_accuracy: 0.3125 - lr: 5.0000e-04\n",
      "Epoch 96/250\n",
      "320/320 [==============================] - 6s 17ms/step - loss: 0.4273 - sparse_categorical_accuracy: 0.8452 - val_loss: 5.9677 - val_sparse_categorical_accuracy: 0.3250 - lr: 5.0000e-04\n",
      "Epoch 97/250\n",
      "320/320 [==============================] - 6s 18ms/step - loss: 0.4242 - sparse_categorical_accuracy: 0.8438 - val_loss: 5.8031 - val_sparse_categorical_accuracy: 0.3031 - lr: 5.0000e-04\n",
      "Epoch 98/250\n",
      "320/320 [==============================] - 6s 18ms/step - loss: 0.4286 - sparse_categorical_accuracy: 0.8465 - val_loss: 5.8621 - val_sparse_categorical_accuracy: 0.3133 - lr: 5.0000e-04\n",
      "Epoch 99/250\n",
      "320/320 [==============================] - 6s 18ms/step - loss: 0.4263 - sparse_categorical_accuracy: 0.8436 - val_loss: 5.8680 - val_sparse_categorical_accuracy: 0.3203 - lr: 5.0000e-04\n",
      "Epoch 100/250\n",
      "320/320 [==============================] - 6s 18ms/step - loss: 0.4271 - sparse_categorical_accuracy: 0.8433 - val_loss: 5.7698 - val_sparse_categorical_accuracy: 0.3094 - lr: 5.0000e-04\n",
      "Epoch 101/250\n",
      "320/320 [==============================] - 6s 18ms/step - loss: 0.4236 - sparse_categorical_accuracy: 0.8448 - val_loss: 5.9483 - val_sparse_categorical_accuracy: 0.3180 - lr: 5.0000e-04\n",
      "Epoch 102/250\n",
      "320/320 [==============================] - 6s 18ms/step - loss: 0.4241 - sparse_categorical_accuracy: 0.8434 - val_loss: 5.9325 - val_sparse_categorical_accuracy: 0.3242 - lr: 5.0000e-04\n",
      "Epoch 103/250\n",
      "320/320 [==============================] - 5s 17ms/step - loss: 0.4337 - sparse_categorical_accuracy: 0.8406 - val_loss: 6.1899 - val_sparse_categorical_accuracy: 0.3313 - lr: 5.0000e-04\n",
      "Epoch 103: early stopping\n",
      "Total training time in seconds: 588.6986448764801\n",
      "Highest validation accuracy:  0.41015625\n"
     ]
    },
    {
     "name": "stderr",
     "output_type": "stream",
     "text": [
      "Input #0, wav, from '/var/folders/ph/8yv0q18n4mb1439tnf3rzcf40000gp/T/tmpo2fchotc.wav':\n",
      "  Duration: 00:00:02.27, bitrate: 705 kb/s\n",
      "  Stream #0:0: Audio: pcm_s16le ([1][0][0][0] / 0x0001), 44100 Hz, 1 channels, s16, 705 kb/s\n",
      "   2.19 M-A:  0.000 fd=   0 aq=    0KB vq=    0KB sq=    0B f=0/0   \r"
     ]
    },
    {
     "name": "stdout",
     "output_type": "stream",
     "text": [
      "\n"
     ]
    }
   ],
   "source": [
    "# TRAINING\n",
    "print_line_divider()\n",
    "print(\"Starting to train...\")\n",
    "\n",
    "start_time = time.time()\n",
    "history = model.fit(\n",
    "    x_train,\n",
    "    y_train,\n",
    "    batch_size=batch_size,\n",
    "    epochs=epochs,\n",
    "    callbacks=callback_list,\n",
    "    validation_split=validation_split,\n",
    "    verbose=1,\n",
    "    shuffle=True\n",
    ")\n",
    "end_time = time.time()\n",
    "training_time = end_time - start_time\n",
    "print(\"Total training time in seconds: \" + str(training_time))\n",
    "print(\"Highest validation accuracy: \", max(history.history['val_sparse_categorical_accuracy']))\n",
    "log_writer.write(\"Result\", line_divider=True)\n",
    "log_writer.write(\"Training time: \" + str(end_time - start_time) + \" seconds.\")\n",
    "log_writer.write(\"Highest validation accuracy: \" + str(max(history.history['val_sparse_categorical_accuracy'])))\n",
    "play_training_is_complete()"
   ],
   "metadata": {
    "collapsed": false,
    "pycharm": {
     "name": "#%%\n"
    }
   }
  },
  {
   "cell_type": "code",
   "execution_count": 136,
   "outputs": [],
   "source": [
    "if log_writer.enabled:\n",
    "    model.save(log_writer.base_folder + \"/model_last.h5\")"
   ],
   "metadata": {
    "collapsed": false,
    "pycharm": {
     "name": "#%%\n"
    }
   }
  },
  {
   "cell_type": "code",
   "execution_count": 137,
   "outputs": [
    {
     "data": {
      "text/plain": "<Figure size 432x288 with 1 Axes>",
      "image/png": "[encoded data removed]"
     },
     "metadata": {
      "needs_background": "light"
     },
     "output_type": "display_data"
    }
   ],
   "source": [
    "# PLOTTING\n",
    "metric = \"sparse_categorical_accuracy\"\n",
    "plt.figure()\n",
    "plt.plot(history.history[metric])\n",
    "plt.plot(history.history[\"val_\" + metric])\n",
    "plt.title(\"model \" + model_name + \" :\" + metric)\n",
    "plt.ylabel(metric, fontsize=\"large\")\n",
    "plt.xlabel(\"epoch\", fontsize=\"large\")\n",
    "plt.legend([\"train\", \"val\"], loc=\"best\")\n",
    "if log_writer.enabled:\n",
    "    plt.savefig(os.path.join(log_writer.base_folder, \"Validation progress.png\"))\n",
    "plt.show()\n",
    "plt.close()"
   ],
   "metadata": {
    "collapsed": false,
    "pycharm": {
     "name": "#%%\n"
    }
   }
  },
  {
   "cell_type": "code",
   "execution_count": 138,
   "outputs": [
    {
     "name": "stdout",
     "output_type": "stream",
     "text": [
      "90/90 [==============================] - 1s 7ms/step - loss: 0.9300 - sparse_categorical_accuracy: 0.8177\n",
      "****************************************************\n",
      "Test accuracy 0.8177065253257751\n",
      "Test loss 0.9300194382667542\n",
      "Metrics report: \n",
      "              precision    recall  f1-score   support\n",
      "\n",
      "         0.0       0.95      0.93      0.94       612\n",
      "         1.0       0.83      0.57      0.68       582\n",
      "         2.0       0.74      0.88      0.80       604\n",
      "         3.0       0.75      0.93      0.83       488\n",
      "         4.0       0.83      0.79      0.81       583\n",
      "\n",
      "    accuracy                           0.82      2869\n",
      "   macro avg       0.82      0.82      0.81      2869\n",
      "weighted avg       0.82      0.82      0.81      2869\n",
      "\n"
     ]
    },
    {
     "data": {
      "text/plain": "<Figure size 576x576 with 2 Axes>",
      "image/png": "[encoded data removed]"
     },
     "metadata": {
      "needs_background": "light"
     },
     "output_type": "display_data"
    }
   ],
   "source": [
    "# EVALUATION\n",
    "test_loss, test_acc = model.evaluate(x_test, y_test)\n",
    "print_line_divider()\n",
    "print(\"Test accuracy\", test_acc)\n",
    "print(\"Test loss\", test_loss)\n",
    "\n",
    "# Accuracy based on different labels\n",
    "y_pred = model.predict(x_test)\n",
    "y_pred = np.argmax(y_pred, axis=1)\n",
    "metrics_report = classification_report(y_test, y_pred)\n",
    "print(\"Metrics report: \")\n",
    "print(metrics_report)\n",
    "\n",
    "con_mat = tf.math.confusion_matrix(labels=y_test, predictions=y_pred).numpy()\n",
    "con_mat_norm = np.around(con_mat.astype('float') / con_mat.sum(axis=1)[:, np.newaxis], decimals=4)\n",
    "con_mat_df = pd.DataFrame(con_mat_norm, index=location_labels, columns=location_labels)\n",
    "figure = plt.figure(figsize=(8, 8))\n",
    "sns.heatmap(con_mat_df, annot=True, cmap=plt.cm.Blues)\n",
    "plt.tight_layout()\n",
    "plt.ylabel('True label')\n",
    "plt.xlabel('Predicted label')\n",
    "if log_writer.enabled:\n",
    "    plt.savefig(os.path.join(log_writer.base_folder, \"Accuracy.png\"))\n",
    "plt.show()\n",
    "plt.close()\n",
    "\n",
    "log_writer.write(\"Test evaluation\", line_divider=True)\n",
    "log_writer.write(\"Test accuracy: \" + str(test_acc))\n",
    "log_writer.write(\"Test loss: \" + str(test_loss))\n",
    "log_writer.write(\"Metric report: \")\n",
    "log_writer.write(metrics_report)\n",
    "log_writer.close()"
   ],
   "metadata": {
    "collapsed": false,
    "pycharm": {
     "name": "#%%\n"
    }
   }
  },
  {
   "cell_type": "code",
   "execution_count": null,
   "outputs": [],
   "source": [],
   "metadata": {
    "collapsed": false,
    "pycharm": {
     "name": "#%%\n"
    }
   }
  }
 ],
 "metadata": {
  "kernelspec": {
   "display_name": "Python 3",
   "language": "python",
   "name": "python3"
  },
  "language_info": {
   "codemirror_mode": {
    "name": "ipython",
    "version": 2
   },
   "file_extension": ".py",
   "mimetype": "text/x-python",
   "name": "python",
   "nbconvert_exporter": "python",
   "pygments_lexer": "ipython2",
   "version": "2.7.6"
  }
 },
 "nbformat": 4,
 "nbformat_minor": 0
}