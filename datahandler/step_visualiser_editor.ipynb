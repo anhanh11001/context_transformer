{
 "cells": [
  {
   "cell_type": "code",
   "execution_count": 69,
   "outputs": [],
   "source": [
    "import sys\n",
    "\n",
    "import matplotlib.pyplot as plt\n",
    "import matplotlib.dates as plt_dates\n",
    "from mpl_point_clicker import clicker\n",
    "from datahandler.constants import acc_features, all_features, gyro_features\n",
    "from datahandler.data_loader import load_date_from_steptracking_file\n",
    "import pandas\n",
    "\n",
    "from utils import get_project_root"
   ],
   "metadata": {
    "collapsed": false,
    "pycharm": {
     "name": "#%%\n"
    }
   }
  },
  {
   "cell_type": "code",
   "execution_count": 70,
   "outputs": [],
   "source": [
    "%matplotlib notebook"
   ],
   "metadata": {
    "collapsed": false,
    "pycharm": {
     "name": "#%%\n"
    }
   }
  },
  {
   "cell_type": "code",
   "execution_count": 71,
   "outputs": [
    {
     "name": "stdout",
     "output_type": "stream",
     "text": [
      "Number of steps found:  340\n",
      "Average row per second: 538\n"
     ]
    }
   ],
   "source": [
    "file_code = \"pp1\"\n",
    "filepath = str(get_project_root()) + \"/data/v4/mix/\" + file_code + \"_datacollection.csv\"\n",
    "step_filepath = str(get_project_root()) + \"/data/v4/mix/step/\" + file_code + \"_steptracking.csv\"\n",
    "\n",
    "step_dates = load_date_from_steptracking_file(step_filepath)\n",
    "step_date_index_list = []\n",
    "data_df = pandas.read_csv(filepath)\n",
    "rows_per_second = int(data_df.shape[0] / 300)\n",
    "\n",
    "print(\"Number of steps found: \", str(len(step_dates)))\n",
    "print(\"Average row per second: \" + str(rows_per_second))"
   ],
   "metadata": {
    "collapsed": false,
    "pycharm": {
     "name": "#%%\n"
    }
   }
  },
  {
   "cell_type": "code",
   "execution_count": 72,
   "outputs": [
    {
     "data": {
      "text/plain": "                                   date  accelerometerX  accelerometerY  \\\n0      2022-06-07 16:46:41.995000+02:00        0.040715       -9.606423   \n1             2022-06-07 16:46:42+02:00       -0.026345       -9.630374   \n2      2022-06-07 16:46:42.002000+02:00        0.055085       -9.544153   \n3      2022-06-07 16:46:42.004000+02:00        0.014370       -9.623189   \n4      2022-06-07 16:46:42.007000+02:00        0.052690       -9.508228   \n...                                 ...             ...             ...   \n161498 2022-06-07 16:51:43.789000+02:00        2.605781       -9.328602   \n161499 2022-06-07 16:51:43.790000+02:00        2.725532       -9.249566   \n161500 2022-06-07 16:51:43.792000+02:00        2.725532       -9.249566   \n161501 2022-06-07 16:51:43.793000+02:00        2.680027       -9.261541   \n161502 2022-06-07 16:51:43.795000+02:00        2.627337       -9.153765   \n\n        accelerometerZ  magnetometerX  magnetometerY  magnetometerZ  \\\n0            -0.969983      21.420044      53.591324       2.733963   \n1            -0.924478      23.530613      53.310005       1.810471   \n2            -0.948428      23.530613      53.310005       1.810471   \n3            -0.893342      23.530613      53.310005       1.810471   \n4            -0.943638      23.530613      53.310005       1.810471   \n...                ...            ...            ...            ...   \n161498       -0.404758       5.451108      48.720260      11.101120   \n161499       -0.447869       5.451108      48.720260      11.101120   \n161500       -0.447869       5.451108      48.720260      11.101120   \n161501       -0.385598       5.451108      48.720260      11.101120   \n161502       -0.514929       5.451108      48.720260      11.101120   \n\n        gyroscopeX  gyroscopeY  gyroscopeZ           labelPhone labelActivity  \n0        -0.010355    0.001449   -0.006866  insidethepantpocket       sitting  \n1        -0.010887    0.002514   -0.006333  insidethepantpocket       sitting  \n2        -0.013550    0.005710   -0.007398  insidethepantpocket       sitting  \n3        -0.001833    0.005177    0.002722  insidethepantpocket       sitting  \n4        -0.014616    0.001981   -0.002605  insidethepantpocket       sitting  \n...            ...         ...         ...                  ...           ...  \n161498    0.218677    1.072039   -0.101142  insidethepantpocket       sitting  \n161499    0.218677    1.072039   -0.101142  insidethepantpocket       sitting  \n161500    0.225601    1.057126   -0.113925  insidethepantpocket       sitting  \n161501    0.235721    1.026233   -0.126708  insidethepantpocket       sitting  \n161502    0.234124    0.997471   -0.136295  insidethepantpocket       sitting  \n\n[161503 rows x 12 columns]",
      "text/html": "<div>\n<style scoped>\n    .dataframe tbody tr th:only-of-type {\n        vertical-align: middle;\n    }\n\n    .dataframe tbody tr th {\n        vertical-align: top;\n    }\n\n    .dataframe thead th {\n        text-align: right;\n    }\n</style>\n<table border=\"1\" class=\"dataframe\">\n  <thead>\n    <tr style=\"text-align: right;\">\n      <th></th>\n      <th>date</th>\n      <th>accelerometerX</th>\n      <th>accelerometerY</th>\n      <th>accelerometerZ</th>\n      <th>magnetometerX</th>\n      <th>magnetometerY</th>\n      <th>magnetometerZ</th>\n      <th>gyroscopeX</th>\n      <th>gyroscopeY</th>\n      <th>gyroscopeZ</th>\n      <th>labelPhone</th>\n      <th>labelActivity</th>\n    </tr>\n  </thead>\n  <tbody>\n    <tr>\n      <th>0</th>\n      <td>2022-06-07 16:46:41.995000+02:00</td>\n      <td>0.040715</td>\n      <td>-9.606423</td>\n      <td>-0.969983</td>\n      <td>21.420044</td>\n      <td>53.591324</td>\n      <td>2.733963</td>\n      <td>-0.010355</td>\n      <td>0.001449</td>\n      <td>-0.006866</td>\n      <td>insidethepantpocket</td>\n      <td>sitting</td>\n    </tr>\n    <tr>\n      <th>1</th>\n      <td>2022-06-07 16:46:42+02:00</td>\n      <td>-0.026345</td>\n      <td>-9.630374</td>\n      <td>-0.924478</td>\n      <td>23.530613</td>\n      <td>53.310005</td>\n      <td>1.810471</td>\n      <td>-0.010887</td>\n      <td>0.002514</td>\n      <td>-0.006333</td>\n      <td>insidethepantpocket</td>\n      <td>sitting</td>\n    </tr>\n    <tr>\n      <th>2</th>\n      <td>2022-06-07 16:46:42.002000+02:00</td>\n      <td>0.055085</td>\n      <td>-9.544153</td>\n      <td>-0.948428</td>\n      <td>23.530613</td>\n      <td>53.310005</td>\n      <td>1.810471</td>\n      <td>-0.013550</td>\n      <td>0.005710</td>\n      <td>-0.007398</td>\n      <td>insidethepantpocket</td>\n      <td>sitting</td>\n    </tr>\n    <tr>\n      <th>3</th>\n      <td>2022-06-07 16:46:42.004000+02:00</td>\n      <td>0.014370</td>\n      <td>-9.623189</td>\n      <td>-0.893342</td>\n      <td>23.530613</td>\n      <td>53.310005</td>\n      <td>1.810471</td>\n      <td>-0.001833</td>\n      <td>0.005177</td>\n      <td>0.002722</td>\n      <td>insidethepantpocket</td>\n      <td>sitting</td>\n    </tr>\n    <tr>\n      <th>4</th>\n      <td>2022-06-07 16:46:42.007000+02:00</td>\n      <td>0.052690</td>\n      <td>-9.508228</td>\n      <td>-0.943638</td>\n      <td>23.530613</td>\n      <td>53.310005</td>\n      <td>1.810471</td>\n      <td>-0.014616</td>\n      <td>0.001981</td>\n      <td>-0.002605</td>\n      <td>insidethepantpocket</td>\n      <td>sitting</td>\n    </tr>\n    <tr>\n      <th>...</th>\n      <td>...</td>\n      <td>...</td>\n      <td>...</td>\n      <td>...</td>\n      <td>...</td>\n      <td>...</td>\n      <td>...</td>\n      <td>...</td>\n      <td>...</td>\n      <td>...</td>\n      <td>...</td>\n      <td>...</td>\n    </tr>\n    <tr>\n      <th>161498</th>\n      <td>2022-06-07 16:51:43.789000+02:00</td>\n      <td>2.605781</td>\n      <td>-9.328602</td>\n      <td>-0.404758</td>\n      <td>5.451108</td>\n      <td>48.720260</td>\n      <td>11.101120</td>\n      <td>0.218677</td>\n      <td>1.072039</td>\n      <td>-0.101142</td>\n      <td>insidethepantpocket</td>\n      <td>sitting</td>\n    </tr>\n    <tr>\n      <th>161499</th>\n      <td>2022-06-07 16:51:43.790000+02:00</td>\n      <td>2.725532</td>\n      <td>-9.249566</td>\n      <td>-0.447869</td>\n      <td>5.451108</td>\n      <td>48.720260</td>\n      <td>11.101120</td>\n      <td>0.218677</td>\n      <td>1.072039</td>\n      <td>-0.101142</td>\n      <td>insidethepantpocket</td>\n      <td>sitting</td>\n    </tr>\n    <tr>\n      <th>161500</th>\n      <td>2022-06-07 16:51:43.792000+02:00</td>\n      <td>2.725532</td>\n      <td>-9.249566</td>\n      <td>-0.447869</td>\n      <td>5.451108</td>\n      <td>48.720260</td>\n      <td>11.101120</td>\n      <td>0.225601</td>\n      <td>1.057126</td>\n      <td>-0.113925</td>\n      <td>insidethepantpocket</td>\n      <td>sitting</td>\n    </tr>\n    <tr>\n      <th>161501</th>\n      <td>2022-06-07 16:51:43.793000+02:00</td>\n      <td>2.680027</td>\n      <td>-9.261541</td>\n      <td>-0.385598</td>\n      <td>5.451108</td>\n      <td>48.720260</td>\n      <td>11.101120</td>\n      <td>0.235721</td>\n      <td>1.026233</td>\n      <td>-0.126708</td>\n      <td>insidethepantpocket</td>\n      <td>sitting</td>\n    </tr>\n    <tr>\n      <th>161502</th>\n      <td>2022-06-07 16:51:43.795000+02:00</td>\n      <td>2.627337</td>\n      <td>-9.153765</td>\n      <td>-0.514929</td>\n      <td>5.451108</td>\n      <td>48.720260</td>\n      <td>11.101120</td>\n      <td>0.234124</td>\n      <td>0.997471</td>\n      <td>-0.136295</td>\n      <td>insidethepantpocket</td>\n      <td>sitting</td>\n    </tr>\n  </tbody>\n</table>\n<p>161503 rows × 12 columns</p>\n</div>"
     },
     "execution_count": 72,
     "metadata": {},
     "output_type": "execute_result"
    }
   ],
   "source": [
    "data_df['date'] = pandas.to_datetime(data_df['date'], format='%d %b %Y %H:%M:%S:%f %z')\n",
    "data_df"
   ],
   "metadata": {
    "collapsed": false,
    "pycharm": {
     "name": "#%%\n"
    }
   }
  },
  {
   "cell_type": "code",
   "execution_count": 73,
   "outputs": [
    {
     "data": {
      "text/plain": "                                   date  accelerometerX  accelerometerY  \\\n0      2022-06-07 16:46:41.995000+02:00        0.040715       -9.606423   \n1             2022-06-07 16:46:42+02:00       -0.026345       -9.630374   \n2      2022-06-07 16:46:42.002000+02:00        0.055085       -9.544153   \n3      2022-06-07 16:46:42.004000+02:00        0.014370       -9.623189   \n4      2022-06-07 16:46:42.007000+02:00        0.052690       -9.508228   \n...                                 ...             ...             ...   \n161498 2022-06-07 16:51:43.789000+02:00        2.605781       -9.328602   \n161499 2022-06-07 16:51:43.790000+02:00        2.725532       -9.249566   \n161500 2022-06-07 16:51:43.792000+02:00        2.725532       -9.249566   \n161501 2022-06-07 16:51:43.793000+02:00        2.680027       -9.261541   \n161502 2022-06-07 16:51:43.795000+02:00        2.627337       -9.153765   \n\n        accelerometerZ  magnetometerX  magnetometerY  magnetometerZ  \\\n0            -0.969983      21.420044      53.591324       2.733963   \n1            -0.924478      23.530613      53.310005       1.810471   \n2            -0.948428      23.530613      53.310005       1.810471   \n3            -0.893342      23.530613      53.310005       1.810471   \n4            -0.943638      23.530613      53.310005       1.810471   \n...                ...            ...            ...            ...   \n161498       -0.404758       5.451108      48.720260      11.101120   \n161499       -0.447869       5.451108      48.720260      11.101120   \n161500       -0.447869       5.451108      48.720260      11.101120   \n161501       -0.385598       5.451108      48.720260      11.101120   \n161502       -0.514929       5.451108      48.720260      11.101120   \n\n        gyroscopeX  gyroscopeY  gyroscopeZ           labelPhone labelActivity  \\\n0        -0.010355    0.001449   -0.006866  insidethepantpocket       sitting   \n1        -0.010887    0.002514   -0.006333  insidethepantpocket       sitting   \n2        -0.013550    0.005710   -0.007398  insidethepantpocket       sitting   \n3        -0.001833    0.005177    0.002722  insidethepantpocket       sitting   \n4        -0.014616    0.001981   -0.002605  insidethepantpocket       sitting   \n...            ...         ...         ...                  ...           ...   \n161498    0.218677    1.072039   -0.101142  insidethepantpocket       sitting   \n161499    0.218677    1.072039   -0.101142  insidethepantpocket       sitting   \n161500    0.225601    1.057126   -0.113925  insidethepantpocket       sitting   \n161501    0.235721    1.026233   -0.126708  insidethepantpocket       sitting   \n161502    0.234124    0.997471   -0.136295  insidethepantpocket       sitting   \n\n        isStep  \n0        False  \n1        False  \n2        False  \n3        False  \n4        False  \n...        ...  \n161498   False  \n161499   False  \n161500   False  \n161501   False  \n161502   False  \n\n[161503 rows x 13 columns]",
      "text/html": "<div>\n<style scoped>\n    .dataframe tbody tr th:only-of-type {\n        vertical-align: middle;\n    }\n\n    .dataframe tbody tr th {\n        vertical-align: top;\n    }\n\n    .dataframe thead th {\n        text-align: right;\n    }\n</style>\n<table border=\"1\" class=\"dataframe\">\n  <thead>\n    <tr style=\"text-align: right;\">\n      <th></th>\n      <th>date</th>\n      <th>accelerometerX</th>\n      <th>accelerometerY</th>\n      <th>accelerometerZ</th>\n      <th>magnetometerX</th>\n      <th>magnetometerY</th>\n      <th>magnetometerZ</th>\n      <th>gyroscopeX</th>\n      <th>gyroscopeY</th>\n      <th>gyroscopeZ</th>\n      <th>labelPhone</th>\n      <th>labelActivity</th>\n      <th>isStep</th>\n    </tr>\n  </thead>\n  <tbody>\n    <tr>\n      <th>0</th>\n      <td>2022-06-07 16:46:41.995000+02:00</td>\n      <td>0.040715</td>\n      <td>-9.606423</td>\n      <td>-0.969983</td>\n      <td>21.420044</td>\n      <td>53.591324</td>\n      <td>2.733963</td>\n      <td>-0.010355</td>\n      <td>0.001449</td>\n      <td>-0.006866</td>\n      <td>insidethepantpocket</td>\n      <td>sitting</td>\n      <td>False</td>\n    </tr>\n    <tr>\n      <th>1</th>\n      <td>2022-06-07 16:46:42+02:00</td>\n      <td>-0.026345</td>\n      <td>-9.630374</td>\n      <td>-0.924478</td>\n      <td>23.530613</td>\n      <td>53.310005</td>\n      <td>1.810471</td>\n      <td>-0.010887</td>\n      <td>0.002514</td>\n      <td>-0.006333</td>\n      <td>insidethepantpocket</td>\n      <td>sitting</td>\n      <td>False</td>\n    </tr>\n    <tr>\n      <th>2</th>\n      <td>2022-06-07 16:46:42.002000+02:00</td>\n      <td>0.055085</td>\n      <td>-9.544153</td>\n      <td>-0.948428</td>\n      <td>23.530613</td>\n      <td>53.310005</td>\n      <td>1.810471</td>\n      <td>-0.013550</td>\n      <td>0.005710</td>\n      <td>-0.007398</td>\n      <td>insidethepantpocket</td>\n      <td>sitting</td>\n      <td>False</td>\n    </tr>\n    <tr>\n      <th>3</th>\n      <td>2022-06-07 16:46:42.004000+02:00</td>\n      <td>0.014370</td>\n      <td>-9.623189</td>\n      <td>-0.893342</td>\n      <td>23.530613</td>\n      <td>53.310005</td>\n      <td>1.810471</td>\n      <td>-0.001833</td>\n      <td>0.005177</td>\n      <td>0.002722</td>\n      <td>insidethepantpocket</td>\n      <td>sitting</td>\n      <td>False</td>\n    </tr>\n    <tr>\n      <th>4</th>\n      <td>2022-06-07 16:46:42.007000+02:00</td>\n      <td>0.052690</td>\n      <td>-9.508228</td>\n      <td>-0.943638</td>\n      <td>23.530613</td>\n      <td>53.310005</td>\n      <td>1.810471</td>\n      <td>-0.014616</td>\n      <td>0.001981</td>\n      <td>-0.002605</td>\n      <td>insidethepantpocket</td>\n      <td>sitting</td>\n      <td>False</td>\n    </tr>\n    <tr>\n      <th>...</th>\n      <td>...</td>\n      <td>...</td>\n      <td>...</td>\n      <td>...</td>\n      <td>...</td>\n      <td>...</td>\n      <td>...</td>\n      <td>...</td>\n      <td>...</td>\n      <td>...</td>\n      <td>...</td>\n      <td>...</td>\n      <td>...</td>\n    </tr>\n    <tr>\n      <th>161498</th>\n      <td>2022-06-07 16:51:43.789000+02:00</td>\n      <td>2.605781</td>\n      <td>-9.328602</td>\n      <td>-0.404758</td>\n      <td>5.451108</td>\n      <td>48.720260</td>\n      <td>11.101120</td>\n      <td>0.218677</td>\n      <td>1.072039</td>\n      <td>-0.101142</td>\n      <td>insidethepantpocket</td>\n      <td>sitting</td>\n      <td>False</td>\n    </tr>\n    <tr>\n      <th>161499</th>\n      <td>2022-06-07 16:51:43.790000+02:00</td>\n      <td>2.725532</td>\n      <td>-9.249566</td>\n      <td>-0.447869</td>\n      <td>5.451108</td>\n      <td>48.720260</td>\n      <td>11.101120</td>\n      <td>0.218677</td>\n      <td>1.072039</td>\n      <td>-0.101142</td>\n      <td>insidethepantpocket</td>\n      <td>sitting</td>\n      <td>False</td>\n    </tr>\n    <tr>\n      <th>161500</th>\n      <td>2022-06-07 16:51:43.792000+02:00</td>\n      <td>2.725532</td>\n      <td>-9.249566</td>\n      <td>-0.447869</td>\n      <td>5.451108</td>\n      <td>48.720260</td>\n      <td>11.101120</td>\n      <td>0.225601</td>\n      <td>1.057126</td>\n      <td>-0.113925</td>\n      <td>insidethepantpocket</td>\n      <td>sitting</td>\n      <td>False</td>\n    </tr>\n    <tr>\n      <th>161501</th>\n      <td>2022-06-07 16:51:43.793000+02:00</td>\n      <td>2.680027</td>\n      <td>-9.261541</td>\n      <td>-0.385598</td>\n      <td>5.451108</td>\n      <td>48.720260</td>\n      <td>11.101120</td>\n      <td>0.235721</td>\n      <td>1.026233</td>\n      <td>-0.126708</td>\n      <td>insidethepantpocket</td>\n      <td>sitting</td>\n      <td>False</td>\n    </tr>\n    <tr>\n      <th>161502</th>\n      <td>2022-06-07 16:51:43.795000+02:00</td>\n      <td>2.627337</td>\n      <td>-9.153765</td>\n      <td>-0.514929</td>\n      <td>5.451108</td>\n      <td>48.720260</td>\n      <td>11.101120</td>\n      <td>0.234124</td>\n      <td>0.997471</td>\n      <td>-0.136295</td>\n      <td>insidethepantpocket</td>\n      <td>sitting</td>\n      <td>False</td>\n    </tr>\n  </tbody>\n</table>\n<p>161503 rows × 13 columns</p>\n</div>"
     },
     "execution_count": 73,
     "metadata": {},
     "output_type": "execute_result"
    }
   ],
   "source": [
    "step_index = 0\n",
    "date_index = 0\n",
    "date_index_set = set()\n",
    "\n",
    "i = 0\n",
    "while i < len(data_df['date']):\n",
    "    current_step_date = step_dates[step_index]\n",
    "    date = data_df['date'][i]\n",
    "\n",
    "    delta = date - current_step_date\n",
    "    if delta.total_seconds() < 0:\n",
    "        i += 1\n",
    "        continue\n",
    "\n",
    "    if delta.microseconds > 5000:\n",
    "        step_index += 1\n",
    "        if step_index == len(step_dates):\n",
    "            break\n",
    "        continue\n",
    "\n",
    "    date_index_set.add(i)\n",
    "\n",
    "    i += 1\n",
    "\n",
    "is_step_series = []\n",
    "for j in range(data_df.shape[0]):\n",
    "    is_step_series.append(j in date_index_set)\n",
    "data_df[\"isStep\"] = is_step_series\n",
    "data_df"
   ],
   "metadata": {
    "collapsed": false,
    "pycharm": {
     "name": "#%%\n"
    }
   }
  },
  {
   "cell_type": "markdown",
   "source": [
    "# Data Annotator"
   ],
   "metadata": {
    "collapsed": false,
    "pycharm": {
     "name": "#%% md\n"
    }
   }
  },
  {
   "cell_type": "code",
   "execution_count": 78,
   "outputs": [],
   "source": [
    "window_index = 0\n",
    "window_length = 10\n",
    "added_index = []"
   ],
   "metadata": {
    "collapsed": false,
    "pycharm": {
     "name": "#%%\n"
    }
   }
  },
  {
   "cell_type": "code",
   "execution_count": 137,
   "outputs": [
    {
     "name": "stdout",
     "output_type": "stream",
     "text": [
      "Plotting title: Starting at the second of 290 to 300\n"
     ]
    },
    {
     "data": {
      "text/plain": "<IPython.core.display.Javascript object>",
      "application/javascript": "/* Put everything inside the global mpl namespace */\n/* global mpl */\nwindow.mpl = {};\n\nmpl.get_websocket_type = function () {\n    if (typeof WebSocket !== 'undefined') {\n        return WebSocket;\n    } else if (typeof MozWebSocket !== 'undefined') {\n        return MozWebSocket;\n    } else {\n        alert(\n            'Your browser does not have WebSocket support. ' +\n                'Please try Chrome, Safari or Firefox ≥ 6. ' +\n                'Firefox 4 and 5 are also supported but you ' +\n                'have to enable WebSockets in about:config.'\n        );\n    }\n};\n\nmpl.figure = function (figure_id, websocket, ondownload, parent_element) {\n    this.id = figure_id;\n\n    this.ws = websocket;\n\n    this.supports_binary = this.ws.binaryType !== undefined;\n\n    if (!this.supports_binary) {\n        var warnings = document.getElementById('mpl-warnings');\n        if (warnings) {\n            warnings.style.display = 'block';\n            warnings.textContent =\n                'This browser does not support binary websocket messages. ' +\n                'Performance may be slow.';\n        }\n    }\n\n    this.imageObj = new Image();\n\n    this.context = undefined;\n    this.message = undefined;\n    this.canvas = undefined;\n    this.rubberband_canvas = undefined;\n    this.rubberband_context = undefined;\n    this.format_dropdown = undefined;\n\n    this.image_mode = 'full';\n\n    this.root = document.createElement('div');\n    this.root.setAttribute('style', 'display: inline-block');\n    this._root_extra_style(this.root);\n\n    parent_element.appendChild(this.root);\n\n    this._init_header(this);\n    this._init_canvas(this);\n    this._init_toolbar(this);\n\n    var fig = this;\n\n    this.waiting = false;\n\n    this.ws.onopen = function () {\n        fig.send_message('supports_binary', { value: fig.supports_binary });\n        fig.send_message('send_image_mode', {});\n        if (fig.ratio !== 1) {\n            fig.send_message('set_device_pixel_ratio', {\n                device_pixel_ratio: fig.ratio,\n            });\n        }\n        fig.send_message('refresh', {});\n    };\n\n    this.imageObj.onload = function () {\n        if (fig.image_mode === 'full') {\n            // Full images could contain transparency (where diff images\n            // almost always do), so we need to clear the canvas so that\n            // there is no ghosting.\n            fig.context.clearRect(0, 0, fig.canvas.width, fig.canvas.height);\n        }\n        fig.context.drawImage(fig.imageObj, 0, 0);\n    };\n\n    this.imageObj.onunload = function () {\n        fig.ws.close();\n    };\n\n    this.ws.onmessage = this._make_on_message_function(this);\n\n    this.ondownload = ondownload;\n};\n\nmpl.figure.prototype._init_header = function () {\n    var titlebar = document.createElement('div');\n    titlebar.classList =\n        'ui-dialog-titlebar ui-widget-header ui-corner-all ui-helper-clearfix';\n    var titletext = document.createElement('div');\n    titletext.classList = 'ui-dialog-title';\n    titletext.setAttribute(\n        'style',\n        'width: 100%; text-align: center; padding: 3px;'\n    );\n    titlebar.appendChild(titletext);\n    this.root.appendChild(titlebar);\n    this.header = titletext;\n};\n\nmpl.figure.prototype._canvas_extra_style = function (_canvas_div) {};\n\nmpl.figure.prototype._root_extra_style = function (_canvas_div) {};\n\nmpl.figure.prototype._init_canvas = function () {\n    var fig = this;\n\n    var canvas_div = (this.canvas_div = document.createElement('div'));\n    canvas_div.setAttribute(\n        'style',\n        'border: 1px solid #ddd;' +\n            'box-sizing: content-box;' +\n            'clear: both;' +\n            'min-height: 1px;' +\n            'min-width: 1px;' +\n            'outline: 0;' +\n            'overflow: hidden;' +\n            'position: relative;' +\n            'resize: both;'\n    );\n\n    function on_keyboard_event_closure(name) {\n        return function (event) {\n            return fig.key_event(event, name);\n        };\n    }\n\n    canvas_div.addEventListener(\n        'keydown',\n        on_keyboard_event_closure('key_press')\n    );\n    canvas_div.addEventListener(\n        'keyup',\n        on_keyboard_event_closure('key_release')\n    );\n\n    this._canvas_extra_style(canvas_div);\n    this.root.appendChild(canvas_div);\n\n    var canvas = (this.canvas = document.createElement('canvas'));\n    canvas.classList.add('mpl-canvas');\n    canvas.setAttribute('style', 'box-sizing: content-box;');\n\n    this.context = canvas.getContext('2d');\n\n    var backingStore =\n        this.context.backingStorePixelRatio ||\n        this.context.webkitBackingStorePixelRatio ||\n        this.context.mozBackingStorePixelRatio ||\n        this.context.msBackingStorePixelRatio ||\n        this.context.oBackingStorePixelRatio ||\n        this.context.backingStorePixelRatio ||\n        1;\n\n    this.ratio = (window.devicePixelRatio || 1) / backingStore;\n\n    var rubberband_canvas = (this.rubberband_canvas = document.createElement(\n        'canvas'\n    ));\n    rubberband_canvas.setAttribute(\n        'style',\n        'box-sizing: content-box; position: absolute; left: 0; top: 0; z-index: 1;'\n    );\n\n    // Apply a ponyfill if ResizeObserver is not implemented by browser.\n    if (this.ResizeObserver === undefined) {\n        if (window.ResizeObserver !== undefined) {\n            this.ResizeObserver = window.ResizeObserver;\n        } else {\n            var obs = _JSXTOOLS_RESIZE_OBSERVER({});\n            this.ResizeObserver = obs.ResizeObserver;\n        }\n    }\n\n    this.resizeObserverInstance = new this.ResizeObserver(function (entries) {\n        var nentries = entries.length;\n        for (var i = 0; i < nentries; i++) {\n            var entry = entries[i];\n            var width, height;\n            if (entry.contentBoxSize) {\n                if (entry.contentBoxSize instanceof Array) {\n                    // Chrome 84 implements new version of spec.\n                    width = entry.contentBoxSize[0].inlineSize;\n                    height = entry.contentBoxSize[0].blockSize;\n                } else {\n                    // Firefox implements old version of spec.\n                    width = entry.contentBoxSize.inlineSize;\n                    height = entry.contentBoxSize.blockSize;\n                }\n            } else {\n                // Chrome <84 implements even older version of spec.\n                width = entry.contentRect.width;\n                height = entry.contentRect.height;\n            }\n\n            // Keep the size of the canvas and rubber band canvas in sync with\n            // the canvas container.\n            if (entry.devicePixelContentBoxSize) {\n                // Chrome 84 implements new version of spec.\n                canvas.setAttribute(\n                    'width',\n                    entry.devicePixelContentBoxSize[0].inlineSize\n                );\n                canvas.setAttribute(\n                    'height',\n                    entry.devicePixelContentBoxSize[0].blockSize\n                );\n            } else {\n                canvas.setAttribute('width', width * fig.ratio);\n                canvas.setAttribute('height', height * fig.ratio);\n            }\n            canvas.setAttribute(\n                'style',\n                'width: ' + width + 'px; height: ' + height + 'px;'\n            );\n\n            rubberband_canvas.setAttribute('width', width);\n            rubberband_canvas.setAttribute('height', height);\n\n            // And update the size in Python. We ignore the initial 0/0 size\n            // that occurs as the element is placed into the DOM, which should\n            // otherwise not happen due to the minimum size styling.\n            if (fig.ws.readyState == 1 && width != 0 && height != 0) {\n                fig.request_resize(width, height);\n            }\n        }\n    });\n    this.resizeObserverInstance.observe(canvas_div);\n\n    function on_mouse_event_closure(name) {\n        return function (event) {\n            return fig.mouse_event(event, name);\n        };\n    }\n\n    rubberband_canvas.addEventListener(\n        'mousedown',\n        on_mouse_event_closure('button_press')\n    );\n    rubberband_canvas.addEventListener(\n        'mouseup',\n        on_mouse_event_closure('button_release')\n    );\n    rubberband_canvas.addEventListener(\n        'dblclick',\n        on_mouse_event_closure('dblclick')\n    );\n    // Throttle sequential mouse events to 1 every 20ms.\n    rubberband_canvas.addEventListener(\n        'mousemove',\n        on_mouse_event_closure('motion_notify')\n    );\n\n    rubberband_canvas.addEventListener(\n        'mouseenter',\n        on_mouse_event_closure('figure_enter')\n    );\n    rubberband_canvas.addEventListener(\n        'mouseleave',\n        on_mouse_event_closure('figure_leave')\n    );\n\n    canvas_div.addEventListener('wheel', function (event) {\n        if (event.deltaY < 0) {\n            event.step = 1;\n        } else {\n            event.step = -1;\n        }\n        on_mouse_event_closure('scroll')(event);\n    });\n\n    canvas_div.appendChild(canvas);\n    canvas_div.appendChild(rubberband_canvas);\n\n    this.rubberband_context = rubberband_canvas.getContext('2d');\n    this.rubberband_context.strokeStyle = '#000000';\n\n    this._resize_canvas = function (width, height, forward) {\n        if (forward) {\n            canvas_div.style.width = width + 'px';\n            canvas_div.style.height = height + 'px';\n        }\n    };\n\n    // Disable right mouse context menu.\n    this.rubberband_canvas.addEventListener('contextmenu', function (_e) {\n        event.preventDefault();\n        return false;\n    });\n\n    function set_focus() {\n        canvas.focus();\n        canvas_div.focus();\n    }\n\n    window.setTimeout(set_focus, 100);\n};\n\nmpl.figure.prototype._init_toolbar = function () {\n    var fig = this;\n\n    var toolbar = document.createElement('div');\n    toolbar.classList = 'mpl-toolbar';\n    this.root.appendChild(toolbar);\n\n    function on_click_closure(name) {\n        return function (_event) {\n            return fig.toolbar_button_onclick(name);\n        };\n    }\n\n    function on_mouseover_closure(tooltip) {\n        return function (event) {\n            if (!event.currentTarget.disabled) {\n                return fig.toolbar_button_onmouseover(tooltip);\n            }\n        };\n    }\n\n    fig.buttons = {};\n    var buttonGroup = document.createElement('div');\n    buttonGroup.classList = 'mpl-button-group';\n    for (var toolbar_ind in mpl.toolbar_items) {\n        var name = mpl.toolbar_items[toolbar_ind][0];\n        var tooltip = mpl.toolbar_items[toolbar_ind][1];\n        var image = mpl.toolbar_items[toolbar_ind][2];\n        var method_name = mpl.toolbar_items[toolbar_ind][3];\n\n        if (!name) {\n            /* Instead of a spacer, we start a new button group. */\n            if (buttonGroup.hasChildNodes()) {\n                toolbar.appendChild(buttonGroup);\n            }\n            buttonGroup = document.createElement('div');\n            buttonGroup.classList = 'mpl-button-group';\n            continue;\n        }\n\n        var button = (fig.buttons[name] = document.createElement('button'));\n        button.classList = 'mpl-widget';\n        button.setAttribute('role', 'button');\n        button.setAttribute('aria-disabled', 'false');\n        button.addEventListener('click', on_click_closure(method_name));\n        button.addEventListener('mouseover', on_mouseover_closure(tooltip));\n\n        var icon_img = document.createElement('img');\n        icon_img.src = '_images/' + image + '.png';\n        icon_img.srcset = '_images/' + image + '_large.png 2x';\n        icon_img.alt = tooltip;\n        button.appendChild(icon_img);\n\n        buttonGroup.appendChild(button);\n    }\n\n    if (buttonGroup.hasChildNodes()) {\n        toolbar.appendChild(buttonGroup);\n    }\n\n    var fmt_picker = document.createElement('select');\n    fmt_picker.classList = 'mpl-widget';\n    toolbar.appendChild(fmt_picker);\n    this.format_dropdown = fmt_picker;\n\n    for (var ind in mpl.extensions) {\n        var fmt = mpl.extensions[ind];\n        var option = document.createElement('option');\n        option.selected = fmt === mpl.default_extension;\n        option.innerHTML = fmt;\n        fmt_picker.appendChild(option);\n    }\n\n    var status_bar = document.createElement('span');\n    status_bar.classList = 'mpl-message';\n    toolbar.appendChild(status_bar);\n    this.message = status_bar;\n};\n\nmpl.figure.prototype.request_resize = function (x_pixels, y_pixels) {\n    // Request matplotlib to resize the figure. Matplotlib will then trigger a resize in the client,\n    // which will in turn request a refresh of the image.\n    this.send_message('resize', { width: x_pixels, height: y_pixels });\n};\n\nmpl.figure.prototype.send_message = function (type, properties) {\n    properties['type'] = type;\n    properties['figure_id'] = this.id;\n    this.ws.send(JSON.stringify(properties));\n};\n\nmpl.figure.prototype.send_draw_message = function () {\n    if (!this.waiting) {\n        this.waiting = true;\n        this.ws.send(JSON.stringify({ type: 'draw', figure_id: this.id }));\n    }\n};\n\nmpl.figure.prototype.handle_save = function (fig, _msg) {\n    var format_dropdown = fig.format_dropdown;\n    var format = format_dropdown.options[format_dropdown.selectedIndex].value;\n    fig.ondownload(fig, format);\n};\n\nmpl.figure.prototype.handle_resize = function (fig, msg) {\n    var size = msg['size'];\n    if (size[0] !== fig.canvas.width || size[1] !== fig.canvas.height) {\n        fig._resize_canvas(size[0], size[1], msg['forward']);\n        fig.send_message('refresh', {});\n    }\n};\n\nmpl.figure.prototype.handle_rubberband = function (fig, msg) {\n    var x0 = msg['x0'] / fig.ratio;\n    var y0 = (fig.canvas.height - msg['y0']) / fig.ratio;\n    var x1 = msg['x1'] / fig.ratio;\n    var y1 = (fig.canvas.height - msg['y1']) / fig.ratio;\n    x0 = Math.floor(x0) + 0.5;\n    y0 = Math.floor(y0) + 0.5;\n    x1 = Math.floor(x1) + 0.5;\n    y1 = Math.floor(y1) + 0.5;\n    var min_x = Math.min(x0, x1);\n    var min_y = Math.min(y0, y1);\n    var width = Math.abs(x1 - x0);\n    var height = Math.abs(y1 - y0);\n\n    fig.rubberband_context.clearRect(\n        0,\n        0,\n        fig.canvas.width / fig.ratio,\n        fig.canvas.height / fig.ratio\n    );\n\n    fig.rubberband_context.strokeRect(min_x, min_y, width, height);\n};\n\nmpl.figure.prototype.handle_figure_label = function (fig, msg) {\n    // Updates the figure title.\n    fig.header.textContent = msg['label'];\n};\n\nmpl.figure.prototype.handle_cursor = function (fig, msg) {\n    fig.rubberband_canvas.style.cursor = msg['cursor'];\n};\n\nmpl.figure.prototype.handle_message = function (fig, msg) {\n    fig.message.textContent = msg['message'];\n};\n\nmpl.figure.prototype.handle_draw = function (fig, _msg) {\n    // Request the server to send over a new figure.\n    fig.send_draw_message();\n};\n\nmpl.figure.prototype.handle_image_mode = function (fig, msg) {\n    fig.image_mode = msg['mode'];\n};\n\nmpl.figure.prototype.handle_history_buttons = function (fig, msg) {\n    for (var key in msg) {\n        if (!(key in fig.buttons)) {\n            continue;\n        }\n        fig.buttons[key].disabled = !msg[key];\n        fig.buttons[key].setAttribute('aria-disabled', !msg[key]);\n    }\n};\n\nmpl.figure.prototype.handle_navigate_mode = function (fig, msg) {\n    if (msg['mode'] === 'PAN') {\n        fig.buttons['Pan'].classList.add('active');\n        fig.buttons['Zoom'].classList.remove('active');\n    } else if (msg['mode'] === 'ZOOM') {\n        fig.buttons['Pan'].classList.remove('active');\n        fig.buttons['Zoom'].classList.add('active');\n    } else {\n        fig.buttons['Pan'].classList.remove('active');\n        fig.buttons['Zoom'].classList.remove('active');\n    }\n};\n\nmpl.figure.prototype.updated_canvas_event = function () {\n    // Called whenever the canvas gets updated.\n    this.send_message('ack', {});\n};\n\n// A function to construct a web socket function for onmessage handling.\n// Called in the figure constructor.\nmpl.figure.prototype._make_on_message_function = function (fig) {\n    return function socket_on_message(evt) {\n        if (evt.data instanceof Blob) {\n            var img = evt.data;\n            if (img.type !== 'image/png') {\n                /* FIXME: We get \"Resource interpreted as Image but\n                 * transferred with MIME type text/plain:\" errors on\n                 * Chrome.  But how to set the MIME type?  It doesn't seem\n                 * to be part of the websocket stream */\n                img.type = 'image/png';\n            }\n\n            /* Free the memory for the previous frames */\n            if (fig.imageObj.src) {\n                (window.URL || window.webkitURL).revokeObjectURL(\n                    fig.imageObj.src\n                );\n            }\n\n            fig.imageObj.src = (window.URL || window.webkitURL).createObjectURL(\n                img\n            );\n            fig.updated_canvas_event();\n            fig.waiting = false;\n            return;\n        } else if (\n            typeof evt.data === 'string' &&\n            evt.data.slice(0, 21) === 'data:image/png;base64'\n        ) {\n            fig.imageObj.src = evt.data;\n            fig.updated_canvas_event();\n            fig.waiting = false;\n            return;\n        }\n\n        var msg = JSON.parse(evt.data);\n        var msg_type = msg['type'];\n\n        // Call the  \"handle_{type}\" callback, which takes\n        // the figure and JSON message as its only arguments.\n        try {\n            var callback = fig['handle_' + msg_type];\n        } catch (e) {\n            console.log(\n                \"No handler for the '\" + msg_type + \"' message type: \",\n                msg\n            );\n            return;\n        }\n\n        if (callback) {\n            try {\n                // console.log(\"Handling '\" + msg_type + \"' message: \", msg);\n                callback(fig, msg);\n            } catch (e) {\n                console.log(\n                    \"Exception inside the 'handler_\" + msg_type + \"' callback:\",\n                    e,\n                    e.stack,\n                    msg\n                );\n            }\n        }\n    };\n};\n\n// from https://stackoverflow.com/questions/1114465/getting-mouse-location-in-canvas\nmpl.findpos = function (e) {\n    //this section is from http://www.quirksmode.org/js/events_properties.html\n    var targ;\n    if (!e) {\n        e = window.event;\n    }\n    if (e.target) {\n        targ = e.target;\n    } else if (e.srcElement) {\n        targ = e.srcElement;\n    }\n    if (targ.nodeType === 3) {\n        // defeat Safari bug\n        targ = targ.parentNode;\n    }\n\n    // pageX,Y are the mouse positions relative to the document\n    var boundingRect = targ.getBoundingClientRect();\n    var x = e.pageX - (boundingRect.left + document.body.scrollLeft);\n    var y = e.pageY - (boundingRect.top + document.body.scrollTop);\n\n    return { x: x, y: y };\n};\n\n/*\n * return a copy of an object with only non-object keys\n * we need this to avoid circular references\n * https://stackoverflow.com/a/24161582/3208463\n */\nfunction simpleKeys(original) {\n    return Object.keys(original).reduce(function (obj, key) {\n        if (typeof original[key] !== 'object') {\n            obj[key] = original[key];\n        }\n        return obj;\n    }, {});\n}\n\nmpl.figure.prototype.mouse_event = function (event, name) {\n    var canvas_pos = mpl.findpos(event);\n\n    if (name === 'button_press') {\n        this.canvas.focus();\n        this.canvas_div.focus();\n    }\n\n    var x = canvas_pos.x * this.ratio;\n    var y = canvas_pos.y * this.ratio;\n\n    this.send_message(name, {\n        x: x,\n        y: y,\n        button: event.button,\n        step: event.step,\n        guiEvent: simpleKeys(event),\n    });\n\n    /* This prevents the web browser from automatically changing to\n     * the text insertion cursor when the button is pressed.  We want\n     * to control all of the cursor setting manually through the\n     * 'cursor' event from matplotlib */\n    event.preventDefault();\n    return false;\n};\n\nmpl.figure.prototype._key_event_extra = function (_event, _name) {\n    // Handle any extra behaviour associated with a key event\n};\n\nmpl.figure.prototype.key_event = function (event, name) {\n    // Prevent repeat events\n    if (name === 'key_press') {\n        if (event.key === this._key) {\n            return;\n        } else {\n            this._key = event.key;\n        }\n    }\n    if (name === 'key_release') {\n        this._key = null;\n    }\n\n    var value = '';\n    if (event.ctrlKey && event.key !== 'Control') {\n        value += 'ctrl+';\n    }\n    else if (event.altKey && event.key !== 'Alt') {\n        value += 'alt+';\n    }\n    else if (event.shiftKey && event.key !== 'Shift') {\n        value += 'shift+';\n    }\n\n    value += 'k' + event.key;\n\n    this._key_event_extra(event, name);\n\n    this.send_message(name, { key: value, guiEvent: simpleKeys(event) });\n    return false;\n};\n\nmpl.figure.prototype.toolbar_button_onclick = function (name) {\n    if (name === 'download') {\n        this.handle_save(this, null);\n    } else {\n        this.send_message('toolbar_button', { name: name });\n    }\n};\n\nmpl.figure.prototype.toolbar_button_onmouseover = function (tooltip) {\n    this.message.textContent = tooltip;\n};\n\n///////////////// REMAINING CONTENT GENERATED BY embed_js.py /////////////////\n// prettier-ignore\nvar _JSXTOOLS_RESIZE_OBSERVER=function(A){var t,i=new WeakMap,n=new WeakMap,a=new WeakMap,r=new WeakMap,o=new Set;function s(e){if(!(this instanceof s))throw new TypeError(\"Constructor requires 'new' operator\");i.set(this,e)}function h(){throw new TypeError(\"Function is not a constructor\")}function c(e,t,i,n){e=0 in arguments?Number(arguments[0]):0,t=1 in arguments?Number(arguments[1]):0,i=2 in arguments?Number(arguments[2]):0,n=3 in arguments?Number(arguments[3]):0,this.right=(this.x=this.left=e)+(this.width=i),this.bottom=(this.y=this.top=t)+(this.height=n),Object.freeze(this)}function d(){t=requestAnimationFrame(d);var s=new WeakMap,p=new Set;o.forEach((function(t){r.get(t).forEach((function(i){var r=t instanceof window.SVGElement,o=a.get(t),d=r?0:parseFloat(o.paddingTop),f=r?0:parseFloat(o.paddingRight),l=r?0:parseFloat(o.paddingBottom),u=r?0:parseFloat(o.paddingLeft),g=r?0:parseFloat(o.borderTopWidth),m=r?0:parseFloat(o.borderRightWidth),w=r?0:parseFloat(o.borderBottomWidth),b=u+f,F=d+l,v=(r?0:parseFloat(o.borderLeftWidth))+m,W=g+w,y=r?0:t.offsetHeight-W-t.clientHeight,E=r?0:t.offsetWidth-v-t.clientWidth,R=b+v,z=F+W,M=r?t.width:parseFloat(o.width)-R-E,O=r?t.height:parseFloat(o.height)-z-y;if(n.has(t)){var k=n.get(t);if(k[0]===M&&k[1]===O)return}n.set(t,[M,O]);var S=Object.create(h.prototype);S.target=t,S.contentRect=new c(u,d,M,O),s.has(i)||(s.set(i,[]),p.add(i)),s.get(i).push(S)}))})),p.forEach((function(e){i.get(e).call(e,s.get(e),e)}))}return s.prototype.observe=function(i){if(i instanceof window.Element){r.has(i)||(r.set(i,new Set),o.add(i),a.set(i,window.getComputedStyle(i)));var n=r.get(i);n.has(this)||n.add(this),cancelAnimationFrame(t),t=requestAnimationFrame(d)}},s.prototype.unobserve=function(i){if(i instanceof window.Element&&r.has(i)){var n=r.get(i);n.has(this)&&(n.delete(this),n.size||(r.delete(i),o.delete(i))),n.size||r.delete(i),o.size||cancelAnimationFrame(t)}},A.DOMRectReadOnly=c,A.ResizeObserver=s,A.ResizeObserverEntry=h,A}; // eslint-disable-line\nmpl.toolbar_items = [[\"Home\", \"Reset original view\", \"fa fa-home icon-home\", \"home\"], [\"Back\", \"Back to previous view\", \"fa fa-arrow-left icon-arrow-left\", \"back\"], [\"Forward\", \"Forward to next view\", \"fa fa-arrow-right icon-arrow-right\", \"forward\"], [\"\", \"\", \"\", \"\"], [\"Pan\", \"Left button pans, Right button zooms\\nx/y fixes axis, CTRL fixes aspect\", \"fa fa-arrows icon-move\", \"pan\"], [\"Zoom\", \"Zoom to rectangle\\nx/y fixes axis\", \"fa fa-square-o icon-check-empty\", \"zoom\"], [\"\", \"\", \"\", \"\"], [\"Download\", \"Download plot\", \"fa fa-floppy-o icon-save\", \"download\"]];\n\nmpl.extensions = [\"eps\", \"jpeg\", \"pgf\", \"pdf\", \"png\", \"ps\", \"raw\", \"svg\", \"tif\"];\n\nmpl.default_extension = \"png\";/* global mpl */\n\nvar comm_websocket_adapter = function (comm) {\n    // Create a \"websocket\"-like object which calls the given IPython comm\n    // object with the appropriate methods. Currently this is a non binary\n    // socket, so there is still some room for performance tuning.\n    var ws = {};\n\n    ws.binaryType = comm.kernel.ws.binaryType;\n    ws.readyState = comm.kernel.ws.readyState;\n    function updateReadyState(_event) {\n        if (comm.kernel.ws) {\n            ws.readyState = comm.kernel.ws.readyState;\n        } else {\n            ws.readyState = 3; // Closed state.\n        }\n    }\n    comm.kernel.ws.addEventListener('open', updateReadyState);\n    comm.kernel.ws.addEventListener('close', updateReadyState);\n    comm.kernel.ws.addEventListener('error', updateReadyState);\n\n    ws.close = function () {\n        comm.close();\n    };\n    ws.send = function (m) {\n        //console.log('sending', m);\n        comm.send(m);\n    };\n    // Register the callback with on_msg.\n    comm.on_msg(function (msg) {\n        //console.log('receiving', msg['content']['data'], msg);\n        var data = msg['content']['data'];\n        if (data['blob'] !== undefined) {\n            data = {\n                data: new Blob(msg['buffers'], { type: data['blob'] }),\n            };\n        }\n        // Pass the mpl event to the overridden (by mpl) onmessage function.\n        ws.onmessage(data);\n    });\n    return ws;\n};\n\nmpl.mpl_figure_comm = function (comm, msg) {\n    // This is the function which gets called when the mpl process\n    // starts-up an IPython Comm through the \"matplotlib\" channel.\n\n    var id = msg.content.data.id;\n    // Get hold of the div created by the display call when the Comm\n    // socket was opened in Python.\n    var element = document.getElementById(id);\n    var ws_proxy = comm_websocket_adapter(comm);\n\n    function ondownload(figure, _format) {\n        window.open(figure.canvas.toDataURL());\n    }\n\n    var fig = new mpl.figure(id, ws_proxy, ondownload, element);\n\n    // Call onopen now - mpl needs it, as it is assuming we've passed it a real\n    // web socket which is closed, not our websocket->open comm proxy.\n    ws_proxy.onopen();\n\n    fig.parent_element = element;\n    fig.cell_info = mpl.find_output_cell(\"<div id='\" + id + \"'></div>\");\n    if (!fig.cell_info) {\n        console.error('Failed to find cell for figure', id, fig);\n        return;\n    }\n    fig.cell_info[0].output_area.element.on(\n        'cleared',\n        { fig: fig },\n        fig._remove_fig_handler\n    );\n};\n\nmpl.figure.prototype.handle_close = function (fig, msg) {\n    var width = fig.canvas.width / fig.ratio;\n    fig.cell_info[0].output_area.element.off(\n        'cleared',\n        fig._remove_fig_handler\n    );\n    fig.resizeObserverInstance.unobserve(fig.canvas_div);\n\n    // Update the output cell to use the data from the current canvas.\n    fig.push_to_output();\n    var dataURL = fig.canvas.toDataURL();\n    // Re-enable the keyboard manager in IPython - without this line, in FF,\n    // the notebook keyboard shortcuts fail.\n    IPython.keyboard_manager.enable();\n    fig.parent_element.innerHTML =\n        '<img src=\"' + dataURL + '\" width=\"' + width + '\">';\n    fig.close_ws(fig, msg);\n};\n\nmpl.figure.prototype.close_ws = function (fig, msg) {\n    fig.send_message('closing', msg);\n    // fig.ws.close()\n};\n\nmpl.figure.prototype.push_to_output = function (_remove_interactive) {\n    // Turn the data on the canvas into data in the output cell.\n    var width = this.canvas.width / this.ratio;\n    var dataURL = this.canvas.toDataURL();\n    this.cell_info[1]['text/html'] =\n        '<img src=\"' + dataURL + '\" width=\"' + width + '\">';\n};\n\nmpl.figure.prototype.updated_canvas_event = function () {\n    // Tell IPython that the notebook contents must change.\n    IPython.notebook.set_dirty(true);\n    this.send_message('ack', {});\n    var fig = this;\n    // Wait a second, then push the new image to the DOM so\n    // that it is saved nicely (might be nice to debounce this).\n    setTimeout(function () {\n        fig.push_to_output();\n    }, 1000);\n};\n\nmpl.figure.prototype._init_toolbar = function () {\n    var fig = this;\n\n    var toolbar = document.createElement('div');\n    toolbar.classList = 'btn-toolbar';\n    this.root.appendChild(toolbar);\n\n    function on_click_closure(name) {\n        return function (_event) {\n            return fig.toolbar_button_onclick(name);\n        };\n    }\n\n    function on_mouseover_closure(tooltip) {\n        return function (event) {\n            if (!event.currentTarget.disabled) {\n                return fig.toolbar_button_onmouseover(tooltip);\n            }\n        };\n    }\n\n    fig.buttons = {};\n    var buttonGroup = document.createElement('div');\n    buttonGroup.classList = 'btn-group';\n    var button;\n    for (var toolbar_ind in mpl.toolbar_items) {\n        var name = mpl.toolbar_items[toolbar_ind][0];\n        var tooltip = mpl.toolbar_items[toolbar_ind][1];\n        var image = mpl.toolbar_items[toolbar_ind][2];\n        var method_name = mpl.toolbar_items[toolbar_ind][3];\n\n        if (!name) {\n            /* Instead of a spacer, we start a new button group. */\n            if (buttonGroup.hasChildNodes()) {\n                toolbar.appendChild(buttonGroup);\n            }\n            buttonGroup = document.createElement('div');\n            buttonGroup.classList = 'btn-group';\n            continue;\n        }\n\n        button = fig.buttons[name] = document.createElement('button');\n        button.classList = 'btn btn-default';\n        button.href = '#';\n        button.title = name;\n        button.innerHTML = '<i class=\"fa ' + image + ' fa-lg\"></i>';\n        button.addEventListener('click', on_click_closure(method_name));\n        button.addEventListener('mouseover', on_mouseover_closure(tooltip));\n        buttonGroup.appendChild(button);\n    }\n\n    if (buttonGroup.hasChildNodes()) {\n        toolbar.appendChild(buttonGroup);\n    }\n\n    // Add the status bar.\n    var status_bar = document.createElement('span');\n    status_bar.classList = 'mpl-message pull-right';\n    toolbar.appendChild(status_bar);\n    this.message = status_bar;\n\n    // Add the close button to the window.\n    var buttongrp = document.createElement('div');\n    buttongrp.classList = 'btn-group inline pull-right';\n    button = document.createElement('button');\n    button.classList = 'btn btn-mini btn-primary';\n    button.href = '#';\n    button.title = 'Stop Interaction';\n    button.innerHTML = '<i class=\"fa fa-power-off icon-remove icon-large\"></i>';\n    button.addEventListener('click', function (_evt) {\n        fig.handle_close(fig, {});\n    });\n    button.addEventListener(\n        'mouseover',\n        on_mouseover_closure('Stop Interaction')\n    );\n    buttongrp.appendChild(button);\n    var titlebar = this.root.querySelector('.ui-dialog-titlebar');\n    titlebar.insertBefore(buttongrp, titlebar.firstChild);\n};\n\nmpl.figure.prototype._remove_fig_handler = function (event) {\n    var fig = event.data.fig;\n    if (event.target !== this) {\n        // Ignore bubbled events from children.\n        return;\n    }\n    fig.close_ws(fig, {});\n};\n\nmpl.figure.prototype._root_extra_style = function (el) {\n    el.style.boxSizing = 'content-box'; // override notebook setting of border-box.\n};\n\nmpl.figure.prototype._canvas_extra_style = function (el) {\n    // this is important to make the div 'focusable\n    el.setAttribute('tabindex', 0);\n    // reach out to IPython and tell the keyboard manager to turn it's self\n    // off when our div gets focus\n\n    // location in version 3\n    if (IPython.notebook.keyboard_manager) {\n        IPython.notebook.keyboard_manager.register_events(el);\n    } else {\n        // location in version 2\n        IPython.keyboard_manager.register_events(el);\n    }\n};\n\nmpl.figure.prototype._key_event_extra = function (event, _name) {\n    // Check for shift+enter\n    if (event.shiftKey && event.which === 13) {\n        this.canvas_div.blur();\n        // select the cell after this one\n        var index = IPython.notebook.find_cell_index(this.cell_info[0]);\n        IPython.notebook.select(index + 1);\n    }\n};\n\nmpl.figure.prototype.handle_save = function (fig, _msg) {\n    fig.ondownload(fig, null);\n};\n\nmpl.find_output_cell = function (html_output) {\n    // Return the cell and output element which can be found *uniquely* in the notebook.\n    // Note - this is a bit hacky, but it is done because the \"notebook_saving.Notebook\"\n    // IPython event is triggered only after the cells have been serialised, which for\n    // our purposes (turning an active figure into a static one), is too late.\n    var cells = IPython.notebook.get_cells();\n    var ncells = cells.length;\n    for (var i = 0; i < ncells; i++) {\n        var cell = cells[i];\n        if (cell.cell_type === 'code') {\n            for (var j = 0; j < cell.output_area.outputs.length; j++) {\n                var data = cell.output_area.outputs[j];\n                if (data.data) {\n                    // IPython >= 3 moved mimebundle to data attribute of output\n                    data = data.data;\n                }\n                if (data['text/html'] === html_output) {\n                    return [cell, data, j];\n                }\n            }\n        }\n    }\n};\n\n// Register the function which deals with the matplotlib target/channel.\n// The kernel may be null if the page has been refreshed.\nif (IPython.notebook.kernel !== null) {\n    IPython.notebook.kernel.comm_manager.register_target(\n        'matplotlib',\n        mpl.mpl_figure_comm\n    );\n}\n"
     },
     "metadata": {},
     "output_type": "display_data"
    },
    {
     "data": {
      "text/plain": "<IPython.core.display.HTML object>",
      "text/html": "<div id='2200ba8d-e50d-411b-b6f3-36b340de0009'></div>"
     },
     "metadata": {},
     "output_type": "display_data"
    }
   ],
   "source": [
    "plt.close()\n",
    "\n",
    "plt.rcParams[\"figure.figsize\"] = (14.4, 9.9) #(14.4, 9.9)  # (12, 8.25)\n",
    "features = acc_features + gyro_features\n",
    "title = \"Starting at the second of \" + str(window_index * window_length) + \" to \" + str(\n",
    "    (window_index + 1) * window_length)\n",
    "print(\"Plotting title: \" + title)\n",
    "\n",
    "start_index = window_index * window_length * rows_per_second\n",
    "end_index = min((window_index + 1) * window_length * rows_per_second, data_df.shape[0])\n",
    "plot_df = data_df[start_index:end_index]\n",
    "plot_df = plot_df[features]\n",
    "\n",
    "plot_start_index = plot_df.index[0]\n",
    "plot_end_index = plot_df.index[plot_df.shape[0] - 1]\n",
    "plot_step_date_set = set()\n",
    "for step_date_index in date_index_set:\n",
    "    if plot_end_index > step_date_index > plot_start_index:\n",
    "        plot_step_date_set.add(step_date_index)\n",
    "\n",
    "fig, axs = plt.subplots(len(features))\n",
    "klicker_list = []\n",
    "for feature_ind in range(len(features)):\n",
    "    feature = features[feature_ind]\n",
    "    axs[feature_ind].plot(plot_df[feature])\n",
    "    axs[feature_ind].set_title(feature, y=0, loc='right', size=7)\n",
    "    for step_id in plot_step_date_set:\n",
    "        axs[feature_ind].axvline(x=step_id, color='r', linestyle='dotted')\n",
    "    klicker = clicker(axs[feature_ind], [\"event\"], markers=[\"x\"])\n",
    "    klicker_list.append(klicker)\n",
    "plt.show()"
   ],
   "metadata": {
    "collapsed": false,
    "pycharm": {
     "name": "#%%\n"
    }
   }
  },
  {
   "cell_type": "code",
   "execution_count": 138,
   "outputs": [
    {
     "name": "stdout",
     "output_type": "stream",
     "text": [
      "Added index list: [0, 1, 2, 3, 4, 5, 6, 7, 8, 9, 10, 11, 12, 13, 14, 15, 16, 17, 18, 19, 20, 21, 22, 23, 24, 25, 26, 27, 28, 29]\n",
      "Step date index list: [4794, 5218, 5651, 6134, 6489, 6818, 7168, 7528, 7889, 8196, 8536, 8976, 9320, 9665, 9978, 10312, 10651, 11026, 11360, 11620, 17297, 17668, 18023, 18389, 18696, 19057, 19391, 19752, 20112, 20473, 20854, 21220, 21569, 21961, 22242, 22624, 23016, 23403, 23732, 24145, 24479, 24919, 25211, 25625, 25937, 26298, 26738, 27124, 27516, 27908, 28359, 28757, 29165, 39262, 39676, 40100, 40439, 40853, 41219, 41568, 41934, 42369, 42730, 43158, 43555, 43921, 44324, 44711, 45119, 45459, 45893, 46270, 46620, 47044, 47457, 47813, 48216, 48575, 48994, 49391, 49799, 50149, 50552, 50923, 51310, 51676, 52053, 52440, 52822, 53193, 53569, 53949, 54305, 54676, 55052, 55429, 55800, 56197, 56579, 56945, 57321, 57682, 58042, 58461, 58822, 59207, 59616, 67281, 67636, 68050, 68426, 68813, 69195, 69577, 69957, 70307, 70651, 71028, 71404, 71770, 72147, 72491, 72852, 73239, 73599, 73970, 74331, 74691, 75137, 75501, 75872, 76270, 76652, 77012, 77489, 77914, 78338, 78767, 79197, 79615, 80034, 80379, 80754, 81120, 89628, 89973, 90418, 90794, 91192, 91540, 91890, 92230, 92627, 92977, 93322, 93656, 94048, 94441, 94806, 95151, 95538, 95872, 96275, 96630, 97011, 97392, 97785, 98124, 98490, 98872, 99243, 99603, 100064, 100452, 100839, 101178, 101554, 101947, 102332, 102666, 103016, 103424, 103817, 104183, 104501, 104861, 105248, 105625, 105975, 106293, 106664, 107014, 107449, 113437, 113888, 114328, 114736, 115112, 115478, 115870, 116231, 116655, 117047, 117445, 117843, 118246, 118626, 118976, 119347, 119724, 120095, 120476, 120810, 121235, 121600, 121982, 122332, 122730, 123127, 123504, 123842, 124208, 124542, 124934, 125278, 125602, 125962, 126376, 126721, 127102, 127436, 127834, 128163, 128571, 128974, 129375, 129747, 130112, 130462, 130833, 131258, 131613, 131995, 132371, 132737, 133113, 133479, 133866, 134243, 134596, 134957, 135339, 135726, 136097, 136489, 136850, 137210, 137603, 137958, 138345, 138727, 139092, 139490, 139851, 140199, 140618, 140989, 141371, 141715, 142087, 142447, 142813, 143158, 143571, 143947, 144350, 144711, 145103, 145494, 145897, 146284, 146698, 147101, 147488, 147843, 148230, 148580, 149009, 149386, 149783, 159239, 159419, 159822, 160204, 160554, 160952, 161386]\n"
     ]
    }
   ],
   "source": [
    "added_index.append(window_index)\n",
    "window_index += 1\n",
    "for klicker in klicker_list:\n",
    "    for position in klicker.get_positions()['event']:\n",
    "        step_date_index_list.append(int(position[0]))\n",
    "print(\"Added index list: \" + str(added_index))\n",
    "print(\"Step date index list: \" + str(step_date_index_list))"
   ],
   "metadata": {
    "collapsed": false,
    "pycharm": {
     "name": "#%%\n"
    }
   }
  },
  {
   "cell_type": "code",
   "execution_count": 139,
   "outputs": [],
   "source": [
    "################ ONLY RUN THIS AFTER LABELING DONE"
   ],
   "metadata": {
    "collapsed": false,
    "pycharm": {
     "name": "#%%\n"
    }
   }
  },
  {
   "cell_type": "code",
   "execution_count": 140,
   "outputs": [
    {
     "name": "stdout",
     "output_type": "stream",
     "text": [
      "Written to  pp1_steptracking.csv\n"
     ]
    }
   ],
   "source": [
    "written_file = file_code + \"_steptracking.csv\"\n",
    "f = open(str(get_project_root()) + \"/temp/\" + written_file, \"x\")\n",
    "for date_index in step_date_index_list:\n",
    "    date_str = str(data_df['date'][date_index])\n",
    "    f.write(date_str + \"\\n\")\n",
    "f.close()\n",
    "print(\"Written to \", written_file)"
   ],
   "metadata": {
    "collapsed": false,
    "pycharm": {
     "name": "#%%\n"
    }
   }
  },
  {
   "cell_type": "code",
   "execution_count": null,
   "outputs": [],
   "source": [],
   "metadata": {
    "collapsed": false,
    "pycharm": {
     "name": "#%%\n"
    }
   }
  }
 ],
 "metadata": {
  "kernelspec": {
   "display_name": "Python 3",
   "language": "python",
   "name": "python3"
  },
  "language_info": {
   "codemirror_mode": {
    "name": "ipython",
    "version": 2
   },
   "file_extension": ".py",
   "mimetype": "text/x-python",
   "name": "python",
   "nbconvert_exporter": "python",
   "pygments_lexer": "ipython2",
   "version": "2.7.6"
  }
 },
 "nbformat": 4,
 "nbformat_minor": 0
}