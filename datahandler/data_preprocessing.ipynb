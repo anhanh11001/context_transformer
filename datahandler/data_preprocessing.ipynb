{
 "cells": [
  {
   "cell_type": "markdown",
   "source": [
    "# Data Preprocessing\n",
    "\n",
    "This Jupyter demonstrates different method of manipulating the data before training"
   ],
   "metadata": {
    "collapsed": false,
    "pycharm": {
     "name": "#%% md\n"
    }
   }
  },
  {
   "cell_type": "code",
   "execution_count": 1,
   "outputs": [],
   "source": [
    "#Imports\n",
    "import math\n",
    "\n",
    "import pandas as pd\n",
    "import numpy as np\n",
    "import matplotlib.pyplot as plt\n",
    "import os\n",
    "from constants import *\n",
    "from data_loader import load_data_from_file\n",
    "from datetime import timedelta\n",
    "from sklearn.preprocessing import StandardScaler, Normalizer\n",
    "from sklearn.decomposition import PCA\n",
    "from utils import print_line_divider\n",
    "\n",
    "# from datahandler.constants import all_features, data_version, acc_features, tensorboard_dir, location_labels\n"
   ],
   "metadata": {
    "collapsed": false,
    "pycharm": {
     "name": "#%%\n"
    }
   }
  },
  {
   "cell_type": "code",
   "execution_count": 2,
   "outputs": [],
   "source": [
    "test_file_path = os.path.join(train_folder, \"op1_datacollection.csv\")\n",
    "window_length_in_seconds = 1\n",
    "window_size = 20"
   ],
   "metadata": {
    "collapsed": false,
    "pycharm": {
     "name": "#%%\n"
    }
   }
  },
  {
   "cell_type": "code",
   "execution_count": 3,
   "outputs": [
    {
     "data": {
      "text/plain": "                                  accelerometerX  accelerometerY  \\\ndate                                                               \n2022-05-24 15:31:22.641000+02:00       -0.483794        5.170847   \n2022-05-24 15:31:22.648000+02:00       -0.464634        5.144502   \n2022-05-24 15:31:22.652000+02:00       -0.567620        5.192402   \n2022-05-24 15:31:22.657000+02:00       -0.598755        5.283413   \n2022-05-24 15:31:22.678000+02:00       -0.222737        5.501360   \n...                                          ...             ...   \n2022-05-24 15:36:24.268000+02:00       -0.605940        7.082073   \n2022-05-24 15:36:24.270000+02:00       -0.605940        7.082073   \n2022-05-24 15:36:24.271000+02:00       -0.519719        6.986272   \n2022-05-24 15:36:24.272000+02:00       -0.443079        6.852151   \n2022-05-24 15:36:24.273000+02:00       -0.299377        6.789881   \n\n                                  accelerometerZ  magnetometerX  \\\ndate                                                              \n2022-05-24 15:31:22.641000+02:00        7.762258      193.24768   \n2022-05-24 15:31:22.648000+02:00        7.618557      193.24768   \n2022-05-24 15:31:22.652000+02:00        7.539522      193.34616   \n2022-05-24 15:31:22.657000+02:00        7.403006      193.34616   \n2022-05-24 15:31:22.678000+02:00        6.849756      193.47401   \n...                                          ...            ...   \n2022-05-24 15:36:24.268000+02:00        8.042476      182.12231   \n2022-05-24 15:36:24.270000+02:00        8.042476      182.12231   \n2022-05-24 15:36:24.271000+02:00        8.301138      183.10033   \n2022-05-24 15:36:24.272000+02:00        8.672366      183.10033   \n2022-05-24 15:36:24.273000+02:00        8.720266      183.10033   \n\n                                  magnetometerY  magnetometerZ  gyroscopeX  \\\ndate                                                                         \n2022-05-24 15:31:22.641000+02:00     -48.899918     118.240080   -0.173468   \n2022-05-24 15:31:22.648000+02:00     -48.899918     118.240080   -0.095703   \n2022-05-24 15:31:22.652000+02:00     -49.615753     120.270350   -0.073333   \n2022-05-24 15:31:22.657000+02:00     -49.615753     120.270350   -0.035516   \n2022-05-24 15:31:22.678000+02:00     -48.607376     120.840996    0.018280   \n...                                         ...            ...         ...   \n2022-05-24 15:36:24.268000+02:00     -29.269182     109.225770   -0.414750   \n2022-05-24 15:36:24.270000+02:00     -29.269182     109.225770   -0.449371   \n2022-05-24 15:36:24.271000+02:00     -30.274485     109.563500   -0.449371   \n2022-05-24 15:36:24.272000+02:00     -30.274485     109.563500   -0.476535   \n2022-05-24 15:36:24.273000+02:00     -30.274485     109.563500   -0.500504   \n\n                                  gyroscopeY  gyroscopeZ       labelPhone  \\\ndate                                                                        \n2022-05-24 15:31:22.641000+02:00    0.031127   -0.269560  beingusedinhand   \n2022-05-24 15:31:22.648000+02:00   -0.018408   -0.229080  beingusedinhand   \n2022-05-24 15:31:22.652000+02:00   -0.049833   -0.217362  beingusedinhand   \n2022-05-24 15:31:22.657000+02:00   -0.116945   -0.183806  beingusedinhand   \n2022-05-24 15:31:22.678000+02:00   -0.285257   -0.095922  beingusedinhand   \n...                                      ...         ...              ...   \n2022-05-24 15:36:24.268000+02:00   -0.445046   -0.087933  beingusedinhand   \n2022-05-24 15:36:24.270000+02:00   -0.474874   -0.105510  beingusedinhand   \n2022-05-24 15:36:24.271000+02:00   -0.474874   -0.105510  beingusedinhand   \n2022-05-24 15:36:24.272000+02:00   -0.521745   -0.131608  beingusedinhand   \n2022-05-24 15:36:24.273000+02:00   -0.546779   -0.149185  beingusedinhand   \n\n                                 labelActivity  \ndate                                            \n2022-05-24 15:31:22.641000+02:00       walking  \n2022-05-24 15:31:22.648000+02:00       walking  \n2022-05-24 15:31:22.652000+02:00       walking  \n2022-05-24 15:31:22.657000+02:00       walking  \n2022-05-24 15:31:22.678000+02:00       walking  \n...                                        ...  \n2022-05-24 15:36:24.268000+02:00       walking  \n2022-05-24 15:36:24.270000+02:00       walking  \n2022-05-24 15:36:24.271000+02:00       walking  \n2022-05-24 15:36:24.272000+02:00       walking  \n2022-05-24 15:36:24.273000+02:00       walking  \n\n[165069 rows x 11 columns]",
      "text/html": "<div>\n<style scoped>\n    .dataframe tbody tr th:only-of-type {\n        vertical-align: middle;\n    }\n\n    .dataframe tbody tr th {\n        vertical-align: top;\n    }\n\n    .dataframe thead th {\n        text-align: right;\n    }\n</style>\n<table border=\"1\" class=\"dataframe\">\n  <thead>\n    <tr style=\"text-align: right;\">\n      <th></th>\n      <th>accelerometerX</th>\n      <th>accelerometerY</th>\n      <th>accelerometerZ</th>\n      <th>magnetometerX</th>\n      <th>magnetometerY</th>\n      <th>magnetometerZ</th>\n      <th>gyroscopeX</th>\n      <th>gyroscopeY</th>\n      <th>gyroscopeZ</th>\n      <th>labelPhone</th>\n      <th>labelActivity</th>\n    </tr>\n    <tr>\n      <th>date</th>\n      <th></th>\n      <th></th>\n      <th></th>\n      <th></th>\n      <th></th>\n      <th></th>\n      <th></th>\n      <th></th>\n      <th></th>\n      <th></th>\n      <th></th>\n    </tr>\n  </thead>\n  <tbody>\n    <tr>\n      <th>2022-05-24 15:31:22.641000+02:00</th>\n      <td>-0.483794</td>\n      <td>5.170847</td>\n      <td>7.762258</td>\n      <td>193.24768</td>\n      <td>-48.899918</td>\n      <td>118.240080</td>\n      <td>-0.173468</td>\n      <td>0.031127</td>\n      <td>-0.269560</td>\n      <td>beingusedinhand</td>\n      <td>walking</td>\n    </tr>\n    <tr>\n      <th>2022-05-24 15:31:22.648000+02:00</th>\n      <td>-0.464634</td>\n      <td>5.144502</td>\n      <td>7.618557</td>\n      <td>193.24768</td>\n      <td>-48.899918</td>\n      <td>118.240080</td>\n      <td>-0.095703</td>\n      <td>-0.018408</td>\n      <td>-0.229080</td>\n      <td>beingusedinhand</td>\n      <td>walking</td>\n    </tr>\n    <tr>\n      <th>2022-05-24 15:31:22.652000+02:00</th>\n      <td>-0.567620</td>\n      <td>5.192402</td>\n      <td>7.539522</td>\n      <td>193.34616</td>\n      <td>-49.615753</td>\n      <td>120.270350</td>\n      <td>-0.073333</td>\n      <td>-0.049833</td>\n      <td>-0.217362</td>\n      <td>beingusedinhand</td>\n      <td>walking</td>\n    </tr>\n    <tr>\n      <th>2022-05-24 15:31:22.657000+02:00</th>\n      <td>-0.598755</td>\n      <td>5.283413</td>\n      <td>7.403006</td>\n      <td>193.34616</td>\n      <td>-49.615753</td>\n      <td>120.270350</td>\n      <td>-0.035516</td>\n      <td>-0.116945</td>\n      <td>-0.183806</td>\n      <td>beingusedinhand</td>\n      <td>walking</td>\n    </tr>\n    <tr>\n      <th>2022-05-24 15:31:22.678000+02:00</th>\n      <td>-0.222737</td>\n      <td>5.501360</td>\n      <td>6.849756</td>\n      <td>193.47401</td>\n      <td>-48.607376</td>\n      <td>120.840996</td>\n      <td>0.018280</td>\n      <td>-0.285257</td>\n      <td>-0.095922</td>\n      <td>beingusedinhand</td>\n      <td>walking</td>\n    </tr>\n    <tr>\n      <th>...</th>\n      <td>...</td>\n      <td>...</td>\n      <td>...</td>\n      <td>...</td>\n      <td>...</td>\n      <td>...</td>\n      <td>...</td>\n      <td>...</td>\n      <td>...</td>\n      <td>...</td>\n      <td>...</td>\n    </tr>\n    <tr>\n      <th>2022-05-24 15:36:24.268000+02:00</th>\n      <td>-0.605940</td>\n      <td>7.082073</td>\n      <td>8.042476</td>\n      <td>182.12231</td>\n      <td>-29.269182</td>\n      <td>109.225770</td>\n      <td>-0.414750</td>\n      <td>-0.445046</td>\n      <td>-0.087933</td>\n      <td>beingusedinhand</td>\n      <td>walking</td>\n    </tr>\n    <tr>\n      <th>2022-05-24 15:36:24.270000+02:00</th>\n      <td>-0.605940</td>\n      <td>7.082073</td>\n      <td>8.042476</td>\n      <td>182.12231</td>\n      <td>-29.269182</td>\n      <td>109.225770</td>\n      <td>-0.449371</td>\n      <td>-0.474874</td>\n      <td>-0.105510</td>\n      <td>beingusedinhand</td>\n      <td>walking</td>\n    </tr>\n    <tr>\n      <th>2022-05-24 15:36:24.271000+02:00</th>\n      <td>-0.519719</td>\n      <td>6.986272</td>\n      <td>8.301138</td>\n      <td>183.10033</td>\n      <td>-30.274485</td>\n      <td>109.563500</td>\n      <td>-0.449371</td>\n      <td>-0.474874</td>\n      <td>-0.105510</td>\n      <td>beingusedinhand</td>\n      <td>walking</td>\n    </tr>\n    <tr>\n      <th>2022-05-24 15:36:24.272000+02:00</th>\n      <td>-0.443079</td>\n      <td>6.852151</td>\n      <td>8.672366</td>\n      <td>183.10033</td>\n      <td>-30.274485</td>\n      <td>109.563500</td>\n      <td>-0.476535</td>\n      <td>-0.521745</td>\n      <td>-0.131608</td>\n      <td>beingusedinhand</td>\n      <td>walking</td>\n    </tr>\n    <tr>\n      <th>2022-05-24 15:36:24.273000+02:00</th>\n      <td>-0.299377</td>\n      <td>6.789881</td>\n      <td>8.720266</td>\n      <td>183.10033</td>\n      <td>-30.274485</td>\n      <td>109.563500</td>\n      <td>-0.500504</td>\n      <td>-0.546779</td>\n      <td>-0.149185</td>\n      <td>beingusedinhand</td>\n      <td>walking</td>\n    </tr>\n  </tbody>\n</table>\n<p>165069 rows × 11 columns</p>\n</div>"
     },
     "execution_count": 3,
     "metadata": {},
     "output_type": "execute_result"
    }
   ],
   "source": [
    "# Step 0: Data loading\n",
    "df = load_data_from_file(test_file_path)\n",
    "df"
   ],
   "metadata": {
    "collapsed": false,
    "pycharm": {
     "name": "#%%\n"
    }
   }
  },
  {
   "cell_type": "code",
   "execution_count": 4,
   "outputs": [
    {
     "data": {
      "text/plain": "                                  accelerometerX  accelerometerY  \\\n2022-05-24 15:31:22.691000+02:00        0.064666        5.621111   \n2022-05-24 15:31:22.741000+02:00        0.112566        6.035450   \n2022-05-24 15:31:22.791000+02:00       -0.210762        5.786367   \n2022-05-24 15:31:22.841000+02:00        0.390388        6.643784   \n2022-05-24 15:31:22.891000+02:00        0.014370        6.725215   \n...                                          ...             ...   \n2022-05-24 15:36:24.041000+02:00       -0.756826        6.861731   \n2022-05-24 15:36:24.091000+02:00       -1.037044        6.591094   \n2022-05-24 15:36:24.141000+02:00       -0.467029        7.094048   \n2022-05-24 15:36:24.191000+02:00       -0.064666        7.192244   \n2022-05-24 15:36:24.241000+02:00       -1.087339        7.249724   \n\n                                  accelerometerZ  magnetometerX  \\\n2022-05-24 15:31:22.691000+02:00        6.749166      193.47401   \n2022-05-24 15:31:22.741000+02:00        7.798184      193.61359   \n2022-05-24 15:31:22.791000+02:00        8.255632      193.97388   \n2022-05-24 15:31:22.841000+02:00        8.622070      193.95080   \n2022-05-24 15:31:22.891000+02:00        9.457932      194.85138   \n...                                          ...            ...   \n2022-05-24 15:36:24.041000+02:00        7.161109      183.85406   \n2022-05-24 15:36:24.091000+02:00        8.087981      184.47568   \n2022-05-24 15:36:24.141000+02:00        8.883128      184.34580   \n2022-05-24 15:36:24.191000+02:00       10.020762      183.71968   \n2022-05-24 15:36:24.241000+02:00        8.279583      183.60720   \n\n                                  magnetometerY  magnetometerZ  gyroscopeX  \\\n2022-05-24 15:31:22.691000+02:00     -48.607376     120.840996   -0.029124   \n2022-05-24 15:31:22.741000+02:00     -49.902206     117.832910   -0.306093   \n2022-05-24 15:31:22.791000+02:00     -49.087320     119.856590    0.122676   \n2022-05-24 15:31:22.841000+02:00     -51.130830     120.310700   -0.058419   \n2022-05-24 15:31:22.891000+02:00     -49.879868     117.881160    0.073141   \n...                                         ...            ...         ...   \n2022-05-24 15:36:24.041000+02:00     -30.071634     108.581540   -0.189447   \n2022-05-24 15:36:24.091000+02:00     -30.054789     108.317345   -0.091442   \n2022-05-24 15:36:24.141000+02:00     -30.568605     108.462090   -0.074931   \n2022-05-24 15:36:24.191000+02:00     -29.929827     109.872340    0.105632   \n2022-05-24 15:36:24.241000+02:00     -29.575865     108.998955   -0.076528   \n\n                                  gyroscopeY  gyroscopeZ       labelPhone  \\\n2022-05-24 15:31:22.691000+02:00   -0.233059   -0.082606  beingusedinhand   \n2022-05-24 15:31:22.741000+02:00    0.100902   -0.189133  beingusedinhand   \n2022-05-24 15:31:22.791000+02:00   -0.154762   -0.032539  beingusedinhand   \n2022-05-24 15:31:22.841000+02:00    0.089716    0.004745  beingusedinhand   \n2022-05-24 15:31:22.891000+02:00   -0.020006    0.056411  beingusedinhand   \n...                                      ...         ...              ...   \n2022-05-24 15:36:24.041000+02:00   -0.037583    0.065998  beingusedinhand   \n2022-05-24 15:36:24.091000+02:00   -0.096705    0.161339  beingusedinhand   \n2022-05-24 15:36:24.141000+02:00   -0.167012    0.293432  beingusedinhand   \n2022-05-24 15:36:24.191000+02:00   -0.308692    0.109141  beingusedinhand   \n2022-05-24 15:36:24.241000+02:00   -0.166480    0.026583  beingusedinhand   \n\n                                 labelActivity  \n2022-05-24 15:31:22.691000+02:00       walking  \n2022-05-24 15:31:22.741000+02:00       walking  \n2022-05-24 15:31:22.791000+02:00       walking  \n2022-05-24 15:31:22.841000+02:00       walking  \n2022-05-24 15:31:22.891000+02:00       walking  \n...                                        ...  \n2022-05-24 15:36:24.041000+02:00       walking  \n2022-05-24 15:36:24.091000+02:00       walking  \n2022-05-24 15:36:24.141000+02:00       walking  \n2022-05-24 15:36:24.191000+02:00       walking  \n2022-05-24 15:36:24.241000+02:00       walking  \n\n[6032 rows x 11 columns]",
      "text/html": "<div>\n<style scoped>\n    .dataframe tbody tr th:only-of-type {\n        vertical-align: middle;\n    }\n\n    .dataframe tbody tr th {\n        vertical-align: top;\n    }\n\n    .dataframe thead th {\n        text-align: right;\n    }\n</style>\n<table border=\"1\" class=\"dataframe\">\n  <thead>\n    <tr style=\"text-align: right;\">\n      <th></th>\n      <th>accelerometerX</th>\n      <th>accelerometerY</th>\n      <th>accelerometerZ</th>\n      <th>magnetometerX</th>\n      <th>magnetometerY</th>\n      <th>magnetometerZ</th>\n      <th>gyroscopeX</th>\n      <th>gyroscopeY</th>\n      <th>gyroscopeZ</th>\n      <th>labelPhone</th>\n      <th>labelActivity</th>\n    </tr>\n  </thead>\n  <tbody>\n    <tr>\n      <th>2022-05-24 15:31:22.691000+02:00</th>\n      <td>0.064666</td>\n      <td>5.621111</td>\n      <td>6.749166</td>\n      <td>193.47401</td>\n      <td>-48.607376</td>\n      <td>120.840996</td>\n      <td>-0.029124</td>\n      <td>-0.233059</td>\n      <td>-0.082606</td>\n      <td>beingusedinhand</td>\n      <td>walking</td>\n    </tr>\n    <tr>\n      <th>2022-05-24 15:31:22.741000+02:00</th>\n      <td>0.112566</td>\n      <td>6.035450</td>\n      <td>7.798184</td>\n      <td>193.61359</td>\n      <td>-49.902206</td>\n      <td>117.832910</td>\n      <td>-0.306093</td>\n      <td>0.100902</td>\n      <td>-0.189133</td>\n      <td>beingusedinhand</td>\n      <td>walking</td>\n    </tr>\n    <tr>\n      <th>2022-05-24 15:31:22.791000+02:00</th>\n      <td>-0.210762</td>\n      <td>5.786367</td>\n      <td>8.255632</td>\n      <td>193.97388</td>\n      <td>-49.087320</td>\n      <td>119.856590</td>\n      <td>0.122676</td>\n      <td>-0.154762</td>\n      <td>-0.032539</td>\n      <td>beingusedinhand</td>\n      <td>walking</td>\n    </tr>\n    <tr>\n      <th>2022-05-24 15:31:22.841000+02:00</th>\n      <td>0.390388</td>\n      <td>6.643784</td>\n      <td>8.622070</td>\n      <td>193.95080</td>\n      <td>-51.130830</td>\n      <td>120.310700</td>\n      <td>-0.058419</td>\n      <td>0.089716</td>\n      <td>0.004745</td>\n      <td>beingusedinhand</td>\n      <td>walking</td>\n    </tr>\n    <tr>\n      <th>2022-05-24 15:31:22.891000+02:00</th>\n      <td>0.014370</td>\n      <td>6.725215</td>\n      <td>9.457932</td>\n      <td>194.85138</td>\n      <td>-49.879868</td>\n      <td>117.881160</td>\n      <td>0.073141</td>\n      <td>-0.020006</td>\n      <td>0.056411</td>\n      <td>beingusedinhand</td>\n      <td>walking</td>\n    </tr>\n    <tr>\n      <th>...</th>\n      <td>...</td>\n      <td>...</td>\n      <td>...</td>\n      <td>...</td>\n      <td>...</td>\n      <td>...</td>\n      <td>...</td>\n      <td>...</td>\n      <td>...</td>\n      <td>...</td>\n      <td>...</td>\n    </tr>\n    <tr>\n      <th>2022-05-24 15:36:24.041000+02:00</th>\n      <td>-0.756826</td>\n      <td>6.861731</td>\n      <td>7.161109</td>\n      <td>183.85406</td>\n      <td>-30.071634</td>\n      <td>108.581540</td>\n      <td>-0.189447</td>\n      <td>-0.037583</td>\n      <td>0.065998</td>\n      <td>beingusedinhand</td>\n      <td>walking</td>\n    </tr>\n    <tr>\n      <th>2022-05-24 15:36:24.091000+02:00</th>\n      <td>-1.037044</td>\n      <td>6.591094</td>\n      <td>8.087981</td>\n      <td>184.47568</td>\n      <td>-30.054789</td>\n      <td>108.317345</td>\n      <td>-0.091442</td>\n      <td>-0.096705</td>\n      <td>0.161339</td>\n      <td>beingusedinhand</td>\n      <td>walking</td>\n    </tr>\n    <tr>\n      <th>2022-05-24 15:36:24.141000+02:00</th>\n      <td>-0.467029</td>\n      <td>7.094048</td>\n      <td>8.883128</td>\n      <td>184.34580</td>\n      <td>-30.568605</td>\n      <td>108.462090</td>\n      <td>-0.074931</td>\n      <td>-0.167012</td>\n      <td>0.293432</td>\n      <td>beingusedinhand</td>\n      <td>walking</td>\n    </tr>\n    <tr>\n      <th>2022-05-24 15:36:24.191000+02:00</th>\n      <td>-0.064666</td>\n      <td>7.192244</td>\n      <td>10.020762</td>\n      <td>183.71968</td>\n      <td>-29.929827</td>\n      <td>109.872340</td>\n      <td>0.105632</td>\n      <td>-0.308692</td>\n      <td>0.109141</td>\n      <td>beingusedinhand</td>\n      <td>walking</td>\n    </tr>\n    <tr>\n      <th>2022-05-24 15:36:24.241000+02:00</th>\n      <td>-1.087339</td>\n      <td>7.249724</td>\n      <td>8.279583</td>\n      <td>183.60720</td>\n      <td>-29.575865</td>\n      <td>108.998955</td>\n      <td>-0.076528</td>\n      <td>-0.166480</td>\n      <td>0.026583</td>\n      <td>beingusedinhand</td>\n      <td>walking</td>\n    </tr>\n  </tbody>\n</table>\n<p>6032 rows × 11 columns</p>\n</div>"
     },
     "execution_count": 4,
     "metadata": {},
     "output_type": "execute_result"
    }
   ],
   "source": [
    "# Step 1: Divide the collected data into fixed-size chunk\n",
    "fixed_size_data = []\n",
    "fixed_size_indexes = []\n",
    "\n",
    "current_timestamp = df.index[0].to_pydatetime()\n",
    "last_timestamp_raw = df.index[df.shape[0] - 1].to_pydatetime()\n",
    "current_timestamp_raw_index = 0\n",
    "one_window_length_in_millis = window_length_in_seconds * 1000 / window_size\n",
    "\n",
    "while True:\n",
    "    current_timestamp = current_timestamp + timedelta(milliseconds=one_window_length_in_millis)\n",
    "    if current_timestamp > last_timestamp_raw:\n",
    "        break\n",
    "\n",
    "    while current_timestamp_raw_index < df.shape[0] - 1:\n",
    "        next_timestamp_raw = df.index[current_timestamp_raw_index + 1].to_pydatetime()\n",
    "        if next_timestamp_raw < current_timestamp:\n",
    "            current_timestamp_raw_index += 1\n",
    "        else:\n",
    "            break\n",
    "\n",
    "    fixed_size_data.append(df.iloc[current_timestamp_raw_index])\n",
    "    fixed_size_indexes.append(current_timestamp)\n",
    "\n",
    "fixed_size_df = pd.DataFrame(\n",
    "    data=fixed_size_data,\n",
    "    index=fixed_size_indexes,\n",
    "    columns=df.columns\n",
    ")\n",
    "fixed_size_df"
   ],
   "metadata": {
    "collapsed": false,
    "pycharm": {
     "name": "#%%\n"
    }
   }
  },
  {
   "cell_type": "code",
   "execution_count": 5,
   "outputs": [],
   "source": [
    "raw_features = ['accelerometerX', 'accelerometerY', 'accelerometerZ', 'magnetometerX', 'magnetometerY', 'magnetometerZ',\n",
    "                'gyroscopeX', 'gyroscopeY', 'gyroscopeZ']"
   ],
   "metadata": {
    "collapsed": false,
    "pycharm": {
     "name": "#%%\n"
    }
   }
  },
  {
   "cell_type": "code",
   "execution_count": 6,
   "outputs": [
    {
     "data": {
      "text/plain": "                                  accelerometerX  accelerometerY  \\\n2022-05-24 15:31:22.691000+02:00        0.064666        5.621111   \n2022-05-24 15:31:22.741000+02:00        0.112566        6.035450   \n2022-05-24 15:31:22.791000+02:00       -0.210762        5.786367   \n2022-05-24 15:31:22.841000+02:00        0.390388        6.643784   \n2022-05-24 15:31:22.891000+02:00        0.014370        6.725215   \n\n                                  accelerometerZ  magnetometerX  \\\n2022-05-24 15:31:22.691000+02:00        6.749166      193.47401   \n2022-05-24 15:31:22.741000+02:00        7.798184      193.61359   \n2022-05-24 15:31:22.791000+02:00        8.255632      193.97388   \n2022-05-24 15:31:22.841000+02:00        8.622070      193.95080   \n2022-05-24 15:31:22.891000+02:00        9.457932      194.85138   \n\n                                  magnetometerY  magnetometerZ  gyroscopeX  \\\n2022-05-24 15:31:22.691000+02:00     -48.607376     120.840996   -0.029124   \n2022-05-24 15:31:22.741000+02:00     -49.902206     117.832910   -0.306093   \n2022-05-24 15:31:22.791000+02:00     -49.087320     119.856590    0.122676   \n2022-05-24 15:31:22.841000+02:00     -51.130830     120.310700   -0.058419   \n2022-05-24 15:31:22.891000+02:00     -49.879868     117.881160    0.073141   \n\n                                  gyroscopeY  gyroscopeZ       labelPhone  \\\n2022-05-24 15:31:22.691000+02:00   -0.233059   -0.082606  beingusedinhand   \n2022-05-24 15:31:22.741000+02:00    0.100902   -0.189133  beingusedinhand   \n2022-05-24 15:31:22.791000+02:00   -0.154762   -0.032539  beingusedinhand   \n2022-05-24 15:31:22.841000+02:00    0.089716    0.004745  beingusedinhand   \n2022-05-24 15:31:22.891000+02:00   -0.020006    0.056411  beingusedinhand   \n\n                                 labelActivity     accMag   gyroMag  \\\n2022-05-24 15:31:22.691000+02:00       walking   8.783639  0.248975   \n2022-05-24 15:31:22.741000+02:00       walking   9.861592  0.373691   \n2022-05-24 15:31:22.791000+02:00       walking  10.083746  0.200148   \n2022-05-24 15:31:22.841000+02:00       walking  10.891849  0.107165   \n2022-05-24 15:31:22.891000+02:00       walking  11.605223  0.094509   \n\n                                      magMag    accAng   gyroAng    magAng  \n2022-05-24 15:31:22.691000+02:00  233.232536  0.613998  2.497318  0.852982  \n2022-05-24 15:31:22.741000+02:00  232.079829  0.615500  2.225882  0.862357  \n2022-05-24 15:31:22.791000+02:00  233.240291  0.656858  1.758310  0.856176  \n2022-05-24 15:31:22.841000+02:00  233.893008  0.591869  1.375375  0.863841  \n2022-05-24 15:31:22.891000+02:00  233.133072  0.633749  0.837654  0.861961  ",
      "text/html": "<div>\n<style scoped>\n    .dataframe tbody tr th:only-of-type {\n        vertical-align: middle;\n    }\n\n    .dataframe tbody tr th {\n        vertical-align: top;\n    }\n\n    .dataframe thead th {\n        text-align: right;\n    }\n</style>\n<table border=\"1\" class=\"dataframe\">\n  <thead>\n    <tr style=\"text-align: right;\">\n      <th></th>\n      <th>accelerometerX</th>\n      <th>accelerometerY</th>\n      <th>accelerometerZ</th>\n      <th>magnetometerX</th>\n      <th>magnetometerY</th>\n      <th>magnetometerZ</th>\n      <th>gyroscopeX</th>\n      <th>gyroscopeY</th>\n      <th>gyroscopeZ</th>\n      <th>labelPhone</th>\n      <th>labelActivity</th>\n      <th>accMag</th>\n      <th>gyroMag</th>\n      <th>magMag</th>\n      <th>accAng</th>\n      <th>gyroAng</th>\n      <th>magAng</th>\n    </tr>\n  </thead>\n  <tbody>\n    <tr>\n      <th>2022-05-24 15:31:22.691000+02:00</th>\n      <td>0.064666</td>\n      <td>5.621111</td>\n      <td>6.749166</td>\n      <td>193.47401</td>\n      <td>-48.607376</td>\n      <td>120.840996</td>\n      <td>-0.029124</td>\n      <td>-0.233059</td>\n      <td>-0.082606</td>\n      <td>beingusedinhand</td>\n      <td>walking</td>\n      <td>8.783639</td>\n      <td>0.248975</td>\n      <td>233.232536</td>\n      <td>0.613998</td>\n      <td>2.497318</td>\n      <td>0.852982</td>\n    </tr>\n    <tr>\n      <th>2022-05-24 15:31:22.741000+02:00</th>\n      <td>0.112566</td>\n      <td>6.035450</td>\n      <td>7.798184</td>\n      <td>193.61359</td>\n      <td>-49.902206</td>\n      <td>117.832910</td>\n      <td>-0.306093</td>\n      <td>0.100902</td>\n      <td>-0.189133</td>\n      <td>beingusedinhand</td>\n      <td>walking</td>\n      <td>9.861592</td>\n      <td>0.373691</td>\n      <td>232.079829</td>\n      <td>0.615500</td>\n      <td>2.225882</td>\n      <td>0.862357</td>\n    </tr>\n    <tr>\n      <th>2022-05-24 15:31:22.791000+02:00</th>\n      <td>-0.210762</td>\n      <td>5.786367</td>\n      <td>8.255632</td>\n      <td>193.97388</td>\n      <td>-49.087320</td>\n      <td>119.856590</td>\n      <td>0.122676</td>\n      <td>-0.154762</td>\n      <td>-0.032539</td>\n      <td>beingusedinhand</td>\n      <td>walking</td>\n      <td>10.083746</td>\n      <td>0.200148</td>\n      <td>233.240291</td>\n      <td>0.656858</td>\n      <td>1.758310</td>\n      <td>0.856176</td>\n    </tr>\n    <tr>\n      <th>2022-05-24 15:31:22.841000+02:00</th>\n      <td>0.390388</td>\n      <td>6.643784</td>\n      <td>8.622070</td>\n      <td>193.95080</td>\n      <td>-51.130830</td>\n      <td>120.310700</td>\n      <td>-0.058419</td>\n      <td>0.089716</td>\n      <td>0.004745</td>\n      <td>beingusedinhand</td>\n      <td>walking</td>\n      <td>10.891849</td>\n      <td>0.107165</td>\n      <td>233.893008</td>\n      <td>0.591869</td>\n      <td>1.375375</td>\n      <td>0.863841</td>\n    </tr>\n    <tr>\n      <th>2022-05-24 15:31:22.891000+02:00</th>\n      <td>0.014370</td>\n      <td>6.725215</td>\n      <td>9.457932</td>\n      <td>194.85138</td>\n      <td>-49.879868</td>\n      <td>117.881160</td>\n      <td>0.073141</td>\n      <td>-0.020006</td>\n      <td>0.056411</td>\n      <td>beingusedinhand</td>\n      <td>walking</td>\n      <td>11.605223</td>\n      <td>0.094509</td>\n      <td>233.133072</td>\n      <td>0.633749</td>\n      <td>0.837654</td>\n      <td>0.861961</td>\n    </tr>\n  </tbody>\n</table>\n</div>"
     },
     "execution_count": 6,
     "metadata": {},
     "output_type": "execute_result"
    }
   ],
   "source": [
    "# Step 3: Adding extra feature - Magnitude and Angle\n",
    "added_features = [\"accMag\", \"gyroMag\", \"magMag\", \"accAng\", \"gyroAng\", \"magAng\"]\n",
    "## MAGNITUDE\n",
    "accMag = []\n",
    "gyroMag = []\n",
    "magMag = []\n",
    "for index, row in fixed_size_df.iterrows():\n",
    "    accMag.append(math.sqrt(row['accelerometerX'] ** 2 + row['accelerometerY'] ** 2 + row['accelerometerZ'] ** 2))\n",
    "    gyroMag.append(math.sqrt(row['gyroscopeX'] ** 2 + row['gyroscopeY'] ** 2 + row['gyroscopeZ'] ** 2))\n",
    "    magMag.append(math.sqrt(row['magnetometerX'] ** 2 + row['magnetometerY'] ** 2 + row['magnetometerZ'] ** 2))\n",
    "fixed_size_df[\"accMag\"] = accMag\n",
    "fixed_size_df[\"gyroMag\"] = gyroMag\n",
    "fixed_size_df[\"magMag\"] = magMag\n",
    "\n",
    "\n",
    "## ANGLE - angle from unit vector (1,1,1)\n",
    "## Formula: angle = arccos([xa * xb + ya * yb + za * zb] / (√(xa2 + ya2 + za2) * √(xb2 + yb2 + zb2))]\n",
    "def calculate_angle(input_x, input_y, input_z):\n",
    "    dividend = input_x * 1 + input_y * 1 + input_z * 1\n",
    "    divisor = math.sqrt(1 + 1 + 1) * math.sqrt(input_x ** 2 + input_y ** 2 + input_z ** 2)\n",
    "    return math.acos(dividend / divisor)\n",
    "\n",
    "\n",
    "accAng = []\n",
    "gyroAng = []\n",
    "magAng = []\n",
    "for index, row in fixed_size_df.iterrows():\n",
    "    accAng.append(calculate_angle(row[\"accelerometerX\"], row[\"accelerometerY\"], row[\"accelerometerZ\"]))\n",
    "    gyroAng.append(calculate_angle(row['gyroscopeX'], row['gyroscopeY'], row['gyroscopeZ']))\n",
    "    magAng.append(calculate_angle(row[\"magnetometerX\"], row[\"magnetometerY\"], row[\"magnetometerZ\"]))\n",
    "fixed_size_df['accAng'] = accAng\n",
    "fixed_size_df['gyroAng'] = gyroAng\n",
    "fixed_size_df['magAng'] = magAng\n",
    "\n",
    "fixed_size_df.head()"
   ],
   "metadata": {
    "collapsed": false,
    "pycharm": {
     "name": "#%%\n"
    }
   }
  },
  {
   "cell_type": "code",
   "execution_count": 7,
   "outputs": [
    {
     "data": {
      "text/plain": "   meanaccelerometerX  stdaccelerometerX  minaccelerometerX  \\\n0           -0.049337           0.549471          -1.257385   \n1            0.046703           0.708177          -1.257385   \n2            0.143342           0.636278          -0.689766   \n3            0.145497           0.677149          -1.130449   \n4            0.078916           0.659926          -1.130449   \n\n   maxaccelerometerX  meanaccelerometerY  stdaccelerometerY  \\\n0           1.341211            5.972101           0.844630   \n1           1.631008            5.777745           0.885845   \n2           1.631008            5.771997           0.642066   \n3           1.631008            6.025989           0.768714   \n4           1.631008            5.663742           0.788709   \n\n   minaccelerometerY  maxaccelerometerY  meanaccelerometerZ  \\\n0           4.196074           7.338340            8.327603   \n1           4.196074           7.338340            8.339578   \n2           4.802014           6.868917            8.020681   \n3           4.802014           7.129973            8.661589   \n4           4.802014           7.129973            8.212882   \n\n   stdaccelerometerZ  ...  maxaccAng  meangyroAng  stdgyroAng  mingyroAng  \\\n0           1.213075  ...   0.778359     1.901229    0.778735    0.434880   \n1           1.428087  ...   0.778359     2.061527    0.760651    0.434880   \n2           1.110337  ...   0.702157     2.215729    0.635894    0.677052   \n3           1.280769  ...   0.721860     1.765900    0.853068    0.206821   \n4           1.484548  ...   0.725090     1.405452    0.861323    0.206821   \n\n   maxgyroAng  meanmagAng  stdmagAng  minmagAng  maxmagAng       labelPhone  \n0    2.969028    0.860412   0.003969   0.852761   0.867262  beingusedinhand  \n1    2.969028    0.860356   0.003755   0.852761   0.867262  beingusedinhand  \n2    2.969028    0.858446   0.004345   0.848736   0.867262  beingusedinhand  \n3    2.835709    0.855757   0.006717   0.844051   0.867262  beingusedinhand  \n4    2.835709    0.850104   0.008087   0.835524   0.864769  beingusedinhand  \n\n[5 rows x 61 columns]",
      "text/html": "<div>\n<style scoped>\n    .dataframe tbody tr th:only-of-type {\n        vertical-align: middle;\n    }\n\n    .dataframe tbody tr th {\n        vertical-align: top;\n    }\n\n    .dataframe thead th {\n        text-align: right;\n    }\n</style>\n<table border=\"1\" class=\"dataframe\">\n  <thead>\n    <tr style=\"text-align: right;\">\n      <th></th>\n      <th>meanaccelerometerX</th>\n      <th>stdaccelerometerX</th>\n      <th>minaccelerometerX</th>\n      <th>maxaccelerometerX</th>\n      <th>meanaccelerometerY</th>\n      <th>stdaccelerometerY</th>\n      <th>minaccelerometerY</th>\n      <th>maxaccelerometerY</th>\n      <th>meanaccelerometerZ</th>\n      <th>stdaccelerometerZ</th>\n      <th>...</th>\n      <th>maxaccAng</th>\n      <th>meangyroAng</th>\n      <th>stdgyroAng</th>\n      <th>mingyroAng</th>\n      <th>maxgyroAng</th>\n      <th>meanmagAng</th>\n      <th>stdmagAng</th>\n      <th>minmagAng</th>\n      <th>maxmagAng</th>\n      <th>labelPhone</th>\n    </tr>\n  </thead>\n  <tbody>\n    <tr>\n      <th>0</th>\n      <td>-0.049337</td>\n      <td>0.549471</td>\n      <td>-1.257385</td>\n      <td>1.341211</td>\n      <td>5.972101</td>\n      <td>0.844630</td>\n      <td>4.196074</td>\n      <td>7.338340</td>\n      <td>8.327603</td>\n      <td>1.213075</td>\n      <td>...</td>\n      <td>0.778359</td>\n      <td>1.901229</td>\n      <td>0.778735</td>\n      <td>0.434880</td>\n      <td>2.969028</td>\n      <td>0.860412</td>\n      <td>0.003969</td>\n      <td>0.852761</td>\n      <td>0.867262</td>\n      <td>beingusedinhand</td>\n    </tr>\n    <tr>\n      <th>1</th>\n      <td>0.046703</td>\n      <td>0.708177</td>\n      <td>-1.257385</td>\n      <td>1.631008</td>\n      <td>5.777745</td>\n      <td>0.885845</td>\n      <td>4.196074</td>\n      <td>7.338340</td>\n      <td>8.339578</td>\n      <td>1.428087</td>\n      <td>...</td>\n      <td>0.778359</td>\n      <td>2.061527</td>\n      <td>0.760651</td>\n      <td>0.434880</td>\n      <td>2.969028</td>\n      <td>0.860356</td>\n      <td>0.003755</td>\n      <td>0.852761</td>\n      <td>0.867262</td>\n      <td>beingusedinhand</td>\n    </tr>\n    <tr>\n      <th>2</th>\n      <td>0.143342</td>\n      <td>0.636278</td>\n      <td>-0.689766</td>\n      <td>1.631008</td>\n      <td>5.771997</td>\n      <td>0.642066</td>\n      <td>4.802014</td>\n      <td>6.868917</td>\n      <td>8.020681</td>\n      <td>1.110337</td>\n      <td>...</td>\n      <td>0.702157</td>\n      <td>2.215729</td>\n      <td>0.635894</td>\n      <td>0.677052</td>\n      <td>2.969028</td>\n      <td>0.858446</td>\n      <td>0.004345</td>\n      <td>0.848736</td>\n      <td>0.867262</td>\n      <td>beingusedinhand</td>\n    </tr>\n    <tr>\n      <th>3</th>\n      <td>0.145497</td>\n      <td>0.677149</td>\n      <td>-1.130449</td>\n      <td>1.631008</td>\n      <td>6.025989</td>\n      <td>0.768714</td>\n      <td>4.802014</td>\n      <td>7.129973</td>\n      <td>8.661589</td>\n      <td>1.280769</td>\n      <td>...</td>\n      <td>0.721860</td>\n      <td>1.765900</td>\n      <td>0.853068</td>\n      <td>0.206821</td>\n      <td>2.835709</td>\n      <td>0.855757</td>\n      <td>0.006717</td>\n      <td>0.844051</td>\n      <td>0.867262</td>\n      <td>beingusedinhand</td>\n    </tr>\n    <tr>\n      <th>4</th>\n      <td>0.078916</td>\n      <td>0.659926</td>\n      <td>-1.130449</td>\n      <td>1.631008</td>\n      <td>5.663742</td>\n      <td>0.788709</td>\n      <td>4.802014</td>\n      <td>7.129973</td>\n      <td>8.212882</td>\n      <td>1.484548</td>\n      <td>...</td>\n      <td>0.725090</td>\n      <td>1.405452</td>\n      <td>0.861323</td>\n      <td>0.206821</td>\n      <td>2.835709</td>\n      <td>0.850104</td>\n      <td>0.008087</td>\n      <td>0.835524</td>\n      <td>0.864769</td>\n      <td>beingusedinhand</td>\n    </tr>\n  </tbody>\n</table>\n<p>5 rows × 61 columns</p>\n</div>"
     },
     "execution_count": 7,
     "metadata": {},
     "output_type": "execute_result"
    }
   ],
   "source": [
    "# Step 4: Extracting mean/std/min/max (time-domain features)\n",
    "window_index_start = 0\n",
    "window_index_increasing_size = int(window_size / 4)\n",
    "feature_columns = []\n",
    "feature_data = []\n",
    "\n",
    "domain_types = raw_features + added_features\n",
    "feature_types = [\"mean\", \"std\", \"min\", \"max\"]\n",
    "for domain_type in domain_types:\n",
    "    for feature_type in feature_types:\n",
    "        feature_columns.append(feature_type + domain_type)\n",
    "\n",
    "feature_columns.append(\"labelPhone\")\n",
    "\n",
    "while window_index_start + window_size < fixed_size_df.shape[0]:\n",
    "    # Iteration per large sliding window of 20 windows.\n",
    "    first_index = window_index_start\n",
    "    last_index = window_index_start + window_size\n",
    "    sub_df = fixed_size_df[first_index:last_index]\n",
    "\n",
    "    # Feature extraction from mean/max/min/std\n",
    "    feature = []\n",
    "    for domain_type in domain_types:\n",
    "        raw_feature_series_describe = sub_df[domain_type].describe()\n",
    "        for feature_type in feature_types:\n",
    "            feature.append(raw_feature_series_describe[feature_type])\n",
    "    feature_data.append(feature)\n",
    "\n",
    "    # Final: Label\n",
    "    feature.append(sub_df[\"labelPhone\"][0])\n",
    "    window_index_start += window_index_increasing_size\n",
    "\n",
    "features_df = pd.DataFrame(\n",
    "    data=feature_data,\n",
    "    columns=feature_columns\n",
    ")\n",
    "features_df.head()"
   ],
   "metadata": {
    "collapsed": false,
    "pycharm": {
     "name": "#%%\n"
    }
   }
  },
  {
   "cell_type": "code",
   "execution_count": 8,
   "outputs": [
    {
     "name": "stdout",
     "output_type": "stream",
     "text": [
      "Original data: \n",
      "   meanaccelerometerX  stdaccelerometerX  minaccelerometerX  maxaccelerometerX\n",
      "0           -0.049337           0.549471          -1.257385           1.341211\n",
      "1            0.046703           0.708177          -1.257385           1.631008\n",
      "2            0.143342           0.636278          -0.689766           1.631008\n",
      "3            0.145497           0.677149          -1.130449           1.631008\n",
      "4            0.078916           0.659926          -1.130449           1.631008\n",
      "****************************************************\n",
      "Normalized data - Scale to range 0 or 1: \n",
      "   meanaccelerometerX  stdaccelerometerX  minaccelerometerX  maxaccelerometerX\n",
      "0           -0.000086           0.000953          -0.002181           0.002326\n",
      "1            0.000080           0.001217          -0.002161           0.002804\n",
      "2            0.000245           0.001087          -0.001179           0.002787\n",
      "3            0.000247           0.001151          -0.001922           0.002773\n",
      "4            0.000134           0.001121          -0.001920           0.002771\n",
      "****************************************************\n",
      "Standardized data - Scale to mean 0 and std 1 (Normal distribution): \n",
      "   meanaccelerometerX  stdaccelerometerX  minaccelerometerX  maxaccelerometerX\n",
      "0            0.118847          -0.410835          -0.270612           0.561152\n",
      "1            0.515666           1.285974          -0.270612           1.270236\n",
      "2            0.914958           0.517265           1.359735           1.270236\n",
      "3            0.923865           0.954237           0.093980           1.270236\n",
      "4            0.648763           0.770100           0.093980           1.270236\n"
     ]
    }
   ],
   "source": [
    "# Step 5.1: Get a normalized df\n",
    "feature_count = features_df.shape[1] - 1\n",
    "values = features_df.iloc[:, 0:feature_count]\n",
    "labels = features_df.iloc[:, feature_count: feature_count + 1]\n",
    "\n",
    "normalizer = Normalizer()\n",
    "normalized_values = normalizer.fit_transform(values)\n",
    "normalized_df = pd.DataFrame(data=normalized_values, columns=values.columns)\n",
    "normalized_df[\"labelPhone\"] = labels\n",
    "\n",
    "# Step 5.2 - Get a standardized_df\n",
    "standard_scaler = StandardScaler()\n",
    "standardized_values = standard_scaler.fit_transform(values)\n",
    "standard_df = pd.DataFrame(data=standardized_values, columns=values.columns)\n",
    "standard_df[\"labelPhone\"] = labels\n",
    "\n",
    "# Results\n",
    "column_count = 4\n",
    "print(\"Original data: \")\n",
    "print(features_df.head().iloc[:,0:column_count])\n",
    "print_line_divider()\n",
    "\n",
    "print(\"Normalized data - Scale to range 0 or 1: \")\n",
    "print(normalized_df.head().iloc[:,0:column_count])\n",
    "print_line_divider()\n",
    "print(\"Standardized data - Scale to mean 0 and std 1 (Normal distribution): \")\n",
    "print(standard_df.head().iloc[:,0:column_count])"
   ],
   "metadata": {
    "collapsed": false,
    "pycharm": {
     "name": "#%%\n"
    }
   }
  },
  {
   "cell_type": "code",
   "execution_count": 9,
   "outputs": [
    {
     "data": {
      "text/plain": "   meanaccelerometerX  stdaccelerometerX  minaccelerometerX  \\\n0           -1.724499           6.496717           0.260324   \n1           -0.514967           8.888951           1.509406   \n2           -2.972910           6.775822           3.782530   \n3           -0.001303           8.822797           0.221553   \n4           -0.112264           6.872948          -1.731081   \n\n   maxaccelerometerX  meanaccelerometerY  stdaccelerometerY  \\\n0           1.389110           -0.229724          -1.688471   \n1           1.350561            0.443643          -0.899922   \n2           1.372185            1.487733          -3.028354   \n3           1.198139            2.282421           0.637340   \n4           1.647119            1.985916           0.566754   \n\n   minaccelerometerY  maxaccelerometerY  meanaccelerometerZ  \\\n0           0.819361          -2.140537            1.119099   \n1           0.285086          -0.725952            0.948603   \n2          -0.777782          -1.755839            0.659757   \n3          -0.398966          -3.623822           -0.019194   \n4           1.400854          -2.223861           -1.541188   \n\n   stdaccelerometerZ  ...  maxaccAng  meangyroAng  stdgyroAng  mingyroAng  \\\n0          -1.186147  ...  -0.012383    -0.005360   -0.052039   -0.021557   \n1          -0.392928  ...  -0.064847    -0.080633    0.047651   -0.025666   \n2           1.046754  ...   0.013745     0.059888   -0.050403   -0.019747   \n3          -1.063098  ...   0.011690     0.041518   -0.075938   -0.023889   \n4           0.547376  ...  -0.009288     0.026922   -0.027596   -0.024040   \n\n   maxgyroAng  meanmagAng  stdmagAng  minmagAng  maxmagAng       labelPhone  \n0   -0.026148   -0.012432  -0.011175   0.019767  -0.016528  beingusedinhand  \n1   -0.005524   -0.020841  -0.015117   0.033187  -0.018931  beingusedinhand  \n2   -0.000709   -0.013703   0.022278   0.008282  -0.014047  beingusedinhand  \n3   -0.013942   -0.006964   0.022083  -0.000311   0.001646  beingusedinhand  \n4   -0.001764   -0.014313   0.024721  -0.004941  -0.005386  beingusedinhand  \n\n[5 rows x 61 columns]",
      "text/html": "<div>\n<style scoped>\n    .dataframe tbody tr th:only-of-type {\n        vertical-align: middle;\n    }\n\n    .dataframe tbody tr th {\n        vertical-align: top;\n    }\n\n    .dataframe thead th {\n        text-align: right;\n    }\n</style>\n<table border=\"1\" class=\"dataframe\">\n  <thead>\n    <tr style=\"text-align: right;\">\n      <th></th>\n      <th>meanaccelerometerX</th>\n      <th>stdaccelerometerX</th>\n      <th>minaccelerometerX</th>\n      <th>maxaccelerometerX</th>\n      <th>meanaccelerometerY</th>\n      <th>stdaccelerometerY</th>\n      <th>minaccelerometerY</th>\n      <th>maxaccelerometerY</th>\n      <th>meanaccelerometerZ</th>\n      <th>stdaccelerometerZ</th>\n      <th>...</th>\n      <th>maxaccAng</th>\n      <th>meangyroAng</th>\n      <th>stdgyroAng</th>\n      <th>mingyroAng</th>\n      <th>maxgyroAng</th>\n      <th>meanmagAng</th>\n      <th>stdmagAng</th>\n      <th>minmagAng</th>\n      <th>maxmagAng</th>\n      <th>labelPhone</th>\n    </tr>\n  </thead>\n  <tbody>\n    <tr>\n      <th>0</th>\n      <td>-1.724499</td>\n      <td>6.496717</td>\n      <td>0.260324</td>\n      <td>1.389110</td>\n      <td>-0.229724</td>\n      <td>-1.688471</td>\n      <td>0.819361</td>\n      <td>-2.140537</td>\n      <td>1.119099</td>\n      <td>-1.186147</td>\n      <td>...</td>\n      <td>-0.012383</td>\n      <td>-0.005360</td>\n      <td>-0.052039</td>\n      <td>-0.021557</td>\n      <td>-0.026148</td>\n      <td>-0.012432</td>\n      <td>-0.011175</td>\n      <td>0.019767</td>\n      <td>-0.016528</td>\n      <td>beingusedinhand</td>\n    </tr>\n    <tr>\n      <th>1</th>\n      <td>-0.514967</td>\n      <td>8.888951</td>\n      <td>1.509406</td>\n      <td>1.350561</td>\n      <td>0.443643</td>\n      <td>-0.899922</td>\n      <td>0.285086</td>\n      <td>-0.725952</td>\n      <td>0.948603</td>\n      <td>-0.392928</td>\n      <td>...</td>\n      <td>-0.064847</td>\n      <td>-0.080633</td>\n      <td>0.047651</td>\n      <td>-0.025666</td>\n      <td>-0.005524</td>\n      <td>-0.020841</td>\n      <td>-0.015117</td>\n      <td>0.033187</td>\n      <td>-0.018931</td>\n      <td>beingusedinhand</td>\n    </tr>\n    <tr>\n      <th>2</th>\n      <td>-2.972910</td>\n      <td>6.775822</td>\n      <td>3.782530</td>\n      <td>1.372185</td>\n      <td>1.487733</td>\n      <td>-3.028354</td>\n      <td>-0.777782</td>\n      <td>-1.755839</td>\n      <td>0.659757</td>\n      <td>1.046754</td>\n      <td>...</td>\n      <td>0.013745</td>\n      <td>0.059888</td>\n      <td>-0.050403</td>\n      <td>-0.019747</td>\n      <td>-0.000709</td>\n      <td>-0.013703</td>\n      <td>0.022278</td>\n      <td>0.008282</td>\n      <td>-0.014047</td>\n      <td>beingusedinhand</td>\n    </tr>\n    <tr>\n      <th>3</th>\n      <td>-0.001303</td>\n      <td>8.822797</td>\n      <td>0.221553</td>\n      <td>1.198139</td>\n      <td>2.282421</td>\n      <td>0.637340</td>\n      <td>-0.398966</td>\n      <td>-3.623822</td>\n      <td>-0.019194</td>\n      <td>-1.063098</td>\n      <td>...</td>\n      <td>0.011690</td>\n      <td>0.041518</td>\n      <td>-0.075938</td>\n      <td>-0.023889</td>\n      <td>-0.013942</td>\n      <td>-0.006964</td>\n      <td>0.022083</td>\n      <td>-0.000311</td>\n      <td>0.001646</td>\n      <td>beingusedinhand</td>\n    </tr>\n    <tr>\n      <th>4</th>\n      <td>-0.112264</td>\n      <td>6.872948</td>\n      <td>-1.731081</td>\n      <td>1.647119</td>\n      <td>1.985916</td>\n      <td>0.566754</td>\n      <td>1.400854</td>\n      <td>-2.223861</td>\n      <td>-1.541188</td>\n      <td>0.547376</td>\n      <td>...</td>\n      <td>-0.009288</td>\n      <td>0.026922</td>\n      <td>-0.027596</td>\n      <td>-0.024040</td>\n      <td>-0.001764</td>\n      <td>-0.014313</td>\n      <td>0.024721</td>\n      <td>-0.004941</td>\n      <td>-0.005386</td>\n      <td>beingusedinhand</td>\n    </tr>\n  </tbody>\n</table>\n<p>5 rows × 61 columns</p>\n</div>"
     },
     "execution_count": 9,
     "metadata": {},
     "output_type": "execute_result"
    }
   ],
   "source": [
    "# Step 6 - Use PCA from standardized df\n",
    "pca = PCA()\n",
    "standard_values = standard_df.iloc[:, 0:feature_count]\n",
    "labels = standard_df.iloc[:, feature_count: feature_count + 1]\n",
    "pca_values = pca.fit_transform(standard_values)\n",
    "pca_df = pd.DataFrame(data=pca_values, columns=standard_values.columns)\n",
    "pca_df[\"labelPhone\"] = labels\n",
    "pca_df.head()"
   ],
   "metadata": {
    "collapsed": false,
    "pycharm": {
     "name": "#%%\n"
    }
   }
  },
  {
   "cell_type": "code",
   "execution_count": null,
   "outputs": [],
   "source": [
    "# FINAL explaination\n",
    "# df - Raw data from the beginnning\n",
    "# fixed_size_df - Data transformed into fixed length window + Added features\n",
    "# features_df - Data with features extracted (min, max, std, mean) from fixed_size_df\n",
    "# standard_df - Standardized from features_df\n",
    "# normalized_df - Normalized from features_df\n",
    "# pca_df - PCA from standardized df"
   ],
   "metadata": {
    "collapsed": false,
    "pycharm": {
     "name": "#%%\n"
    }
   }
  }
 ],
 "metadata": {
  "kernelspec": {
   "display_name": "Python 3",
   "language": "python",
   "name": "python3"
  },
  "language_info": {
   "codemirror_mode": {
    "name": "ipython",
    "version": 2
   },
   "file_extension": ".py",
   "mimetype": "text/x-python",
   "name": "python",
   "nbconvert_exporter": "python",
   "pygments_lexer": "ipython2",
   "version": "2.7.6"
  }
 },
 "nbformat": 4,
 "nbformat_minor": 0
}